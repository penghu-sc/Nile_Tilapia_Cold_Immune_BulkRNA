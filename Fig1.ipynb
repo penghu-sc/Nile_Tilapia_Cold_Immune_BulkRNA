{
 "cells": [
  {
   "cell_type": "markdown",
   "id": "38daaa6e",
   "metadata": {},
   "source": [
    "# 1 Load Data"
   ]
  },
  {
   "cell_type": "markdown",
   "id": "f55e54fa",
   "metadata": {
    "heading_collapsed": true
   },
   "source": [
    "## 1.1 Load RNA Data"
   ]
  },
  {
   "cell_type": "code",
   "execution_count": 1,
   "id": "3d7160aa",
   "metadata": {
    "ExecuteTime": {
     "end_time": "2024-03-06T05:38:16.039540Z",
     "start_time": "2024-03-06T05:38:16.262Z"
    },
    "hidden": true,
    "scrolled": true
   },
   "outputs": [
    {
     "name": "stderr",
     "output_type": "stream",
     "text": [
      "\n",
      "Attaching package: ‘dplyr’\n",
      "\n",
      "\n",
      "The following objects are masked from ‘package:stats’:\n",
      "\n",
      "    filter, lag\n",
      "\n",
      "\n",
      "The following objects are masked from ‘package:base’:\n",
      "\n",
      "    intersect, setdiff, setequal, union\n",
      "\n",
      "\n"
     ]
    }
   ],
   "source": [
    "library(dplyr)"
   ]
  },
  {
   "cell_type": "markdown",
   "id": "029b2537",
   "metadata": {
    "hidden": true
   },
   "source": [
    "*Read FeatureCount result*"
   ]
  },
  {
   "cell_type": "code",
   "execution_count": null,
   "id": "a87115e9",
   "metadata": {
    "ExecuteTime": {
     "end_time": "2024-03-06T05:38:26.458746Z",
     "start_time": "2024-03-06T05:38:26.692Z"
    },
    "hidden": true
   },
   "outputs": [],
   "source": [
    "BulkRNA_df <- read.table(\"/home/songqian/Project/Tilapia_Immune/0.RNA/4.count/RNA-Seq_Practice_countstable\")\n",
    "rownames(BulkRNA_df) <- BulkRNA_df$V1\n",
    "BulkRNA_df <- BulkRNA_df[,2:19]"
   ]
  },
  {
   "cell_type": "markdown",
   "id": "63ec78f5",
   "metadata": {
    "hidden": true
   },
   "source": [
    "*Read sample Id*"
   ]
  },
  {
   "cell_type": "code",
   "execution_count": 2,
   "id": "91f79d4b",
   "metadata": {
    "ExecuteTime": {
     "end_time": "2024-03-06T05:38:26.458746Z",
     "start_time": "2024-03-06T05:38:26.692Z"
    },
    "hidden": true
   },
   "outputs": [
    {
     "data": {
      "text/html": [
       "<table class=\"dataframe\">\n",
       "<caption>A data.frame: 6 × 18</caption>\n",
       "<thead>\n",
       "\t<tr><th></th><th scope=col>Cold_HK1</th><th scope=col>Cold_HK2</th><th scope=col>Cold_HK3</th><th scope=col>Cold_SP1</th><th scope=col>Cold_SP2</th><th scope=col>Cold_SP3</th><th scope=col>Cold_TH1</th><th scope=col>Cold_TH2</th><th scope=col>Cold_TH3</th><th scope=col>Ctrl_HK1</th><th scope=col>Ctrl_HK2</th><th scope=col>Ctrl_HK3</th><th scope=col>Ctrl_SP1</th><th scope=col>Ctrl_SP2</th><th scope=col>Ctrl_SP3</th><th scope=col>Ctrl_TH1</th><th scope=col>Ctrl_TH2</th><th scope=col>Ctrl_TH3</th></tr>\n",
       "\t<tr><th></th><th scope=col>&lt;dbl&gt;</th><th scope=col>&lt;dbl&gt;</th><th scope=col>&lt;dbl&gt;</th><th scope=col>&lt;dbl&gt;</th><th scope=col>&lt;dbl&gt;</th><th scope=col>&lt;dbl&gt;</th><th scope=col>&lt;dbl&gt;</th><th scope=col>&lt;dbl&gt;</th><th scope=col>&lt;dbl&gt;</th><th scope=col>&lt;dbl&gt;</th><th scope=col>&lt;dbl&gt;</th><th scope=col>&lt;dbl&gt;</th><th scope=col>&lt;dbl&gt;</th><th scope=col>&lt;dbl&gt;</th><th scope=col>&lt;dbl&gt;</th><th scope=col>&lt;dbl&gt;</th><th scope=col>&lt;dbl&gt;</th><th scope=col>&lt;dbl&gt;</th></tr>\n",
       "</thead>\n",
       "<tbody>\n",
       "\t<tr><th scope=row>ENSONIG00000018423</th><td>37</td><td>42</td><td>36</td><td>304</td><td>364</td><td>281</td><td>21</td><td>22</td><td>40</td><td>16</td><td> 97</td><td>19</td><td>271</td><td>59</td><td>403</td><td>34</td><td> 38</td><td>20</td></tr>\n",
       "\t<tr><th scope=row>ENSONIG00000032772</th><td> 0</td><td> 3</td><td> 1</td><td>  5</td><td>  4</td><td>  3</td><td> 4</td><td> 3</td><td> 5</td><td> 0</td><td>  4</td><td> 0</td><td>  5</td><td> 5</td><td> 15</td><td> 3</td><td>  1</td><td> 1</td></tr>\n",
       "\t<tr><th scope=row>ENSONIG00000007536</th><td> 0</td><td> 1</td><td> 0</td><td>  1</td><td>  1</td><td>  0</td><td> 0</td><td> 0</td><td> 0</td><td> 0</td><td>  0</td><td> 0</td><td>  0</td><td> 0</td><td>  4</td><td> 0</td><td>  0</td><td> 0</td></tr>\n",
       "\t<tr><th scope=row>ENSONIG00000029674</th><td> 0</td><td> 0</td><td> 1</td><td>  0</td><td>  1</td><td>  0</td><td> 1</td><td> 0</td><td> 0</td><td> 0</td><td>  0</td><td> 0</td><td>  0</td><td> 1</td><td>  1</td><td> 4</td><td>  2</td><td> 0</td></tr>\n",
       "\t<tr><th scope=row>ENSONIG00000032019</th><td> 1</td><td> 0</td><td> 1</td><td>  0</td><td>  0</td><td>  2</td><td> 0</td><td> 1</td><td> 0</td><td> 0</td><td>  2</td><td> 0</td><td>  0</td><td> 0</td><td>  4</td><td> 4</td><td>  5</td><td> 0</td></tr>\n",
       "\t<tr><th scope=row>ENSONIG00000033498</th><td>59</td><td>60</td><td>49</td><td> 51</td><td> 75</td><td> 39</td><td>48</td><td>49</td><td>92</td><td>13</td><td>100</td><td>14</td><td> 85</td><td>69</td><td>385</td><td>88</td><td>122</td><td>94</td></tr>\n",
       "</tbody>\n",
       "</table>\n"
      ],
      "text/latex": [
       "A data.frame: 6 × 18\n",
       "\\begin{tabular}{r|llllllllllllllllll}\n",
       "  & Cold\\_HK1 & Cold\\_HK2 & Cold\\_HK3 & Cold\\_SP1 & Cold\\_SP2 & Cold\\_SP3 & Cold\\_TH1 & Cold\\_TH2 & Cold\\_TH3 & Ctrl\\_HK1 & Ctrl\\_HK2 & Ctrl\\_HK3 & Ctrl\\_SP1 & Ctrl\\_SP2 & Ctrl\\_SP3 & Ctrl\\_TH1 & Ctrl\\_TH2 & Ctrl\\_TH3\\\\\n",
       "  & <dbl> & <dbl> & <dbl> & <dbl> & <dbl> & <dbl> & <dbl> & <dbl> & <dbl> & <dbl> & <dbl> & <dbl> & <dbl> & <dbl> & <dbl> & <dbl> & <dbl> & <dbl>\\\\\n",
       "\\hline\n",
       "\tENSONIG00000018423 & 37 & 42 & 36 & 304 & 364 & 281 & 21 & 22 & 40 & 16 &  97 & 19 & 271 & 59 & 403 & 34 &  38 & 20\\\\\n",
       "\tENSONIG00000032772 &  0 &  3 &  1 &   5 &   4 &   3 &  4 &  3 &  5 &  0 &   4 &  0 &   5 &  5 &  15 &  3 &   1 &  1\\\\\n",
       "\tENSONIG00000007536 &  0 &  1 &  0 &   1 &   1 &   0 &  0 &  0 &  0 &  0 &   0 &  0 &   0 &  0 &   4 &  0 &   0 &  0\\\\\n",
       "\tENSONIG00000029674 &  0 &  0 &  1 &   0 &   1 &   0 &  1 &  0 &  0 &  0 &   0 &  0 &   0 &  1 &   1 &  4 &   2 &  0\\\\\n",
       "\tENSONIG00000032019 &  1 &  0 &  1 &   0 &   0 &   2 &  0 &  1 &  0 &  0 &   2 &  0 &   0 &  0 &   4 &  4 &   5 &  0\\\\\n",
       "\tENSONIG00000033498 & 59 & 60 & 49 &  51 &  75 &  39 & 48 & 49 & 92 & 13 & 100 & 14 &  85 & 69 & 385 & 88 & 122 & 94\\\\\n",
       "\\end{tabular}\n"
      ],
      "text/markdown": [
       "\n",
       "A data.frame: 6 × 18\n",
       "\n",
       "| <!--/--> | Cold_HK1 &lt;dbl&gt; | Cold_HK2 &lt;dbl&gt; | Cold_HK3 &lt;dbl&gt; | Cold_SP1 &lt;dbl&gt; | Cold_SP2 &lt;dbl&gt; | Cold_SP3 &lt;dbl&gt; | Cold_TH1 &lt;dbl&gt; | Cold_TH2 &lt;dbl&gt; | Cold_TH3 &lt;dbl&gt; | Ctrl_HK1 &lt;dbl&gt; | Ctrl_HK2 &lt;dbl&gt; | Ctrl_HK3 &lt;dbl&gt; | Ctrl_SP1 &lt;dbl&gt; | Ctrl_SP2 &lt;dbl&gt; | Ctrl_SP3 &lt;dbl&gt; | Ctrl_TH1 &lt;dbl&gt; | Ctrl_TH2 &lt;dbl&gt; | Ctrl_TH3 &lt;dbl&gt; |\n",
       "|---|---|---|---|---|---|---|---|---|---|---|---|---|---|---|---|---|---|---|\n",
       "| ENSONIG00000018423 | 37 | 42 | 36 | 304 | 364 | 281 | 21 | 22 | 40 | 16 |  97 | 19 | 271 | 59 | 403 | 34 |  38 | 20 |\n",
       "| ENSONIG00000032772 |  0 |  3 |  1 |   5 |   4 |   3 |  4 |  3 |  5 |  0 |   4 |  0 |   5 |  5 |  15 |  3 |   1 |  1 |\n",
       "| ENSONIG00000007536 |  0 |  1 |  0 |   1 |   1 |   0 |  0 |  0 |  0 |  0 |   0 |  0 |   0 |  0 |   4 |  0 |   0 |  0 |\n",
       "| ENSONIG00000029674 |  0 |  0 |  1 |   0 |   1 |   0 |  1 |  0 |  0 |  0 |   0 |  0 |   0 |  1 |   1 |  4 |   2 |  0 |\n",
       "| ENSONIG00000032019 |  1 |  0 |  1 |   0 |   0 |   2 |  0 |  1 |  0 |  0 |   2 |  0 |   0 |  0 |   4 |  4 |   5 |  0 |\n",
       "| ENSONIG00000033498 | 59 | 60 | 49 |  51 |  75 |  39 | 48 | 49 | 92 | 13 | 100 | 14 |  85 | 69 | 385 | 88 | 122 | 94 |\n",
       "\n"
      ],
      "text/plain": [
       "                   Cold_HK1 Cold_HK2 Cold_HK3 Cold_SP1 Cold_SP2 Cold_SP3\n",
       "ENSONIG00000018423 37       42       36       304      364      281     \n",
       "ENSONIG00000032772  0        3        1         5        4        3     \n",
       "ENSONIG00000007536  0        1        0         1        1        0     \n",
       "ENSONIG00000029674  0        0        1         0        1        0     \n",
       "ENSONIG00000032019  1        0        1         0        0        2     \n",
       "ENSONIG00000033498 59       60       49        51       75       39     \n",
       "                   Cold_TH1 Cold_TH2 Cold_TH3 Ctrl_HK1 Ctrl_HK2 Ctrl_HK3\n",
       "ENSONIG00000018423 21       22       40       16        97      19      \n",
       "ENSONIG00000032772  4        3        5        0         4       0      \n",
       "ENSONIG00000007536  0        0        0        0         0       0      \n",
       "ENSONIG00000029674  1        0        0        0         0       0      \n",
       "ENSONIG00000032019  0        1        0        0         2       0      \n",
       "ENSONIG00000033498 48       49       92       13       100      14      \n",
       "                   Ctrl_SP1 Ctrl_SP2 Ctrl_SP3 Ctrl_TH1 Ctrl_TH2 Ctrl_TH3\n",
       "ENSONIG00000018423 271      59       403      34        38      20      \n",
       "ENSONIG00000032772   5       5        15       3         1       1      \n",
       "ENSONIG00000007536   0       0         4       0         0       0      \n",
       "ENSONIG00000029674   0       1         1       4         2       0      \n",
       "ENSONIG00000032019   0       0         4       4         5       0      \n",
       "ENSONIG00000033498  85      69       385      88       122      94      "
      ]
     },
     "metadata": {},
     "output_type": "display_data"
    }
   ],
   "source": [
    "colnames(BulkRNA_df) <- scan(\"/home/songqian/Project/Tilapia_Immune/0.RNA/list.txt\", what = \"character\", sep = \"\\n\")\n",
    "BulkRNA_df <- BulkRNA_df[-1,]\n",
    "BulkRNA_df[] <- lapply(BulkRNA_df, as.numeric)\n",
    "head(BulkRNA_df[,1:18],6)"
   ]
  },
  {
   "cell_type": "code",
   "execution_count": 3,
   "id": "b6868644",
   "metadata": {
    "ExecuteTime": {
     "end_time": "2024-03-06T05:38:35.030227Z",
     "start_time": "2024-03-06T05:38:35.562Z"
    },
    "hidden": true
   },
   "outputs": [],
   "source": [
    "featureCounts_meta <- BulkRNA_df[,1:18]\n",
    "BulkRNA_df <- BulkRNA_df[rowSums(BulkRNA_df)> 0,] \n",
    "prefix <- \"Tilapia\""
   ]
  },
  {
   "cell_type": "code",
   "execution_count": 4,
   "id": "a9f3209e",
   "metadata": {
    "ExecuteTime": {
     "end_time": "2024-03-06T05:38:40.550976Z",
     "start_time": "2024-03-06T05:38:40.959Z"
    },
    "hidden": true
   },
   "outputs": [
    {
     "data": {
      "text/html": [
       "<table class=\"dataframe\">\n",
       "<caption>A data.frame: 2 × 3</caption>\n",
       "<thead>\n",
       "\t<tr><th></th><th scope=col>id</th><th scope=col>group</th><th scope=col>condition</th></tr>\n",
       "\t<tr><th></th><th scope=col>&lt;chr&gt;</th><th scope=col>&lt;chr&gt;</th><th scope=col>&lt;chr&gt;</th></tr>\n",
       "</thead>\n",
       "<tbody>\n",
       "\t<tr><th scope=row>Cold_HK1</th><td>Cold_HK1</td><td>Cold_HK</td><td>Cold</td></tr>\n",
       "\t<tr><th scope=row>Cold_HK2</th><td>Cold_HK2</td><td>Cold_HK</td><td>Cold</td></tr>\n",
       "</tbody>\n",
       "</table>\n"
      ],
      "text/latex": [
       "A data.frame: 2 × 3\n",
       "\\begin{tabular}{r|lll}\n",
       "  & id & group & condition\\\\\n",
       "  & <chr> & <chr> & <chr>\\\\\n",
       "\\hline\n",
       "\tCold\\_HK1 & Cold\\_HK1 & Cold\\_HK & Cold\\\\\n",
       "\tCold\\_HK2 & Cold\\_HK2 & Cold\\_HK & Cold\\\\\n",
       "\\end{tabular}\n"
      ],
      "text/markdown": [
       "\n",
       "A data.frame: 2 × 3\n",
       "\n",
       "| <!--/--> | id &lt;chr&gt; | group &lt;chr&gt; | condition &lt;chr&gt; |\n",
       "|---|---|---|---|\n",
       "| Cold_HK1 | Cold_HK1 | Cold_HK | Cold |\n",
       "| Cold_HK2 | Cold_HK2 | Cold_HK | Cold |\n",
       "\n"
      ],
      "text/plain": [
       "         id       group   condition\n",
       "Cold_HK1 Cold_HK1 Cold_HK Cold     \n",
       "Cold_HK2 Cold_HK2 Cold_HK Cold     "
      ]
     },
     "metadata": {},
     "output_type": "display_data"
    }
   ],
   "source": [
    "RNA_coldata <- data.frame(id = colnames(BulkRNA_df),\n",
    "                         group = gsub(\"[0-9]\", \"\", colnames(BulkRNA_df)),\n",
    "                         condition = stringr::str_split(colnames(BulkRNA_df),pattern = \"_\",simplify = TRUE)[,1] )\n",
    "\n",
    "rownames(RNA_coldata) <- RNA_coldata$id\n",
    "head(RNA_coldata,2)"
   ]
  },
  {
   "cell_type": "code",
   "execution_count": 6,
   "id": "404eee33",
   "metadata": {
    "ExecuteTime": {
     "end_time": "2024-03-06T05:38:59.247133Z",
     "start_time": "2024-03-06T05:38:59.467Z"
    },
    "hidden": true,
    "scrolled": true
   },
   "outputs": [
    {
     "name": "stderr",
     "output_type": "stream",
     "text": [
      "converting counts to integer mode\n",
      "\n",
      "Warning message in DESeqDataSet(se, design = design, ignoreRank):\n",
      "“some variables in design formula are characters, converting to factors”\n"
     ]
    }
   ],
   "source": [
    "library(DESeq2)\n",
    "dds <- DESeqDataSetFromMatrix(countData = BulkRNA_df,\n",
    "                              colData = RNA_coldata,\n",
    "                              design = ~ condition)"
   ]
  },
  {
   "cell_type": "code",
   "execution_count": 7,
   "id": "16bc7ea7",
   "metadata": {
    "ExecuteTime": {
     "end_time": "2024-03-06T05:39:17.351386Z",
     "start_time": "2024-03-06T05:39:17.900Z"
    },
    "hidden": true
   },
   "outputs": [],
   "source": [
    "tissue <- c(\"HK\",\"SP\",\"TH\")"
   ]
  },
  {
   "cell_type": "code",
   "execution_count": 13,
   "id": "027d455b",
   "metadata": {
    "ExecuteTime": {
     "end_time": "2024-03-06T05:41:25.899636Z",
     "start_time": "2024-03-06T05:41:26.365Z"
    },
    "hidden": true
   },
   "outputs": [],
   "source": [
    "smallestGroupSize <- 3\n",
    "keep <- rowSums(counts(dds) >= 10) >= smallestGroupSize\n",
    "dds <- dds[keep,]"
   ]
  },
  {
   "cell_type": "code",
   "execution_count": 14,
   "id": "54360364",
   "metadata": {
    "ExecuteTime": {
     "end_time": "2024-03-06T05:41:41.522593Z",
     "start_time": "2024-03-06T05:41:41.844Z"
    },
    "hidden": true
   },
   "outputs": [],
   "source": [
    "condition_level <- c(\"Ctrl\",\"Cold\")"
   ]
  },
  {
   "cell_type": "markdown",
   "id": "8ced1172",
   "metadata": {
    "hidden": true
   },
   "source": [
    "### 1.1.1 Find DEGs"
   ]
  },
  {
   "cell_type": "code",
   "execution_count": 15,
   "id": "cd982ae9",
   "metadata": {
    "ExecuteTime": {
     "end_time": "2024-03-06T05:41:41.640147Z",
     "start_time": "2024-03-06T05:41:42.192Z"
    },
    "hidden": true
   },
   "outputs": [],
   "source": [
    "DESeq_find_diffgenes <- function(sample_id,Col_data,condition_level){\n",
    "    print(paste(\"run\",sample_id,sep = \":\"))\n",
    "    sample.id <- grep(sample_id,rownames(Col_data),value=T)\n",
    "    # For sample_id\n",
    "    dds.sample <- dds[,sample.id]\n",
    "    colData(dds.sample) <- droplevels(colData(dds.sample))\n",
    "    dds.sample$condition <- factor(dds.sample$condition, levels = condition_level )\n",
    "    design(dds.sample) <- formula(~ condition)\n",
    "    \n",
    "    dds.sample <- DESeq(dds.sample)\n",
    "    #res.sample <- results(dds.sample)\n",
    "    \n",
    "    # select the genes which showing differentially expressed in any one of HT time points\n",
    "    temp <- c(\"condition_Cold_vs_Ctrl\")\n",
    "    lapply(1:length(temp),function(x){\n",
    "        res1 <- results(dds.sample, name=temp[x])\n",
    "        res1.ordered <- as.data.frame(res1[order(res1$pvalue),])\n",
    "        res1.ordered$gene <- rownames(res1.ordered)\n",
    "        #res1.ordered$condition <- paste0(\"HT\",x)\n",
    "        res1.ordered$tissue <- sample_id\n",
    "        return(res1.ordered)\n",
    "    }) -> res.sample\n",
    "    res.sample <- do.call(rbind,res.sample)\n",
    "\n",
    "    res.list <- list(dds.sample,res.sample)\n",
    "    return(res.list)\n",
    "}"
   ]
  },
  {
   "cell_type": "code",
   "execution_count": 16,
   "id": "7ee6f106",
   "metadata": {
    "ExecuteTime": {
     "end_time": "2024-03-06T05:42:02.306910Z",
     "start_time": "2024-03-06T05:41:42.846Z"
    },
    "hidden": true,
    "scrolled": true
   },
   "outputs": [
    {
     "name": "stdout",
     "output_type": "stream",
     "text": [
      "[1] \"run:HK\"\n"
     ]
    },
    {
     "name": "stderr",
     "output_type": "stream",
     "text": [
      "estimating size factors\n",
      "\n",
      "estimating dispersions\n",
      "\n",
      "gene-wise dispersion estimates\n",
      "\n",
      "mean-dispersion relationship\n",
      "\n",
      "final dispersion estimates\n",
      "\n",
      "fitting model and testing\n",
      "\n"
     ]
    },
    {
     "name": "stdout",
     "output_type": "stream",
     "text": [
      "[1] \"run:SP\"\n"
     ]
    },
    {
     "name": "stderr",
     "output_type": "stream",
     "text": [
      "estimating size factors\n",
      "\n",
      "estimating dispersions\n",
      "\n",
      "gene-wise dispersion estimates\n",
      "\n",
      "mean-dispersion relationship\n",
      "\n",
      "final dispersion estimates\n",
      "\n",
      "fitting model and testing\n",
      "\n"
     ]
    },
    {
     "name": "stdout",
     "output_type": "stream",
     "text": [
      "[1] \"run:TH\"\n"
     ]
    },
    {
     "name": "stderr",
     "output_type": "stream",
     "text": [
      "estimating size factors\n",
      "\n",
      "estimating dispersions\n",
      "\n",
      "gene-wise dispersion estimates\n",
      "\n",
      "mean-dispersion relationship\n",
      "\n",
      "final dispersion estimates\n",
      "\n",
      "fitting model and testing\n",
      "\n"
     ]
    }
   ],
   "source": [
    "tissue_deg_list <- lapply(tissue,DESeq_find_diffgenes,Col_data = RNA_coldata,condition_level)\n",
    "names(tissue_deg_list) <- tissue"
   ]
  },
  {
   "cell_type": "code",
   "execution_count": 24,
   "id": "e0f5f388",
   "metadata": {
    "ExecuteTime": {
     "end_time": "2024-03-06T05:43:41.951883Z",
     "start_time": "2024-03-06T05:43:42.438Z"
    },
    "hidden": true,
    "scrolled": false
   },
   "outputs": [
    {
     "data": {
      "text/html": [
       "<table class=\"dataframe\">\n",
       "<caption>A grouped_df: 6 × 8</caption>\n",
       "<thead>\n",
       "\t<tr><th scope=col>baseMean</th><th scope=col>log2FoldChange</th><th scope=col>lfcSE</th><th scope=col>stat</th><th scope=col>pvalue</th><th scope=col>padj</th><th scope=col>gene</th><th scope=col>tissue</th></tr>\n",
       "\t<tr><th scope=col>&lt;dbl&gt;</th><th scope=col>&lt;dbl&gt;</th><th scope=col>&lt;dbl&gt;</th><th scope=col>&lt;dbl&gt;</th><th scope=col>&lt;dbl&gt;</th><th scope=col>&lt;dbl&gt;</th><th scope=col>&lt;chr&gt;</th><th scope=col>&lt;chr&gt;</th></tr>\n",
       "</thead>\n",
       "<tbody>\n",
       "\t<tr><td>15.349371</td><td>6.732761</td><td>1.221477</td><td>5.511984</td><td>3.548114e-08</td><td>1.113293e-06</td><td>ENSONIG00000014479</td><td>HK</td></tr>\n",
       "\t<tr><td> 9.273605</td><td>5.997890</td><td>1.269832</td><td>4.723374</td><td>2.319638e-06</td><td>4.484633e-05</td><td>ENSONIG00000042238</td><td>HK</td></tr>\n",
       "\t<tr><td> 8.578649</td><td>5.883817</td><td>1.290609</td><td>4.558946</td><td>5.141091e-06</td><td>8.950031e-05</td><td>ENSONIG00000019199</td><td>HK</td></tr>\n",
       "\t<tr><td>11.521892</td><td>5.544759</td><td>1.148675</td><td>4.827091</td><td>1.385420e-06</td><td>2.839257e-05</td><td>ENSONIG00000011052</td><td>HK</td></tr>\n",
       "\t<tr><td> 4.971530</td><td>5.080199</td><td>1.393481</td><td>3.645688</td><td>2.666774e-04</td><td>2.580710e-03</td><td>ENSONIG00000008590</td><td>HK</td></tr>\n",
       "\t<tr><td> 4.958700</td><td>5.077875</td><td>1.386471</td><td>3.662446</td><td>2.498187e-04</td><td>2.442672e-03</td><td>ENSONIG00000035414</td><td>HK</td></tr>\n",
       "</tbody>\n",
       "</table>\n"
      ],
      "text/latex": [
       "A grouped\\_df: 6 × 8\n",
       "\\begin{tabular}{llllllll}\n",
       " baseMean & log2FoldChange & lfcSE & stat & pvalue & padj & gene & tissue\\\\\n",
       " <dbl> & <dbl> & <dbl> & <dbl> & <dbl> & <dbl> & <chr> & <chr>\\\\\n",
       "\\hline\n",
       "\t 15.349371 & 6.732761 & 1.221477 & 5.511984 & 3.548114e-08 & 1.113293e-06 & ENSONIG00000014479 & HK\\\\\n",
       "\t  9.273605 & 5.997890 & 1.269832 & 4.723374 & 2.319638e-06 & 4.484633e-05 & ENSONIG00000042238 & HK\\\\\n",
       "\t  8.578649 & 5.883817 & 1.290609 & 4.558946 & 5.141091e-06 & 8.950031e-05 & ENSONIG00000019199 & HK\\\\\n",
       "\t 11.521892 & 5.544759 & 1.148675 & 4.827091 & 1.385420e-06 & 2.839257e-05 & ENSONIG00000011052 & HK\\\\\n",
       "\t  4.971530 & 5.080199 & 1.393481 & 3.645688 & 2.666774e-04 & 2.580710e-03 & ENSONIG00000008590 & HK\\\\\n",
       "\t  4.958700 & 5.077875 & 1.386471 & 3.662446 & 2.498187e-04 & 2.442672e-03 & ENSONIG00000035414 & HK\\\\\n",
       "\\end{tabular}\n"
      ],
      "text/markdown": [
       "\n",
       "A grouped_df: 6 × 8\n",
       "\n",
       "| baseMean &lt;dbl&gt; | log2FoldChange &lt;dbl&gt; | lfcSE &lt;dbl&gt; | stat &lt;dbl&gt; | pvalue &lt;dbl&gt; | padj &lt;dbl&gt; | gene &lt;chr&gt; | tissue &lt;chr&gt; |\n",
       "|---|---|---|---|---|---|---|---|\n",
       "| 15.349371 | 6.732761 | 1.221477 | 5.511984 | 3.548114e-08 | 1.113293e-06 | ENSONIG00000014479 | HK |\n",
       "|  9.273605 | 5.997890 | 1.269832 | 4.723374 | 2.319638e-06 | 4.484633e-05 | ENSONIG00000042238 | HK |\n",
       "|  8.578649 | 5.883817 | 1.290609 | 4.558946 | 5.141091e-06 | 8.950031e-05 | ENSONIG00000019199 | HK |\n",
       "| 11.521892 | 5.544759 | 1.148675 | 4.827091 | 1.385420e-06 | 2.839257e-05 | ENSONIG00000011052 | HK |\n",
       "|  4.971530 | 5.080199 | 1.393481 | 3.645688 | 2.666774e-04 | 2.580710e-03 | ENSONIG00000008590 | HK |\n",
       "|  4.958700 | 5.077875 | 1.386471 | 3.662446 | 2.498187e-04 | 2.442672e-03 | ENSONIG00000035414 | HK |\n",
       "\n"
      ],
      "text/plain": [
       "  baseMean  log2FoldChange lfcSE    stat     pvalue       padj        \n",
       "1 15.349371 6.732761       1.221477 5.511984 3.548114e-08 1.113293e-06\n",
       "2  9.273605 5.997890       1.269832 4.723374 2.319638e-06 4.484633e-05\n",
       "3  8.578649 5.883817       1.290609 4.558946 5.141091e-06 8.950031e-05\n",
       "4 11.521892 5.544759       1.148675 4.827091 1.385420e-06 2.839257e-05\n",
       "5  4.971530 5.080199       1.393481 3.645688 2.666774e-04 2.580710e-03\n",
       "6  4.958700 5.077875       1.386471 3.662446 2.498187e-04 2.442672e-03\n",
       "  gene               tissue\n",
       "1 ENSONIG00000014479 HK    \n",
       "2 ENSONIG00000042238 HK    \n",
       "3 ENSONIG00000019199 HK    \n",
       "4 ENSONIG00000011052 HK    \n",
       "5 ENSONIG00000008590 HK    \n",
       "6 ENSONIG00000035414 HK    "
      ]
     },
     "metadata": {},
     "output_type": "display_data"
    }
   ],
   "source": [
    "DEG.RNA <- do.call(rbind,lapply(tissue_deg_list,'[[',2))\n",
    "DEG.RNA_2 <- na.omit(DEG.RNA) %>% filter(padj < 0.05) %>% group_by(tissue) %>% arrange(desc(log2FoldChange),.by_group = TRUE)\n",
    "head(DEG.RNA_2)"
   ]
  },
  {
   "cell_type": "code",
   "execution_count": 28,
   "id": "8e5bcdaf",
   "metadata": {
    "ExecuteTime": {
     "end_time": "2024-03-06T05:44:36.187529Z",
     "start_time": "2024-03-06T05:44:36.731Z"
    },
    "hidden": true
   },
   "outputs": [],
   "source": [
    "DEG.RNA_2.list <- split(DEG.RNA_2$gene,DEG.RNA_2$tissue)"
   ]
  },
  {
   "cell_type": "code",
   "execution_count": null,
   "id": "c3db0a45",
   "metadata": {
    "hidden": true
   },
   "outputs": [],
   "source": [
    "geneID_name <- readRDS(\"/home/minghao/workbase/gene_annotation/Ensembl_108_Nile_Tilapia/eggnog_geneID2name.rds\")\n",
    "geneID_name <- geneID_name %>% select(gene = Gene.stable.ID,everything())\n",
    "geneID_name$eggnog_Preferred_name[is.na(geneID_name$eggnog_Preferred_name)] <- \"-\"\n",
    "head(geneID_name,2)"
   ]
  },
  {
   "cell_type": "code",
   "execution_count": null,
   "id": "9b868274",
   "metadata": {
    "hidden": true
   },
   "outputs": [],
   "source": [
    "DEG.RNA_3 <- DEG.RNA_2 %>% group_by(gene) %>% left_join(geneID_name,by = \"gene\") %>% distinct()"
   ]
  },
  {
   "cell_type": "code",
   "execution_count": null,
   "id": "15d27816",
   "metadata": {
    "hidden": true
   },
   "outputs": [],
   "source": [
    "openxlsx::write.xlsx(DEG.RNA,\"/home/minghao/workbase/16_Tilapia_Cold_BulkRNA-ATAC_jiaohe/output/Bulk_RNA_output/Tilapia_ColdvsCtrl_DEG_RNA_nofilter.xlsx\")\n",
    "openxlsx::write.xlsx(DEG.RNA_3,\"/home/minghao/workbase/16_Tilapia_Cold_BulkRNA-ATAC_jiaohe/output/Bulk_RNA_output/Tilapia_ColdvsCtrl_DEG_RNA.xlsx\")"
   ]
  },
  {
   "cell_type": "code",
   "execution_count": null,
   "id": "13b34cdc",
   "metadata": {
    "hidden": true
   },
   "outputs": [],
   "source": []
  },
  {
   "cell_type": "code",
   "execution_count": null,
   "id": "52d11a18",
   "metadata": {
    "hidden": true
   },
   "outputs": [],
   "source": []
  },
  {
   "cell_type": "markdown",
   "id": "4ee1bede",
   "metadata": {
    "heading_collapsed": true
   },
   "source": [
    "## 1.2 Load ATAC"
   ]
  },
  {
   "cell_type": "code",
   "execution_count": 48,
   "id": "06dc167f",
   "metadata": {
    "ExecuteTime": {
     "end_time": "2024-03-06T05:57:07.509078Z",
     "start_time": "2024-03-06T05:57:01.558Z"
    },
    "hidden": true
   },
   "outputs": [
    {
     "name": "stderr",
     "output_type": "stream",
     "text": [
      " >>> DiffBind 3.8.4\n",
      "\n"
     ]
    }
   ],
   "source": [
    "library(DiffBind)"
   ]
  },
  {
   "cell_type": "markdown",
   "id": "9d8ad6f0",
   "metadata": {
    "hidden": true
   },
   "source": [
    "*Read the file containing the paths to the peaks and bam files.* \"/home/minghao/workbase/16_Tilapia_Cold_BulkRNA-ATAC_jiaohe/sample_info_rep.csv\""
   ]
  },
  {
   "cell_type": "code",
   "execution_count": 49,
   "id": "bbf22213",
   "metadata": {
    "ExecuteTime": {
     "end_time": "2024-03-06T05:57:49.325007Z",
     "start_time": "2024-03-06T05:57:19.654Z"
    },
    "hidden": true,
    "scrolled": true
   },
   "outputs": [
    {
     "name": "stderr",
     "output_type": "stream",
     "text": [
      "Cold_HK1 HK ATAC Cold_HK Cold 1 narrow\n",
      "\n",
      "Cold_HK2 HK ATAC Cold_HK Cold 2 narrow\n",
      "\n",
      "Cold_SP1 SP ATAC Cold_SP Cold 1 narrow\n",
      "\n",
      "Cold_SP2 SP ATAC Cold_SP Cold 2 narrow\n",
      "\n",
      "Cold_TH1 TH ATAC Cold_TH Cold 1 narrow\n",
      "\n",
      "Cold_TH2 TH ATAC Cold_TH Cold 2 narrow\n",
      "\n",
      "Ctrl_HK1 HK ATAC Ctrl_HK Ctrl 1 narrow\n",
      "\n",
      "Ctrl_HK2 HK ATAC Ctrl_HK Ctrl 2 narrow\n",
      "\n",
      "Ctrl_SP1 SP ATAC Ctrl_SP Ctrl 1 narrow\n",
      "\n",
      "Ctrl_SP2 SP ATAC Ctrl_SP Ctrl 2 narrow\n",
      "\n",
      "Ctrl_TH1 TH ATAC Ctrl_TH Ctrl 1 narrow\n",
      "\n",
      "Ctrl_TH2 TH ATAC Ctrl_TH Ctrl 2 narrow\n",
      "\n"
     ]
    },
    {
     "data": {
      "text/html": [
       "<table class=\"dataframe\">\n",
       "<caption>A data.frame: 2 × 9</caption>\n",
       "<thead>\n",
       "\t<tr><th></th><th scope=col>SampleID</th><th scope=col>Tissue</th><th scope=col>Factor</th><th scope=col>Condition</th><th scope=col>Treatment</th><th scope=col>Replicate</th><th scope=col>bamReads</th><th scope=col>Peaks</th><th scope=col>PeakCaller</th></tr>\n",
       "\t<tr><th></th><th scope=col>&lt;chr&gt;</th><th scope=col>&lt;chr&gt;</th><th scope=col>&lt;chr&gt;</th><th scope=col>&lt;chr&gt;</th><th scope=col>&lt;chr&gt;</th><th scope=col>&lt;int&gt;</th><th scope=col>&lt;chr&gt;</th><th scope=col>&lt;chr&gt;</th><th scope=col>&lt;chr&gt;</th></tr>\n",
       "</thead>\n",
       "<tbody>\n",
       "\t<tr><th scope=row>1</th><td>Cold_HK1</td><td>HK</td><td>ATAC</td><td>Cold_HK</td><td>Cold</td><td>1</td><td>/home/minghao/workbase/16_Tilapia_Cold_BulkRNA-ATAC_jiaohe/rmDuplicates/Cold_HK1.rmdup.bam</td><td>/home/minghao/workbase/16_Tilapia_Cold_BulkRNA-ATAC_jiaohe/peaks/Cold_HK1_peaks.narrowPeak</td><td>narrow</td></tr>\n",
       "\t<tr><th scope=row>2</th><td>Cold_HK2</td><td>HK</td><td>ATAC</td><td>Cold_HK</td><td>Cold</td><td>2</td><td>/home/minghao/workbase/16_Tilapia_Cold_BulkRNA-ATAC_jiaohe/rmDuplicates/Cold_HK2.rmdup.bam</td><td>/home/minghao/workbase/16_Tilapia_Cold_BulkRNA-ATAC_jiaohe/peaks/Cold_HK2_peaks.narrowPeak</td><td>narrow</td></tr>\n",
       "</tbody>\n",
       "</table>\n"
      ],
      "text/latex": [
       "A data.frame: 2 × 9\n",
       "\\begin{tabular}{r|lllllllll}\n",
       "  & SampleID & Tissue & Factor & Condition & Treatment & Replicate & bamReads & Peaks & PeakCaller\\\\\n",
       "  & <chr> & <chr> & <chr> & <chr> & <chr> & <int> & <chr> & <chr> & <chr>\\\\\n",
       "\\hline\n",
       "\t1 & Cold\\_HK1 & HK & ATAC & Cold\\_HK & Cold & 1 & /home/minghao/workbase/16\\_Tilapia\\_Cold\\_BulkRNA-ATAC\\_jiaohe/rmDuplicates/Cold\\_HK1.rmdup.bam & /home/minghao/workbase/16\\_Tilapia\\_Cold\\_BulkRNA-ATAC\\_jiaohe/peaks/Cold\\_HK1\\_peaks.narrowPeak & narrow\\\\\n",
       "\t2 & Cold\\_HK2 & HK & ATAC & Cold\\_HK & Cold & 2 & /home/minghao/workbase/16\\_Tilapia\\_Cold\\_BulkRNA-ATAC\\_jiaohe/rmDuplicates/Cold\\_HK2.rmdup.bam & /home/minghao/workbase/16\\_Tilapia\\_Cold\\_BulkRNA-ATAC\\_jiaohe/peaks/Cold\\_HK2\\_peaks.narrowPeak & narrow\\\\\n",
       "\\end{tabular}\n"
      ],
      "text/markdown": [
       "\n",
       "A data.frame: 2 × 9\n",
       "\n",
       "| <!--/--> | SampleID &lt;chr&gt; | Tissue &lt;chr&gt; | Factor &lt;chr&gt; | Condition &lt;chr&gt; | Treatment &lt;chr&gt; | Replicate &lt;int&gt; | bamReads &lt;chr&gt; | Peaks &lt;chr&gt; | PeakCaller &lt;chr&gt; |\n",
       "|---|---|---|---|---|---|---|---|---|---|\n",
       "| 1 | Cold_HK1 | HK | ATAC | Cold_HK | Cold | 1 | /home/minghao/workbase/16_Tilapia_Cold_BulkRNA-ATAC_jiaohe/rmDuplicates/Cold_HK1.rmdup.bam | /home/minghao/workbase/16_Tilapia_Cold_BulkRNA-ATAC_jiaohe/peaks/Cold_HK1_peaks.narrowPeak | narrow |\n",
       "| 2 | Cold_HK2 | HK | ATAC | Cold_HK | Cold | 2 | /home/minghao/workbase/16_Tilapia_Cold_BulkRNA-ATAC_jiaohe/rmDuplicates/Cold_HK2.rmdup.bam | /home/minghao/workbase/16_Tilapia_Cold_BulkRNA-ATAC_jiaohe/peaks/Cold_HK2_peaks.narrowPeak | narrow |\n",
       "\n"
      ],
      "text/plain": [
       "  SampleID Tissue Factor Condition Treatment Replicate\n",
       "1 Cold_HK1 HK     ATAC   Cold_HK   Cold      1        \n",
       "2 Cold_HK2 HK     ATAC   Cold_HK   Cold      2        \n",
       "  bamReads                                                                                  \n",
       "1 /home/minghao/workbase/16_Tilapia_Cold_BulkRNA-ATAC_jiaohe/rmDuplicates/Cold_HK1.rmdup.bam\n",
       "2 /home/minghao/workbase/16_Tilapia_Cold_BulkRNA-ATAC_jiaohe/rmDuplicates/Cold_HK2.rmdup.bam\n",
       "  Peaks                                                                                     \n",
       "1 /home/minghao/workbase/16_Tilapia_Cold_BulkRNA-ATAC_jiaohe/peaks/Cold_HK1_peaks.narrowPeak\n",
       "2 /home/minghao/workbase/16_Tilapia_Cold_BulkRNA-ATAC_jiaohe/peaks/Cold_HK2_peaks.narrowPeak\n",
       "  PeakCaller\n",
       "1 narrow    \n",
       "2 narrow    "
      ]
     },
     "metadata": {},
     "output_type": "display_data"
    }
   ],
   "source": [
    "bulk_atac <- dba(sampleSheet = \"/home/minghao/workbase/16_Tilapia_Cold_BulkRNA-ATAC_jiaohe/sample_info_rep.csv\", minOverlap = 3)\n",
    "atac_df <- read.csv(\"/home/minghao/workbase/16_Tilapia_Cold_BulkRNA-ATAC_jiaohe/sample_info_rep.csv\")\n",
    "head(atac_df,2)"
   ]
  },
  {
   "cell_type": "code",
   "execution_count": 56,
   "id": "5a7b2959",
   "metadata": {
    "ExecuteTime": {
     "end_time": "2024-03-06T06:11:39.028602Z",
     "start_time": "2024-03-06T06:03:31.312Z"
    },
    "hidden": true,
    "scrolled": true
   },
   "outputs": [
    {
     "name": "stderr",
     "output_type": "stream",
     "text": [
      "Computing summits...\n",
      "\n",
      "Re-centering peaks...\n",
      "\n"
     ]
    }
   ],
   "source": [
    "# 量化数据并获取规范化的百万计数（CPM）\n",
    "bulk_atac_counts <- dba.count(bulk_atac,score=DBA_SCORE_TMM_READS_EFFECTIVE_CPM,bUseSummarizeOverlaps = TRUE,bParallel=TRUE)"
   ]
  },
  {
   "cell_type": "code",
   "execution_count": 60,
   "id": "8fa80b8e",
   "metadata": {
    "ExecuteTime": {
     "end_time": "2024-03-06T06:13:37.381889Z",
     "start_time": "2024-03-06T06:13:37.083Z"
    },
    "hidden": true
   },
   "outputs": [],
   "source": [
    "atac_diffbind_res <- as.data.frame(bulk_atac_counts$peaks)\n",
    "atac_diffbind_res.list <- bulk_atac_counts$peaks"
   ]
  },
  {
   "cell_type": "code",
   "execution_count": 73,
   "id": "370b1c28",
   "metadata": {
    "ExecuteTime": {
     "end_time": "2024-03-06T06:17:32.511266Z",
     "start_time": "2024-03-06T06:17:33.063Z"
    },
    "hidden": true
   },
   "outputs": [],
   "source": [
    "names(atac_diffbind_res.list) <- atac_df$SampleID"
   ]
  },
  {
   "cell_type": "code",
   "execution_count": 74,
   "id": "4c9e3b72",
   "metadata": {
    "ExecuteTime": {
     "end_time": "2024-03-06T06:17:34.033237Z",
     "start_time": "2024-03-06T06:17:33.660Z"
    },
    "hidden": true,
    "scrolled": true
   },
   "outputs": [],
   "source": [
    "atac_Deseq2_df <- do.call(cbind,(lapply(atac_diffbind_res.list,function(x) x[,c(1,2,3,6)] )) )"
   ]
  },
  {
   "cell_type": "code",
   "execution_count": 75,
   "id": "2f7bb719",
   "metadata": {
    "ExecuteTime": {
     "end_time": "2024-03-06T06:17:34.800058Z",
     "start_time": "2024-03-06T06:17:35.339Z"
    },
    "hidden": true
   },
   "outputs": [
    {
     "data": {
      "text/html": [
       "<table class=\"dataframe\">\n",
       "<caption>A data.frame: 2 × 12</caption>\n",
       "<thead>\n",
       "\t<tr><th></th><th scope=col>Ctrl_HK1</th><th scope=col>Ctrl_HK2</th><th scope=col>Cold_HK1</th><th scope=col>Cold_HK2</th><th scope=col>Ctrl_SP1</th><th scope=col>Ctrl_SP2</th><th scope=col>Cold_SP1</th><th scope=col>Cold_SP2</th><th scope=col>Ctrl_TH1</th><th scope=col>Ctrl_TH2</th><th scope=col>Cold_TH1</th><th scope=col>Cold_TH2</th></tr>\n",
       "\t<tr><th></th><th scope=col>&lt;dbl&gt;</th><th scope=col>&lt;dbl&gt;</th><th scope=col>&lt;dbl&gt;</th><th scope=col>&lt;dbl&gt;</th><th scope=col>&lt;dbl&gt;</th><th scope=col>&lt;dbl&gt;</th><th scope=col>&lt;dbl&gt;</th><th scope=col>&lt;dbl&gt;</th><th scope=col>&lt;dbl&gt;</th><th scope=col>&lt;dbl&gt;</th><th scope=col>&lt;dbl&gt;</th><th scope=col>&lt;dbl&gt;</th></tr>\n",
       "</thead>\n",
       "<tbody>\n",
       "\t<tr><th scope=row>1</th><td>53</td><td>73</td><td>53</td><td>89</td><td>93</td><td>90</td><td>99</td><td>110</td><td>65</td><td>34</td><td>45</td><td>56</td></tr>\n",
       "\t<tr><th scope=row>2</th><td> 8</td><td>18</td><td> 8</td><td>26</td><td>17</td><td>20</td><td>30</td><td> 15</td><td>12</td><td> 9</td><td>13</td><td>14</td></tr>\n",
       "</tbody>\n",
       "</table>\n"
      ],
      "text/latex": [
       "A data.frame: 2 × 12\n",
       "\\begin{tabular}{r|llllllllllll}\n",
       "  & Ctrl\\_HK1 & Ctrl\\_HK2 & Cold\\_HK1 & Cold\\_HK2 & Ctrl\\_SP1 & Ctrl\\_SP2 & Cold\\_SP1 & Cold\\_SP2 & Ctrl\\_TH1 & Ctrl\\_TH2 & Cold\\_TH1 & Cold\\_TH2\\\\\n",
       "  & <dbl> & <dbl> & <dbl> & <dbl> & <dbl> & <dbl> & <dbl> & <dbl> & <dbl> & <dbl> & <dbl> & <dbl>\\\\\n",
       "\\hline\n",
       "\t1 & 53 & 73 & 53 & 89 & 93 & 90 & 99 & 110 & 65 & 34 & 45 & 56\\\\\n",
       "\t2 &  8 & 18 &  8 & 26 & 17 & 20 & 30 &  15 & 12 &  9 & 13 & 14\\\\\n",
       "\\end{tabular}\n"
      ],
      "text/markdown": [
       "\n",
       "A data.frame: 2 × 12\n",
       "\n",
       "| <!--/--> | Ctrl_HK1 &lt;dbl&gt; | Ctrl_HK2 &lt;dbl&gt; | Cold_HK1 &lt;dbl&gt; | Cold_HK2 &lt;dbl&gt; | Ctrl_SP1 &lt;dbl&gt; | Ctrl_SP2 &lt;dbl&gt; | Cold_SP1 &lt;dbl&gt; | Cold_SP2 &lt;dbl&gt; | Ctrl_TH1 &lt;dbl&gt; | Ctrl_TH2 &lt;dbl&gt; | Cold_TH1 &lt;dbl&gt; | Cold_TH2 &lt;dbl&gt; |\n",
       "|---|---|---|---|---|---|---|---|---|---|---|---|---|\n",
       "| 1 | 53 | 73 | 53 | 89 | 93 | 90 | 99 | 110 | 65 | 34 | 45 | 56 |\n",
       "| 2 |  8 | 18 |  8 | 26 | 17 | 20 | 30 |  15 | 12 |  9 | 13 | 14 |\n",
       "\n"
      ],
      "text/plain": [
       "  Ctrl_HK1 Ctrl_HK2 Cold_HK1 Cold_HK2 Ctrl_SP1 Ctrl_SP2 Cold_SP1 Cold_SP2\n",
       "1 53       73       53       89       93       90       99       110     \n",
       "2  8       18        8       26       17       20       30        15     \n",
       "  Ctrl_TH1 Ctrl_TH2 Cold_TH1 Cold_TH2\n",
       "1 65       34       45       56      \n",
       "2 12        9       13       14      "
      ]
     },
     "metadata": {},
     "output_type": "display_data"
    }
   ],
   "source": [
    "atac_Deseq2_df2 <- atac_Deseq2_df[,seq(4,48,by = 4)][,c(7,8,1,2,9,10,3,4,11,12,5,6)]\n",
    "colnames(atac_Deseq2_df2) <- gsub(\"\\\\.Reads\",\"\",colnames(atac_Deseq2_df2))\n",
    "head(atac_Deseq2_df2,2)"
   ]
  },
  {
   "cell_type": "code",
   "execution_count": 76,
   "id": "cc18bc59",
   "metadata": {
    "ExecuteTime": {
     "end_time": "2024-03-06T06:17:37.440100Z",
     "start_time": "2024-03-06T06:17:37.996Z"
    },
    "hidden": true
   },
   "outputs": [],
   "source": [
    "ATAC_coldata <- data.frame(row.names = colnames(atac_Deseq2_df2),\n",
    "                           id = colnames(atac_Deseq2_df2),\n",
    "                          group = gsub(\"[0-9]\",\"\",colnames(atac_Deseq2_df2)),\n",
    "                          condition = gsub(\"_.*$\",\"\",colnames(atac_Deseq2_df2)) )"
   ]
  },
  {
   "cell_type": "code",
   "execution_count": 78,
   "id": "65299dcc",
   "metadata": {
    "ExecuteTime": {
     "end_time": "2024-03-06T06:17:44.681059Z",
     "start_time": "2024-03-06T06:17:44.713Z"
    },
    "hidden": true,
    "scrolled": true
   },
   "outputs": [
    {
     "name": "stderr",
     "output_type": "stream",
     "text": [
      "converting counts to integer mode\n",
      "\n",
      "Warning message in DESeqDataSet(se, design = design, ignoreRank):\n",
      "“some variables in design formula are characters, converting to factors”\n"
     ]
    }
   ],
   "source": [
    "dds.atac <- DESeqDataSetFromMatrix(countData = atac_Deseq2_df2,\n",
    "                              colData = ATAC_coldata,\n",
    "                              design = ~ condition)"
   ]
  },
  {
   "cell_type": "code",
   "execution_count": 79,
   "id": "2419307e",
   "metadata": {
    "ExecuteTime": {
     "end_time": "2024-03-06T06:17:45.000181Z",
     "start_time": "2024-03-06T06:17:45.315Z"
    },
    "hidden": true,
    "scrolled": true
   },
   "outputs": [
    {
     "data": {
      "text/html": [
       "<style>\n",
       ".list-inline {list-style: none; margin:0; padding: 0}\n",
       ".list-inline>li {display: inline-block}\n",
       ".list-inline>li:not(:last-child)::after {content: \"\\00b7\"; padding: 0 .5ex}\n",
       "</style>\n",
       "<ol class=list-inline><li>'HK'</li><li>'SP'</li><li>'TH'</li></ol>\n"
      ],
      "text/latex": [
       "\\begin{enumerate*}\n",
       "\\item 'HK'\n",
       "\\item 'SP'\n",
       "\\item 'TH'\n",
       "\\end{enumerate*}\n"
      ],
      "text/markdown": [
       "1. 'HK'\n",
       "2. 'SP'\n",
       "3. 'TH'\n",
       "\n",
       "\n"
      ],
      "text/plain": [
       "[1] \"HK\" \"SP\" \"TH\""
      ]
     },
     "metadata": {},
     "output_type": "display_data"
    },
    {
     "data": {
      "text/html": [
       "<style>\n",
       ".list-inline {list-style: none; margin:0; padding: 0}\n",
       ".list-inline>li {display: inline-block}\n",
       ".list-inline>li:not(:last-child)::after {content: \"\\00b7\"; padding: 0 .5ex}\n",
       "</style>\n",
       "<ol class=list-inline><li>'Ctrl'</li><li>'Cold'</li></ol>\n"
      ],
      "text/latex": [
       "\\begin{enumerate*}\n",
       "\\item 'Ctrl'\n",
       "\\item 'Cold'\n",
       "\\end{enumerate*}\n"
      ],
      "text/markdown": [
       "1. 'Ctrl'\n",
       "2. 'Cold'\n",
       "\n",
       "\n"
      ],
      "text/plain": [
       "[1] \"Ctrl\" \"Cold\""
      ]
     },
     "metadata": {},
     "output_type": "display_data"
    }
   ],
   "source": [
    "tissue\n",
    "condition_level"
   ]
  },
  {
   "cell_type": "markdown",
   "id": "e888116d",
   "metadata": {
    "heading_collapsed": true,
    "hidden": true
   },
   "source": [
    "### 1.2.1 Find DEpeaks"
   ]
  },
  {
   "cell_type": "code",
   "execution_count": 80,
   "id": "96801e4b",
   "metadata": {
    "ExecuteTime": {
     "end_time": "2024-03-06T06:17:45.762361Z",
     "start_time": "2024-03-06T06:17:46.310Z"
    },
    "hidden": true
   },
   "outputs": [],
   "source": [
    "atac.DESeq_find_diffgenes <- function(sample_id,Col_data,condition_level){\n",
    "    print(paste(\"run\",sample_id,sep = \":\"))\n",
    "    sample.id <- grep(sample_id,rownames(Col_data),value=T)\n",
    "    # For sample_id\n",
    "    dds.sample <- dds.atac[,sample.id]\n",
    "    colData(dds.sample) <- droplevels(colData(dds.sample))\n",
    "    dds.sample$condition <- factor(dds.sample$condition, levels = condition_level )\n",
    "    design(dds.sample) <- formula(~ condition)\n",
    "    \n",
    "    dds.sample <- DESeq(dds.sample)\n",
    "    #res.sample <- results(dds.sample)\n",
    "    \n",
    "    # select the genes which showing differentially expressed in any one of HT time points\n",
    "    temp <- c(\"condition_Cold_vs_Ctrl\")\n",
    "    lapply(1:length(temp),function(x){\n",
    "        res1 <- results(dds.sample, name=temp[x])\n",
    "        res1.ordered <- as.data.frame(res1[order(res1$pvalue),])\n",
    "        res1.ordered$gene <- rownames(res1.ordered)\n",
    "        #res1.ordered$condition <- paste0(\"HT\",x)\n",
    "        res1.ordered$tissue <- sample_id\n",
    "        return(res1.ordered)\n",
    "    }) -> res.sample\n",
    "    res.sample <- do.call(rbind,res.sample)\n",
    "\n",
    "    res.list <- list(dds.sample,res.sample)\n",
    "    return(res.list)\n",
    "}"
   ]
  },
  {
   "cell_type": "code",
   "execution_count": 81,
   "id": "5b276030",
   "metadata": {
    "ExecuteTime": {
     "end_time": "2024-03-06T06:19:57.231392Z",
     "start_time": "2024-03-06T06:17:48.034Z"
    },
    "hidden": true,
    "scrolled": true
   },
   "outputs": [
    {
     "name": "stdout",
     "output_type": "stream",
     "text": [
      "[1] \"run:HK\"\n"
     ]
    },
    {
     "name": "stderr",
     "output_type": "stream",
     "text": [
      "estimating size factors\n",
      "\n",
      "estimating dispersions\n",
      "\n",
      "gene-wise dispersion estimates\n",
      "\n",
      "mean-dispersion relationship\n",
      "\n",
      "final dispersion estimates\n",
      "\n",
      "fitting model and testing\n",
      "\n"
     ]
    },
    {
     "name": "stdout",
     "output_type": "stream",
     "text": [
      "[1] \"run:SP\"\n"
     ]
    },
    {
     "name": "stderr",
     "output_type": "stream",
     "text": [
      "estimating size factors\n",
      "\n",
      "estimating dispersions\n",
      "\n",
      "gene-wise dispersion estimates\n",
      "\n",
      "mean-dispersion relationship\n",
      "\n",
      "final dispersion estimates\n",
      "\n",
      "fitting model and testing\n",
      "\n"
     ]
    },
    {
     "name": "stdout",
     "output_type": "stream",
     "text": [
      "[1] \"run:TH\"\n"
     ]
    },
    {
     "name": "stderr",
     "output_type": "stream",
     "text": [
      "estimating size factors\n",
      "\n",
      "estimating dispersions\n",
      "\n",
      "gene-wise dispersion estimates\n",
      "\n",
      "mean-dispersion relationship\n",
      "\n",
      "final dispersion estimates\n",
      "\n",
      "fitting model and testing\n",
      "\n"
     ]
    }
   ],
   "source": [
    "atac.tissue_deg_list <- lapply(tissue,atac.DESeq_find_diffgenes,Col_data = ATAC_coldata,condition_level)\n",
    "names(atac.tissue_deg_list) <- tissue"
   ]
  },
  {
   "cell_type": "code",
   "execution_count": 94,
   "id": "d29621e8",
   "metadata": {
    "ExecuteTime": {
     "end_time": "2024-03-06T06:30:13.408336Z",
     "start_time": "2024-03-06T06:30:12.918Z"
    },
    "hidden": true
   },
   "outputs": [
    {
     "data": {
      "text/html": [
       "<table class=\"dataframe\">\n",
       "<caption>A grouped_df: 2 × 8</caption>\n",
       "<thead>\n",
       "\t<tr><th scope=col>baseMean</th><th scope=col>log2FoldChange</th><th scope=col>lfcSE</th><th scope=col>stat</th><th scope=col>pvalue</th><th scope=col>padj</th><th scope=col>gene</th><th scope=col>tissue</th></tr>\n",
       "\t<tr><th scope=col>&lt;dbl&gt;</th><th scope=col>&lt;dbl&gt;</th><th scope=col>&lt;dbl&gt;</th><th scope=col>&lt;dbl&gt;</th><th scope=col>&lt;dbl&gt;</th><th scope=col>&lt;dbl&gt;</th><th scope=col>&lt;chr&gt;</th><th scope=col>&lt;chr&gt;</th></tr>\n",
       "</thead>\n",
       "<tbody>\n",
       "\t<tr><td>29.33734</td><td>6.825006</td><td>1.4801111</td><td>4.611144</td><td>4.004588e-06</td><td>2.794953e-03</td><td>80612 </td><td>HK</td></tr>\n",
       "\t<tr><td>66.89567</td><td>3.322338</td><td>0.5083723</td><td>6.535245</td><td>6.350559e-11</td><td>9.135597e-07</td><td>185897</td><td>HK</td></tr>\n",
       "</tbody>\n",
       "</table>\n"
      ],
      "text/latex": [
       "A grouped\\_df: 2 × 8\n",
       "\\begin{tabular}{llllllll}\n",
       " baseMean & log2FoldChange & lfcSE & stat & pvalue & padj & gene & tissue\\\\\n",
       " <dbl> & <dbl> & <dbl> & <dbl> & <dbl> & <dbl> & <chr> & <chr>\\\\\n",
       "\\hline\n",
       "\t 29.33734 & 6.825006 & 1.4801111 & 4.611144 & 4.004588e-06 & 2.794953e-03 & 80612  & HK\\\\\n",
       "\t 66.89567 & 3.322338 & 0.5083723 & 6.535245 & 6.350559e-11 & 9.135597e-07 & 185897 & HK\\\\\n",
       "\\end{tabular}\n"
      ],
      "text/markdown": [
       "\n",
       "A grouped_df: 2 × 8\n",
       "\n",
       "| baseMean &lt;dbl&gt; | log2FoldChange &lt;dbl&gt; | lfcSE &lt;dbl&gt; | stat &lt;dbl&gt; | pvalue &lt;dbl&gt; | padj &lt;dbl&gt; | gene &lt;chr&gt; | tissue &lt;chr&gt; |\n",
       "|---|---|---|---|---|---|---|---|\n",
       "| 29.33734 | 6.825006 | 1.4801111 | 4.611144 | 4.004588e-06 | 2.794953e-03 | 80612  | HK |\n",
       "| 66.89567 | 3.322338 | 0.5083723 | 6.535245 | 6.350559e-11 | 9.135597e-07 | 185897 | HK |\n",
       "\n"
      ],
      "text/plain": [
       "  baseMean log2FoldChange lfcSE     stat     pvalue       padj         gene  \n",
       "1 29.33734 6.825006       1.4801111 4.611144 4.004588e-06 2.794953e-03 80612 \n",
       "2 66.89567 3.322338       0.5083723 6.535245 6.350559e-11 9.135597e-07 185897\n",
       "  tissue\n",
       "1 HK    \n",
       "2 HK    "
      ]
     },
     "metadata": {},
     "output_type": "display_data"
    }
   ],
   "source": [
    "DEG.ATAC <- do.call(rbind,lapply(atac.tissue_deg_list,'[[',2))\n",
    "DEG.ATAC_2 <- na.omit(DEG.ATAC) %>% filter(padj < 0.1) %>% group_by(tissue) %>% arrange(desc(log2FoldChange),.by_group = TRUE)\n",
    "head(DEG.ATAC_2,2)"
   ]
  },
  {
   "cell_type": "code",
   "execution_count": 95,
   "id": "e08d3115",
   "metadata": {
    "ExecuteTime": {
     "end_time": "2024-03-06T06:30:13.423198Z",
     "start_time": "2024-03-06T06:30:13.209Z"
    },
    "hidden": true
   },
   "outputs": [
    {
     "data": {
      "text/plain": [
       "\n",
       "  HK   SP   TH \n",
       "2028   99 7806 "
      ]
     },
     "metadata": {},
     "output_type": "display_data"
    }
   ],
   "source": [
    "table(DEG.ATAC_2$tissue)"
   ]
  },
  {
   "cell_type": "markdown",
   "id": "8b9244f6",
   "metadata": {},
   "source": [
    "## 1.3 Venn plot\n",
    "**Differential gene overlap between different organizations.**"
   ]
  },
  {
   "cell_type": "markdown",
   "id": "4593d761",
   "metadata": {
    "heading_collapsed": true
   },
   "source": [
    "### 1.3.1 RNA "
   ]
  },
  {
   "cell_type": "code",
   "execution_count": 30,
   "id": "dbf3321a",
   "metadata": {
    "ExecuteTime": {
     "end_time": "2024-03-06T05:45:39.972243Z",
     "start_time": "2024-03-06T05:45:40.432Z"
    },
    "hidden": true
   },
   "outputs": [
    {
     "name": "stderr",
     "output_type": "stream",
     "text": [
      "Loading required package: grid\n",
      "\n",
      "Loading required package: ggplot2\n",
      "\n"
     ]
    }
   ],
   "source": [
    "library(ggvenn)"
   ]
  },
  {
   "cell_type": "code",
   "execution_count": 951,
   "id": "57218f1f",
   "metadata": {
    "ExecuteTime": {
     "end_time": "2024-03-07T13:19:26.429077Z",
     "start_time": "2024-03-07T13:19:27.902Z"
    },
    "hidden": true
   },
   "outputs": [],
   "source": [
    "options(repr.plot.width = 6,repr.plot.height = 6)\n",
    "RNA_venn <- ggvenn(\n",
    "  data = DEG.RNA_2.list[c(\"HK\",\"TH\")],         # 数据列表\n",
    "  columns = NULL,           # 对选中的列名绘图，最多选择4个，NULL为默认全选\n",
    "  show_elements = F,        # 当为TRUE时，显示具体的交集情况，而不是交集个数\n",
    "  label_sep = \"\\n\",         # 当show_elements = T时生效，分隔符 \\n 表示的是回车的意思\n",
    "  show_percentage = T,      # 显示每一组的百分比\n",
    "  digits = 1,               # 百分比的小数点位数\n",
    "  fill_color = c(\"#A5C496\", \"#C7988C\", \"#8891DB\"), # 填充颜色\n",
    "  fill_alpha = .6,         # 填充透明度\n",
    "  stroke_color = \"black\",   # 边缘颜色\n",
    "  stroke_alpha = 0.9,       # 边缘透明度\n",
    "  stroke_size = 0.2,        # 边缘粗细\n",
    "  stroke_linetype = \"solid\", # 边缘线条 # 实线：solid  虚线：twodash longdash 点：dotdash dotted dashed  无：blank\n",
    "  set_name_color = \"black\", # 组名颜色\n",
    "  set_name_size = 6,        # 组名大小\n",
    "  text_color = \"black\",     # 交集个数颜色\n",
    "  text_size = 5             # 交集个数文字大小\n",
    ")"
   ]
  },
  {
   "cell_type": "code",
   "execution_count": 953,
   "id": "0ddc9575",
   "metadata": {
    "ExecuteTime": {
     "end_time": "2024-03-07T13:19:34.378111Z",
     "start_time": "2024-03-07T13:19:36.088Z"
    },
    "hidden": true
   },
   "outputs": [
    {
     "data": {
      "text/html": [
       "<strong>png:</strong> 2"
      ],
      "text/latex": [
       "\\textbf{png:} 2"
      ],
      "text/markdown": [
       "**png:** 2"
      ],
      "text/plain": [
       "png \n",
       "  2 "
      ]
     },
     "metadata": {},
     "output_type": "display_data"
    }
   ],
   "source": [
    "pdf(\"/home/minghao/workbase/16_Tilapia_Cold_BulkRNA-ATAC_jiaohe/output/plot/RNA_DEGs_Venn.pdf\",width = 6,height = 6)\n",
    "RNA_venn\n",
    "dev.off()"
   ]
  },
  {
   "cell_type": "markdown",
   "id": "3e417297",
   "metadata": {
    "heading_collapsed": true
   },
   "source": [
    "### 1.3.2 ATAC"
   ]
  },
  {
   "cell_type": "code",
   "execution_count": 954,
   "id": "5fb74ed0",
   "metadata": {
    "ExecuteTime": {
     "end_time": "2024-03-07T13:19:40.810084Z",
     "start_time": "2024-03-07T13:19:42.545Z"
    },
    "hidden": true,
    "scrolled": false
   },
   "outputs": [],
   "source": [
    "ATAC_venn <- ggvenn(\n",
    "  data = split(DEG.ATAC_2$gene,DEG.ATAC_2$tissue)[c(\"HK\",\"TH\")],         # 数据列表\n",
    "  columns = NULL,           # 对选中的列名绘图，最多选择4个，NULL为默认全选\n",
    "  show_elements = F,        # 当为TRUE时，显示具体的交集情况，而不是交集个数\n",
    "  label_sep = \"\\n\",         # 当show_elements = T时生效，分隔符 \\n 表示的是回车的意思\n",
    "  show_percentage = T,      # 显示每一组的百分比\n",
    "  digits = 1,               # 百分比的小数点位数\n",
    "  fill_color = c(\"#A5C496\", \"#C7988C\", \"#8891DB\"), # 填充颜色\n",
    "  fill_alpha = 0.6,         # 填充透明度\n",
    "  stroke_color = \"black\",   # 边缘颜色\n",
    "  stroke_alpha = 0.9,       # 边缘透明度\n",
    "  stroke_size = 0.2,        # 边缘粗细\n",
    "  stroke_linetype = \"solid\", # 边缘线条 # 实线：solid  虚线：twodash longdash 点：dotdash dotted dashed  无：blank\n",
    "  set_name_color = \"black\", # 组名颜色\n",
    "  set_name_size = 6,        # 组名大小\n",
    "  text_color = \"black\",     # 交集个数颜色\n",
    "  text_size = 5             # 交集个数文字大小\n",
    ")"
   ]
  },
  {
   "cell_type": "code",
   "execution_count": 955,
   "id": "41141385",
   "metadata": {
    "ExecuteTime": {
     "end_time": "2024-03-07T13:19:41.238682Z",
     "start_time": "2024-03-07T13:19:42.950Z"
    },
    "hidden": true
   },
   "outputs": [
    {
     "data": {
      "text/html": [
       "<strong>png:</strong> 2"
      ],
      "text/latex": [
       "\\textbf{png:} 2"
      ],
      "text/markdown": [
       "**png:** 2"
      ],
      "text/plain": [
       "png \n",
       "  2 "
      ]
     },
     "metadata": {},
     "output_type": "display_data"
    }
   ],
   "source": [
    "pdf(\"/home/minghao/workbase/16_Tilapia_Cold_BulkRNA-ATAC_jiaohe/output/plot/ATAC_DEGs_Venn.pdf\",width = 6,height = 6)\n",
    "ATAC_venn\n",
    "dev.off()"
   ]
  },
  {
   "cell_type": "markdown",
   "id": "09616f20",
   "metadata": {},
   "source": [
    "## 1.4 PCA\n",
    "**Calculate the differences or similarities between different samples and repetitions.**"
   ]
  },
  {
   "cell_type": "markdown",
   "id": "831563af",
   "metadata": {
    "heading_collapsed": true
   },
   "source": [
    "### 1.4.1 RNA PCA"
   ]
  },
  {
   "cell_type": "code",
   "execution_count": 97,
   "id": "cdce1553",
   "metadata": {
    "ExecuteTime": {
     "end_time": "2024-03-06T06:45:44.590605Z",
     "start_time": "2024-03-06T06:45:39.920Z"
    },
    "hidden": true
   },
   "outputs": [
    {
     "name": "stderr",
     "output_type": "stream",
     "text": [
      "gene-wise dispersion estimates\n",
      "\n",
      "mean-dispersion relationship\n",
      "\n",
      "final dispersion estimates\n",
      "\n"
     ]
    }
   ],
   "source": [
    "#stabilize varaince within libraries\n",
    "dds <- estimateSizeFactors(dds)\n",
    "dds <- estimateDispersions(dds)\n",
    "vsd <- vst(dds)\n",
    "vsd_filtered <- assay(vsd)"
   ]
  },
  {
   "cell_type": "code",
   "execution_count": 959,
   "id": "dd72dbf9",
   "metadata": {
    "ExecuteTime": {
     "end_time": "2024-03-07T13:26:48.836922Z",
     "start_time": "2024-03-07T13:26:50.557Z"
    },
    "hidden": true,
    "scrolled": true
   },
   "outputs": [],
   "source": [
    "options(repr.plot.width = 6,repr.plot.height = 5)\n",
    "RNA_PCA_plot <- plotPCA(vsd[,grep(colnames(vsd),pattern = \"SP\",invert = T)], intgroup='group', ntop=1000) + \n",
    "    ggsci::scale_color_npg() + \n",
    "    theme_classic(base_size = 15) + \n",
    "    theme(axis.line = element_blank(),\n",
    "          panel.border = element_rect(fill=NA,color=\"black\", size=1, linetype=\"solid\"))"
   ]
  },
  {
   "cell_type": "code",
   "execution_count": 962,
   "id": "d3c5ce29",
   "metadata": {
    "ExecuteTime": {
     "end_time": "2024-03-07T13:27:12.002209Z",
     "start_time": "2024-03-07T13:27:13.812Z"
    },
    "hidden": true
   },
   "outputs": [],
   "source": [
    "temp <- RNA_PCA_plot$data\n",
    "temp$treat <- stringr::str_split(temp$group,pattern = \"_\",simplify = T)[,1]\n",
    "temp$tissue <- stringr::str_split(temp$group,pattern = \"_\",simplify = T)[,2]\n",
    "temp$treat <- factor(temp$treat,levels = c(\"Ctrl\",\"Cold\"))"
   ]
  },
  {
   "cell_type": "code",
   "execution_count": 964,
   "id": "16149b1e",
   "metadata": {
    "ExecuteTime": {
     "end_time": "2024-03-07T13:32:32.961001Z",
     "start_time": "2024-03-07T13:32:34.357Z"
    },
    "hidden": true,
    "scrolled": true
   },
   "outputs": [
    {
     "data": {
      "text/html": [
       "<strong>png:</strong> 2"
      ],
      "text/latex": [
       "\\textbf{png:} 2"
      ],
      "text/markdown": [
       "**png:** 2"
      ],
      "text/plain": [
       "png \n",
       "  2 "
      ]
     },
     "metadata": {},
     "output_type": "display_data"
    }
   ],
   "source": [
    "pdf(\"/home/minghao/workbase/16_Tilapia_Cold_BulkRNA-ATAC_jiaohe/output/plot/RNA_PCA.plot.pdf\",width = 4.5,height = 3)\n",
    "options(repr.plot.width = 6,repr.plot.height = 4)\n",
    "ggplot(temp,aes(x = PC1 , y = PC2 ,color = treat,shape = tissue)) + \n",
    "    geom_point(size = 4) + scale_color_manual(values = c(\"#D6AFB9\",\"#7E9BB7\")) +\n",
    "    labs(x = \"PC1: 92% variance\",y = \"PC2: 4% variance\" , color = NULL) +\n",
    "    theme_classic(base_size = 15) + \n",
    "    theme(axis.line = element_blank(),panel.border = element_rect(fill=NA,color=\"black\", size=1, linetype=\"solid\"))\n",
    "dev.off()"
   ]
  },
  {
   "cell_type": "code",
   "execution_count": 117,
   "id": "87441d4b",
   "metadata": {
    "ExecuteTime": {
     "end_time": "2024-03-06T06:51:58.858213Z",
     "start_time": "2024-03-06T06:51:59.146Z"
    },
    "hidden": true,
    "scrolled": true
   },
   "outputs": [
    {
     "data": {
      "image/png": "[encoded data removed]",
      "text/plain": [
       "plot without title"
      ]
     },
     "metadata": {
      "image/png": {
       "height": 330,
       "width": 360
      }
     },
     "output_type": "display_data"
    }
   ],
   "source": [
    "options(repr.plot.width = 6,repr.plot.height = 5.5)\n",
    "plotPCA(vsd[,grep(colnames(vsd),pattern = \"HK\")], intgroup='group', ntop=1000) + ggsci::scale_color_npg() + theme_bw(base_size = 15)"
   ]
  },
  {
   "cell_type": "code",
   "execution_count": 148,
   "id": "9fa766a6",
   "metadata": {
    "ExecuteTime": {
     "end_time": "2024-03-06T07:14:59.362516Z",
     "start_time": "2024-03-06T07:14:59.940Z"
    },
    "hidden": true
   },
   "outputs": [],
   "source": [
    "pca_function <- function(data){\n",
    "    mydata<-as.data.frame(t(data))\n",
    "    mydata=vegan::decostand(mydata,method = \"hellinger\")\n",
    "    otu_pca<- prcomp(mydata,scal=F)\n",
    "    pc12 <- as.data.frame(otu_pca$x[,1:2])*100\n",
    "    pc12$samples<-rownames(pc12)\n",
    "    return(pc12)\n",
    "                             }"
   ]
  },
  {
   "cell_type": "code",
   "execution_count": 127,
   "id": "507e23c8",
   "metadata": {
    "ExecuteTime": {
     "end_time": "2024-03-06T07:07:55.818331Z",
     "start_time": "2024-03-06T07:07:56.137Z"
    },
    "hidden": true
   },
   "outputs": [],
   "source": [
    "library(ggrepel)"
   ]
  },
  {
   "cell_type": "code",
   "execution_count": 151,
   "id": "a7e54778",
   "metadata": {
    "ExecuteTime": {
     "end_time": "2024-03-06T07:15:19.375536Z",
     "start_time": "2024-03-06T07:15:19.630Z"
    },
    "hidden": true,
    "scrolled": true
   },
   "outputs": [],
   "source": [
    "pc12 <- pca_function(data = vsd_filtered)\n",
    "pc12$treat <- gsub(\"[1-9]\",\"\",pc12$samples)\n",
    "pc12$tissue <- stringr::str_split(pc12$samples,pattern = \"_\",simplify = T)[,2]"
   ]
  },
  {
   "cell_type": "code",
   "execution_count": 152,
   "id": "c63f7797",
   "metadata": {
    "ExecuteTime": {
     "end_time": "2024-03-06T07:15:20.285367Z",
     "start_time": "2024-03-06T07:15:19.965Z"
    },
    "hidden": true
   },
   "outputs": [
    {
     "data": {
      "image/png": "[encoded data removed]",
      "text/plain": [
       "plot without title"
      ]
     },
     "metadata": {
      "image/png": {
       "height": 330,
       "width": 450
      }
     },
     "output_type": "display_data"
    }
   ],
   "source": [
    "options(repr.plot.width = 7.5,repr.plot.height = 5.5)\n",
    "ggplot(data = pc12,aes(x = PC1,y = PC2,col = treat)) + \n",
    "    geom_point(size = 4) + \n",
    "    geom_text_repel(data = pc12,aes(x = PC1,y = PC2,label = tissue),show.legend = F,direction = \"both\",max.overlaps = 15) +\n",
    "    ggsci::scale_color_npg() +\n",
    "    ylim(c(-29,25)) +\n",
    "    theme_bw(base_size = 17) + labs(x = \"PC1 : [61%]\", y = \"PC2 : [16%]\") "
   ]
  },
  {
   "cell_type": "markdown",
   "id": "1683e500",
   "metadata": {
    "heading_collapsed": true
   },
   "source": [
    "### 1.4.2 ATAC PCA"
   ]
  },
  {
   "cell_type": "code",
   "execution_count": 164,
   "id": "29b2b357",
   "metadata": {
    "ExecuteTime": {
     "end_time": "2024-03-06T07:20:26.083568Z",
     "start_time": "2024-03-06T07:20:26.663Z"
    },
    "hidden": true
   },
   "outputs": [],
   "source": [
    "library(RColorBrewer)\n",
    "my_palette <- colorRampPalette(brewer.pal(n = 6 , name = \"Paired\"))(6)"
   ]
  },
  {
   "cell_type": "code",
   "execution_count": 165,
   "id": "afd0366c",
   "metadata": {
    "ExecuteTime": {
     "end_time": "2024-03-06T07:20:28.834246Z",
     "start_time": "2024-03-06T07:20:29.413Z"
    },
    "hidden": true
   },
   "outputs": [
    {
     "data": {
      "text/html": [
       "<style>\n",
       ".list-inline {list-style: none; margin:0; padding: 0}\n",
       ".list-inline>li {display: inline-block}\n",
       ".list-inline>li:not(:last-child)::after {content: \"\\00b7\"; padding: 0 .5ex}\n",
       "</style>\n",
       "<ol class=list-inline><li>'#A6CEE3'</li><li>'#1F78B4'</li><li>'#B2DF8A'</li><li>'#33A02C'</li><li>'#FB9A99'</li><li>'#E31A1C'</li></ol>\n"
      ],
      "text/latex": [
       "\\begin{enumerate*}\n",
       "\\item '\\#A6CEE3'\n",
       "\\item '\\#1F78B4'\n",
       "\\item '\\#B2DF8A'\n",
       "\\item '\\#33A02C'\n",
       "\\item '\\#FB9A99'\n",
       "\\item '\\#E31A1C'\n",
       "\\end{enumerate*}\n"
      ],
      "text/markdown": [
       "1. '#A6CEE3'\n",
       "2. '#1F78B4'\n",
       "3. '#B2DF8A'\n",
       "4. '#33A02C'\n",
       "5. '#FB9A99'\n",
       "6. '#E31A1C'\n",
       "\n",
       "\n"
      ],
      "text/plain": [
       "[1] \"#A6CEE3\" \"#1F78B4\" \"#B2DF8A\" \"#33A02C\" \"#FB9A99\" \"#E31A1C\""
      ]
     },
     "metadata": {},
     "output_type": "display_data"
    }
   ],
   "source": [
    "my_palette"
   ]
  },
  {
   "cell_type": "code",
   "execution_count": 334,
   "id": "46e26d0a",
   "metadata": {
    "ExecuteTime": {
     "end_time": "2024-03-06T09:30:47.635797Z",
     "start_time": "2024-03-06T09:30:43.795Z"
    },
    "hidden": true
   },
   "outputs": [
    {
     "data": {
      "image/png": "[encoded data removed]",
      "text/plain": [
       "plot without title"
      ]
     },
     "metadata": {
      "image/png": {
       "height": 240,
       "width": 360
      }
     },
     "output_type": "display_data"
    }
   ],
   "source": [
    "dba.plotPCA(bulk_atac_counts,  attributes=DBA_CONDITION,vColors = my_palette,score = DBA_SCORE_NORMALIZED,label = DBA_CONDITION)"
   ]
  },
  {
   "cell_type": "code",
   "execution_count": 970,
   "id": "ec902ac0",
   "metadata": {
    "ExecuteTime": {
     "end_time": "2024-03-07T13:34:36.007591Z",
     "start_time": "2024-03-07T13:34:35.446Z"
    },
    "hidden": true,
    "scrolled": false
   },
   "outputs": [
    {
     "data": {
      "text/html": [
       "<table class=\"dataframe\">\n",
       "<caption>A data.frame: 3 × 15</caption>\n",
       "<thead>\n",
       "\t<tr><th></th><th scope=col>CHR</th><th scope=col>START</th><th scope=col>END</th><th scope=col>Cold_HK1</th><th scope=col>Cold_HK2</th><th scope=col>Cold_SP1</th><th scope=col>Cold_SP2</th><th scope=col>Cold_TH1</th><th scope=col>Cold_TH2</th><th scope=col>Ctrl_HK1</th><th scope=col>Ctrl_HK2</th><th scope=col>Ctrl_SP1</th><th scope=col>Ctrl_SP2</th><th scope=col>Ctrl_TH1</th><th scope=col>Ctrl_TH2</th></tr>\n",
       "\t<tr><th></th><th scope=col>&lt;chr&gt;</th><th scope=col>&lt;dbl&gt;</th><th scope=col>&lt;dbl&gt;</th><th scope=col>&lt;dbl&gt;</th><th scope=col>&lt;dbl&gt;</th><th scope=col>&lt;dbl&gt;</th><th scope=col>&lt;dbl&gt;</th><th scope=col>&lt;dbl&gt;</th><th scope=col>&lt;dbl&gt;</th><th scope=col>&lt;dbl&gt;</th><th scope=col>&lt;dbl&gt;</th><th scope=col>&lt;dbl&gt;</th><th scope=col>&lt;dbl&gt;</th><th scope=col>&lt;dbl&gt;</th><th scope=col>&lt;dbl&gt;</th></tr>\n",
       "</thead>\n",
       "<tbody>\n",
       "\t<tr><th scope=row>1</th><td>LG1</td><td>22579</td><td>22979</td><td>5.4690769</td><td>6.839567</td><td>5.991500</td><td>7.767869</td><td>5.475077</td><td>5.169480</td><td>5.6205283</td><td>6.283524</td><td>7.286811</td><td>7.105505</td><td>7.430940</td><td>3.873598</td></tr>\n",
       "\t<tr><th scope=row>2</th><td>LG1</td><td>23301</td><td>23701</td><td>0.8255210</td><td>1.998076</td><td>1.815606</td><td>1.059255</td><td>1.581689</td><td>1.292370</td><td>0.8483816</td><td>1.549362</td><td>1.331998</td><td>1.579001</td><td>1.371866</td><td>1.025364</td></tr>\n",
       "\t<tr><th scope=row>3</th><td>LG1</td><td>32054</td><td>32454</td><td>0.6191408</td><td>2.612868</td><td>1.815606</td><td>2.118510</td><td>1.216684</td><td>1.200058</td><td>0.8483816</td><td>1.979740</td><td>1.802115</td><td>2.447452</td><td>2.743732</td><td>1.595011</td></tr>\n",
       "</tbody>\n",
       "</table>\n"
      ],
      "text/latex": [
       "A data.frame: 3 × 15\n",
       "\\begin{tabular}{r|lllllllllllllll}\n",
       "  & CHR & START & END & Cold\\_HK1 & Cold\\_HK2 & Cold\\_SP1 & Cold\\_SP2 & Cold\\_TH1 & Cold\\_TH2 & Ctrl\\_HK1 & Ctrl\\_HK2 & Ctrl\\_SP1 & Ctrl\\_SP2 & Ctrl\\_TH1 & Ctrl\\_TH2\\\\\n",
       "  & <chr> & <dbl> & <dbl> & <dbl> & <dbl> & <dbl> & <dbl> & <dbl> & <dbl> & <dbl> & <dbl> & <dbl> & <dbl> & <dbl> & <dbl>\\\\\n",
       "\\hline\n",
       "\t1 & LG1 & 22579 & 22979 & 5.4690769 & 6.839567 & 5.991500 & 7.767869 & 5.475077 & 5.169480 & 5.6205283 & 6.283524 & 7.286811 & 7.105505 & 7.430940 & 3.873598\\\\\n",
       "\t2 & LG1 & 23301 & 23701 & 0.8255210 & 1.998076 & 1.815606 & 1.059255 & 1.581689 & 1.292370 & 0.8483816 & 1.549362 & 1.331998 & 1.579001 & 1.371866 & 1.025364\\\\\n",
       "\t3 & LG1 & 32054 & 32454 & 0.6191408 & 2.612868 & 1.815606 & 2.118510 & 1.216684 & 1.200058 & 0.8483816 & 1.979740 & 1.802115 & 2.447452 & 2.743732 & 1.595011\\\\\n",
       "\\end{tabular}\n"
      ],
      "text/markdown": [
       "\n",
       "A data.frame: 3 × 15\n",
       "\n",
       "| <!--/--> | CHR &lt;chr&gt; | START &lt;dbl&gt; | END &lt;dbl&gt; | Cold_HK1 &lt;dbl&gt; | Cold_HK2 &lt;dbl&gt; | Cold_SP1 &lt;dbl&gt; | Cold_SP2 &lt;dbl&gt; | Cold_TH1 &lt;dbl&gt; | Cold_TH2 &lt;dbl&gt; | Ctrl_HK1 &lt;dbl&gt; | Ctrl_HK2 &lt;dbl&gt; | Ctrl_SP1 &lt;dbl&gt; | Ctrl_SP2 &lt;dbl&gt; | Ctrl_TH1 &lt;dbl&gt; | Ctrl_TH2 &lt;dbl&gt; |\n",
       "|---|---|---|---|---|---|---|---|---|---|---|---|---|---|---|---|\n",
       "| 1 | LG1 | 22579 | 22979 | 5.4690769 | 6.839567 | 5.991500 | 7.767869 | 5.475077 | 5.169480 | 5.6205283 | 6.283524 | 7.286811 | 7.105505 | 7.430940 | 3.873598 |\n",
       "| 2 | LG1 | 23301 | 23701 | 0.8255210 | 1.998076 | 1.815606 | 1.059255 | 1.581689 | 1.292370 | 0.8483816 | 1.549362 | 1.331998 | 1.579001 | 1.371866 | 1.025364 |\n",
       "| 3 | LG1 | 32054 | 32454 | 0.6191408 | 2.612868 | 1.815606 | 2.118510 | 1.216684 | 1.200058 | 0.8483816 | 1.979740 | 1.802115 | 2.447452 | 2.743732 | 1.595011 |\n",
       "\n"
      ],
      "text/plain": [
       "  CHR START END   Cold_HK1  Cold_HK2 Cold_SP1 Cold_SP2 Cold_TH1 Cold_TH2\n",
       "1 LG1 22579 22979 5.4690769 6.839567 5.991500 7.767869 5.475077 5.169480\n",
       "2 LG1 23301 23701 0.8255210 1.998076 1.815606 1.059255 1.581689 1.292370\n",
       "3 LG1 32054 32454 0.6191408 2.612868 1.815606 2.118510 1.216684 1.200058\n",
       "  Ctrl_HK1  Ctrl_HK2 Ctrl_SP1 Ctrl_SP2 Ctrl_TH1 Ctrl_TH2\n",
       "1 5.6205283 6.283524 7.286811 7.105505 7.430940 3.873598\n",
       "2 0.8483816 1.549362 1.331998 1.579001 1.371866 1.025364\n",
       "3 0.8483816 1.979740 1.802115 2.447452 2.743732 1.595011"
      ]
     },
     "metadata": {},
     "output_type": "display_data"
    }
   ],
   "source": [
    "peaks_data <- dba.peakset(bulk_atac_counts, bRetrieve=TRUE, DataType = DBA_FACTOR)\n",
    "head(peaks_data,3)"
   ]
  },
  {
   "cell_type": "code",
   "execution_count": 983,
   "id": "177c88cd",
   "metadata": {
    "ExecuteTime": {
     "end_time": "2024-03-07T13:39:16.404078Z",
     "start_time": "2024-03-07T13:39:12.610Z"
    },
    "hidden": true,
    "scrolled": true
   },
   "outputs": [],
   "source": [
    "mydata <-as.data.frame( t(peaks_data[,c(4:5,8:11,14:15)]) )\n",
    "mydata = vegan::decostand(mydata,method = \"hellinger\")\n",
    "otu_pca <- prcomp(mydata,scal=F)\n",
    "pc12 <- as.data.frame(otu_pca$x[,1:2])*100\n",
    "pc12$samples <- rownames(pc12)"
   ]
  },
  {
   "cell_type": "code",
   "execution_count": 985,
   "id": "f1612e64",
   "metadata": {
    "ExecuteTime": {
     "end_time": "2024-03-07T13:40:00.718060Z",
     "start_time": "2024-03-07T13:40:01.991Z"
    },
    "hidden": true
   },
   "outputs": [],
   "source": [
    "pc12$group <- gsub(\"[1-9]\",\"\",pc12$samples)\n",
    "pc12$treat <- stringr::str_split(pc12$group,pattern = \"_\",simplify = T)[,1]\n",
    "pc12$tissue <- stringr::str_split(pc12$group,pattern = \"_\",simplify = T)[,2]"
   ]
  },
  {
   "cell_type": "code",
   "execution_count": 986,
   "id": "7f28abf9",
   "metadata": {
    "ExecuteTime": {
     "end_time": "2024-03-07T13:40:17.148716Z",
     "start_time": "2024-03-07T13:40:18.942Z"
    },
    "hidden": true
   },
   "outputs": [
    {
     "data": {
      "text/plain": [
       "Importance of components:\n",
       "                          PC1     PC2     PC3     PC4     PC5     PC6     PC7\n",
       "Standard deviation     0.1853 0.07943 0.04053 0.03537 0.03356 0.03058 0.02908\n",
       "Proportion of Variance 0.7392 0.13588 0.03538 0.02694 0.02426 0.02014 0.01821\n",
       "Cumulative Proportion  0.7392 0.87508 0.91046 0.93740 0.96165 0.98179 1.00000\n",
       "                             PC8\n",
       "Standard deviation     4.981e-17\n",
       "Proportion of Variance 0.000e+00\n",
       "Cumulative Proportion  1.000e+00"
      ]
     },
     "metadata": {},
     "output_type": "display_data"
    }
   ],
   "source": [
    "summary(otu_pca)"
   ]
  },
  {
   "cell_type": "code",
   "execution_count": 987,
   "id": "bd700a2d",
   "metadata": {
    "ExecuteTime": {
     "end_time": "2024-03-07T13:40:21.155297Z",
     "start_time": "2024-03-07T13:40:22.977Z"
    },
    "hidden": true
   },
   "outputs": [],
   "source": [
    "pc12$treat <- factor(pc12$treat,levels = c(\"Ctrl\",\"Cold\"))"
   ]
  },
  {
   "cell_type": "code",
   "execution_count": 989,
   "id": "38493b35",
   "metadata": {
    "ExecuteTime": {
     "end_time": "2024-03-07T13:45:01.118464Z",
     "start_time": "2024-03-07T13:45:02.617Z"
    },
    "hidden": true
   },
   "outputs": [
    {
     "data": {
      "text/html": [
       "<strong>png:</strong> 2"
      ],
      "text/latex": [
       "\\textbf{png:} 2"
      ],
      "text/markdown": [
       "**png:** 2"
      ],
      "text/plain": [
       "png \n",
       "  2 "
      ]
     },
     "metadata": {},
     "output_type": "display_data"
    }
   ],
   "source": [
    "pdf(\"/home/minghao/workbase/16_Tilapia_Cold_BulkRNA-ATAC_jiaohe/output/plot/ATAC_PCA.plot.pdf\",width = 4.5,height = 3)\n",
    "options(repr.plot.width = 6,repr.plot.height = 4)\n",
    "ggplot(pc12,aes(x = PC1 , y = PC2 ,color = treat,shape = tissue)) + \n",
    "    geom_point(size = 4) + scale_color_manual(values = c(\"#D6AFB9\",\"#7E9BB7\")) +\n",
    "    labs(x = \"PC1: 74% variance\",y = \"PC2: 14% variance\" , color = \"treat\") +\n",
    "    theme_classic(base_size = 15) + \n",
    "    theme(axis.line = element_blank(),panel.border = element_rect(fill=NA,color=\"black\", size=1, linetype=\"solid\"))\n",
    "dev.off()"
   ]
  },
  {
   "cell_type": "markdown",
   "id": "72ff1de1",
   "metadata": {
    "heading_collapsed": true
   },
   "source": [
    "## 1.5 Peaks Anno"
   ]
  },
  {
   "cell_type": "code",
   "execution_count": 369,
   "id": "cbeb2053",
   "metadata": {
    "ExecuteTime": {
     "end_time": "2024-03-06T10:08:44.880174Z",
     "start_time": "2024-03-06T10:08:07.394Z"
    },
    "hidden": true
   },
   "outputs": [],
   "source": [
    "library(GenomicFeatures)"
   ]
  },
  {
   "cell_type": "code",
   "execution_count": 368,
   "id": "5f11c310",
   "metadata": {
    "ExecuteTime": {
     "end_time": "2024-03-06T10:08:44.865883Z",
     "start_time": "2024-03-06T10:08:00.821Z"
    },
    "hidden": true
   },
   "outputs": [
    {
     "name": "stderr",
     "output_type": "stream",
     "text": [
      "Import genomic features from the file as a GRanges object ... \n",
      "OK\n",
      "\n",
      "Prepare the 'metadata' data frame ... \n",
      "OK\n",
      "\n",
      "Make the TxDb object ... \n",
      "OK\n",
      "\n"
     ]
    }
   ],
   "source": [
    "# callPeaks res from hsq. dir : /home/songqian/Project/Tilapia_Immune/1.ATAC/4.count/macs2\n",
    "setwd('/home/songqian/Project/Tilapia_Immune/Genome/')\n",
    "spompe <- GenomicFeatures::makeTxDbFromGFF('Oreochromis_niloticus.O_niloticus_UMD_NMBU.109.gff3',format = \"gff3\")"
   ]
  },
  {
   "cell_type": "code",
   "execution_count": 371,
   "id": "3b2f1fb1",
   "metadata": {
    "ExecuteTime": {
     "end_time": "2024-03-06T10:20:20.001071Z",
     "start_time": "2024-03-06T10:11:53.933Z"
    },
    "hidden": true,
    "scrolled": true
   },
   "outputs": [
    {
     "name": "stdout",
     "output_type": "stream",
     "text": [
      ">> loading peak file...\t\t\t\t 2024-03-06 06:11:53 PM \n",
      ">> preparing features information...\t\t 2024-03-06 06:11:53 PM \n",
      ">> identifying nearest features...\t\t 2024-03-06 06:11:53 PM \n",
      ">> calculating distance from peak to TSS...\t 2024-03-06 06:11:54 PM \n",
      ">> assigning genomic annotation...\t\t 2024-03-06 06:11:54 PM \n",
      ">> adding flank feature information from peaks...\t 2024-03-06 06:11:57 PM \n",
      ">> assigning chromosome lengths\t\t\t 2024-03-06 06:12:23 PM \n",
      ">> done...\t\t\t\t\t 2024-03-06 06:12:23 PM \n",
      ">> loading peak file...\t\t\t\t 2024-03-06 06:12:23 PM \n",
      ">> preparing features information...\t\t 2024-03-06 06:12:24 PM \n",
      ">> identifying nearest features...\t\t 2024-03-06 06:12:24 PM \n",
      ">> calculating distance from peak to TSS...\t 2024-03-06 06:12:26 PM \n",
      ">> assigning genomic annotation...\t\t 2024-03-06 06:12:26 PM \n",
      ">> adding flank feature information from peaks...\t 2024-03-06 06:12:29 PM \n",
      ">> assigning chromosome lengths\t\t\t 2024-03-06 06:13:14 PM \n",
      ">> done...\t\t\t\t\t 2024-03-06 06:13:14 PM \n",
      ">> loading peak file...\t\t\t\t 2024-03-06 06:13:15 PM \n",
      ">> preparing features information...\t\t 2024-03-06 06:13:16 PM \n",
      ">> identifying nearest features...\t\t 2024-03-06 06:13:16 PM \n",
      ">> calculating distance from peak to TSS...\t 2024-03-06 06:13:18 PM \n",
      ">> assigning genomic annotation...\t\t 2024-03-06 06:13:18 PM \n",
      ">> adding flank feature information from peaks...\t 2024-03-06 06:13:21 PM \n",
      ">> assigning chromosome lengths\t\t\t 2024-03-06 06:14:17 PM \n",
      ">> done...\t\t\t\t\t 2024-03-06 06:14:17 PM \n",
      ">> loading peak file...\t\t\t\t 2024-03-06 06:14:17 PM \n",
      ">> preparing features information...\t\t 2024-03-06 06:14:19 PM \n",
      ">> identifying nearest features...\t\t 2024-03-06 06:14:19 PM \n",
      ">> calculating distance from peak to TSS...\t 2024-03-06 06:14:21 PM \n",
      ">> assigning genomic annotation...\t\t 2024-03-06 06:14:21 PM \n",
      ">> adding flank feature information from peaks...\t 2024-03-06 06:14:28 PM \n",
      ">> assigning chromosome lengths\t\t\t 2024-03-06 06:15:09 PM \n",
      ">> done...\t\t\t\t\t 2024-03-06 06:15:09 PM \n",
      ">> loading peak file...\t\t\t\t 2024-03-06 06:15:09 PM \n",
      ">> preparing features information...\t\t 2024-03-06 06:15:10 PM \n",
      ">> identifying nearest features...\t\t 2024-03-06 06:15:10 PM \n",
      ">> calculating distance from peak to TSS...\t 2024-03-06 06:15:11 PM \n",
      ">> assigning genomic annotation...\t\t 2024-03-06 06:15:11 PM \n",
      ">> adding flank feature information from peaks...\t 2024-03-06 06:15:13 PM \n",
      ">> assigning chromosome lengths\t\t\t 2024-03-06 06:15:31 PM \n",
      ">> done...\t\t\t\t\t 2024-03-06 06:15:31 PM \n",
      ">> loading peak file...\t\t\t\t 2024-03-06 06:15:31 PM \n",
      ">> preparing features information...\t\t 2024-03-06 06:15:32 PM \n",
      ">> identifying nearest features...\t\t 2024-03-06 06:15:32 PM \n",
      ">> calculating distance from peak to TSS...\t 2024-03-06 06:15:33 PM \n",
      ">> assigning genomic annotation...\t\t 2024-03-06 06:15:33 PM \n",
      ">> adding flank feature information from peaks...\t 2024-03-06 06:15:35 PM \n",
      ">> assigning chromosome lengths\t\t\t 2024-03-06 06:16:00 PM \n",
      ">> done...\t\t\t\t\t 2024-03-06 06:16:00 PM \n",
      ">> loading peak file...\t\t\t\t 2024-03-06 06:16:00 PM \n",
      ">> preparing features information...\t\t 2024-03-06 06:16:01 PM \n",
      ">> identifying nearest features...\t\t 2024-03-06 06:16:01 PM \n",
      ">> calculating distance from peak to TSS...\t 2024-03-06 06:16:02 PM \n",
      ">> assigning genomic annotation...\t\t 2024-03-06 06:16:02 PM \n",
      ">> adding flank feature information from peaks...\t 2024-03-06 06:16:05 PM \n",
      ">> assigning chromosome lengths\t\t\t 2024-03-06 06:16:37 PM \n",
      ">> done...\t\t\t\t\t 2024-03-06 06:16:37 PM \n",
      ">> loading peak file...\t\t\t\t 2024-03-06 06:16:38 PM \n",
      ">> preparing features information...\t\t 2024-03-06 06:16:39 PM \n",
      ">> identifying nearest features...\t\t 2024-03-06 06:16:39 PM \n",
      ">> calculating distance from peak to TSS...\t 2024-03-06 06:16:40 PM \n",
      ">> assigning genomic annotation...\t\t 2024-03-06 06:16:40 PM \n",
      ">> adding flank feature information from peaks...\t 2024-03-06 06:16:43 PM \n",
      ">> assigning chromosome lengths\t\t\t 2024-03-06 06:17:24 PM \n",
      ">> done...\t\t\t\t\t 2024-03-06 06:17:24 PM \n",
      ">> loading peak file...\t\t\t\t 2024-03-06 06:17:24 PM \n",
      ">> preparing features information...\t\t 2024-03-06 06:17:25 PM \n",
      ">> identifying nearest features...\t\t 2024-03-06 06:17:25 PM \n",
      ">> calculating distance from peak to TSS...\t 2024-03-06 06:17:28 PM \n",
      ">> assigning genomic annotation...\t\t 2024-03-06 06:17:28 PM \n",
      ">> adding flank feature information from peaks...\t 2024-03-06 06:17:32 PM \n",
      ">> assigning chromosome lengths\t\t\t 2024-03-06 06:18:25 PM \n",
      ">> done...\t\t\t\t\t 2024-03-06 06:18:25 PM \n",
      ">> loading peak file...\t\t\t\t 2024-03-06 06:18:26 PM \n",
      ">> preparing features information...\t\t 2024-03-06 06:18:27 PM \n",
      ">> identifying nearest features...\t\t 2024-03-06 06:18:27 PM \n",
      ">> calculating distance from peak to TSS...\t 2024-03-06 06:18:29 PM \n",
      ">> assigning genomic annotation...\t\t 2024-03-06 06:18:29 PM \n",
      ">> adding flank feature information from peaks...\t 2024-03-06 06:18:32 PM \n",
      ">> assigning chromosome lengths\t\t\t 2024-03-06 06:19:24 PM \n",
      ">> done...\t\t\t\t\t 2024-03-06 06:19:24 PM \n",
      ">> loading peak file...\t\t\t\t 2024-03-06 06:19:24 PM \n",
      ">> preparing features information...\t\t 2024-03-06 06:19:25 PM \n",
      ">> identifying nearest features...\t\t 2024-03-06 06:19:25 PM \n",
      ">> calculating distance from peak to TSS...\t 2024-03-06 06:19:26 PM \n",
      ">> assigning genomic annotation...\t\t 2024-03-06 06:19:26 PM \n",
      ">> adding flank feature information from peaks...\t 2024-03-06 06:19:29 PM \n",
      ">> assigning chromosome lengths\t\t\t 2024-03-06 06:19:49 PM \n",
      ">> done...\t\t\t\t\t 2024-03-06 06:19:49 PM \n",
      ">> loading peak file...\t\t\t\t 2024-03-06 06:19:49 PM \n",
      ">> preparing features information...\t\t 2024-03-06 06:19:50 PM \n",
      ">> identifying nearest features...\t\t 2024-03-06 06:19:50 PM \n",
      ">> calculating distance from peak to TSS...\t 2024-03-06 06:19:51 PM \n",
      ">> assigning genomic annotation...\t\t 2024-03-06 06:19:51 PM \n",
      ">> adding flank feature information from peaks...\t 2024-03-06 06:19:54 PM \n",
      ">> assigning chromosome lengths\t\t\t 2024-03-06 06:20:19 PM \n",
      ">> done...\t\t\t\t\t 2024-03-06 06:20:19 PM \n"
     ]
    }
   ],
   "source": [
    "peakAnnoList <- suppressWarnings(lapply(atac_df$Peaks,ChIPseeker::annotatePeak,\n",
    "                       TxDb = spompe, \n",
    "                       tssRegion = c(-3000, 500), \n",
    "                       addFlankGeneInfo = TRUE, \n",
    "                       flankDistance = 5000))"
   ]
  },
  {
   "cell_type": "code",
   "execution_count": 394,
   "id": "a4bbefc9",
   "metadata": {
    "ExecuteTime": {
     "end_time": "2024-03-06T10:41:12.844440Z",
     "start_time": "2024-03-06T10:41:13.476Z"
    },
    "hidden": true
   },
   "outputs": [],
   "source": [
    "names(peakAnnoList) <- atac_df$SampleID"
   ]
  },
  {
   "cell_type": "code",
   "execution_count": 406,
   "id": "80d31733",
   "metadata": {
    "ExecuteTime": {
     "end_time": "2024-03-06T12:24:01.210243Z",
     "start_time": "2024-03-06T12:23:59.034Z"
    },
    "hidden": true
   },
   "outputs": [],
   "source": [
    "peakAnnoList %>% purrr::map(function(x){\n",
    "    data <- as.data.frame(x)\n",
    "    return(data[,c(1:21)])\n",
    "}) %>% purrr::reduce(dplyr::bind_rows) -> peakAnno_df"
   ]
  },
  {
   "cell_type": "code",
   "execution_count": 408,
   "id": "b0f257b9",
   "metadata": {
    "ExecuteTime": {
     "end_time": "2024-03-06T12:25:40.109026Z",
     "start_time": "2024-03-06T12:25:38.664Z"
    },
    "hidden": true
   },
   "outputs": [],
   "source": [
    "peakAnno_df$group <- \"Distal\"\n",
    "peakAnno_df$group[grep(peakAnno_df$annotation,pattern = \"^Promoter\")] <- \"Promoter\"\n",
    "peakAnno_df$group[grep(peakAnno_df$annotation,pattern = \"^3' UTR|5' UTR\")]  <- \"Genic\"\n",
    "peakAnno_df$group[grep(peakAnno_df$annotation,pattern = \"^Exon|Intron\")] <- \"Genic\"\n",
    "\n",
    "#peakAnnoList.DEPeaks3 <- peakAnnoList.DEPeaks2 %>% filter(group != \"Distal Intergenic\")"
   ]
  },
  {
   "cell_type": "code",
   "execution_count": 415,
   "id": "78f7a445",
   "metadata": {
    "ExecuteTime": {
     "end_time": "2024-03-06T12:32:29.276009Z",
     "start_time": "2024-03-06T12:32:29.063Z"
    },
    "hidden": true
   },
   "outputs": [],
   "source": [
    "peakAnno_df$group2 <- gsub(\"[1-2]_peak_[0-9]*\",\"\",peakAnno_df$V4)"
   ]
  },
  {
   "cell_type": "code",
   "execution_count": 434,
   "id": "65dc36f2",
   "metadata": {
    "ExecuteTime": {
     "end_time": "2024-03-06T12:41:20.137345Z",
     "start_time": "2024-03-06T12:41:20.826Z"
    },
    "hidden": true
   },
   "outputs": [
    {
     "data": {
      "text/html": [
       "<table class=\"dataframe\">\n",
       "<caption>A data.frame: 2 × 23</caption>\n",
       "<thead>\n",
       "\t<tr><th></th><th scope=col>seqnames</th><th scope=col>start</th><th scope=col>end</th><th scope=col>width</th><th scope=col>strand</th><th scope=col>V4</th><th scope=col>V5</th><th scope=col>V6</th><th scope=col>V7</th><th scope=col>V8</th><th scope=col>⋯</th><th scope=col>geneChr</th><th scope=col>geneStart</th><th scope=col>geneEnd</th><th scope=col>geneLength</th><th scope=col>geneStrand</th><th scope=col>geneId</th><th scope=col>transcriptId</th><th scope=col>distanceToTSS</th><th scope=col>group</th><th scope=col>group2</th></tr>\n",
       "\t<tr><th></th><th scope=col>&lt;fct&gt;</th><th scope=col>&lt;int&gt;</th><th scope=col>&lt;int&gt;</th><th scope=col>&lt;int&gt;</th><th scope=col>&lt;fct&gt;</th><th scope=col>&lt;chr&gt;</th><th scope=col>&lt;int&gt;</th><th scope=col>&lt;chr&gt;</th><th scope=col>&lt;dbl&gt;</th><th scope=col>&lt;dbl&gt;</th><th scope=col>⋯</th><th scope=col>&lt;int&gt;</th><th scope=col>&lt;int&gt;</th><th scope=col>&lt;int&gt;</th><th scope=col>&lt;int&gt;</th><th scope=col>&lt;int&gt;</th><th scope=col>&lt;chr&gt;</th><th scope=col>&lt;chr&gt;</th><th scope=col>&lt;dbl&gt;</th><th scope=col>&lt;chr&gt;</th><th scope=col>&lt;chr&gt;</th></tr>\n",
       "</thead>\n",
       "<tbody>\n",
       "\t<tr><th scope=row>1</th><td>LG1</td><td>22810</td><td>23124</td><td>315</td><td>*</td><td>Cold_HK1_peak_1</td><td>95</td><td>.</td><td>5.42925</td><td>11.65361</td><td>⋯</td><td>608</td><td>43174</td><td>50651</td><td>7478</td><td>1</td><td>ENSONIG00000015575</td><td>ENSONIT00000065129</td><td>-20050</td><td>Distal</td><td>Cold_HK</td></tr>\n",
       "\t<tr><th scope=row>2</th><td>LG1</td><td>37517</td><td>37742</td><td>226</td><td>*</td><td>Cold_HK1_peak_2</td><td>52</td><td>.</td><td>4.01786</td><td> 7.21047</td><td>⋯</td><td>608</td><td>43174</td><td>50651</td><td>7478</td><td>1</td><td>ENSONIG00000015575</td><td>ENSONIT00000065129</td><td> -5432</td><td>Distal</td><td>Cold_HK</td></tr>\n",
       "</tbody>\n",
       "</table>\n"
      ],
      "text/latex": [
       "A data.frame: 2 × 23\n",
       "\\begin{tabular}{r|lllllllllllllllllllll}\n",
       "  & seqnames & start & end & width & strand & V4 & V5 & V6 & V7 & V8 & ⋯ & geneChr & geneStart & geneEnd & geneLength & geneStrand & geneId & transcriptId & distanceToTSS & group & group2\\\\\n",
       "  & <fct> & <int> & <int> & <int> & <fct> & <chr> & <int> & <chr> & <dbl> & <dbl> & ⋯ & <int> & <int> & <int> & <int> & <int> & <chr> & <chr> & <dbl> & <chr> & <chr>\\\\\n",
       "\\hline\n",
       "\t1 & LG1 & 22810 & 23124 & 315 & * & Cold\\_HK1\\_peak\\_1 & 95 & . & 5.42925 & 11.65361 & ⋯ & 608 & 43174 & 50651 & 7478 & 1 & ENSONIG00000015575 & ENSONIT00000065129 & -20050 & Distal & Cold\\_HK\\\\\n",
       "\t2 & LG1 & 37517 & 37742 & 226 & * & Cold\\_HK1\\_peak\\_2 & 52 & . & 4.01786 &  7.21047 & ⋯ & 608 & 43174 & 50651 & 7478 & 1 & ENSONIG00000015575 & ENSONIT00000065129 &  -5432 & Distal & Cold\\_HK\\\\\n",
       "\\end{tabular}\n"
      ],
      "text/markdown": [
       "\n",
       "A data.frame: 2 × 23\n",
       "\n",
       "| <!--/--> | seqnames &lt;fct&gt; | start &lt;int&gt; | end &lt;int&gt; | width &lt;int&gt; | strand &lt;fct&gt; | V4 &lt;chr&gt; | V5 &lt;int&gt; | V6 &lt;chr&gt; | V7 &lt;dbl&gt; | V8 &lt;dbl&gt; | ⋯ ⋯ | geneChr &lt;int&gt; | geneStart &lt;int&gt; | geneEnd &lt;int&gt; | geneLength &lt;int&gt; | geneStrand &lt;int&gt; | geneId &lt;chr&gt; | transcriptId &lt;chr&gt; | distanceToTSS &lt;dbl&gt; | group &lt;chr&gt; | group2 &lt;chr&gt; |\n",
       "|---|---|---|---|---|---|---|---|---|---|---|---|---|---|---|---|---|---|---|---|---|---|\n",
       "| 1 | LG1 | 22810 | 23124 | 315 | * | Cold_HK1_peak_1 | 95 | . | 5.42925 | 11.65361 | ⋯ | 608 | 43174 | 50651 | 7478 | 1 | ENSONIG00000015575 | ENSONIT00000065129 | -20050 | Distal | Cold_HK |\n",
       "| 2 | LG1 | 37517 | 37742 | 226 | * | Cold_HK1_peak_2 | 52 | . | 4.01786 |  7.21047 | ⋯ | 608 | 43174 | 50651 | 7478 | 1 | ENSONIG00000015575 | ENSONIT00000065129 |  -5432 | Distal | Cold_HK |\n",
       "\n"
      ],
      "text/plain": [
       "  seqnames start end   width strand V4              V5 V6 V7      V8       ⋯\n",
       "1 LG1      22810 23124 315   *      Cold_HK1_peak_1 95 .  5.42925 11.65361 ⋯\n",
       "2 LG1      37517 37742 226   *      Cold_HK1_peak_2 52 .  4.01786  7.21047 ⋯\n",
       "  geneChr geneStart geneEnd geneLength geneStrand geneId            \n",
       "1 608     43174     50651   7478       1          ENSONIG00000015575\n",
       "2 608     43174     50651   7478       1          ENSONIG00000015575\n",
       "  transcriptId       distanceToTSS group  group2 \n",
       "1 ENSONIT00000065129 -20050        Distal Cold_HK\n",
       "2 ENSONIT00000065129  -5432        Distal Cold_HK"
      ]
     },
     "metadata": {},
     "output_type": "display_data"
    }
   ],
   "source": [
    "head(peakAnno_df,2)"
   ]
  },
  {
   "cell_type": "code",
   "execution_count": 420,
   "id": "17bd3713",
   "metadata": {
    "ExecuteTime": {
     "end_time": "2024-03-06T12:35:35.483592Z",
     "start_time": "2024-03-06T12:35:36.073Z"
    },
    "hidden": true,
    "scrolled": true
   },
   "outputs": [],
   "source": [
    "pro_df <- table(peakAnno_df$group,peakAnno_df$group2) %>% as.data.frame"
   ]
  },
  {
   "cell_type": "code",
   "execution_count": 452,
   "id": "007fb65c",
   "metadata": {
    "ExecuteTime": {
     "end_time": "2024-03-06T12:49:54.823748Z",
     "start_time": "2024-03-06T12:49:55.526Z"
    },
    "hidden": true
   },
   "outputs": [],
   "source": [
    "pro_df$Var2 <- factor(pro_df$Var2,levels = rev(c(\"Ctrl_TH\",\"Cold_TH\",\"Ctrl_HK\",\"Cold_HK\",\"Ctrl_SP\",\"Cold_SP\")))"
   ]
  },
  {
   "cell_type": "code",
   "execution_count": 453,
   "id": "c325ea26",
   "metadata": {
    "ExecuteTime": {
     "end_time": "2024-03-06T12:49:55.268643Z",
     "start_time": "2024-03-06T12:49:55.962Z"
    },
    "hidden": true
   },
   "outputs": [
    {
     "data": {
      "text/html": [
       "<table class=\"dataframe\">\n",
       "<caption>A data.frame: 2 × 3</caption>\n",
       "<thead>\n",
       "\t<tr><th></th><th scope=col>Var1</th><th scope=col>Var2</th><th scope=col>Freq</th></tr>\n",
       "\t<tr><th></th><th scope=col>&lt;fct&gt;</th><th scope=col>&lt;fct&gt;</th><th scope=col>&lt;int&gt;</th></tr>\n",
       "</thead>\n",
       "<tbody>\n",
       "\t<tr><th scope=row>1</th><td>Distal</td><td>Cold_HK</td><td> 83872</td></tr>\n",
       "\t<tr><th scope=row>2</th><td>Genic </td><td>Cold_HK</td><td>130856</td></tr>\n",
       "</tbody>\n",
       "</table>\n"
      ],
      "text/latex": [
       "A data.frame: 2 × 3\n",
       "\\begin{tabular}{r|lll}\n",
       "  & Var1 & Var2 & Freq\\\\\n",
       "  & <fct> & <fct> & <int>\\\\\n",
       "\\hline\n",
       "\t1 & Distal & Cold\\_HK &  83872\\\\\n",
       "\t2 & Genic  & Cold\\_HK & 130856\\\\\n",
       "\\end{tabular}\n"
      ],
      "text/markdown": [
       "\n",
       "A data.frame: 2 × 3\n",
       "\n",
       "| <!--/--> | Var1 &lt;fct&gt; | Var2 &lt;fct&gt; | Freq &lt;int&gt; |\n",
       "|---|---|---|---|\n",
       "| 1 | Distal | Cold_HK |  83872 |\n",
       "| 2 | Genic  | Cold_HK | 130856 |\n",
       "\n"
      ],
      "text/plain": [
       "  Var1   Var2    Freq  \n",
       "1 Distal Cold_HK  83872\n",
       "2 Genic  Cold_HK 130856"
      ]
     },
     "metadata": {},
     "output_type": "display_data"
    }
   ],
   "source": [
    "pro_df %>% head(2)"
   ]
  },
  {
   "cell_type": "code",
   "execution_count": 455,
   "id": "5c4e1ab6",
   "metadata": {
    "ExecuteTime": {
     "end_time": "2024-03-06T12:49:59.526270Z",
     "start_time": "2024-03-06T12:50:00.076Z"
    },
    "hidden": true
   },
   "outputs": [
    {
     "data": {
      "text/html": [
       "<strong>png:</strong> 2"
      ],
      "text/latex": [
       "\\textbf{png:} 2"
      ],
      "text/markdown": [
       "**png:** 2"
      ],
      "text/plain": [
       "png \n",
       "  2 "
      ]
     },
     "metadata": {},
     "output_type": "display_data"
    }
   ],
   "source": [
    "pdf(file = \"/home/minghao/workbase/16_Tilapia_Cold_BulkRNA-ATAC_jiaohe/output/plot/proportion_barplot.pdf\",width = 5,height = 4)\n",
    "ggplot(pro_df,aes(x = Var2 , y = Freq , fill = Var1)) + \n",
    "    geom_bar(stat = \"identity\",orientation = \"x\",alpha = .9) + \n",
    "    scale_fill_manual(values = c(\"#A5C496\", \"#C7988C\", \"#8891DB\")) +\n",
    "    scale_y_continuous(expand = c(0.01,0.01),limits = c(0,450000)) + \n",
    "    theme_classic(base_size = 15) + \n",
    "    labs(x = NULL , y = NULL , fill = NULL) +\n",
    "    theme(axis.line = element_blank(),\n",
    "          axis.text = element_text(colour = \"black\"),\n",
    "          legend.position = \"top\",\n",
    "          panel.border = element_rect(fill=NA,color=\"black\", size=1, linetype=\"solid\")) + \n",
    "    coord_flip()\n",
    "dev.off()"
   ]
  },
  {
   "cell_type": "code",
   "execution_count": null,
   "id": "3ac010c4",
   "metadata": {
    "hidden": true
   },
   "outputs": [],
   "source": []
  },
  {
   "cell_type": "markdown",
   "id": "44e83b22",
   "metadata": {
    "heading_collapsed": true
   },
   "source": [
    "## 1.6 Visualization of Phenotypic Data"
   ]
  },
  {
   "cell_type": "code",
   "execution_count": 170,
   "id": "f0095ff8",
   "metadata": {
    "ExecuteTime": {
     "end_time": "2024-03-06T07:25:13.520265Z",
     "start_time": "2024-03-06T07:25:14.083Z"
    },
    "hidden": true
   },
   "outputs": [],
   "source": [
    "Data_Spleen =data.frame(\n",
    "    Group = c(\"Ctrl\", \"Ctrl\", \"Ctrl\", \"Ctrl\", \"Ctrl\", \"Ctrl\", \"Ctrl\", \"Ctrl\", \"Ctrl\", \"Ctrl\", \"Ctrl\", \"Ctrl\", \"Ctrl\", \"Ctrl\", \"Ctrl\", \"Cold\", \"Cold\", \"Cold\", \"Cold\", \"Cold\", \"Cold\", \"Cold\", \"Cold\", \"Cold\", \"Cold\", \"Cold\", \"Cold\", \"Cold\", \"Cold\", \"Cold\"),\n",
    "    Weight = c(32.54, 33.57, 28.25, 17.31, 30.02, 25.6, 20.87, 19.94, 20.67, 19.42, 17.72, 21.49, 22.13, 24.31, 20.7, 32.48, 26.92, 24.75, 23.57, 33.28, 21.25, 23.84, 20.05, 22.15, 18.74, 14.24, 16.15, 21.75, 12.85, 15.12),\n",
    "    Length = c(9.2, 9.2, 8.4, 7.8, 9.1, 8.8, 8.3, 8.4, 8.6, 7.7, 7.3, 8.2, 8.5, 8.5, 8.1, 9.1, 8.9, 9.1, 8.7, 10, 8.5, 8.7, 8.3, 8.6, 8.5, 7.4, 7.6, 8.3, 7.4, 7.6),\n",
    "    Spleen = c(15.6, 16.8, 18.8, 12, 16.1, 19.3, 12.4, 15.8, 16.2, 17.4, 17.7, 16.8, 15.8, 15.8, 16.4, 38.5, 34.4, 15, 23.1, 42.5, 25.8, 18.1, 15.5, 16.4, 17.2, 11.5, 12.2, 26, 9.1, 15.2),\n",
    "    Index = c(0.479, 0.500, 0.665, 0.693, 0.536, 0.754, 0.594, 0.792, 0.784, 0.896, 0.999, 0.782, 0.714, 0.650, 0.792, 1.185, 1.278, 0.606, 0.980, 1.277, 1.214, 0.759, 0.773, 0.740, 0.918, 0.808, 0.755, 1.195, 0.708, 1.005)\n",
    ")"
   ]
  },
  {
   "cell_type": "code",
   "execution_count": 202,
   "id": "4ceda2a0",
   "metadata": {
    "ExecuteTime": {
     "end_time": "2024-03-06T07:42:01.838034Z",
     "start_time": "2024-03-06T07:42:02.423Z"
    },
    "hidden": true
   },
   "outputs": [],
   "source": [
    "Data_Spleen$Group <- factor(Data_Spleen$Group,levels = c(\"Ctrl\",\"Cold\"))"
   ]
  },
  {
   "cell_type": "code",
   "execution_count": 244,
   "id": "bf3516a3",
   "metadata": {
    "ExecuteTime": {
     "end_time": "2024-03-06T08:10:21.221544Z",
     "start_time": "2024-03-06T08:10:21.819Z"
    },
    "hidden": true,
    "scrolled": true
   },
   "outputs": [
    {
     "data": {
      "text/html": [
       "<table class=\"dataframe\">\n",
       "<caption>A data.frame: 2 × 5</caption>\n",
       "<thead>\n",
       "\t<tr><th></th><th scope=col>Group</th><th scope=col>Weight</th><th scope=col>Length</th><th scope=col>Spleen</th><th scope=col>Index</th></tr>\n",
       "\t<tr><th></th><th scope=col>&lt;fct&gt;</th><th scope=col>&lt;dbl&gt;</th><th scope=col>&lt;dbl&gt;</th><th scope=col>&lt;dbl&gt;</th><th scope=col>&lt;dbl&gt;</th></tr>\n",
       "</thead>\n",
       "<tbody>\n",
       "\t<tr><th scope=row>1</th><td>Ctrl</td><td>32.54</td><td>9.2</td><td>15.6</td><td>0.479</td></tr>\n",
       "\t<tr><th scope=row>2</th><td>Ctrl</td><td>33.57</td><td>9.2</td><td>16.8</td><td>0.500</td></tr>\n",
       "</tbody>\n",
       "</table>\n"
      ],
      "text/latex": [
       "A data.frame: 2 × 5\n",
       "\\begin{tabular}{r|lllll}\n",
       "  & Group & Weight & Length & Spleen & Index\\\\\n",
       "  & <fct> & <dbl> & <dbl> & <dbl> & <dbl>\\\\\n",
       "\\hline\n",
       "\t1 & Ctrl & 32.54 & 9.2 & 15.6 & 0.479\\\\\n",
       "\t2 & Ctrl & 33.57 & 9.2 & 16.8 & 0.500\\\\\n",
       "\\end{tabular}\n"
      ],
      "text/markdown": [
       "\n",
       "A data.frame: 2 × 5\n",
       "\n",
       "| <!--/--> | Group &lt;fct&gt; | Weight &lt;dbl&gt; | Length &lt;dbl&gt; | Spleen &lt;dbl&gt; | Index &lt;dbl&gt; |\n",
       "|---|---|---|---|---|---|\n",
       "| 1 | Ctrl | 32.54 | 9.2 | 15.6 | 0.479 |\n",
       "| 2 | Ctrl | 33.57 | 9.2 | 16.8 | 0.500 |\n",
       "\n"
      ],
      "text/plain": [
       "  Group Weight Length Spleen Index\n",
       "1 Ctrl  32.54  9.2    15.6   0.479\n",
       "2 Ctrl  33.57  9.2    16.8   0.500"
      ]
     },
     "metadata": {},
     "output_type": "display_data"
    }
   ],
   "source": [
    "Data_Spleen %>% head(2)"
   ]
  },
  {
   "cell_type": "code",
   "execution_count": 207,
   "id": "ef0b1737",
   "metadata": {
    "ExecuteTime": {
     "end_time": "2024-03-06T07:44:16.353289Z",
     "start_time": "2024-03-06T07:44:16.880Z"
    },
    "hidden": true
   },
   "outputs": [],
   "source": [
    "library(patchwork)"
   ]
  },
  {
   "cell_type": "code",
   "execution_count": 218,
   "id": "36152a99",
   "metadata": {
    "ExecuteTime": {
     "end_time": "2024-03-06T07:52:48.830749Z",
     "start_time": "2024-03-06T07:52:49.382Z"
    },
    "hidden": true
   },
   "outputs": [],
   "source": [
    "options(repr.plot.width = 3,repr.plot.height = 4)\n",
    "p1 <- ggplot(Data_Spleen,aes(x = Group,y = Index,fill = Group)) + \n",
    "    geom_violin(trim=FALSE,color=\"black\") + \n",
    "    geom_jitter(width = .1) +\n",
    "    geom_boxplot(width = .1,fill = \"white\",outlier.shape = NA) +\n",
    "    scale_fill_manual(values = c(\"#D6AFB9\",\"#7E9BB7\")) + \n",
    "    ylab(\"Spleen index\") +\n",
    "    xlab(NULL) +\n",
    "    theme_classic(base_size = 19) + \n",
    "    theme(legend.position = \"none\")\n",
    "p2 <- ggplot(Data_Spleen,aes(x = Group,y = Length,fill = Group)) + \n",
    "    geom_violin(trim=FALSE,color=\"black\") + \n",
    "    geom_jitter(width = .1) +\n",
    "    geom_boxplot(width = .1,fill = \"white\",outlier.shape = NA) +\n",
    "    scale_fill_manual(values = c(\"#D6AFB9\",\"#7E9BB7\")) + \n",
    "    ylab(\"Body length(cm)\") +\n",
    "    xlab(NULL) +\n",
    "    theme_classic(base_size = 19) + \n",
    "    theme(legend.position = \"none\")\n",
    "\n",
    "p3 <- ggplot(Data_Spleen,aes(x = Group,y = Weight,fill = Group)) + \n",
    "    geom_violin(trim=FALSE,color=\"black\") + \n",
    "    geom_jitter(width = .1) +\n",
    "    geom_boxplot(width = .1,fill = \"white\",outlier.shape = NA) +\n",
    "    scale_fill_manual(values = c(\"#D6AFB9\",\"#7E9BB7\")) + \n",
    "    ylab(\"Body weight(g)\") +\n",
    "    xlab(NULL) +\n",
    "    theme_classic(base_size = 19) + \n",
    "    theme(legend.position = \"none\")"
   ]
  },
  {
   "cell_type": "code",
   "execution_count": 219,
   "id": "0e5aa7bc",
   "metadata": {
    "ExecuteTime": {
     "end_time": "2024-03-06T07:52:49.821593Z",
     "start_time": "2024-03-06T07:52:49.743Z"
    },
    "hidden": true,
    "scrolled": true
   },
   "outputs": [
    {
     "data": {
      "image/png": "[encoded data removed]",
      "text/plain": [
       "plot without title"
      ]
     },
     "metadata": {
      "image/png": {
       "height": 240,
       "width": 600
      }
     },
     "output_type": "display_data"
    }
   ],
   "source": [
    "options(repr.plot.width = 10,repr.plot.height = 4)\n",
    "p3 | p2 | p1"
   ]
  },
  {
   "cell_type": "code",
   "execution_count": 220,
   "id": "1aa949bc",
   "metadata": {
    "ExecuteTime": {
     "end_time": "2024-03-06T07:53:29.377343Z",
     "start_time": "2024-03-06T07:53:29.342Z"
    },
    "hidden": true
   },
   "outputs": [
    {
     "data": {
      "text/html": [
       "<strong>png:</strong> 2"
      ],
      "text/latex": [
       "\\textbf{png:} 2"
      ],
      "text/markdown": [
       "**png:** 2"
      ],
      "text/plain": [
       "png \n",
       "  2 "
      ]
     },
     "metadata": {},
     "output_type": "display_data"
    }
   ],
   "source": [
    "pdf(file = \"/home/minghao/workbase/16_Tilapia_Cold_BulkRNA-ATAC_jiaohe/output/表型数据_plot/Vlnplot.pdf\",width = 10,height = 4)\n",
    "p3 | p2 | p1\n",
    "dev.off()"
   ]
  },
  {
   "cell_type": "code",
   "execution_count": 245,
   "id": "13a4548a",
   "metadata": {
    "ExecuteTime": {
     "end_time": "2024-03-06T08:10:24.843834Z",
     "start_time": "2024-03-06T08:10:25.452Z"
    },
    "hidden": true
   },
   "outputs": [],
   "source": [
    "Data_Breathe =data.frame(\n",
    "    Temp = c(28.0, 27.0, 26.0, 21.0, 17.5, 16.2, 16.2, 15.0, 12.5, 12.0, 12.5, 27.6, 27.7, 27.8, 25.5, 25.0, 24.8, 24.4, 23.0, 22.0, 21.9, 20.1, 20.1, 18.3, 18.2, 16.4, 16.3, 15.7, 15.1, 15.1, 13.9, 13.6, 13.4, 12.5, 19.5, 23.5, 23.2, 24.2, 24.5, 20.2, 19.7, 19.1, 18.8, 18.8, 18.1, 17.5, 17.0, 16.0, 15.2, 14.0, 13.5, 12.5, 27.7, 27.6, 27.0),\n",
    "    Freq = c(125.71, 108.00, 109.50, 93.00, 89.00, 61.50, 80.00, 79.50, 62.00, 60.00, 66.00, 134.00, 132.00, 130.50, 115.20, 109.76, 111.00, 114.86, 121.94, 110.32, 110.32, 100.00, 102.00, 94.00, 106.45, 98.00, 100.00, 90.00, 86.25, 89.03, 92.00, 90.00, 87.10, 90.00, 118.00, 127.74, 112.00, 114.19, 128.57, 102.00, 109.20, 72.00, 104.00, 96.00, 93.00, 96.00, 94.00, 84.00, 98.18, 94.00, 86.00, 76.00, 124.00, 120.00, 124.00) \n",
    ")"
   ]
  },
  {
   "cell_type": "code",
   "execution_count": 467,
   "id": "d1bde8d8",
   "metadata": {
    "ExecuteTime": {
     "end_time": "2024-03-06T12:59:18.284887Z",
     "start_time": "2024-03-06T12:59:18.975Z"
    },
    "hidden": true,
    "scrolled": true
   },
   "outputs": [],
   "source": [
    "p4 <- ggplot(Data_Breathe,aes(x = Temp,y = Freq)) + \n",
    "    geom_point() + \n",
    "    scale_x_reverse() +\n",
    "    geom_smooth(method = \"loess\" ,size = 1,se = T) +\n",
    "#     scale_x_continuous(limits = c(max(Data_Breathe$Temp), min(Data_Breathe$Temp)), \n",
    "#                        breaks = seq(max(Data_Breathe$Temp), min(Data_Breathe$Temp), by = -1) ) + \n",
    "    labs(x = \"Water temperture (°C)\" , y = \"Breathing frequency (min-1)\") + \n",
    "    theme_classic(base_size = 19)"
   ]
  },
  {
   "cell_type": "code",
   "execution_count": 456,
   "id": "a19d3479",
   "metadata": {
    "ExecuteTime": {
     "end_time": "2024-03-06T12:55:19.747864Z",
     "start_time": "2024-03-06T12:55:20.451Z"
    },
    "hidden": true
   },
   "outputs": [],
   "source": [
    "Data_swim =data.frame(\n",
    "Speed=c(18.22, 14.56, 14.47, 12.20, 10.62, 10.29, 10.04, 9.91, 9.69, 8.64, 7.76, 7.44, 18.24, 17.71, 16.89, 13.87, 13.22, 13.18, 11.02, 7.71, 7.29, 5.73, 5.33, 19.96, 18.44, 16.84, 15.33, 14.78, 14.71, 14.47, 8.16, 4.22, 4.04, 3.73, 18.33, 14.22, 14.18, 11.31, 9.22, 6.13, 5.36, 4.11, 3.87, 2.98, 13.38, 12.82, 11.38, 10.20, 6.84, 6.47, 5.82, 3.69, 3.47, 3.27, 3.20, 2.71, 2.71, 2.67, 14.20, 12.33, 7.31, 5.29, 3.40, 2.62, 14.64, 11.58, 9.00, 7.47, 7.20, 6.89, 6.58, 5.98, 4.33, 4.31, 3.13, 3.09, 3.02, 2.93, 2.91, 2.80, 1.91, 10.13, 9.87, 8.96, 6.64, 5.47, 5.40, 4.69, 3.76, 2.84, 2.22, 11.20, 10.76, 7.60, 7.58, 6.93, 6.87, 6.33, 5.80, 4.58, 2.58, 2.27, 12.60, 9.91, 9.51, 9.29, 5.91, 5.40, 3.60, 3.42, 2.93, 2.69, 2.62, 2.31, 2.27, 9.96, 9.91, 9.16, 8.91, 7.07, 6.69, 6.13, 5.16, 3.93, 3.24, 2.80, 2.53, 2.00, 1.73, 10.09, 8.09, 7.09, 4.96, 4.58, 4.00, 3.73, 3.02, 2.47, 2.22, 2.22, 10.51, 8.53, 5.33, 3.62, 2.89, 8.69, 8.58, 7.29, 7.11, 6.87, 6.84, 6.24, 5.76, 5.44, 5.36, 4.60, 3.24, 2.89, 2.69, 2.51, 2.24, 8.38, 6.47, 6.33, 6.00, 4.18, 4.09, 3.24, 3.09, 2.73, 2.64, 2.64, 2.38, 1.98, 1.84, 9.64, 8.89, 8.71, 8.00, 7.53, 6.91, 5.16, 4.73, 4.00, 3.82, 3.82, 3.13, 2.42, 2.38, 2.31, 1.96, 1.73, 8.69, 7.87, 6.60, 6.56, 6.16, 6.02, 5.69, 5.27, 5.13, 5.07, 4.80, 3.89, 3.73, 3.67, 3.49, 2.80, 2.53, 1.93, 1.58, 1.51), \n",
    "Temperature=c(27.31, 28.17, 27.62, 28.07, 27.34, 27.88, 27.75, 27.33, 27.52, 28.26, 28.09, 28.25, 26.88, 26.85, 26.79, 27.54, 26.65, 26.89, 27.04, 26.64, 27.00, 27.34, 27.51, 26.80, 26.64, 26.71, 26.40, 26.08, 26.06, 26.21, 26.53, 26.26, 26.11, 26.29, 25.32, 25.25, 25.73, 25.47, 25.62, 25.63, 25.64, 25.94, 25.93, 25.49, 23.97, 24.35, 24.06, 23.74, 23.62, 23.74, 23.71, 24.53, 24.39, 24.08, 24.35, 24.13, 23.97, 24.48, 23.80, 23.13, 23.59, 23.43, 23.87, 23.21, 22.90, 23.09, 22.63, 23.04, 23.45, 22.65, 22.68, 22.90, 22.87, 22.59, 23.20, 23.40, 22.62, 22.89, 23.04, 22.78, 22.65, 22.04, 21.73, 21.74, 21.90, 21.52, 21.63, 22.03, 21.86, 22.04, 22.18, 21.18, 20.72, 21.19, 20.96, 20.74, 20.63, 21.32, 21.29, 21.22, 21.03, 20.65, 20.50, 19.72, 20.23, 19.55, 19.57, 19.87, 19.87, 20.39, 20.40, 20.01, 20.02, 20.14, 20.43, 19.00, 18.92, 18.51, 19.11, 19.01, 18.74, 19.00, 18.42, 18.74, 18.78, 18.39, 18.34, 18.97, 18.71, 17.74, 17.81, 17.65, 17.61, 17.60, 17.55, 17.79, 17.94, 17.58, 18.45, 18.03, 16.95, 17.33, 16.99, 16.95, 17.18, 17.02, 16.30, 16.56, 16.43, 17.00, 16.44, 16.40, 16.49, 16.59, 16.75, 16.21, 16.83, 16.27, 16.96, 16.63, 17.15, 15.76, 16.23, 16.26, 15.93, 15.84, 15.86, 16.44, 15.56, 15.61, 15.66, 15.98, 16.27, 16.02, 16.12, 16.00, 15.81, 15.39, 15.43, 15.63, 15.43, 15.74, 15.14, 15.47, 15.18, 15.49, 15.59, 15.57, 15.75, 15.89, 16.10, 15.90, 13.81, 13.75, 13.62, 13.69, 13.41, 13.78, 14.24, 13.94, 13.50, 13.92, 13.65, 14.09, 13.70, 14.33, 13.78, 14.39, 14.27, 14.06, 13.42, 14.20)\n",
    ")"
   ]
  },
  {
   "cell_type": "code",
   "execution_count": 458,
   "id": "5498a366",
   "metadata": {
    "ExecuteTime": {
     "end_time": "2024-03-06T12:55:35.639209Z",
     "start_time": "2024-03-06T12:55:36.318Z"
    },
    "hidden": true
   },
   "outputs": [
    {
     "data": {
      "text/html": [
       "<table class=\"dataframe\">\n",
       "<caption>A data.frame: 2 × 2</caption>\n",
       "<thead>\n",
       "\t<tr><th></th><th scope=col>Speed</th><th scope=col>Temperature</th></tr>\n",
       "\t<tr><th></th><th scope=col>&lt;dbl&gt;</th><th scope=col>&lt;dbl&gt;</th></tr>\n",
       "</thead>\n",
       "<tbody>\n",
       "\t<tr><th scope=row>1</th><td>18.22</td><td>27.31</td></tr>\n",
       "\t<tr><th scope=row>2</th><td>14.56</td><td>28.17</td></tr>\n",
       "</tbody>\n",
       "</table>\n"
      ],
      "text/latex": [
       "A data.frame: 2 × 2\n",
       "\\begin{tabular}{r|ll}\n",
       "  & Speed & Temperature\\\\\n",
       "  & <dbl> & <dbl>\\\\\n",
       "\\hline\n",
       "\t1 & 18.22 & 27.31\\\\\n",
       "\t2 & 14.56 & 28.17\\\\\n",
       "\\end{tabular}\n"
      ],
      "text/markdown": [
       "\n",
       "A data.frame: 2 × 2\n",
       "\n",
       "| <!--/--> | Speed &lt;dbl&gt; | Temperature &lt;dbl&gt; |\n",
       "|---|---|---|\n",
       "| 1 | 18.22 | 27.31 |\n",
       "| 2 | 14.56 | 28.17 |\n",
       "\n"
      ],
      "text/plain": [
       "  Speed Temperature\n",
       "1 18.22 27.31      \n",
       "2 14.56 28.17      "
      ]
     },
     "metadata": {},
     "output_type": "display_data"
    }
   ],
   "source": [
    "Data_swim %>% head(2)"
   ]
  },
  {
   "cell_type": "code",
   "execution_count": 465,
   "id": "d40df55a",
   "metadata": {
    "ExecuteTime": {
     "end_time": "2024-03-06T12:58:56.516883Z",
     "start_time": "2024-03-06T12:58:57.193Z"
    },
    "hidden": true
   },
   "outputs": [],
   "source": [
    "p5 <- ggplot(Data_swim,aes(x = Temperature,y = Speed)) + \n",
    "    geom_point() + \n",
    "    scale_x_reverse(breaks = c(25,20,15)) +\n",
    "    geom_smooth(method = \"loess\" ,size = 1,se = T) +\n",
    "#     scale_x_continuous(limits = c(max(Data_Breathe$Temp), min(Data_Breathe$Temp)), \n",
    "#                        breaks = seq(max(Data_Breathe$Temp), min(Data_Breathe$Temp), by = -1) ) + \n",
    "    xlab(\"Water temperture (°C)\") +  ylab(\"swimming speed (cm.min-1)\") +\n",
    "    theme_classic(base_size = 19)"
   ]
  },
  {
   "cell_type": "code",
   "execution_count": 469,
   "id": "de1a4ebb",
   "metadata": {
    "ExecuteTime": {
     "end_time": "2024-03-06T12:59:30.831989Z",
     "start_time": "2024-03-06T12:59:31.162Z"
    },
    "hidden": true
   },
   "outputs": [
    {
     "name": "stderr",
     "output_type": "stream",
     "text": [
      "\u001b[1m\u001b[22m`geom_smooth()` using formula = 'y ~ x'\n",
      "\u001b[1m\u001b[22m`geom_smooth()` using formula = 'y ~ x'\n"
     ]
    },
    {
     "data": {
      "image/png": "[encoded data removed]",
      "text/plain": [
       "plot without title"
      ]
     },
     "metadata": {
      "image/png": {
       "height": 240,
       "width": 540
      }
     },
     "output_type": "display_data"
    }
   ],
   "source": [
    "options(repr.plot.width = 9,repr.plot.height = 4)\n",
    "p4 + p5"
   ]
  },
  {
   "cell_type": "code",
   "execution_count": 470,
   "id": "c7054ccd",
   "metadata": {
    "ExecuteTime": {
     "end_time": "2024-03-06T13:01:07.221917Z",
     "start_time": "2024-03-06T13:01:07.671Z"
    },
    "hidden": true
   },
   "outputs": [
    {
     "name": "stderr",
     "output_type": "stream",
     "text": [
      "\u001b[1m\u001b[22m`geom_smooth()` using formula = 'y ~ x'\n",
      "\u001b[1m\u001b[22m`geom_smooth()` using formula = 'y ~ x'\n"
     ]
    },
    {
     "data": {
      "text/html": [
       "<strong>png:</strong> 2"
      ],
      "text/latex": [
       "\\textbf{png:} 2"
      ],
      "text/markdown": [
       "**png:** 2"
      ],
      "text/plain": [
       "png \n",
       "  2 "
      ]
     },
     "metadata": {},
     "output_type": "display_data"
    }
   ],
   "source": [
    "pdf(file = \"/home/minghao/workbase/16_Tilapia_Cold_BulkRNA-ATAC_jiaohe/output/表型数据_plot/Phenotype_Curve.pdf\",width = 9,height = 4)\n",
    "p4 + p5\n",
    "dev.off()"
   ]
  },
  {
   "cell_type": "code",
   "execution_count": 543,
   "id": "ffe128bf",
   "metadata": {
    "ExecuteTime": {
     "end_time": "2024-03-07T06:08:28.350405Z",
     "start_time": "2024-03-07T06:08:29.999Z"
    },
    "hidden": true
   },
   "outputs": [],
   "source": [
    "temp <- data.frame(x = c('ct1','ct2','ct3','cd1','cd2','cd3'),\n",
    "          y = c(26.24671916,30.83989501,20.34120735,38.05774278,26.24671916,41.33858268),\n",
    "                  group = c(\"Ctrl\",\"Ctrl\",\"Ctrl\",\"Cold\",\"Cold\",\"Cold\"))\n",
    "temp$group <- factor(temp$group,levels = c(\"Ctrl\",\"Cold\"))"
   ]
  },
  {
   "cell_type": "code",
   "execution_count": 544,
   "id": "6dd84adb",
   "metadata": {
    "ExecuteTime": {
     "end_time": "2024-03-07T06:08:29.665778Z",
     "start_time": "2024-03-07T06:08:31.320Z"
    },
    "hidden": true
   },
   "outputs": [
    {
     "data": {
      "text/html": [
       "<table class=\"dataframe\">\n",
       "<caption>A data.frame: 2 × 3</caption>\n",
       "<thead>\n",
       "\t<tr><th></th><th scope=col>x</th><th scope=col>y</th><th scope=col>group</th></tr>\n",
       "\t<tr><th></th><th scope=col>&lt;chr&gt;</th><th scope=col>&lt;dbl&gt;</th><th scope=col>&lt;fct&gt;</th></tr>\n",
       "</thead>\n",
       "<tbody>\n",
       "\t<tr><th scope=row>1</th><td>ct1</td><td>26.24672</td><td>Ctrl</td></tr>\n",
       "\t<tr><th scope=row>2</th><td>ct2</td><td>30.83990</td><td>Ctrl</td></tr>\n",
       "</tbody>\n",
       "</table>\n"
      ],
      "text/latex": [
       "A data.frame: 2 × 3\n",
       "\\begin{tabular}{r|lll}\n",
       "  & x & y & group\\\\\n",
       "  & <chr> & <dbl> & <fct>\\\\\n",
       "\\hline\n",
       "\t1 & ct1 & 26.24672 & Ctrl\\\\\n",
       "\t2 & ct2 & 30.83990 & Ctrl\\\\\n",
       "\\end{tabular}\n"
      ],
      "text/markdown": [
       "\n",
       "A data.frame: 2 × 3\n",
       "\n",
       "| <!--/--> | x &lt;chr&gt; | y &lt;dbl&gt; | group &lt;fct&gt; |\n",
       "|---|---|---|---|\n",
       "| 1 | ct1 | 26.24672 | Ctrl |\n",
       "| 2 | ct2 | 30.83990 | Ctrl |\n",
       "\n"
      ],
      "text/plain": [
       "  x   y        group\n",
       "1 ct1 26.24672 Ctrl \n",
       "2 ct2 30.83990 Ctrl "
      ]
     },
     "metadata": {},
     "output_type": "display_data"
    }
   ],
   "source": [
    "head(temp,2)"
   ]
  },
  {
   "cell_type": "code",
   "execution_count": 570,
   "id": "ceced04f",
   "metadata": {
    "ExecuteTime": {
     "end_time": "2024-03-07T06:30:55.508059Z",
     "start_time": "2024-03-07T06:30:56.891Z"
    },
    "hidden": true,
    "scrolled": false
   },
   "outputs": [
    {
     "data": {
      "image/png": "[encoded data removed]",
      "text/plain": [
       "plot without title"
      ]
     },
     "metadata": {
      "image/png": {
       "height": 240,
       "width": 210
      }
     },
     "output_type": "display_data"
    }
   ],
   "source": [
    "options(repr.plot.width = 3.5,repr.plot.height = 4)\n",
    "Ferritin_plot <- ggplot(temp,aes(group,y,color=group,fill=group))+\n",
    "  geom_bar(stat=\"summary\",fun=mean,width = 0.7, color = \"black\",position = )+\n",
    "  geom_point(color = \"black\",fill=\"black\",size = 3,alpha=1,shape = 21)+ #position = 'jitter'\n",
    "  geom_errorbar(stat = \"summary\", fun.data = mean_se, width = 0.2, color = \"black\",size = 1)+\n",
    "  scale_x_discrete(limits = c(\"Ctrl\",\"Cold\")) +\n",
    "  scale_y_continuous(expand = c(0.0,0.1),limits = c(0,45)) +\n",
    "  scale_fill_manual(values = c(\"#D6AFB9\",\"#7E9BB7\")) +\n",
    "  theme_classic(base_size = 15) + \n",
    "  labs(x = NULL , y = \"Ferritin in serum (umol/l)\",color = NULL,fill = NULL) + \n",
    "  theme(axis.text = element_text(color = \"black\"))\n",
    "Ferritin_plot"
   ]
  },
  {
   "cell_type": "code",
   "execution_count": 618,
   "id": "e26f2d34",
   "metadata": {
    "ExecuteTime": {
     "end_time": "2024-03-07T07:02:08.681736Z",
     "start_time": "2024-03-07T07:02:10.348Z"
    },
    "hidden": true
   },
   "outputs": [
    {
     "data": {
      "text/plain": [
       "\n",
       "\tWelch Two Sample t-test\n",
       "\n",
       "data:  y by group\n",
       "t = -1.7104, df = 3.4737, p-value = 0.1731\n",
       "alternative hypothesis: true difference in means between group Ctrl and group Cold is not equal to 0\n",
       "95 percent confidence interval:\n",
       " -25.628578   6.818429\n",
       "sample estimates:\n",
       "mean in group Ctrl mean in group Cold \n",
       "          25.80927           35.21435 \n"
      ]
     },
     "metadata": {},
     "output_type": "display_data"
    }
   ],
   "source": [
    "t.test(y ~ group, data = temp)"
   ]
  },
  {
   "cell_type": "code",
   "execution_count": 564,
   "id": "f73dc9aa",
   "metadata": {
    "ExecuteTime": {
     "end_time": "2024-03-07T06:24:17.857724Z",
     "start_time": "2024-03-07T06:24:19.225Z"
    },
    "hidden": true
   },
   "outputs": [
    {
     "data": {
      "image/png": "[encoded data removed]",
      "text/plain": [
       "plot without title"
      ]
     },
     "metadata": {
      "image/png": {
       "height": 240,
       "width": 300
      }
     },
     "output_type": "display_data"
    }
   ],
   "source": [
    "ggplot(temp, aes(x = group, y = y, fill = group)) +\n",
    "  geom_bar(stat = \"summary\", fun = mean, width = 0.5, color = \"black\") +\n",
    "  geom_point(color = \"black\", fill = \"black\", size = 3, alpha = 1, shape = 21) +\n",
    "  geom_errorbar(stat = \"summary\", fun.data = mean_se, width = 0.2, color = \"black\", size = 1) +\n",
    "  scale_x_discrete(limits = c(\"Ctrl\", \"Cold\")) +\n",
    "  scale_y_continuous(expand = c(0.0, 0.1), limits = c(0, 50)) +\n",
    "  scale_fill_manual(values = c(\"#D6AFB9\", \"#7E9BB7\")) +\n",
    "  theme_classic(base_size = 15) +\n",
    "  labs(x = NULL, y = \"Ferritin in serum (umol/l)\", color = NULL, fill = NULL) +\n",
    "  theme(axis.text = element_text(color = \"black\")) +\n",
    "  ggsignif::geom_signif(comparisons = list(c(\"Ctrl\", \"Cold\")), test = \"t.test\",\n",
    "                        map_signif_level = TRUE,y_position = 45, tip_length = 0.1)"
   ]
  },
  {
   "cell_type": "code",
   "execution_count": 571,
   "id": "4a101656",
   "metadata": {
    "ExecuteTime": {
     "end_time": "2024-03-07T06:31:08.863278Z",
     "start_time": "2024-03-07T06:31:10.369Z"
    },
    "hidden": true,
    "scrolled": true
   },
   "outputs": [
    {
     "data": {
      "text/html": [
       "<strong>png:</strong> 2"
      ],
      "text/latex": [
       "\\textbf{png:} 2"
      ],
      "text/markdown": [
       "**png:** 2"
      ],
      "text/plain": [
       "png \n",
       "  2 "
      ]
     },
     "metadata": {},
     "output_type": "display_data"
    }
   ],
   "source": [
    "pdf(file = \"/home/minghao/workbase/16_Tilapia_Cold_BulkRNA-ATAC_jiaohe/output/表型数据_plot/Ferritin_barplot.pdf\",width = 3.5,height = 4)\n",
    "Ferritin_plot\n",
    "dev.off()"
   ]
  },
  {
   "cell_type": "code",
   "execution_count": 603,
   "id": "d01eabfc",
   "metadata": {
    "ExecuteTime": {
     "end_time": "2024-03-07T06:51:33.282549Z",
     "start_time": "2024-03-07T06:51:34.430Z"
    },
    "hidden": true
   },
   "outputs": [],
   "source": [
    "CAT <- data.frame(Temperature = c(\"Ctrl\",\"Ctrl\",\"Ctrl\",\"Cold\", \"Cold\",\"Cold\",\"Ctrl\",\"Ctrl\",\"Ctrl\",\"Cold\",\"Cold\",\"Cold\"),\n",
    "        Tissue = c(\"TH\", \"TH\",\"TH\", \"TH\",\"TH\", \"TH\", \"HK\", \"HK\", \"HK\", \"HK\", \"HK\", \"HK\"),\n",
    "        value = c(3.560011,3.30467,2.93045,3.904561,4.437935,3.2272,\n",
    "                    2.044445,3.55007 ,3.07890 ,3.43511,4.722056,4.56700)\n",
    "                 )"
   ]
  },
  {
   "cell_type": "code",
   "execution_count": 604,
   "id": "1162223c",
   "metadata": {
    "ExecuteTime": {
     "end_time": "2024-03-07T06:51:35.121223Z",
     "start_time": "2024-03-07T06:51:36.815Z"
    },
    "hidden": true
   },
   "outputs": [],
   "source": [
    "CAT$Temperature <- factor(CAT$Temperature,levels = c(\"Ctrl\",\"Cold\"))\n",
    "CAT$Tissue <- factor(CAT$Tissue,levels = c(\"TH\",\"HK\"))"
   ]
  },
  {
   "cell_type": "code",
   "execution_count": 621,
   "id": "ca00d7f8",
   "metadata": {
    "ExecuteTime": {
     "end_time": "2024-03-07T07:04:21.245068Z",
     "start_time": "2024-03-07T07:04:22.908Z"
    },
    "hidden": true
   },
   "outputs": [
    {
     "data": {
      "text/plain": [
       "\n",
       "\tWelch Two Sample t-test\n",
       "\n",
       "data:  value by Temperature\n",
       "t = -1.4969, df = 3.0141, p-value = 0.2309\n",
       "alternative hypothesis: true difference in means between group Ctrl and group Cold is not equal to 0\n",
       "95 percent confidence interval:\n",
       " -1.845797  0.662754\n",
       "sample estimates:\n",
       "mean in group Ctrl mean in group Cold \n",
       "          3.265044           3.856565 \n"
      ]
     },
     "metadata": {},
     "output_type": "display_data"
    },
    {
     "data": {
      "text/plain": [
       "\n",
       "\tWelch Two Sample t-test\n",
       "\n",
       "data:  value by Temperature\n",
       "t = -2.2434, df = 3.9667, p-value = 0.08885\n",
       "alternative hypothesis: true difference in means between group Ctrl and group Cold is not equal to 0\n",
       "95 percent confidence interval:\n",
       " -3.0268585  0.3263578\n",
       "sample estimates:\n",
       "mean in group Ctrl mean in group Cold \n",
       "          2.891138           4.241389 \n"
      ]
     },
     "metadata": {},
     "output_type": "display_data"
    }
   ],
   "source": [
    "t.test(value ~ Temperature, data = CAT[1:6,])#TH\n",
    "t.test(value ~ Temperature, data = CAT[7:12,])#HK"
   ]
  },
  {
   "cell_type": "code",
   "execution_count": 605,
   "id": "2f805464",
   "metadata": {
    "ExecuteTime": {
     "end_time": "2024-03-07T06:51:38.029935Z",
     "start_time": "2024-03-07T06:51:39.090Z"
    },
    "hidden": true,
    "scrolled": false
   },
   "outputs": [
    {
     "data": {
      "image/png": "[encoded data removed]",
      "text/plain": [
       "plot without title"
      ]
     },
     "metadata": {
      "image/png": {
       "height": 240,
       "width": 300
      }
     },
     "output_type": "display_data"
    }
   ],
   "source": [
    "options(repr.plot.width = 5,repr.plot.height = 4)\n",
    "CAT_plot <- ggplot(CAT,aes(Temperature,value,color=Temperature,fill=Temperature))+\n",
    "  geom_bar(stat=\"summary\",fun=mean,width = 0.7, color = \"black\")+\n",
    "  geom_point(color = \"black\",fill=\"black\",size = 3,alpha=1,shape = 21)+ #position = 'jitter'\n",
    "  facet_grid(~Tissue,scales = \"free\") +\n",
    "  geom_errorbar(stat = \"summary\", fun.data = mean_se, width = 0.2, color = \"black\",size = 1)+\n",
    "  #scale_x_discrete(limits = c(\"Ctrl\",\"Cold\")) +\n",
    "  scale_y_continuous(expand = c(0.0,0.1),limits = c(0,5.5)) +\n",
    "  scale_fill_manual(values = c(\"#D6AFB9\",\"#7E9BB7\")) +\n",
    "  theme_classic(base_size = 15) + \n",
    "  labs(x = NULL , y = \"CAT activity (U/mgprot)\",color = NULL,fill = NULL) + \n",
    "  theme(axis.text = element_text(color = \"black\"))\n",
    "CAT_plot"
   ]
  },
  {
   "cell_type": "code",
   "execution_count": 608,
   "id": "ab33ac1d",
   "metadata": {
    "ExecuteTime": {
     "end_time": "2024-03-07T06:52:04.634523Z",
     "start_time": "2024-03-07T06:52:06.065Z"
    },
    "hidden": true
   },
   "outputs": [
    {
     "data": {
      "text/html": [
       "<strong>png:</strong> 2"
      ],
      "text/latex": [
       "\\textbf{png:} 2"
      ],
      "text/markdown": [
       "**png:** 2"
      ],
      "text/plain": [
       "png \n",
       "  2 "
      ]
     },
     "metadata": {},
     "output_type": "display_data"
    }
   ],
   "source": [
    "pdf(file = \"/home/minghao/workbase/16_Tilapia_Cold_BulkRNA-ATAC_jiaohe/output/表型数据_plot/CAT_barplot.pdf\",width = 5,height = 4)\n",
    "CAT_plot\n",
    "dev.off()"
   ]
  },
  {
   "cell_type": "code",
   "execution_count": 609,
   "id": "64067797",
   "metadata": {
    "ExecuteTime": {
     "end_time": "2024-03-07T06:54:59.062243Z",
     "start_time": "2024-03-07T06:55:00.741Z"
    },
    "hidden": true
   },
   "outputs": [],
   "source": [
    "MDA <- data.frame(Temperature = c(\"Ctrl\",\"Ctrl\",\"Cold\",\"Cold\",\"Ctrl\",\"Ctrl\",\"Cold\",\"Cold\"),\n",
    "        Tissue = c(\"TH\", \"TH\",\"TH\",\"TH\",\"HK\",\"HK\",\"HK\",\"HK\"),\n",
    "        value = c(1.049033,0.998789,1.865498,1.50989,\n",
    "                    3.099917,4.74740,6.482635,4.912801))"
   ]
  },
  {
   "cell_type": "code",
   "execution_count": 610,
   "id": "d487c718",
   "metadata": {
    "ExecuteTime": {
     "end_time": "2024-03-07T06:55:17.727345Z",
     "start_time": "2024-03-07T06:55:19.411Z"
    },
    "hidden": true
   },
   "outputs": [],
   "source": [
    "MDA$Temperature <- factor(MDA$Temperature,levels = c(\"Ctrl\",\"Cold\"))\n",
    "MDA$Tissue <- factor(MDA$Tissue,levels = c(\"TH\",\"HK\"))"
   ]
  },
  {
   "cell_type": "code",
   "execution_count": 624,
   "id": "2d1214a6",
   "metadata": {
    "ExecuteTime": {
     "end_time": "2024-03-07T07:06:07.641813Z",
     "start_time": "2024-03-07T07:06:09.304Z"
    },
    "hidden": true
   },
   "outputs": [
    {
     "data": {
      "text/plain": [
       "\n",
       "\tWelch Two Sample t-test\n",
       "\n",
       "data:  value by Temperature\n",
       "t = -3.6965, df = 1.0399, p-value = 0.1606\n",
       "alternative hypothesis: true difference in means between group Ctrl and group Cold is not equal to 0\n",
       "95 percent confidence interval:\n",
       " -2.748564  1.420998\n",
       "sample estimates:\n",
       "mean in group Ctrl mean in group Cold \n",
       "          1.023911           1.687694 \n"
      ]
     },
     "metadata": {},
     "output_type": "display_data"
    },
    {
     "data": {
      "text/plain": [
       "\n",
       "\tWelch Two Sample t-test\n",
       "\n",
       "data:  value by Temperature\n",
       "t = -1.5592, df = 1.9954, p-value = 0.2596\n",
       "alternative hypothesis: true difference in means between group Ctrl and group Cold is not equal to 0\n",
       "95 percent confidence interval:\n",
       " -6.680658  3.132539\n",
       "sample estimates:\n",
       "mean in group Ctrl mean in group Cold \n",
       "          3.923659           5.697718 \n"
      ]
     },
     "metadata": {},
     "output_type": "display_data"
    }
   ],
   "source": [
    "t.test(value ~ Temperature, data = MDA[1:4,])#TH\n",
    "t.test(value ~ Temperature, data = MDA[5:8,])#HK"
   ]
  },
  {
   "cell_type": "code",
   "execution_count": 616,
   "id": "568ebe0f",
   "metadata": {
    "ExecuteTime": {
     "end_time": "2024-03-07T06:57:54.818318Z",
     "start_time": "2024-03-07T06:57:56.129Z"
    },
    "hidden": true
   },
   "outputs": [
    {
     "data": {
      "image/png": "[encoded data removed]",
      "text/plain": [
       "plot without title"
      ]
     },
     "metadata": {
      "image/png": {
       "height": 240,
       "width": 300
      }
     },
     "output_type": "display_data"
    }
   ],
   "source": [
    "options(repr.plot.width = 5,repr.plot.height = 4)\n",
    "MDA_plot <- ggplot(MDA,aes(Temperature,value,color=Temperature,fill=Temperature))+\n",
    "  geom_bar(stat=\"summary\",fun=mean,width = 0.7, color = \"black\")+\n",
    "  geom_point(color = \"black\",fill=\"black\",size = 3,alpha=1,shape = 21)+ #position = 'jitter'\n",
    "  facet_grid(~Tissue,scales = \"free\") +\n",
    "  geom_errorbar(stat = \"summary\", fun.data = mean_se, width = 0.2, color = \"black\",size = 1)+\n",
    "  #scale_x_discrete(limits = c(\"Ctrl\",\"Cold\")) +\n",
    "  scale_y_continuous(expand = c(0.0,0.1),limits = c(0,7.5)) +\n",
    "  scale_fill_manual(values = c(\"#D6AFB9\",\"#7E9BB7\")) +\n",
    "  theme_classic(base_size = 15) + \n",
    "  labs(x = NULL , y = \"CAT activity (U/mgprot)\",color = NULL,fill = NULL) + \n",
    "  theme(axis.text = element_text(color = \"black\"))\n",
    "MDA_plot"
   ]
  },
  {
   "cell_type": "code",
   "execution_count": 617,
   "id": "fd705211",
   "metadata": {
    "ExecuteTime": {
     "end_time": "2024-03-07T06:58:19.847137Z",
     "start_time": "2024-03-07T06:58:21.264Z"
    },
    "hidden": true
   },
   "outputs": [
    {
     "data": {
      "text/html": [
       "<strong>png:</strong> 2"
      ],
      "text/latex": [
       "\\textbf{png:} 2"
      ],
      "text/markdown": [
       "**png:** 2"
      ],
      "text/plain": [
       "png \n",
       "  2 "
      ]
     },
     "metadata": {},
     "output_type": "display_data"
    }
   ],
   "source": [
    "pdf(file = \"/home/minghao/workbase/16_Tilapia_Cold_BulkRNA-ATAC_jiaohe/output/表型数据_plot/MDA_barplot.pdf\",width = 5,height = 4)\n",
    "MDA_plot\n",
    "dev.off()"
   ]
  },
  {
   "cell_type": "code",
   "execution_count": null,
   "id": "6f9475dd",
   "metadata": {
    "hidden": true
   },
   "outputs": [],
   "source": []
  },
  {
   "cell_type": "markdown",
   "id": "35bc7cd8",
   "metadata": {},
   "source": [
    "## 1.7 Heatmap"
   ]
  },
  {
   "cell_type": "code",
   "execution_count": null,
   "id": "380c9bec",
   "metadata": {},
   "outputs": [],
   "source": [
    "library(ComplexHeatmap)"
   ]
  },
  {
   "cell_type": "code",
   "execution_count": null,
   "id": "fb1193ca",
   "metadata": {},
   "outputs": [],
   "source": [
    "DEGs <- DEG.RNA_2 %>% filter(tissue != \"SP\") %>% .$gene %>% unique"
   ]
  },
  {
   "cell_type": "code",
   "execution_count": null,
   "id": "ea613b1a",
   "metadata": {},
   "outputs": [],
   "source": [
    "BulkRNA_df2 <- BulkRNA_df[,grep(names(BulkRNA_df),pattern = \"SP\",invert = T)] %>% dplyr::select(7:9,1:3,10:12,4:6)"
   ]
  },
  {
   "cell_type": "code",
   "execution_count": null,
   "id": "978ae9ee",
   "metadata": {},
   "outputs": [],
   "source": [
    "scale_row <- function(x){\n",
    "    m = apply(x, 1, mean, na.rm = T)\n",
    "    s = apply(x, 1, sd, na.rm = T)\n",
    "    return((x - m) / s)\n",
    "}"
   ]
  },
  {
   "cell_type": "code",
   "execution_count": null,
   "id": "eae4305c",
   "metadata": {},
   "outputs": [],
   "source": [
    "BulkRNA_df.scale <- BulkRNA_df2[DEGs,] %>% na.omit\n",
    "BulkRNA_df.scale[,1:6] <- scale_row(BulkRNA_df.scale[,1:6])\n",
    "BulkRNA_df.scale[,7:12] <- scale_row(BulkRNA_df.scale[,7:12])"
   ]
  },
  {
   "cell_type": "code",
   "execution_count": null,
   "id": "a0d4c709",
   "metadata": {},
   "outputs": [],
   "source": [
    "BulkRNA_df.scale2 <- BulkRNA_df.scale[complete.cases(BulkRNA_df.scale), ]"
   ]
  },
  {
   "cell_type": "code",
   "execution_count": null,
   "id": "11594030",
   "metadata": {},
   "outputs": [],
   "source": [
    "mat <- vst(dds, blind=FALSE) %>% assay\n",
    "mat2 <- mat[,grep(names(mat),pattern = \"SP\",invert = T)]\n",
    "mat2 <- mat2[,c(7:9,1:3,10:12,4:6)]"
   ]
  },
  {
   "cell_type": "code",
   "execution_count": null,
   "id": "b31a331d",
   "metadata": {},
   "outputs": [],
   "source": [
    "mat2.scale <- mat2[DEGs,]\n",
    "mat2.scale[,1:6] <- scale_row(mat2.scale[,1:6])\n",
    "mat2.scale[,7:12] <- scale_row(mat2.scale[,7:12])"
   ]
  },
  {
   "cell_type": "code",
   "execution_count": null,
   "id": "0308b7cb",
   "metadata": {},
   "outputs": [],
   "source": [
    "mat2.scale2 <- mat2.scale[complete.cases(mat2.scale), ]"
   ]
  },
  {
   "cell_type": "code",
   "execution_count": null,
   "id": "4680184d",
   "metadata": {},
   "outputs": [],
   "source": [
    "vst.heatmap <- Heatmap(mat2.scale2,\n",
    "        col = colorRampPalette(c(\"navy\",\"white\",\"firebrick3\"))(100),\n",
    "        clustering_distance_rows = function(m) dist(m),\n",
    "        clustering_method_rows = \"ward.D2\",\n",
    "        row_km = 3,\n",
    "        use_raster = TRUE,\n",
    "        border = TRUE,\n",
    "        column_split = factor( rep(c(\"HK\",\"TH\"), each = 6)),\n",
    "        heatmap_legend_param = list(\n",
    "             title='Z score',\n",
    "             title_gp = gpar(fontsize = 14),\n",
    "             labels_gp = gpar(fontsize = 14),\n",
    "             border='black'),\n",
    "        show_row_names = FALSE)\n",
    "vst.heatmap2 <- draw(vst.heatmap)"
   ]
  },
  {
   "cell_type": "code",
   "execution_count": null,
   "id": "6e5ea8d1",
   "metadata": {},
   "outputs": [],
   "source": [
    "cluster_gene <- do.call(rbind, lapply(names( row_order(vst.heatmap2) ) , function(name) {\n",
    "      data.frame(cluster = name, gene = rownames(mat2.scale2)[ row_order(vst.heatmap2)[[name]] ], stringsAsFactors = FALSE)\n",
    "}))"
   ]
  },
  {
   "cell_type": "code",
   "execution_count": null,
   "id": "3724467f",
   "metadata": {},
   "outputs": [],
   "source": [
    "saveRDS(mat2.scale2[cluster_gene$gene,],\n",
    "      \"/home/minghao/workbase/16_Tilapia_Cold_BulkRNA-ATAC_jiaohe/output/Bulk_RNA_output/20240308_ZMH_Fig1_Heatmap_matrix.rds\")"
   ]
  },
  {
   "cell_type": "code",
   "execution_count": null,
   "id": "8c7c124c",
   "metadata": {},
   "outputs": [],
   "source": [
    "#table(cluster_gene$gene) 获取row_cluster相关信息\n",
    "row_cluster <- c( rep(\"cluster3\",times = 932),\n",
    "  rep(\"cluster2\",times = 3317),\n",
    "  rep(\"cluster1\",times = 3611))\n",
    "row_cluster <- factor(row_cluster,levels = c(\"cluster1\",\"cluster2\",\"cluster3\"))"
   ]
  },
  {
   "cell_type": "code",
   "execution_count": null,
   "id": "cc0302e7",
   "metadata": {},
   "outputs": [],
   "source": [
    "temp <- mat2.scale2[cluster_gene$gene,]"
   ]
  },
  {
   "cell_type": "code",
   "execution_count": null,
   "id": "4aa7fae1",
   "metadata": {},
   "outputs": [],
   "source": [
    "vst.heatmapc <- Heatmap(temp,cluster_row_slices = FALSE,\n",
    "        col = colorRampPalette(c(\"#1C86EE\",\"white\",\"#FF4500\"))(100),\n",
    "        cluster_columns = F,              \n",
    "        clustering_distance_rows = function(m) dist(m),\n",
    "        clustering_method_rows = \"ward.D2\",\n",
    "        #row_km = 5,\n",
    "        use_raster = TRUE,\n",
    "        border = TRUE,\n",
    "        row_split = row_cluster,\n",
    "        column_split = factor( rep(c(\"HK\",\"TH\"), each = 6)),\n",
    "        heatmap_legend_param = list(\n",
    "             title='Z score',\n",
    "             title_gp = gpar(fontsize = 14),\n",
    "             labels_gp = gpar(fontsize = 14),\n",
    "             border='black'),\n",
    "        show_row_names = FALSE,\n",
    "                        width = unit(10, \"cm\"),\n",
    "        height = unit(16, \"cm\"),\n",
    "         show_column_dend = FALSE,\n",
    "        column_names_rot = 45)\n",
    "vst.heatmap2c <- draw(vst.heatmapc)\n"
   ]
  },
  {
   "cell_type": "code",
   "execution_count": null,
   "id": "4d73e58a",
   "metadata": {},
   "outputs": [],
   "source": [
    "pdf(\"heatmap6.pdf\", width = 5, height = 13)\n",
    "vst.heatmap2c\n",
    "dev.off()"
   ]
  },
  {
   "cell_type": "code",
   "execution_count": null,
   "id": "b1843aa7",
   "metadata": {},
   "outputs": [],
   "source": [
    "cluster_gene2 <- cluster_gene %>% group_by(gene) %>% left_join(geneID_name,by = \"gene\") %>% distinct()"
   ]
  },
  {
   "cell_type": "code",
   "execution_count": null,
   "id": "53a72a79",
   "metadata": {},
   "outputs": [],
   "source": [
    "saveRDS(vst.heatmap2,\"/home/minghao/workbase_jinagbo/RNA_vst_heatmap.rds\")"
   ]
  },
  {
   "cell_type": "code",
   "execution_count": null,
   "id": "7c88be91",
   "metadata": {},
   "outputs": [],
   "source": [
    "openxlsx::write.xlsx(cluster_gene2,\n",
    "                     \"/home/minghao/workbase_jinagbo/Heatmap_clustergenes.xlsx\")"
   ]
  },
  {
   "cell_type": "markdown",
   "id": "d4d2aa27",
   "metadata": {
    "heading_collapsed": true
   },
   "source": [
    "## 1.8 barplot"
   ]
  },
  {
   "cell_type": "code",
   "execution_count": 3,
   "id": "6bc25b42",
   "metadata": {
    "ExecuteTime": {
     "end_time": "2024-03-26T02:04:36.542090Z",
     "start_time": "2024-03-26T02:04:35.975Z"
    },
    "hidden": true
   },
   "outputs": [],
   "source": [
    "TPM <- read.table(\"/home/songqian/Project/Tilapia_Immune/0.RNA/4.count/Tilapia_tpm.xls\",header=TRUE,row.names=1,sep=\"\\t\",check.names = F)"
   ]
  },
  {
   "cell_type": "code",
   "execution_count": 27,
   "id": "d8236d2f",
   "metadata": {
    "ExecuteTime": {
     "end_time": "2024-03-26T02:17:25.271350Z",
     "start_time": "2024-03-26T02:17:24.435Z"
    },
    "hidden": true
   },
   "outputs": [],
   "source": [
    "library(ggplot2)"
   ]
  },
  {
   "cell_type": "code",
   "execution_count": 47,
   "id": "215fcbf0",
   "metadata": {
    "ExecuteTime": {
     "end_time": "2024-03-26T02:31:01.324472Z",
     "start_time": "2024-03-26T02:31:01.511Z"
    },
    "hidden": true
   },
   "outputs": [],
   "source": [
    "barplot <- function(gene,gene_name = \"gene_name\"){\n",
    "    require(\"ggplot2\")\n",
    "    require(\"dplyr\")\n",
    "    plot <- TPM %>% tibble::rownames_to_column(var = \"gene\") %>% reshape2::melt() %>% dplyr::rename(\"tissue\" = variable) %>% \n",
    "                mutate(group = gsub(\"[1-9]$\",\"\",tissue)) %>% filter(gene == \"ENSONIG00000038739\") %>% \n",
    "                ggplot(aes(x = group,y = value,color = group,fill = group)) + \n",
    "                    geom_point(color = \"black\",fill=\"black\",size = 1,alpha=1,shape = 21)+ \n",
    "                    geom_bar(stat = \"summary\",fun=mean) +\n",
    "                    geom_errorbar(stat = \"summary\", fun.data = mean_se, width = 0.3, color = \"black\",size = 1.5)+\n",
    "                    theme_classic(base_size = 15,\n",
    "                                  base_line_size = 0.8)+\n",
    "                    #facet_grid(~tissue,scales = 'free')+\n",
    "                    scale_fill_manual(values = c(\"#D6AFB9\", \"#7E9BB7\",\"#D6AFB9\", \"#7E9BB7\",\"#D6AFB9\", \"#7E9BB7\"))+\n",
    "                    scale_color_manual(values = c(\"#D6AFB9\", \"#7E9BB7\",\"#D6AFB9\", \"#7E9BB7\",\"#D6AFB9\", \"#7E9BB7\"))+\n",
    "                    ggtitle(gene_name) + xlab(\"\") + ylab(\"\") +\n",
    "                    theme(legend.position = \"none\",plot.title = element_text(hjust = .5,face = \"italic\"),\n",
    "                          axis.text.y = element_text(colour = \"black\"),\n",
    "                          axis.text.x = element_text(angle = 45,hjust = 1,vjust = 1,colour = \"black\"))+\n",
    "                    theme(panel.spacing = unit(1, \"cm\"))\n",
    "    return(plot)\n",
    "}"
   ]
  },
  {
   "cell_type": "code",
   "execution_count": 48,
   "id": "740e17ee",
   "metadata": {
    "ExecuteTime": {
     "end_time": "2024-03-26T02:31:03.298546Z",
     "start_time": "2024-03-26T02:31:01.832Z"
    },
    "hidden": true,
    "scrolled": true
   },
   "outputs": [
    {
     "name": "stderr",
     "output_type": "stream",
     "text": [
      "Using gene as id variables\n",
      "\n"
     ]
    },
    {
     "data": {
      "image/png": "[encoded data removed]",
      "text/plain": [
       "plot without title"
      ]
     },
     "metadata": {
      "image/png": {
       "height": 240,
       "width": 240
      }
     },
     "output_type": "display_data"
    }
   ],
   "source": [
    "options(repr.plot.width = 4, repr.plot.height = 4)\n",
    "barplot(gene = \"ENSONIG00000013292\",gene_name = \"foxo3b\")"
   ]
  },
  {
   "cell_type": "code",
   "execution_count": null,
   "id": "07affa0b",
   "metadata": {
    "hidden": true
   },
   "outputs": [],
   "source": []
  },
  {
   "cell_type": "markdown",
   "id": "8a6e7f10",
   "metadata": {
    "heading_collapsed": true
   },
   "source": [
    "## 1.9 TF enrichment"
   ]
  },
  {
   "cell_type": "code",
   "execution_count": null,
   "id": "2101f152",
   "metadata": {
    "hidden": true
   },
   "outputs": [],
   "source": [
    "#From biomart\n",
    "TF_fam <- read.table(\"/home/minghao/workbase/16_Tilapia_Cold_BulkRNA-ATAC_jiaohe/TF_family/Oreochromis_niloticus_TF.txt\",\n",
    "                     sep = \"\\t\",header = TRUE)"
   ]
  },
  {
   "cell_type": "code",
   "execution_count": null,
   "id": "e7193c34",
   "metadata": {
    "hidden": true
   },
   "outputs": [],
   "source": [
    "TF_fam_2 <- TF_fam[,c(3,4)] %>% distinct() %>% arrange(Family) %>% dplyr::select(term = Family,gene = Ensembl)"
   ]
  },
  {
   "cell_type": "code",
   "execution_count": null,
   "id": "848b54c7",
   "metadata": {
    "hidden": true
   },
   "outputs": [],
   "source": [
    "library(clusterProfiler)"
   ]
  },
  {
   "cell_type": "code",
   "execution_count": null,
   "id": "f4f80141",
   "metadata": {
    "hidden": true
   },
   "outputs": [],
   "source": [
    "lapply(split(cluster_gene$gene,f = cluster_gene$cluster) ,function(genes){\n",
    "    genes2 <- genes[genes %in% TF_fam_2$gene]#挑选是TF的DEGs\n",
    "    print(c(\"TF Num :\",length(genes2)))\n",
    "    res <- enricher(gene = genes2,TERM2GENE = TF_fam_2,pAdjustMethod = \"BH\",minGSSize = 3)\n",
    "    return(res)\n",
    "}) -> TF_enrich_res\n",
    "\n",
    "names(TF_enrich_res) <- paste(\"cluster\",names(split(cluster_gene$gene,f = cluster_gene$cluster)),sep = \"\")"
   ]
  },
  {
   "cell_type": "code",
   "execution_count": null,
   "id": "0dada776",
   "metadata": {
    "hidden": true
   },
   "outputs": [],
   "source": [
    "lapply(names(TF_enrich_res),function(x){\n",
    "    x2 <- TF_enrich_res[[x]]@result\n",
    "    x2$cluster <- x\n",
    "    return(x2)\n",
    "}) -> TF_enrich_res_list\n",
    "TF_enrich_res_df <- do.call(rbind,TF_enrich_res_list)"
   ]
  },
  {
   "cell_type": "code",
   "execution_count": null,
   "id": "84b2d228",
   "metadata": {
    "hidden": true
   },
   "outputs": [],
   "source": [
    "openxlsx::write.xlsx(TF_enrich_res_df,\n",
    "                     \"BulkRNA_TF_enrichment.xlsx\")"
   ]
  },
  {
   "cell_type": "code",
   "execution_count": null,
   "id": "db0b2794",
   "metadata": {
    "hidden": true
   },
   "outputs": [],
   "source": [
    "TF_enrich_res_df_filter <- TF_enrich_res_df %>% \n",
    "    filter(p.adjust < 0.05) %>% group_by(cluster) %>% \n",
    "    arrange(p.adjust,.by_group = TRUE) %>% ungroup"
   ]
  },
  {
   "cell_type": "code",
   "execution_count": null,
   "id": "a2a76100",
   "metadata": {
    "hidden": true
   },
   "outputs": [],
   "source": [
    "openxlsx::write.xlsx(TF_enrich_res_df_filter,\n",
    "                     \"BulkRNA_TF_enrichment_filter.xlsx\")"
   ]
  },
  {
   "cell_type": "code",
   "execution_count": null,
   "id": "7d9334da",
   "metadata": {
    "hidden": true
   },
   "outputs": [],
   "source": []
  },
  {
   "cell_type": "code",
   "execution_count": null,
   "id": "dd0ae088",
   "metadata": {
    "hidden": true
   },
   "outputs": [],
   "source": []
  },
  {
   "cell_type": "code",
   "execution_count": null,
   "id": "e0f670fc",
   "metadata": {
    "hidden": true
   },
   "outputs": [],
   "source": []
  },
  {
   "cell_type": "code",
   "execution_count": null,
   "id": "1bf0cff7",
   "metadata": {
    "hidden": true
   },
   "outputs": [],
   "source": []
  },
  {
   "cell_type": "markdown",
   "id": "31344b29",
   "metadata": {
    "heading_collapsed": true
   },
   "source": [
    "## 1.10 GO enrichment"
   ]
  },
  {
   "cell_type": "code",
   "execution_count": null,
   "id": "0ccb9d1b",
   "metadata": {
    "hidden": true
   },
   "outputs": [],
   "source": [
    "#GO_KEGG富集分析相关函数\n",
    "enrichment_stat_go = function(bl,il) {\n",
    "#  gos <- gene_go2\n",
    "#  go_des <- go_des\n",
    "  gos.bl <- gos[gos$gene %in% bl,]\n",
    "  gos.il <- gos[gos$gene %in% il,]\n",
    "  gos.bl.stat <- gos.bl %>% group_by(GO) %>% dplyr::summarise(GeneNumber=n()) %>% ungroup\n",
    "  gos.il.stat <- gos.il %>% group_by(GO) %>% dplyr::summarise(GeneNumber=n()) %>% ungroup\n",
    "  list.df <- gos.bl.stat %>% group_by(GO) %>% left_join(gos.il.stat,by=\"GO\") %>% ungroup\n",
    "  list.df[is.na(list.df)] <- 0\n",
    "  names(list.df) <- c(\"GO\",\"k\",\"x\")#k:bl x:il\n",
    "  list.df$m = as.numeric(length(unique(sort(gos.il$gene))))\n",
    "  list.df$n = as.numeric(length(unique(sort(gos.bl$gene))))-list.df$k\n",
    "  list.df$Pvalue <- apply(list.df[,-1],1,FUN=function(x) {phyper(x[2]-1,x[1],x[4],x[3],lower.tail=F)})\n",
    "  # if (id == \"go\"){\n",
    "  #   list <- list[list$class == \"biological_process\" & list$k >= 10,]\n",
    "  # }\n",
    "  \n",
    "  #list$p.adjust <- p.adjust(list$Pvalue,method=\"fdr\",n=length(list$Pvalue))\n",
    "  list.df <- list.df[order(list.df$Pvalue,decreasing=F),]\n",
    "  list.df$fold = list.df$x*(list.df$n+list.df$k)/list.df$m/list.df$k ## should add fold enrichment value\n",
    "  list.1 <- list.df %>% group_by(GO) %>% left_join(go_des,by=\"GO\") %>% ungroup\n",
    "  list.1 <- list.1[list.1$k>=10 & list.1$x>=3,]\n",
    "  list.1$p.adjust <- p.adjust(list.1$Pvalue,method=\"fdr\",n=length(list.1$Pvalue))\n",
    "  list.1 <- list.1[list.1$Pvalue < 0.05,]\n",
    "  list.1\n",
    "}\n",
    "\n",
    "enrichment_stat_kegg = function(bl,il) {\n",
    "#  keggs <- keggs\n",
    "#  kegg_des <- kegg_des\n",
    "  \n",
    "  keggs.bl <- keggs[keggs$gene %in% bl,]\n",
    "  keggs.il <- keggs[keggs$gene %in% il,]\n",
    "  keggs.bl.stat <- keggs.bl %>% group_by(kegg) %>% dplyr::summarise(GeneNumber=n()) %>% ungroup\n",
    "  keggs.il.stat <- keggs.il %>% group_by(kegg) %>% dplyr::summarise(GeneNumber=n()) %>% ungroup\n",
    "  list.df <- keggs.bl.stat %>% group_by(kegg) %>% left_join(keggs.il.stat,by=\"kegg\") %>% ungroup\n",
    "  list.df[is.na(list.df)]<-0\n",
    "  names(list.df) <- c(\"kegg\",\"k\",\"x\")\n",
    "  list.df$m = as.numeric(length(unique(sort(keggs.il$gene))))\n",
    "  list.df$n = as.numeric(length(unique(sort(keggs.bl$gene))))-list.df$k\n",
    "  list.df$Pvalue <- apply(list.df[,-1],1,FUN=function(x) {phyper(x[2]-1,x[1],x[4],x[3],lower.tail=F)})\n",
    "  # if (id == \"kegg\"){\n",
    "  #   list <- list[list$class == \"biological_process\" & list$k >= 10,]\n",
    "  # }\n",
    "  \n",
    "  #list.df$p.adjust <- p.adjust(list.df$Pvalue,method=\"fdr\",n=length(list.df$Pvalue))\n",
    "  list.df <- list.df[order(list.df$Pvalue,decreasing=F),]\n",
    "  list.df$fold = list.df$x*(list.df$n+list.df$k)/list.df$m/list.df$k ## should add fold enrichment value\n",
    "  list.1 <- list.df %>% group_by(kegg) %>% left_join(kegg_des,by=\"kegg\") %>% ungroup\n",
    "  list.1 <- list.1[list.1$k>=10 & list.1$x>=2,]\n",
    "  list.1$p.adjust <- p.adjust(list.1$Pvalue,method=\"fdr\",n=length(list.1$Pvalue))\n",
    "  list.1 <- list.1[list.1$Pvalue < 0.05,]\n",
    "  list.1\n",
    "}"
   ]
  },
  {
   "cell_type": "code",
   "execution_count": null,
   "id": "98ad98e7",
   "metadata": {
    "hidden": true
   },
   "outputs": [],
   "source": [
    "load(\"/home/minghao/database/KEGG_KO_database/02_niletilapia/01_enrichment_gos_keggs/go_info.RData\")\n",
    "load(\"/home/minghao/database/KEGG_KO_database/02_niletilapia/01_enrichment_gos_keggs/kegg_info.RData\")"
   ]
  },
  {
   "cell_type": "code",
   "execution_count": null,
   "id": "100c97dd",
   "metadata": {
    "hidden": true
   },
   "outputs": [],
   "source": [
    "lapply(split(cluster_gene$gene,f = cluster_gene$cluster),function(x){\n",
    "    GO_res <- enrichment_stat_go(bl = rownames(mat2),il = x)\n",
    "    return(GO_res)\n",
    "}) -> GO_res"
   ]
  },
  {
   "cell_type": "code",
   "execution_count": null,
   "id": "8dac1413",
   "metadata": {
    "hidden": true
   },
   "outputs": [],
   "source": [
    "names(GO_res) <- paste(\"cluster\",names(split(cluster_gene$gene,f = cluster_gene$cluster)),sep = \"\")"
   ]
  },
  {
   "cell_type": "code",
   "execution_count": null,
   "id": "d5910d05",
   "metadata": {
    "hidden": true
   },
   "outputs": [],
   "source": [
    "openxlsx::write.xlsx(GO_res,\n",
    "                     \"/home/minghao/workbase_jinagbo/Heatmap_cluster_gene_GO.xlsx\")"
   ]
  },
  {
   "cell_type": "code",
   "execution_count": null,
   "id": "64a3ba4b",
   "metadata": {
    "hidden": true
   },
   "outputs": [],
   "source": [
    "head(geneID_name)\n",
    "geneID_name_uniq <- geneID_name %>% group_by(gene) %>% dplyr::slice(1) %>% ungroup\n",
    "head(geneID_name_uniq)"
   ]
  },
  {
   "cell_type": "code",
   "execution_count": null,
   "id": "0504978f",
   "metadata": {
    "hidden": true
   },
   "outputs": [],
   "source": [
    "library(dplyr)\n",
    "lapply(split(cluster_gene$gene,f = cluster_gene$cluster),function(x){\n",
    "    GO_res <- enrichment_stat_go(bl = rownames(mat2),il = x)\n",
    "    \n",
    "    gos2 <- gos %>% group_by(gene)  %>% left_join(geneID_name_uniq,by = \"gene\") %>% ungroup\n",
    "    \n",
    "    GO_gene <- gos2[gos2$gene %in% x,] %>% group_by(GO) %>% summarise(gene = paste(gene,collapse = \"/\"),\n",
    "                                                                      Gene.name = paste(Gene.name,collapse = \"/\"),\n",
    "                                                                      eggnog_Preferred_name = paste(eggnog_Preferred_name,collapse = \"/\")\n",
    "                                                                     ) %>% ungroup\n",
    "    \n",
    "    GO_res2 <- GO_res %>% left_join(GO_gene,by = \"GO\")\n",
    "    return(GO_res2)\n",
    "}) -> GO_res"
   ]
  },
  {
   "cell_type": "code",
   "execution_count": null,
   "id": "e657d2f0",
   "metadata": {
    "hidden": true
   },
   "outputs": [],
   "source": [
    "names(GO_res) <- paste(\"cluster\",names(split(cluster_gene$gene,f = cluster_gene$cluster)),sep = \"\")"
   ]
  },
  {
   "cell_type": "code",
   "execution_count": null,
   "id": "0f533d99",
   "metadata": {
    "hidden": true
   },
   "outputs": [],
   "source": [
    "openxlsx::write.xlsx(GO_res,\n",
    "                     \"Heatmap_cluster_gene_GO.xlsx\")"
   ]
  },
  {
   "cell_type": "code",
   "execution_count": null,
   "id": "4c3b9848",
   "metadata": {
    "hidden": true
   },
   "outputs": [],
   "source": []
  },
  {
   "cell_type": "code",
   "execution_count": null,
   "id": "ed96eca8",
   "metadata": {
    "hidden": true
   },
   "outputs": [],
   "source": []
  },
  {
   "cell_type": "code",
   "execution_count": null,
   "id": "270cb75e",
   "metadata": {
    "hidden": true
   },
   "outputs": [],
   "source": []
  },
  {
   "cell_type": "markdown",
   "id": "3908aa4f",
   "metadata": {},
   "source": [
    "## 1.11 sizeFactor\n",
    "**Generating BW files.**"
   ]
  },
  {
   "cell_type": "code",
   "execution_count": 374,
   "id": "ff190ed8",
   "metadata": {
    "ExecuteTime": {
     "end_time": "2024-03-06T10:24:49.626091Z",
     "start_time": "2024-03-06T10:24:50.275Z"
    }
   },
   "outputs": [],
   "source": [
    "library(edgeR)"
   ]
  },
  {
   "cell_type": "code",
   "execution_count": 376,
   "id": "4e108dd8",
   "metadata": {
    "ExecuteTime": {
     "end_time": "2024-03-06T10:25:04.522919Z",
     "start_time": "2024-03-06T10:25:05.153Z"
    }
   },
   "outputs": [
    {
     "data": {
      "text/html": [
       "<table class=\"dataframe\">\n",
       "<caption>A data.frame: 6 × 18</caption>\n",
       "<thead>\n",
       "\t<tr><th></th><th scope=col>Cold_HK1</th><th scope=col>Cold_HK2</th><th scope=col>Cold_HK3</th><th scope=col>Cold_SP1</th><th scope=col>Cold_SP2</th><th scope=col>Cold_SP3</th><th scope=col>Cold_TH1</th><th scope=col>Cold_TH2</th><th scope=col>Cold_TH3</th><th scope=col>Ctrl_HK1</th><th scope=col>Ctrl_HK2</th><th scope=col>Ctrl_HK3</th><th scope=col>Ctrl_SP1</th><th scope=col>Ctrl_SP2</th><th scope=col>Ctrl_SP3</th><th scope=col>Ctrl_TH1</th><th scope=col>Ctrl_TH2</th><th scope=col>Ctrl_TH3</th></tr>\n",
       "\t<tr><th></th><th scope=col>&lt;dbl&gt;</th><th scope=col>&lt;dbl&gt;</th><th scope=col>&lt;dbl&gt;</th><th scope=col>&lt;dbl&gt;</th><th scope=col>&lt;dbl&gt;</th><th scope=col>&lt;dbl&gt;</th><th scope=col>&lt;dbl&gt;</th><th scope=col>&lt;dbl&gt;</th><th scope=col>&lt;dbl&gt;</th><th scope=col>&lt;dbl&gt;</th><th scope=col>&lt;dbl&gt;</th><th scope=col>&lt;dbl&gt;</th><th scope=col>&lt;dbl&gt;</th><th scope=col>&lt;dbl&gt;</th><th scope=col>&lt;dbl&gt;</th><th scope=col>&lt;dbl&gt;</th><th scope=col>&lt;dbl&gt;</th><th scope=col>&lt;dbl&gt;</th></tr>\n",
       "</thead>\n",
       "<tbody>\n",
       "\t<tr><th scope=row>ENSONIG00000018423</th><td>37</td><td>42</td><td>36</td><td>304</td><td>364</td><td>281</td><td>21</td><td>22</td><td>40</td><td>16</td><td> 97</td><td>19</td><td>271</td><td>59</td><td>403</td><td>34</td><td> 38</td><td>20</td></tr>\n",
       "\t<tr><th scope=row>ENSONIG00000032772</th><td> 0</td><td> 3</td><td> 1</td><td>  5</td><td>  4</td><td>  3</td><td> 4</td><td> 3</td><td> 5</td><td> 0</td><td>  4</td><td> 0</td><td>  5</td><td> 5</td><td> 15</td><td> 3</td><td>  1</td><td> 1</td></tr>\n",
       "\t<tr><th scope=row>ENSONIG00000007536</th><td> 0</td><td> 1</td><td> 0</td><td>  1</td><td>  1</td><td>  0</td><td> 0</td><td> 0</td><td> 0</td><td> 0</td><td>  0</td><td> 0</td><td>  0</td><td> 0</td><td>  4</td><td> 0</td><td>  0</td><td> 0</td></tr>\n",
       "\t<tr><th scope=row>ENSONIG00000029674</th><td> 0</td><td> 0</td><td> 1</td><td>  0</td><td>  1</td><td>  0</td><td> 1</td><td> 0</td><td> 0</td><td> 0</td><td>  0</td><td> 0</td><td>  0</td><td> 1</td><td>  1</td><td> 4</td><td>  2</td><td> 0</td></tr>\n",
       "\t<tr><th scope=row>ENSONIG00000032019</th><td> 1</td><td> 0</td><td> 1</td><td>  0</td><td>  0</td><td>  2</td><td> 0</td><td> 1</td><td> 0</td><td> 0</td><td>  2</td><td> 0</td><td>  0</td><td> 0</td><td>  4</td><td> 4</td><td>  5</td><td> 0</td></tr>\n",
       "\t<tr><th scope=row>ENSONIG00000033498</th><td>59</td><td>60</td><td>49</td><td> 51</td><td> 75</td><td> 39</td><td>48</td><td>49</td><td>92</td><td>13</td><td>100</td><td>14</td><td> 85</td><td>69</td><td>385</td><td>88</td><td>122</td><td>94</td></tr>\n",
       "</tbody>\n",
       "</table>\n"
      ],
      "text/latex": [
       "A data.frame: 6 × 18\n",
       "\\begin{tabular}{r|llllllllllllllllll}\n",
       "  & Cold\\_HK1 & Cold\\_HK2 & Cold\\_HK3 & Cold\\_SP1 & Cold\\_SP2 & Cold\\_SP3 & Cold\\_TH1 & Cold\\_TH2 & Cold\\_TH3 & Ctrl\\_HK1 & Ctrl\\_HK2 & Ctrl\\_HK3 & Ctrl\\_SP1 & Ctrl\\_SP2 & Ctrl\\_SP3 & Ctrl\\_TH1 & Ctrl\\_TH2 & Ctrl\\_TH3\\\\\n",
       "  & <dbl> & <dbl> & <dbl> & <dbl> & <dbl> & <dbl> & <dbl> & <dbl> & <dbl> & <dbl> & <dbl> & <dbl> & <dbl> & <dbl> & <dbl> & <dbl> & <dbl> & <dbl>\\\\\n",
       "\\hline\n",
       "\tENSONIG00000018423 & 37 & 42 & 36 & 304 & 364 & 281 & 21 & 22 & 40 & 16 &  97 & 19 & 271 & 59 & 403 & 34 &  38 & 20\\\\\n",
       "\tENSONIG00000032772 &  0 &  3 &  1 &   5 &   4 &   3 &  4 &  3 &  5 &  0 &   4 &  0 &   5 &  5 &  15 &  3 &   1 &  1\\\\\n",
       "\tENSONIG00000007536 &  0 &  1 &  0 &   1 &   1 &   0 &  0 &  0 &  0 &  0 &   0 &  0 &   0 &  0 &   4 &  0 &   0 &  0\\\\\n",
       "\tENSONIG00000029674 &  0 &  0 &  1 &   0 &   1 &   0 &  1 &  0 &  0 &  0 &   0 &  0 &   0 &  1 &   1 &  4 &   2 &  0\\\\\n",
       "\tENSONIG00000032019 &  1 &  0 &  1 &   0 &   0 &   2 &  0 &  1 &  0 &  0 &   2 &  0 &   0 &  0 &   4 &  4 &   5 &  0\\\\\n",
       "\tENSONIG00000033498 & 59 & 60 & 49 &  51 &  75 &  39 & 48 & 49 & 92 & 13 & 100 & 14 &  85 & 69 & 385 & 88 & 122 & 94\\\\\n",
       "\\end{tabular}\n"
      ],
      "text/markdown": [
       "\n",
       "A data.frame: 6 × 18\n",
       "\n",
       "| <!--/--> | Cold_HK1 &lt;dbl&gt; | Cold_HK2 &lt;dbl&gt; | Cold_HK3 &lt;dbl&gt; | Cold_SP1 &lt;dbl&gt; | Cold_SP2 &lt;dbl&gt; | Cold_SP3 &lt;dbl&gt; | Cold_TH1 &lt;dbl&gt; | Cold_TH2 &lt;dbl&gt; | Cold_TH3 &lt;dbl&gt; | Ctrl_HK1 &lt;dbl&gt; | Ctrl_HK2 &lt;dbl&gt; | Ctrl_HK3 &lt;dbl&gt; | Ctrl_SP1 &lt;dbl&gt; | Ctrl_SP2 &lt;dbl&gt; | Ctrl_SP3 &lt;dbl&gt; | Ctrl_TH1 &lt;dbl&gt; | Ctrl_TH2 &lt;dbl&gt; | Ctrl_TH3 &lt;dbl&gt; |\n",
       "|---|---|---|---|---|---|---|---|---|---|---|---|---|---|---|---|---|---|---|\n",
       "| ENSONIG00000018423 | 37 | 42 | 36 | 304 | 364 | 281 | 21 | 22 | 40 | 16 |  97 | 19 | 271 | 59 | 403 | 34 |  38 | 20 |\n",
       "| ENSONIG00000032772 |  0 |  3 |  1 |   5 |   4 |   3 |  4 |  3 |  5 |  0 |   4 |  0 |   5 |  5 |  15 |  3 |   1 |  1 |\n",
       "| ENSONIG00000007536 |  0 |  1 |  0 |   1 |   1 |   0 |  0 |  0 |  0 |  0 |   0 |  0 |   0 |  0 |   4 |  0 |   0 |  0 |\n",
       "| ENSONIG00000029674 |  0 |  0 |  1 |   0 |   1 |   0 |  1 |  0 |  0 |  0 |   0 |  0 |   0 |  1 |   1 |  4 |   2 |  0 |\n",
       "| ENSONIG00000032019 |  1 |  0 |  1 |   0 |   0 |   2 |  0 |  1 |  0 |  0 |   2 |  0 |   0 |  0 |   4 |  4 |   5 |  0 |\n",
       "| ENSONIG00000033498 | 59 | 60 | 49 |  51 |  75 |  39 | 48 | 49 | 92 | 13 | 100 | 14 |  85 | 69 | 385 | 88 | 122 | 94 |\n",
       "\n"
      ],
      "text/plain": [
       "                   Cold_HK1 Cold_HK2 Cold_HK3 Cold_SP1 Cold_SP2 Cold_SP3\n",
       "ENSONIG00000018423 37       42       36       304      364      281     \n",
       "ENSONIG00000032772  0        3        1         5        4        3     \n",
       "ENSONIG00000007536  0        1        0         1        1        0     \n",
       "ENSONIG00000029674  0        0        1         0        1        0     \n",
       "ENSONIG00000032019  1        0        1         0        0        2     \n",
       "ENSONIG00000033498 59       60       49        51       75       39     \n",
       "                   Cold_TH1 Cold_TH2 Cold_TH3 Ctrl_HK1 Ctrl_HK2 Ctrl_HK3\n",
       "ENSONIG00000018423 21       22       40       16        97      19      \n",
       "ENSONIG00000032772  4        3        5        0         4       0      \n",
       "ENSONIG00000007536  0        0        0        0         0       0      \n",
       "ENSONIG00000029674  1        0        0        0         0       0      \n",
       "ENSONIG00000032019  0        1        0        0         2       0      \n",
       "ENSONIG00000033498 48       49       92       13       100      14      \n",
       "                   Ctrl_SP1 Ctrl_SP2 Ctrl_SP3 Ctrl_TH1 Ctrl_TH2 Ctrl_TH3\n",
       "ENSONIG00000018423 271      59       403      34        38      20      \n",
       "ENSONIG00000032772   5       5        15       3         1       1      \n",
       "ENSONIG00000007536   0       0         4       0         0       0      \n",
       "ENSONIG00000029674   0       1         1       4         2       0      \n",
       "ENSONIG00000032019   0       0         4       4         5       0      \n",
       "ENSONIG00000033498  85      69       385      88       122      94      "
      ]
     },
     "metadata": {},
     "output_type": "display_data"
    }
   ],
   "source": [
    "BulkRNA_df %>% head"
   ]
  },
  {
   "cell_type": "code",
   "execution_count": 377,
   "id": "85723099",
   "metadata": {
    "ExecuteTime": {
     "end_time": "2024-03-06T10:25:35.352274Z",
     "start_time": "2024-03-06T10:25:35.666Z"
    }
   },
   "outputs": [],
   "source": [
    "NormFactor <- calcNormFactors(object = BulkRNA_df, method = \"TMM\")\n",
    "LibSize <- colSums(BulkRNA_df)\n",
    "SizeFactors <- NormFactor * LibSize / 1000000"
   ]
  },
  {
   "cell_type": "code",
   "execution_count": 387,
   "id": "86b9d08d",
   "metadata": {
    "ExecuteTime": {
     "end_time": "2024-03-06T10:28:37.008303Z",
     "start_time": "2024-03-06T10:28:37.646Z"
    }
   },
   "outputs": [],
   "source": [
    "DEseq2_sizefactor <- c(tissue_deg_list[[\"HK\"]][[1]]$sizeFactor,tissue_deg_list[[\"SP\"]][[1]]$sizeFactor,tissue_deg_list[[\"TH\"]][[1]]$sizeFactor)"
   ]
  },
  {
   "cell_type": "code",
   "execution_count": 388,
   "id": "67c909ed",
   "metadata": {
    "ExecuteTime": {
     "end_time": "2024-03-06T10:28:49.711497Z",
     "start_time": "2024-03-06T10:28:50.345Z"
    }
   },
   "outputs": [
    {
     "data": {
      "text/plain": [
       "\n",
       "\tPearson's product-moment correlation\n",
       "\n",
       "data:  DEseq2_sizefactor and SizeFactors\n",
       "t = -0.6215, df = 16, p-value = 0.543\n",
       "alternative hypothesis: true correlation is not equal to 0\n",
       "95 percent confidence interval:\n",
       " -0.5789074  0.3375308\n",
       "sample estimates:\n",
       "       cor \n",
       "-0.1535336 \n"
      ]
     },
     "metadata": {},
     "output_type": "display_data"
    }
   ],
   "source": [
    "cor.test(DEseq2_sizefactor,SizeFactors)"
   ]
  },
  {
   "cell_type": "code",
   "execution_count": 390,
   "id": "f2c2e6f9",
   "metadata": {
    "ExecuteTime": {
     "end_time": "2024-03-06T10:29:22.526131Z",
     "start_time": "2024-03-06T10:29:23.130Z"
    },
    "scrolled": true
   },
   "outputs": [
    {
     "data": {
      "image/png": "[encoded data removed]",
      "text/plain": [
       "plot without title"
      ]
     },
     "metadata": {
      "image/png": {
       "height": 360,
       "width": 360
      }
     },
     "output_type": "display_data"
    }
   ],
   "source": [
    "plot(DEseq2_sizefactor,SizeFactors)"
   ]
  },
  {
   "cell_type": "code",
   "execution_count": 382,
   "id": "7045bc56",
   "metadata": {
    "ExecuteTime": {
     "end_time": "2024-03-06T10:26:23.743726Z",
     "start_time": "2024-03-06T10:26:24.366Z"
    }
   },
   "outputs": [],
   "source": [
    "SizeFactors.Reciprocal <- 1/SizeFactors"
   ]
  },
  {
   "cell_type": "code",
   "execution_count": 383,
   "id": "9e837326",
   "metadata": {
    "ExecuteTime": {
     "end_time": "2024-03-06T10:26:26.670663Z",
     "start_time": "2024-03-06T10:26:27.312Z"
    },
    "scrolled": true
   },
   "outputs": [
    {
     "data": {
      "text/html": [
       "<style>\n",
       ".dl-inline {width: auto; margin:0; padding: 0}\n",
       ".dl-inline>dt, .dl-inline>dd {float: none; width: auto; display: inline-block}\n",
       ".dl-inline>dt::after {content: \":\\0020\"; padding-right: .5ex}\n",
       ".dl-inline>dt:not(:first-of-type) {padding-left: .5ex}\n",
       "</style><dl class=dl-inline><dt>Cold_HK1</dt><dd>0.0918944782068971</dd><dt>Cold_HK2</dt><dd>0.0879700703874681</dd><dt>Cold_HK3</dt><dd>0.0806654201881403</dd><dt>Cold_SP1</dt><dd>0.116947519153059</dd><dt>Cold_SP2</dt><dd>0.117556985585411</dd><dt>Cold_SP3</dt><dd>0.133760734344727</dd><dt>Cold_TH1</dt><dd>0.0758662786294316</dd><dt>Cold_TH2</dt><dd>0.070964093493235</dd><dt>Cold_TH3</dt><dd>0.0687606615285342</dd><dt>Ctrl_HK1</dt><dd>0.427012989902555</dd><dt>Ctrl_HK2</dt><dd>0.0640755707927316</dd><dt>Ctrl_HK3</dt><dd>0.402805998754596</dd><dt>Ctrl_SP1</dt><dd>0.111809249093244</dd><dt>Ctrl_SP2</dt><dd>0.342317235398804</dd><dt>Ctrl_SP3</dt><dd>0.066952467189888</dd><dt>Ctrl_TH1</dt><dd>0.0549979865028916</dd><dt>Ctrl_TH2</dt><dd>0.0540105673725765</dd><dt>Ctrl_TH3</dt><dd>0.0576822146943201</dd></dl>\n"
      ],
      "text/latex": [
       "\\begin{description*}\n",
       "\\item[Cold\\textbackslash{}\\_HK1] 0.0918944782068971\n",
       "\\item[Cold\\textbackslash{}\\_HK2] 0.0879700703874681\n",
       "\\item[Cold\\textbackslash{}\\_HK3] 0.0806654201881403\n",
       "\\item[Cold\\textbackslash{}\\_SP1] 0.116947519153059\n",
       "\\item[Cold\\textbackslash{}\\_SP2] 0.117556985585411\n",
       "\\item[Cold\\textbackslash{}\\_SP3] 0.133760734344727\n",
       "\\item[Cold\\textbackslash{}\\_TH1] 0.0758662786294316\n",
       "\\item[Cold\\textbackslash{}\\_TH2] 0.070964093493235\n",
       "\\item[Cold\\textbackslash{}\\_TH3] 0.0687606615285342\n",
       "\\item[Ctrl\\textbackslash{}\\_HK1] 0.427012989902555\n",
       "\\item[Ctrl\\textbackslash{}\\_HK2] 0.0640755707927316\n",
       "\\item[Ctrl\\textbackslash{}\\_HK3] 0.402805998754596\n",
       "\\item[Ctrl\\textbackslash{}\\_SP1] 0.111809249093244\n",
       "\\item[Ctrl\\textbackslash{}\\_SP2] 0.342317235398804\n",
       "\\item[Ctrl\\textbackslash{}\\_SP3] 0.066952467189888\n",
       "\\item[Ctrl\\textbackslash{}\\_TH1] 0.0549979865028916\n",
       "\\item[Ctrl\\textbackslash{}\\_TH2] 0.0540105673725765\n",
       "\\item[Ctrl\\textbackslash{}\\_TH3] 0.0576822146943201\n",
       "\\end{description*}\n"
      ],
      "text/markdown": [
       "Cold_HK1\n",
       ":   0.0918944782068971Cold_HK2\n",
       ":   0.0879700703874681Cold_HK3\n",
       ":   0.0806654201881403Cold_SP1\n",
       ":   0.116947519153059Cold_SP2\n",
       ":   0.117556985585411Cold_SP3\n",
       ":   0.133760734344727Cold_TH1\n",
       ":   0.0758662786294316Cold_TH2\n",
       ":   0.070964093493235Cold_TH3\n",
       ":   0.0687606615285342Ctrl_HK1\n",
       ":   0.427012989902555Ctrl_HK2\n",
       ":   0.0640755707927316Ctrl_HK3\n",
       ":   0.402805998754596Ctrl_SP1\n",
       ":   0.111809249093244Ctrl_SP2\n",
       ":   0.342317235398804Ctrl_SP3\n",
       ":   0.066952467189888Ctrl_TH1\n",
       ":   0.0549979865028916Ctrl_TH2\n",
       ":   0.0540105673725765Ctrl_TH3\n",
       ":   0.0576822146943201\n",
       "\n"
      ],
      "text/plain": [
       "  Cold_HK1   Cold_HK2   Cold_HK3   Cold_SP1   Cold_SP2   Cold_SP3   Cold_TH1 \n",
       "0.09189448 0.08797007 0.08066542 0.11694752 0.11755699 0.13376073 0.07586628 \n",
       "  Cold_TH2   Cold_TH3   Ctrl_HK1   Ctrl_HK2   Ctrl_HK3   Ctrl_SP1   Ctrl_SP2 \n",
       "0.07096409 0.06876066 0.42701299 0.06407557 0.40280600 0.11180925 0.34231724 \n",
       "  Ctrl_SP3   Ctrl_TH1   Ctrl_TH2   Ctrl_TH3 \n",
       "0.06695247 0.05499799 0.05401057 0.05768221 "
      ]
     },
     "metadata": {},
     "output_type": "display_data"
    }
   ],
   "source": [
    "SizeFactors.Reciprocal"
   ]
  },
  {
   "cell_type": "code",
   "execution_count": 481,
   "id": "f9a8bc61",
   "metadata": {
    "ExecuteTime": {
     "end_time": "2024-03-06T13:30:29.379840Z",
     "start_time": "2024-03-06T13:30:30.087Z"
    },
    "scrolled": true
   },
   "outputs": [
    {
     "data": {
      "text/html": [
       "<style>\n",
       ".dl-inline {width: auto; margin:0; padding: 0}\n",
       ".dl-inline>dt, .dl-inline>dd {float: none; width: auto; display: inline-block}\n",
       ".dl-inline>dt::after {content: \":\\0020\"; padding-right: .5ex}\n",
       ".dl-inline>dt:not(:first-of-type) {padding-left: .5ex}\n",
       "</style><dl class=dl-inline><dt>Ctrl_HK1</dt><dd>0.875371631615813</dd><dt>Ctrl_HK2</dt><dd>1.0814143369374</dd><dt>Cold_HK1</dt><dd>0.885963512139813</dd><dt>Cold_HK2</dt><dd>1.2114555148422</dd><dt>Ctrl_SP1</dt><dd>0.922668376463472</dd><dt>Ctrl_SP2</dt><dd>0.926077623546716</dd><dt>Cold_SP1</dt><dd>1.1839784736213</dd><dt>Cold_SP2</dt><dd>1.009669452335</dd><dt>Ctrl_TH1</dt><dd>0.951170038379081</dd><dt>Ctrl_TH2</dt><dd>0.946432183840043</dd><dt>Cold_TH1</dt><dd>0.941577837971914</dd><dt>Cold_TH2</dt><dd>1.2102101117034</dd></dl>\n"
      ],
      "text/latex": [
       "\\begin{description*}\n",
       "\\item[Ctrl\\textbackslash{}\\_HK1] 0.875371631615813\n",
       "\\item[Ctrl\\textbackslash{}\\_HK2] 1.0814143369374\n",
       "\\item[Cold\\textbackslash{}\\_HK1] 0.885963512139813\n",
       "\\item[Cold\\textbackslash{}\\_HK2] 1.2114555148422\n",
       "\\item[Ctrl\\textbackslash{}\\_SP1] 0.922668376463472\n",
       "\\item[Ctrl\\textbackslash{}\\_SP2] 0.926077623546716\n",
       "\\item[Cold\\textbackslash{}\\_SP1] 1.1839784736213\n",
       "\\item[Cold\\textbackslash{}\\_SP2] 1.009669452335\n",
       "\\item[Ctrl\\textbackslash{}\\_TH1] 0.951170038379081\n",
       "\\item[Ctrl\\textbackslash{}\\_TH2] 0.946432183840043\n",
       "\\item[Cold\\textbackslash{}\\_TH1] 0.941577837971914\n",
       "\\item[Cold\\textbackslash{}\\_TH2] 1.2102101117034\n",
       "\\end{description*}\n"
      ],
      "text/markdown": [
       "Ctrl_HK1\n",
       ":   0.875371631615813Ctrl_HK2\n",
       ":   1.0814143369374Cold_HK1\n",
       ":   0.885963512139813Cold_HK2\n",
       ":   1.2114555148422Ctrl_SP1\n",
       ":   0.922668376463472Ctrl_SP2\n",
       ":   0.926077623546716Cold_SP1\n",
       ":   1.1839784736213Cold_SP2\n",
       ":   1.009669452335Ctrl_TH1\n",
       ":   0.951170038379081Ctrl_TH2\n",
       ":   0.946432183840043Cold_TH1\n",
       ":   0.941577837971914Cold_TH2\n",
       ":   1.2102101117034\n",
       "\n"
      ],
      "text/plain": [
       " Ctrl_HK1  Ctrl_HK2  Cold_HK1  Cold_HK2  Ctrl_SP1  Ctrl_SP2  Cold_SP1  Cold_SP2 \n",
       "0.8753716 1.0814143 0.8859635 1.2114555 0.9226684 0.9260776 1.1839785 1.0096695 \n",
       " Ctrl_TH1  Ctrl_TH2  Cold_TH1  Cold_TH2 \n",
       "0.9511700 0.9464322 0.9415778 1.2102101 "
      ]
     },
     "metadata": {},
     "output_type": "display_data"
    }
   ],
   "source": [
    "c(atac.tissue_deg_list[[\"HK\"]][[1]]$sizeFactor,atac.tissue_deg_list[[\"SP\"]][[1]]$sizeFactor,atac.tissue_deg_list[[\"TH\"]][[1]]$sizeFactor)"
   ]
  },
  {
   "cell_type": "code",
   "execution_count": 53,
   "id": "61f253a5",
   "metadata": {
    "ExecuteTime": {
     "end_time": "2024-03-27T09:08:22.652420Z",
     "start_time": "2024-03-27T09:08:23.186Z"
    }
   },
   "outputs": [
    {
     "data": {
      "text/html": [
       "0.953552902053058"
      ],
      "text/latex": [
       "0.953552902053058"
      ],
      "text/markdown": [
       "0.953552902053058"
      ],
      "text/plain": [
       "[1] 0.9535529"
      ]
     },
     "metadata": {},
     "output_type": "display_data"
    }
   ],
   "source": [
    "1/((0.885963512139813 + 1.2114555148422) / 2)"
   ]
  }
 ],
 "metadata": {
  "kernelspec": {
   "display_name": "R_4.2.3",
   "language": "R",
   "name": "r_4.2.3"
  },
  "language_info": {
   "codemirror_mode": "r",
   "file_extension": ".r",
   "mimetype": "text/x-r-source",
   "name": "R",
   "pygments_lexer": "r",
   "version": "4.2.3"
  },
  "toc": {
   "base_numbering": 1,
   "nav_menu": {},
   "number_sections": true,
   "sideBar": true,
   "skip_h1_title": false,
   "title_cell": "Table of Contents",
   "title_sidebar": "Contents",
   "toc_cell": false,
   "toc_position": {
    "height": "calc(100% - 180px)",
    "left": "10px",
    "top": "150px",
    "width": "279.263px"
   },
   "toc_section_display": true,
   "toc_window_display": false
  }
 },
 "nbformat": 4,
 "nbformat_minor": 5
}
