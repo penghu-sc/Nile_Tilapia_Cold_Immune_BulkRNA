{
 "cells": [
  {
   "cell_type": "markdown",
   "id": "6ba4d21b",
   "metadata": {},
   "source": [
    "# 1.Fig2"
   ]
  },
  {
   "cell_type": "markdown",
   "id": "552131aa",
   "metadata": {},
   "source": [
    "## 1.1 gene&peaks correlation"
   ]
  },
  {
   "cell_type": "markdown",
   "id": "539203ad",
   "metadata": {},
   "source": [
    "*Read DEGs Result*"
   ]
  },
  {
   "cell_type": "code",
   "execution_count": 3,
   "id": "91ad735b",
   "metadata": {
    "ExecuteTime": {
     "end_time": "2024-04-04T06:32:59.226974Z",
     "start_time": "2024-04-04T06:32:59.299Z"
    }
   },
   "outputs": [],
   "source": [
    "DEG_RNA <- openxlsx::read.xlsx(\"/home/minghao/workbase/16_Tilapia_Cold_BulkRNA-ATAC_jiaohe/output/Bulk_RNA_output/Tilapia_ColdvsCtrl_DEG_RNA.xlsx\")"
   ]
  },
  {
   "cell_type": "code",
   "execution_count": 6,
   "id": "338df586",
   "metadata": {
    "ExecuteTime": {
     "end_time": "2024-04-04T06:33:18.027807Z",
     "start_time": "2024-04-04T06:33:18.864Z"
    }
   },
   "outputs": [
    {
     "data": {
      "text/html": [
       "0.049998372330903"
      ],
      "text/latex": [
       "0.049998372330903"
      ],
      "text/markdown": [
       "0.049998372330903"
      ],
      "text/plain": [
       "[1] 0.04999837"
      ]
     },
     "metadata": {},
     "output_type": "display_data"
    }
   ],
   "source": [
    "max(DEG_RNA$padj)"
   ]
  },
  {
   "cell_type": "code",
   "execution_count": 638,
   "id": "cc29b205",
   "metadata": {
    "ExecuteTime": {
     "end_time": "2024-03-07T07:41:20.797218Z",
     "start_time": "2024-03-07T07:41:22.482Z"
    }
   },
   "outputs": [],
   "source": [
    "DEG_RNA.genes <- DEG_RNA %>% filter(tissue != \"SP\") %>% .$gene %>% unique"
   ]
  },
  {
   "cell_type": "markdown",
   "id": "b19018d4",
   "metadata": {},
   "source": [
    "*Read peaks counts*"
   ]
  },
  {
   "cell_type": "code",
   "execution_count": null,
   "id": "7f851463",
   "metadata": {},
   "outputs": [],
   "source": [
    "bulk_atac <- dba(sampleSheet = \"/home/minghao/workbase/16_Tilapia_Cold_BulkRNA-ATAC_jiaohe/sample_info_rep.csv\", minOverlap = 3)\n",
    "atac_df <- read.csv(\"/home/minghao/workbase/16_Tilapia_Cold_BulkRNA-ATAC_jiaohe/sample_info_rep.csv\")\n",
    "head(atac_df,2)\n",
    "\n",
    "bulk_atac_counts <- dba.count(bulk_atac,score=DBA_SCORE_TMM_READS_EFFECTIVE_CPM,bUseSummarizeOverlaps = TRUE,bParallel=TRUE)\n",
    "\n",
    "temp <- as.data.frame(bulk_atac_counts$peaks)\n",
    "RPKM <- temp[,grep(colnames(temp),pattern = \"^RPKM|Chr$|Start$|End$\")]\n",
    "rm(temp)"
   ]
  },
  {
   "cell_type": "code",
   "execution_count": 861,
   "id": "1db22d8d",
   "metadata": {
    "ExecuteTime": {
     "end_time": "2024-03-07T12:07:20.096920Z",
     "start_time": "2024-03-07T12:07:21.854Z"
    },
    "scrolled": true
   },
   "outputs": [],
   "source": [
    "colnames(RPKM)[4:15] <- bulk_atac_counts$samples$SampleID\n",
    "RPKM <- RPKM[,grep(colnames(RPKM),pattern = \"SP\",invert = T)] %>% tibble::rownames_to_column(var = \"peak_id\")"
   ]
  },
  {
   "cell_type": "markdown",
   "id": "32e5945e",
   "metadata": {},
   "source": [
    "*peaks anno*"
   ]
  },
  {
   "cell_type": "code",
   "execution_count": 701,
   "id": "475970a2",
   "metadata": {
    "ExecuteTime": {
     "end_time": "2024-03-07T08:21:51.058485Z",
     "start_time": "2024-03-07T08:21:52.719Z"
    }
   },
   "outputs": [],
   "source": [
    "library(plyranges,include.only = c(\"as_granges\",\"join_overlap_inner\"))"
   ]
  },
  {
   "cell_type": "code",
   "execution_count": 863,
   "id": "79dd4a40",
   "metadata": {
    "ExecuteTime": {
     "end_time": "2024-03-07T12:07:34.919100Z",
     "start_time": "2024-03-07T12:07:36.650Z"
    },
    "scrolled": true
   },
   "outputs": [],
   "source": [
    "RPKM_gr <- RPKM %>% dplyr::rename(seqnames = \"Chr\" , start = \"Start\",end = \"End\") %>% as_granges()"
   ]
  },
  {
   "cell_type": "code",
   "execution_count": 864,
   "id": "63176c71",
   "metadata": {
    "ExecuteTime": {
     "end_time": "2024-03-07T12:07:43.175842Z",
     "start_time": "2024-03-07T12:07:37.347Z"
    },
    "scrolled": true
   },
   "outputs": [
    {
     "name": "stdout",
     "output_type": "stream",
     "text": [
      ">> preparing features information...\t\t 2024-03-07 08:07:35 PM \n",
      ">> identifying nearest features...\t\t 2024-03-07 08:07:35 PM \n",
      ">> calculating distance from peak to TSS...\t 2024-03-07 08:07:39 PM \n",
      ">> assigning genomic annotation...\t\t 2024-03-07 08:07:39 PM \n",
      ">> assigning chromosome lengths\t\t\t 2024-03-07 08:07:42 PM \n",
      ">> done...\t\t\t\t\t 2024-03-07 08:07:42 PM \n"
     ]
    }
   ],
   "source": [
    "RPKM_gr_anno <- suppressWarnings(ChIPseeker::annotatePeak(peak = RPKM_gr,\n",
    "                       TxDb = spompe, \n",
    "                       tssRegion = c(-3000, 500), \n",
    "                       addFlankGeneInfo = FALSE))\n",
    "RPKM_gr_anno <- as.data.frame(RPKM_gr_anno)"
   ]
  },
  {
   "cell_type": "code",
   "execution_count": 866,
   "id": "f965d943",
   "metadata": {
    "ExecuteTime": {
     "end_time": "2024-03-07T12:08:04.929321Z",
     "start_time": "2024-03-07T12:08:06.353Z"
    }
   },
   "outputs": [],
   "source": [
    "RPKM_gr_anno$group <- \"Distal\"\n",
    "RPKM_gr_anno$group[grep(RPKM_gr_anno$annotation,pattern = \"^Promoter\")] <- \"Promoter\"\n",
    "RPKM_gr_anno$group[grep(RPKM_gr_anno$annotation,pattern = \"^3' UTR|5' UTR\")]  <- \"Genic\"\n",
    "RPKM_gr_anno$group[grep(RPKM_gr_anno$annotation,pattern = \"^Exon|Intron\")] <- \"Genic\"\n",
    "\n",
    "RPKM_gr_anno_filter <- RPKM_gr_anno[RPKM_gr_anno$group != \"Distal\",]"
   ]
  },
  {
   "cell_type": "code",
   "execution_count": 796,
   "id": "63e47eb3",
   "metadata": {
    "ExecuteTime": {
     "end_time": "2024-03-07T09:38:49.306391Z",
     "start_time": "2024-03-07T09:38:51.002Z"
    }
   },
   "outputs": [],
   "source": [
    "scale_row <- function(x){\n",
    "    m = apply(x, 1, mean, na.rm = T)\n",
    "    s = apply(x, 1, sd, na.rm = T)\n",
    "    return((x - m) / s)\n",
    "}"
   ]
  },
  {
   "cell_type": "markdown",
   "id": "f775ce9b",
   "metadata": {},
   "source": [
    "*DEG.ATAC results from Fig1 DIffbind for identifying differential peaks.*"
   ]
  },
  {
   "cell_type": "code",
   "execution_count": 882,
   "id": "f56313ad",
   "metadata": {
    "ExecuteTime": {
     "end_time": "2024-03-07T12:16:02.540658Z",
     "start_time": "2024-03-07T12:16:03.935Z"
    }
   },
   "outputs": [],
   "source": [
    "DEG.ATAC2 <- DEG.ATAC %>% filter(tissue != \"SP\") %>% na.omit"
   ]
  },
  {
   "cell_type": "code",
   "execution_count": 887,
   "id": "d90f1dca",
   "metadata": {
    "ExecuteTime": {
     "end_time": "2024-03-07T12:19:08.194835Z",
     "start_time": "2024-03-07T12:19:09.486Z"
    }
   },
   "outputs": [],
   "source": [
    "temp <- RPKM_gr_anno_filter[,c(1:3,6,15,21,24)] %>% left_join(DEG.ATAC2[,c(2,5,6,7,8)],by = c(\"peak_id\"=\"gene\"))"
   ]
  },
  {
   "cell_type": "code",
   "execution_count": 909,
   "id": "ff215ee4",
   "metadata": {
    "ExecuteTime": {
     "end_time": "2024-03-07T12:26:54.877183Z",
     "start_time": "2024-03-07T12:26:56.617Z"
    },
    "scrolled": true
   },
   "outputs": [],
   "source": [
    "DEG_RNA_select <- DEG_RNA %>% filter(tissue != \"SP\",padj < 0.05) %>% dplyr::select(2,5,6,7,8)\n",
    "colnames(DEG_RNA_select) <- paste(\"RNA\",colnames(DEG_RNA_select),sep = \"_\")"
   ]
  },
  {
   "cell_type": "code",
   "execution_count": 913,
   "id": "23c70e35",
   "metadata": {
    "ExecuteTime": {
     "end_time": "2024-03-07T12:28:55.112154Z",
     "start_time": "2024-03-07T12:28:56.768Z"
    }
   },
   "outputs": [
    {
     "name": "stderr",
     "output_type": "stream",
     "text": [
      "Warning message in left_join(., temp, by = c(RNA_gene = \"geneId\", RNA_tissue = \"tissue\")):\n",
      "\"\u001b[1m\u001b[22mDetected an unexpected many-to-many relationship between `x` and `y`.\n",
      "\u001b[36mℹ\u001b[39m Row 2 of `x` matches multiple rows in `y`.\n",
      "\u001b[36mℹ\u001b[39m Row 158371 of `y` matches multiple rows in `x`.\n",
      "\u001b[36mℹ\u001b[39m If a many-to-many relationship is expected, set `relationship = \"many-to-many\"` to silence this warning.\"\n"
     ]
    }
   ],
   "source": [
    "RNA_ATAC_cor <- DEG_RNA_select %>% left_join(temp,by = c(\"RNA_gene\" = \"geneId\",\"RNA_tissue\" = \"tissue\"))"
   ]
  },
  {
   "cell_type": "code",
   "execution_count": 915,
   "id": "465621bd",
   "metadata": {
    "ExecuteTime": {
     "end_time": "2024-03-07T12:29:31.851528Z",
     "start_time": "2024-03-07T12:29:33.601Z"
    }
   },
   "outputs": [],
   "source": [
    "RNA_ATAC_cor$log2FoldChange[is.na(RNA_ATAC_cor$log2FoldChange)] <- 0\n",
    "RNA_ATAC_cor$cor <- RNA_ATAC_cor$RNA_log2FoldChange * RNA_ATAC_cor$log2FoldChange"
   ]
  },
  {
   "cell_type": "code",
   "execution_count": 925,
   "id": "19ca8200",
   "metadata": {
    "ExecuteTime": {
     "end_time": "2024-03-07T12:31:36.149831Z",
     "start_time": "2024-03-07T12:31:37.787Z"
    }
   },
   "outputs": [
    {
     "name": "stderr",
     "output_type": "stream",
     "text": [
      "Warning message in left_join(., geneID_name, by = c(RNA_gene = \"gene\")):\n",
      "\"\u001b[1m\u001b[22mDetected an unexpected many-to-many relationship between `x` and `y`.\n",
      "\u001b[36mℹ\u001b[39m Row 435 of `x` matches multiple rows in `y`.\n",
      "\u001b[36mℹ\u001b[39m Row 28317 of `y` matches multiple rows in `x`.\n",
      "\u001b[36mℹ\u001b[39m If a many-to-many relationship is expected, set `relationship = \"many-to-many\"` to silence this warning.\"\n"
     ]
    }
   ],
   "source": [
    "RNA_ATAC_cor_anno <- RNA_ATAC_cor %>% left_join(geneID_name,by = c(\"RNA_gene\" = \"gene\"))"
   ]
  },
  {
   "cell_type": "code",
   "execution_count": 940,
   "id": "343f8725",
   "metadata": {
    "ExecuteTime": {
     "end_time": "2024-03-07T13:08:33.329689Z",
     "start_time": "2024-03-07T13:08:31.053Z"
    },
    "scrolled": true
   },
   "outputs": [],
   "source": [
    "openxlsx::write.xlsx(list(HK = RNA_ATAC_cor_anno %>% filter(RNA_tissue == \"HK\"),\n",
    "                           TH = RNA_ATAC_cor_anno %>% filter(RNA_tissue == \"TH\")),\n",
    "                \"/home/minghao/workbase/16_Tilapia_Cold_BulkRNA-ATAC_jiaohe/output/RNA&ATAC_output/20240307_RNA_DEGs_ATAC_cor.xlsx\")"
   ]
  },
  {
   "cell_type": "code",
   "execution_count": 1555,
   "id": "366a9e38",
   "metadata": {
    "ExecuteTime": {
     "end_time": "2024-03-11T06:03:44.343480Z",
     "start_time": "2024-03-11T06:03:44.524Z"
    },
    "scrolled": true
   },
   "outputs": [],
   "source": []
  },
  {
   "cell_type": "markdown",
   "id": "40f45b56",
   "metadata": {
    "heading_collapsed": true
   },
   "source": [
    "## 1.2 subset Heatmap"
   ]
  },
  {
   "cell_type": "markdown",
   "id": "78b777e4",
   "metadata": {
    "hidden": true
   },
   "source": [
    "*TPM is derived from the upstream analysis of RNA data using the TPMCalculator output file.*\n",
    "<br>/home/zhangdeyin/cjb/jiaohe/0.RNA/RNA-Seq_tpm_countstable.xls"
   ]
  },
  {
   "cell_type": "code",
   "execution_count": 1095,
   "id": "7f49f1f4",
   "metadata": {
    "ExecuteTime": {
     "end_time": "2024-03-08T06:41:03.457204Z",
     "start_time": "2024-03-08T06:41:03.102Z"
    },
    "hidden": true
   },
   "outputs": [],
   "source": [
    "TPM <- read.delim(\"/home/zhangdeyin/cjb/jiaohe/0.RNA/RNA-Seq_tpm_countstable.xls\",sep = \"\\t\")\n",
    "TPM <- TPM[,grep(colnames(TPM),pattern = \"SP\",invert = T)]"
   ]
  },
  {
   "cell_type": "code",
   "execution_count": 1004,
   "id": "b6988a26",
   "metadata": {
    "ExecuteTime": {
     "end_time": "2024-03-08T01:42:58.178918Z",
     "start_time": "2024-03-08T01:42:58.277Z"
    },
    "hidden": true
   },
   "outputs": [],
   "source": [
    "library(ComplexHeatmap)"
   ]
  },
  {
   "cell_type": "code",
   "execution_count": 1018,
   "id": "3c57757a",
   "metadata": {
    "ExecuteTime": {
     "end_time": "2024-03-08T02:19:20.363123Z",
     "start_time": "2024-03-08T02:19:19.275Z"
    },
    "hidden": true
   },
   "outputs": [],
   "source": [
    "vst.heatmap <- readRDS(\"/home/minghao/workbase_jinagbo/vst.heatmap2c.rds\")"
   ]
  },
  {
   "cell_type": "code",
   "execution_count": 1034,
   "id": "600728a5",
   "metadata": {
    "ExecuteTime": {
     "end_time": "2024-03-08T02:47:20.139617Z",
     "start_time": "2024-03-08T02:47:05.065Z"
    },
    "hidden": true,
    "scrolled": true
   },
   "outputs": [
    {
     "data": {
      "image/png": "[encoded data removed]",
      "text/plain": [
       "plot without title"
      ]
     },
     "metadata": {
      "image/png": {
       "height": 360,
       "width": 360
      }
     },
     "output_type": "display_data"
    }
   ],
   "source": [
    "options(repr.plot.width = 6,repr.plot.height = 6)\n",
    "vst.heatmap"
   ]
  },
  {
   "cell_type": "markdown",
   "id": "5e16b3de",
   "metadata": {
    "hidden": true
   },
   "source": [
    "*从RNA_ATAC_cor_anno中获取DEG > 1的DEGs以及cor > 0的基因及peak*"
   ]
  },
  {
   "cell_type": "code",
   "execution_count": 1063,
   "id": "729c1fe9",
   "metadata": {
    "ExecuteTime": {
     "end_time": "2024-03-08T06:13:22.510370Z",
     "start_time": "2024-03-08T06:13:22.484Z"
    },
    "hidden": true
   },
   "outputs": [],
   "source": [
    "cluster_gene <- openxlsx::read.xlsx(\"/home/minghao/workbase_jinagbo/Heatmap_clustergenes.xlsx\")"
   ]
  },
  {
   "cell_type": "code",
   "execution_count": 1084,
   "id": "75cde2e5",
   "metadata": {
    "ExecuteTime": {
     "end_time": "2024-03-08T06:25:11.237707Z",
     "start_time": "2024-03-08T06:25:11.416Z"
    },
    "hidden": true,
    "scrolled": true
   },
   "outputs": [],
   "source": [
    "cluster_gene2 <- unique(cluster_gene[,1:2])"
   ]
  },
  {
   "cell_type": "code",
   "execution_count": 1099,
   "id": "bdf8c0ee",
   "metadata": {
    "ExecuteTime": {
     "end_time": "2024-03-08T06:41:39.758002Z",
     "start_time": "2024-03-08T06:41:39.940Z"
    },
    "hidden": true
   },
   "outputs": [],
   "source": [
    "pre_heatmap_gene <- RNA_ATAC_cor_anno[!is.na(RNA_ATAC_cor_anno$peak_id),] %>% \n",
    "    filter(cor > 0) %>% .$RNA_gene %>% unique"
   ]
  },
  {
   "cell_type": "code",
   "execution_count": 1124,
   "id": "c1dc6021",
   "metadata": {
    "ExecuteTime": {
     "end_time": "2024-03-08T06:51:46.307129Z",
     "start_time": "2024-03-08T06:51:46.477Z"
    },
    "hidden": true
   },
   "outputs": [],
   "source": [
    "cor_gene_TPM <- TPM[TPM$Gene_Id %in% pre_heatmap_gene,]\n",
    "indexs <- apply(cor_gene_TPM[,2:13],1,max) > 1\n",
    "heatmap_gene <- cor_gene_TPM[indexs,\"Gene_Id\"]"
   ]
  },
  {
   "cell_type": "code",
   "execution_count": 1132,
   "id": "9a04dc3e",
   "metadata": {
    "ExecuteTime": {
     "end_time": "2024-03-08T06:59:58.640218Z",
     "start_time": "2024-03-08T06:59:58.790Z"
    },
    "hidden": true
   },
   "outputs": [],
   "source": [
    "RNA_ATAC_cor_anno_filter <- RNA_ATAC_cor_anno[RNA_ATAC_cor_anno$RNA_gene %in% heatmap_gene,] %>% \n",
    "    filter(cor > 0)\n",
    "RNA_ATAC_cor_anno_filter <- RNA_ATAC_cor_anno_filter[!is.na(RNA_ATAC_cor_anno_filter$peak_id),]"
   ]
  },
  {
   "cell_type": "code",
   "execution_count": 1141,
   "id": "5e87723f",
   "metadata": {
    "ExecuteTime": {
     "end_time": "2024-03-08T07:11:09.356705Z",
     "start_time": "2024-03-08T07:11:09.533Z"
    },
    "hidden": true
   },
   "outputs": [],
   "source": [
    "heatmap_gene2 <- unique(RNA_ATAC_cor_anno_filter$RNA_gene)"
   ]
  },
  {
   "cell_type": "code",
   "execution_count": 1144,
   "id": "fe11cb97",
   "metadata": {
    "ExecuteTime": {
     "end_time": "2024-03-08T07:11:41.626826Z",
     "start_time": "2024-03-08T07:11:41.802Z"
    },
    "hidden": true,
    "scrolled": true
   },
   "outputs": [
    {
     "data": {
      "text/html": [
       "<style>\n",
       ".list-inline {list-style: none; margin:0; padding: 0}\n",
       ".list-inline>li {display: inline-block}\n",
       ".list-inline>li:not(:last-child)::after {content: \"\\00b7\"; padding: 0 .5ex}\n",
       "</style>\n",
       "<ol class=list-inline><li>'ENSONIG00000042238'</li><li>'ENSONIG00000019199'</li></ol>\n"
      ],
      "text/latex": [
       "\\begin{enumerate*}\n",
       "\\item 'ENSONIG00000042238'\n",
       "\\item 'ENSONIG00000019199'\n",
       "\\end{enumerate*}\n"
      ],
      "text/markdown": [
       "1. 'ENSONIG00000042238'\n",
       "2. 'ENSONIG00000019199'\n",
       "\n",
       "\n"
      ],
      "text/plain": [
       "[1] \"ENSONIG00000042238\" \"ENSONIG00000019199\""
      ]
     },
     "metadata": {},
     "output_type": "display_data"
    }
   ],
   "source": [
    "head(heatmap_gene2,2)"
   ]
  },
  {
   "cell_type": "code",
   "execution_count": 1226,
   "id": "85410592",
   "metadata": {
    "ExecuteTime": {
     "end_time": "2024-03-08T07:54:59.964288Z",
     "start_time": "2024-03-08T07:55:00.184Z"
    },
    "hidden": true,
    "scrolled": true
   },
   "outputs": [],
   "source": [
    "heatmap_gene2_cluster <- cluster_gene2[cluster_gene2$gene %in% heatmap_gene2,]\n",
    "#cluster_gene2为Fig1 热图的gene，heatmap_gene2为TPM > 1,cor > 1的基因"
   ]
  },
  {
   "cell_type": "code",
   "execution_count": 1266,
   "id": "830951c2",
   "metadata": {
    "ExecuteTime": {
     "end_time": "2024-03-08T12:33:40.152172Z",
     "start_time": "2024-03-08T12:33:40.437Z"
    },
    "hidden": true
   },
   "outputs": [
    {
     "data": {
      "text/html": [
       "<style>\n",
       ".list-inline {list-style: none; margin:0; padding: 0}\n",
       ".list-inline>li {display: inline-block}\n",
       ".list-inline>li:not(:last-child)::after {content: \"\\00b7\"; padding: 0 .5ex}\n",
       "</style>\n",
       "<ol class=list-inline><li>'ENSONIG00000033462'</li><li>'ENSONIG00000007340'</li><li>'ENSONIG00000021389'</li></ol>\n"
      ],
      "text/latex": [
       "\\begin{enumerate*}\n",
       "\\item 'ENSONIG00000033462'\n",
       "\\item 'ENSONIG00000007340'\n",
       "\\item 'ENSONIG00000021389'\n",
       "\\end{enumerate*}\n"
      ],
      "text/markdown": [
       "1. 'ENSONIG00000033462'\n",
       "2. 'ENSONIG00000007340'\n",
       "3. 'ENSONIG00000021389'\n",
       "\n",
       "\n"
      ],
      "text/plain": [
       "[1] \"ENSONIG00000033462\" \"ENSONIG00000007340\" \"ENSONIG00000021389\""
      ]
     },
     "metadata": {},
     "output_type": "display_data"
    }
   ],
   "source": [
    "setdiff(heatmap_gene2 , cluster_gene2$gene)"
   ]
  },
  {
   "cell_type": "code",
   "execution_count": 1204,
   "id": "50845188",
   "metadata": {
    "ExecuteTime": {
     "end_time": "2024-03-08T07:45:05.976332Z",
     "start_time": "2024-03-08T07:45:06.192Z"
    },
    "hidden": true,
    "scrolled": true
   },
   "outputs": [
    {
     "data": {
      "text/html": [
       "<table class=\"dataframe\">\n",
       "<caption>A data.frame: 2 × 2</caption>\n",
       "<thead>\n",
       "\t<tr><th></th><th scope=col>cluster</th><th scope=col>gene</th></tr>\n",
       "\t<tr><th></th><th scope=col>&lt;chr&gt;</th><th scope=col>&lt;chr&gt;</th></tr>\n",
       "</thead>\n",
       "<tbody>\n",
       "\t<tr><th scope=row>1</th><td>3</td><td>ENSONIG00000034346</td></tr>\n",
       "\t<tr><th scope=row>2</th><td>3</td><td>ENSONIG00000019895</td></tr>\n",
       "</tbody>\n",
       "</table>\n"
      ],
      "text/latex": [
       "A data.frame: 2 × 2\n",
       "\\begin{tabular}{r|ll}\n",
       "  & cluster & gene\\\\\n",
       "  & <chr> & <chr>\\\\\n",
       "\\hline\n",
       "\t1 & 3 & ENSONIG00000034346\\\\\n",
       "\t2 & 3 & ENSONIG00000019895\\\\\n",
       "\\end{tabular}\n"
      ],
      "text/markdown": [
       "\n",
       "A data.frame: 2 × 2\n",
       "\n",
       "| <!--/--> | cluster &lt;chr&gt; | gene &lt;chr&gt; |\n",
       "|---|---|---|\n",
       "| 1 | 3 | ENSONIG00000034346 |\n",
       "| 2 | 3 | ENSONIG00000019895 |\n",
       "\n"
      ],
      "text/plain": [
       "  cluster gene              \n",
       "1 3       ENSONIG00000034346\n",
       "2 3       ENSONIG00000019895"
      ]
     },
     "metadata": {},
     "output_type": "display_data"
    }
   ],
   "source": [
    "head(heatmap_gene2_cluster,2)"
   ]
  },
  {
   "cell_type": "markdown",
   "id": "51d15bad",
   "metadata": {
    "hidden": true
   },
   "source": [
    "*Plot Heatmap*"
   ]
  },
  {
   "cell_type": "code",
   "execution_count": 1172,
   "id": "e87bd88c",
   "metadata": {
    "ExecuteTime": {
     "end_time": "2024-03-08T07:27:39.527414Z",
     "start_time": "2024-03-08T07:27:39.717Z"
    },
    "hidden": true
   },
   "outputs": [],
   "source": [
    "#读取热图表达矩阵\n",
    "temp <- readRDS(\"/home/minghao/workbase/16_Tilapia_Cold_BulkRNA-ATAC_jiaohe/output/Bulk_RNA_output/20240308_ZMH_Fig1_Heatmap_matrix.rds\")\n",
    "\n",
    "Heatmap_data <- temp[heatmap_gene2_cluster$gene,]"
   ]
  },
  {
   "cell_type": "code",
   "execution_count": 1185,
   "id": "0c580683",
   "metadata": {
    "ExecuteTime": {
     "end_time": "2024-03-08T07:34:52.051362Z",
     "start_time": "2024-03-08T07:34:52.259Z"
    },
    "hidden": true,
    "scrolled": false
   },
   "outputs": [
    {
     "data": {
      "text/plain": [
       "\n",
       "   1    2    3 \n",
       "1499 2835  635 "
      ]
     },
     "metadata": {},
     "output_type": "display_data"
    }
   ],
   "source": [
    "table(heatmap_gene2_cluster$cluster)"
   ]
  },
  {
   "cell_type": "code",
   "execution_count": 1227,
   "id": "6d9dc8d0",
   "metadata": {
    "ExecuteTime": {
     "end_time": "2024-03-08T07:55:01.844547Z",
     "start_time": "2024-03-08T07:55:02.068Z"
    },
    "hidden": true,
    "scrolled": true
   },
   "outputs": [],
   "source": [
    "heatmap_gene2_cluster$cluster <- factor(heatmap_gene2_cluster$cluster,levels = c(\"1\",\"2\",\"3\"),\n",
    "                                        labels = c(\"cluster1\\n(1499 41%)\",\"cluster2\\n(2835 85%)\",\"cluster3\\n(635 68%)\"))"
   ]
  },
  {
   "cell_type": "code",
   "execution_count": 1228,
   "id": "5cfa1ce8",
   "metadata": {
    "ExecuteTime": {
     "end_time": "2024-03-08T07:55:04.309943Z",
     "start_time": "2024-03-08T07:55:02.882Z"
    },
    "hidden": true,
    "scrolled": false
   },
   "outputs": [
    {
     "name": "stderr",
     "output_type": "stream",
     "text": [
      "'magick' package is suggested to install to give better rasterization.\n",
      "\n",
      "Set `ht_opt$message = FALSE` to turn off this message.\n",
      "\n"
     ]
    },
    {
     "data": {
      "image/png": "[encoded data removed]",
      "text/plain": [
       "plot without title"
      ]
     },
     "metadata": {
      "image/png": {
       "height": 540,
       "width": 360
      }
     },
     "output_type": "display_data"
    }
   ],
   "source": [
    "options(repr.plot.width = 6,repr.plot.height = 9)\n",
    "Fig2_Heatmap <- Heatmap(Heatmap_data,cluster_rows = FALSE,\n",
    "        row_order = match(rownames(Heatmap_data),rev(heatmap_gene2_cluster$gene) ),\n",
    "        cluster_row_slices = FALSE,\n",
    "        col = colorRampPalette(c(\"#1C86EE\",\"white\",\"#FF4500\"))(100),\n",
    "        cluster_columns = F,   \n",
    "        clustering_distance_rows = function(m) dist(m),\n",
    "        clustering_method_rows = \"ward.D2\",\n",
    "        #row_km = 5,\n",
    "        use_raster = TRUE,\n",
    "        border = TRUE,\n",
    "        row_split = heatmap_gene2_cluster$cluster,\n",
    "        column_split = factor( rep(c(\"HK\",\"TH\"), each = 6)),\n",
    "        heatmap_legend_param = list(\n",
    "             title='Z score',\n",
    "             title_gp = gpar(fontsize = 14),\n",
    "             labels_gp = gpar(fontsize = 14),\n",
    "             border='black'),\n",
    "        show_row_names = FALSE,\n",
    "        width = unit(10, \"cm\"),\n",
    "        height = unit(16, \"cm\"),\n",
    "         show_column_dend = FALSE,\n",
    "        column_names_rot = 45)\n",
    "Fig2_Heatmap2 <- draw(Fig2_Heatmap)"
   ]
  },
  {
   "cell_type": "code",
   "execution_count": 1229,
   "id": "2f7a8242",
   "metadata": {
    "ExecuteTime": {
     "end_time": "2024-03-08T07:55:10.903459Z",
     "start_time": "2024-03-08T07:55:10.128Z"
    },
    "hidden": true,
    "scrolled": true
   },
   "outputs": [
    {
     "data": {
      "text/html": [
       "<strong>png:</strong> 2"
      ],
      "text/latex": [
       "\\textbf{png:} 2"
      ],
      "text/markdown": [
       "**png:** 2"
      ],
      "text/plain": [
       "png \n",
       "  2 "
      ]
     },
     "metadata": {},
     "output_type": "display_data"
    }
   ],
   "source": [
    "pdf(\"/home/minghao/workbase/16_Tilapia_Cold_BulkRNA-ATAC_jiaohe/output/plot/Fig2_Heatmap.pdf\", \n",
    "    width = 6, height = 8)\n",
    "Fig2_Heatmap2\n",
    "dev.off()"
   ]
  },
  {
   "cell_type": "markdown",
   "id": "9e866e7c",
   "metadata": {
    "ExecuteTime": {
     "end_time": "2024-03-08T08:28:50.407557Z",
     "start_time": "2024-03-08T08:28:50.632Z"
    }
   },
   "source": [
    "## 1.3 Deeptools ATAC Heatmap"
   ]
  },
  {
   "cell_type": "markdown",
   "id": "b17cda96",
   "metadata": {},
   "source": [
    "1.TSS信号值"
   ]
  },
  {
   "cell_type": "code",
   "execution_count": 1293,
   "id": "d22b481e",
   "metadata": {
    "ExecuteTime": {
     "end_time": "2024-03-08T13:17:58.724523Z",
     "start_time": "2024-03-08T13:17:58.628Z"
    }
   },
   "outputs": [],
   "source": [
    "tss_df <- read.delim(\"/home/minghao/workbase/16_Tilapia_Cold_BulkRNA-ATAC_jiaohe/Genome/Nile_Tilapia_TSS_109_Ensembl.txt\",sep = \"\\t\")\n",
    "\n",
    "tss_df <- tss_df %>% dplyr::select(1,2,5) %>% unique %>% \n",
    "    dplyr::rename(gene = \"Gene.stable.ID\",tss_start = \"Transcription.start.site..TSS.\",LG = \"Chromosome.scaffold.name\")\n",
    "tss_df$tss_end <- tss_df$tss_start + 1"
   ]
  },
  {
   "cell_type": "code",
   "execution_count": 1309,
   "id": "6cd813e5",
   "metadata": {
    "ExecuteTime": {
     "end_time": "2024-03-08T14:01:50.243592Z",
     "start_time": "2024-03-08T14:01:50.523Z"
    }
   },
   "outputs": [],
   "source": [
    "lapply(split(heatmap_gene2_cluster$gene,heatmap_gene2_cluster$cluster),function(x){\n",
    "    tss <- tss_df[tss_df$gene %in% x,2:4]\n",
    "    \n",
    "}) -> tss_list"
   ]
  },
  {
   "cell_type": "code",
   "execution_count": 1310,
   "id": "127e3e30",
   "metadata": {
    "ExecuteTime": {
     "end_time": "2024-03-08T14:01:50.705796Z",
     "start_time": "2024-03-08T14:01:50.978Z"
    },
    "scrolled": true
   },
   "outputs": [],
   "source": [
    "setwd(\"/home/minghao/workbase/16_Tilapia_Cold_BulkRNA-ATAC_jiaohe/output/RNA&ATAC_output\")\n",
    "write.table(tss_list[[1]],\"./20240308_cluster1.bed\",sep = \"\\t\",col.names = F,row.names = F,quote = F)\n",
    "write.table(tss_list[[2]],\"./20240308_cluster2.bed\",sep = \"\\t\",col.names = F,row.names = F,quote = F)\n",
    "write.table(tss_list[[3]],\"./20240308_cluster3.bed\",sep = \"\\t\",col.names = F,row.names = F,quote = F)"
   ]
  },
  {
   "cell_type": "markdown",
   "id": "6604e7f6",
   "metadata": {},
   "source": [
    "2.peaks信号值"
   ]
  },
  {
   "cell_type": "code",
   "execution_count": 1590,
   "id": "9c19fd65",
   "metadata": {
    "ExecuteTime": {
     "end_time": "2024-03-11T06:30:39.032347Z",
     "start_time": "2024-03-11T06:30:39.227Z"
    },
    "scrolled": true
   },
   "outputs": [],
   "source": [
    "RNA_ATAC_cor_anno_filter %>% \n",
    "        inner_join(heatmap_gene2_cluster,by = c(\"RNA_gene\" = \"gene\")) %>% filter() %>% \n",
    "    dplyr::select(1,6:8,19,5) %>% distinct %>% split(.$cluster) -> temp"
   ]
  },
  {
   "cell_type": "code",
   "execution_count": 1591,
   "id": "b3a5f89a",
   "metadata": {
    "ExecuteTime": {
     "end_time": "2024-03-11T06:30:39.466667Z",
     "start_time": "2024-03-11T06:30:39.684Z"
    }
   },
   "outputs": [],
   "source": [
    "temp[[1]] <- temp[[1]][temp[[1]]$RNA_log2FoldChange < 0,]"
   ]
  },
  {
   "cell_type": "code",
   "execution_count": 1596,
   "id": "eb2bc7d1",
   "metadata": {
    "ExecuteTime": {
     "end_time": "2024-03-11T06:34:37.098885Z",
     "start_time": "2024-03-11T06:34:37.294Z"
    }
   },
   "outputs": [],
   "source": [
    "setwd(\"/home/minghao/workbase/16_Tilapia_Cold_BulkRNA-ATAC_jiaohe/output/RNA&ATAC_output\")\n",
    "write.table(temp[[1]][,2:4],\"./20240308_cluster1.bed\",sep = \"\\t\",col.names = F,row.names = F,quote = F)\n",
    "write.table(temp[[2]][,2:4],\"./20240308_cluster2.bed\",sep = \"\\t\",col.names = F,row.names = F,quote = F)\n",
    "write.table(temp[[3]][,2:4],\"./20240308_cluster3.bed\",sep = \"\\t\",col.names = F,row.names = F,quote = F)"
   ]
  },
  {
   "cell_type": "code",
   "execution_count": 1594,
   "id": "bf0c9880",
   "metadata": {
    "ExecuteTime": {
     "end_time": "2024-03-11T06:31:32.522319Z",
     "start_time": "2024-03-11T06:31:32.740Z"
    }
   },
   "outputs": [],
   "source": [
    "subset_heatmap_peaks <- temp"
   ]
  },
  {
   "cell_type": "code",
   "execution_count": 1605,
   "id": "b287d450",
   "metadata": {
    "ExecuteTime": {
     "end_time": "2024-03-11T06:52:00.233976Z",
     "start_time": "2024-03-11T06:52:00.426Z"
    }
   },
   "outputs": [],
   "source": [
    "setwd(\"/home/minghao/workbase/16_Tilapia_Cold_BulkRNA-ATAC_jiaohe/output/RNA&ATAC_output\")\n",
    "write.table(rbind(subset_heatmap_peaks[[1]][,2:4],subset_heatmap_peaks[[2]][,2:4],subset_heatmap_peaks[[3]][,2:4]),\n",
    "           \"./20240308_cluster_merge.bed\",sep = \"\\t\",col.names = F,row.names = F,quote = F)"
   ]
  },
  {
   "cell_type": "markdown",
   "id": "4879fbb9",
   "metadata": {},
   "source": [
    "```shell\n",
    "#cd /home/zhangdeyin/cjb/jiaohe/minhaobam/merge\n",
    "\n",
    "cd ~/workbase/16_Tilapia_Cold_BulkRNA-ATAC_jiaohe/rmDuplicates\n",
    "sample=(\"Ctrl_HK\" \"Cold_HK\" \"Ctrl_TH\" \"Cold_TH\")\n",
    "output=/home/minghao/workbase/16_Tilapia_Cold_BulkRNA-ATAC_jiaohe/bw/merge_bw_bySizeFactor\n",
    "\n",
    "declare -A scaleFactorMap\n",
    "scaleFactorMap[\"Ctrl_HK\"]=0.511042094572749 #DEseq2 重复间的sizefactor相加后取倒数\n",
    "scaleFactorMap[\"Cold_HK\"]=0.476776451026529\n",
    "scaleFactorMap[\"Ctrl_TH\"]=0.526980833122425\n",
    "scaleFactorMap[\"Cold_TH\"]=0.464729807670357\n",
    "\n",
    "for id in ${sample[@]}; do\n",
    "  echo ${id}\n",
    "  ######samtools index -@ 5 ${id}.rmdup.bam##\n",
    "  scaleFactor=${scaleFactorMap[${id}]}\n",
    "  bamCoverage -b ${id}.rmdup.merge.bam -o ${output}/${id}_merge.bw --binSize 50 --scaleFactor ${scaleFactor} --numberOfProcessors 40\n",
    "done \n",
    "\n",
    "```"
   ]
  },
  {
   "cell_type": "markdown",
   "id": "e9a520ea",
   "metadata": {},
   "source": [
    "```shell\n",
    "##20240308\n",
    "#cluster1\n",
    "cd /home/minghao/workbase/16_Tilapia_Cold_BulkRNA-ATAC_jiaohe/output/RNA&ATAC_output\n",
    "computeMatrix reference-point --missingDataAsZero --referencePoint TSS \\\n",
    "-b 2000 -a 2000 \\\n",
    "-S /home/zhangdeyin/cjb/jiaohe/minhaobam/merge/bw/Ctrl_HK_merge.bw /home/zhangdeyin/cjb/jiaohe/minhaobam/merge/bw/Cold_HK_merge.bw /home/zhangdeyin/cjb/jiaohe/minhaobam/merge/bw/Ctrl_TH_merge.bw /home/zhangdeyin/cjb/jiaohe/minhaobam/merge/bw/Cold_TH_merge.bw \\\n",
    "-p 50 \\\n",
    "-R 20240308_cluster1.bed  \\\n",
    "--skipZeros \\\n",
    "-o /home/minghao/workbase/16_Tilapia_Cold_BulkRNA-ATAC_jiaohe/deeptools_output/20240308_Fig2_scale_regions_ATAC_clustergene.mat.gz \\\n",
    "--outFileSortedRegions /home/minghao/workbase/16_Tilapia_Cold_BulkRNA-ATAC_jiaohe/deeptools_output/20240308_Fig2_scale_regions_ATAC_clustergene.bed\n",
    "\n",
    "plotHeatmap -m /home/minghao/workbase/16_Tilapia_Cold_BulkRNA-ATAC_jiaohe/deeptools_output/20240308_Fig2_scale_regions_ATAC_clustergene.mat.gz \\\n",
    "     -out /home/minghao/workbase/16_Tilapia_Cold_BulkRNA-ATAC_jiaohe/deeptools_output/20240308_Fig2_cluster1_Heatmap.pdf \\\n",
    "     --colorMap YlGnBu\n",
    "#cluter2     \n",
    "computeMatrix reference-point --missingDataAsZero --referencePoint TSS \\\n",
    "-b 2000 -a 2000 \\\n",
    "-S /home/zhangdeyin/cjb/jiaohe/minhaobam/merge/bw/Ctrl_HK_merge.bw /home/zhangdeyin/cjb/jiaohe/minhaobam/merge/bw/Cold_HK_merge.bw /home/zhangdeyin/cjb/jiaohe/minhaobam/merge/bw/Ctrl_TH_merge.bw /home/zhangdeyin/cjb/jiaohe/minhaobam/merge/bw/Cold_TH_merge.bw \\\n",
    "-p 50 \\\n",
    "-R 20240308_cluster2.bed  \\\n",
    "--skipZeros \\\n",
    "-o /home/minghao/workbase/16_Tilapia_Cold_BulkRNA-ATAC_jiaohe/deeptools_output/20240308_Fig2_scale_regions_ATAC_clustergene.mat.gz \\\n",
    "--outFileSortedRegions /home/minghao/workbase/16_Tilapia_Cold_BulkRNA-ATAC_jiaohe/deeptools_output/20240308_Fig2_scale_regions_ATAC_clustergene.bed\n",
    "\n",
    "plotHeatmap -m /home/minghao/workbase/16_Tilapia_Cold_BulkRNA-ATAC_jiaohe/deeptools_output/20240308_Fig2_scale_regions_ATAC_clustergene.mat.gz \\\n",
    "     -out /home/minghao/workbase/16_Tilapia_Cold_BulkRNA-ATAC_jiaohe/deeptools_output/20240308_Fig2_cluster2_Heatmap.pdf \\\n",
    "     --colorMap YlGnBu\n",
    "#cluster3    \n",
    "computeMatrix reference-point --missingDataAsZero --referencePoint TSS \\\n",
    "-b 2000 -a 2000 \\\n",
    "-S /home/zhangdeyin/cjb/jiaohe/minhaobam/merge/bw/Ctrl_HK_merge.bw /home/zhangdeyin/cjb/jiaohe/minhaobam/merge/bw/Cold_HK_merge.bw /home/zhangdeyin/cjb/jiaohe/minhaobam/merge/bw/Ctrl_TH_merge.bw /home/zhangdeyin/cjb/jiaohe/minhaobam/merge/bw/Cold_TH_merge.bw \\\n",
    "-p 50 \\\n",
    "-R 20240308_cluster3.bed  \\\n",
    "--skipZeros \\\n",
    "-o /home/minghao/workbase/16_Tilapia_Cold_BulkRNA-ATAC_jiaohe/deeptools_output/20240308_Fig2_scale_regions_ATAC_clustergene.mat.gz \\\n",
    "--outFileSortedRegions /home/minghao/workbase/16_Tilapia_Cold_BulkRNA-ATAC_jiaohe/deeptools_output/20240308_Fig2_scale_regions_ATAC_clustergene.bed\n",
    "\n",
    "plotHeatmap -m /home/minghao/workbase/16_Tilapia_Cold_BulkRNA-ATAC_jiaohe/deeptools_output/20240308_Fig2_scale_regions_ATAC_clustergene.mat.gz \\\n",
    "     -out /home/minghao/workbase/16_Tilapia_Cold_BulkRNA-ATAC_jiaohe/deeptools_output/20240308_Fig2_cluster3_Heatmap.pdf \\\n",
    "     --colorMap YlGnBu     \n",
    "\n",
    "\n",
    "\n",
    "```"
   ]
  },
  {
   "cell_type": "code",
   "execution_count": 1598,
   "id": "ea0972a3",
   "metadata": {
    "ExecuteTime": {
     "end_time": "2024-03-11T06:40:00.807136Z",
     "start_time": "2024-03-11T06:40:00.931Z"
    }
   },
   "outputs": [
    {
     "data": {
      "text/html": [
       "<dl>\n",
       "\t<dt>$`cluster1\\n(1499 41%)`</dt>\n",
       "\t\t<dd>4257</dd>\n",
       "\t<dt>$`cluster2\\n(2835 85%)`</dt>\n",
       "\t\t<dd>11659</dd>\n",
       "\t<dt>$`cluster3\\n(635 68%)`</dt>\n",
       "\t\t<dd>1674</dd>\n",
       "</dl>\n"
      ],
      "text/latex": [
       "\\begin{description}\n",
       "\\item[\\$`cluster1\\textbackslash{}n(1499 41\\%)`] 4257\n",
       "\\item[\\$`cluster2\\textbackslash{}n(2835 85\\%)`] 11659\n",
       "\\item[\\$`cluster3\\textbackslash{}n(635 68\\%)`] 1674\n",
       "\\end{description}\n"
      ],
      "text/markdown": [
       "$`cluster1\\n(1499 41%)`\n",
       ":   4257\n",
       "$`cluster2\\n(2835 85%)`\n",
       ":   11659\n",
       "$`cluster3\\n(635 68%)`\n",
       ":   1674\n",
       "\n",
       "\n"
      ],
      "text/plain": [
       "$`cluster1\\n(1499 41%)`\n",
       "[1] 4257\n",
       "\n",
       "$`cluster2\\n(2835 85%)`\n",
       "[1] 11659\n",
       "\n",
       "$`cluster3\\n(635 68%)`\n",
       "[1] 1674\n"
      ]
     },
     "metadata": {},
     "output_type": "display_data"
    },
    {
     "data": {
      "text/plain": [
       "\n",
       "cluster1\\n(1499 41%) cluster2\\n(2835 85%)  cluster3\\n(635 68%) \n",
       "                1499                 2835                  635 "
      ]
     },
     "metadata": {},
     "output_type": "display_data"
    },
    {
     "data": {
      "text/plain": [
       "\n",
       "cluster1\\n(1499 41%) cluster2\\n(2835 85%)  cluster3\\n(635 68%) \n",
       "                8937                13866                 2479 "
      ]
     },
     "metadata": {},
     "output_type": "display_data"
    }
   ],
   "source": [
    "lapply(subset_heatmap_peaks,nrow)\n",
    "temp <- RNA_ATAC_cor_anno %>% inner_join(heatmap_gene2_cluster,by = c(\"RNA_gene\"=\"gene\")) %>% dplyr::select(RNA_gene,RNA_tissue,cluster,cor,peak_id)\n",
    "temp <- na.omit(temp) %>% distinct\n",
    "temp <- temp %>% distinct(peak_id,.keep_all = T) %>% unique\n",
    "table(heatmap_gene2_cluster$cluster)\n",
    "table(temp$cluster)"
   ]
  },
  {
   "cell_type": "code",
   "execution_count": 1604,
   "id": "556e3b47",
   "metadata": {
    "ExecuteTime": {
     "end_time": "2024-03-11T06:48:24.388378Z",
     "start_time": "2024-03-11T06:48:24.360Z"
    }
   },
   "outputs": [
    {
     "data": {
      "text/html": [
       "0.476334340382679"
      ],
      "text/latex": [
       "0.476334340382679"
      ],
      "text/markdown": [
       "0.476334340382679"
      ],
      "text/plain": [
       "[1] 0.4763343"
      ]
     },
     "metadata": {},
     "output_type": "display_data"
    },
    {
     "data": {
      "text/html": [
       "0.840833693927593"
      ],
      "text/latex": [
       "0.840833693927593"
      ],
      "text/markdown": [
       "0.840833693927593"
      ],
      "text/plain": [
       "[1] 0.8408337"
      ]
     },
     "metadata": {},
     "output_type": "display_data"
    },
    {
     "data": {
      "text/html": [
       "0.675272287212586"
      ],
      "text/latex": [
       "0.675272287212586"
      ],
      "text/markdown": [
       "0.675272287212586"
      ],
      "text/plain": [
       "[1] 0.6752723"
      ]
     },
     "metadata": {},
     "output_type": "display_data"
    },
    {
     "data": {
      "text/html": [
       "17590"
      ],
      "text/latex": [
       "17590"
      ],
      "text/markdown": [
       "17590"
      ],
      "text/plain": [
       "[1] 17590"
      ]
     },
     "metadata": {},
     "output_type": "display_data"
    }
   ],
   "source": [
    "4257/8937\n",
    "11659/13866\n",
    "1674/2479\n",
    "4257 + 11659 + 1674"
   ]
  },
  {
   "cell_type": "code",
   "execution_count": 2619,
   "id": "4f2fbb1b",
   "metadata": {
    "ExecuteTime": {
     "end_time": "2024-03-14T09:35:03.175578Z",
     "start_time": "2024-03-14T09:35:03.863Z"
    }
   },
   "outputs": [
    {
     "data": {
      "text/html": [
       "<dl>\n",
       "\t<dt>$`cluster1\\n(1499 41%)`</dt>\n",
       "\t\t<dd><style>\n",
       ".list-inline {list-style: none; margin:0; padding: 0}\n",
       ".list-inline>li {display: inline-block}\n",
       ".list-inline>li:not(:last-child)::after {content: \"\\00b7\"; padding: 0 .5ex}\n",
       "</style>\n",
       "<ol class=list-inline><li>4257</li><li>6</li></ol>\n",
       "</dd>\n",
       "\t<dt>$`cluster2\\n(2835 85%)`</dt>\n",
       "\t\t<dd><style>\n",
       ".list-inline {list-style: none; margin:0; padding: 0}\n",
       ".list-inline>li {display: inline-block}\n",
       ".list-inline>li:not(:last-child)::after {content: \"\\00b7\"; padding: 0 .5ex}\n",
       "</style>\n",
       "<ol class=list-inline><li>11659</li><li>6</li></ol>\n",
       "</dd>\n",
       "\t<dt>$`cluster3\\n(635 68%)`</dt>\n",
       "\t\t<dd><style>\n",
       ".list-inline {list-style: none; margin:0; padding: 0}\n",
       ".list-inline>li {display: inline-block}\n",
       ".list-inline>li:not(:last-child)::after {content: \"\\00b7\"; padding: 0 .5ex}\n",
       "</style>\n",
       "<ol class=list-inline><li>1674</li><li>6</li></ol>\n",
       "</dd>\n",
       "</dl>\n"
      ],
      "text/latex": [
       "\\begin{description}\n",
       "\\item[\\$`cluster1\\textbackslash{}n(1499 41\\%)`] \\begin{enumerate*}\n",
       "\\item 4257\n",
       "\\item 6\n",
       "\\end{enumerate*}\n",
       "\n",
       "\\item[\\$`cluster2\\textbackslash{}n(2835 85\\%)`] \\begin{enumerate*}\n",
       "\\item 11659\n",
       "\\item 6\n",
       "\\end{enumerate*}\n",
       "\n",
       "\\item[\\$`cluster3\\textbackslash{}n(635 68\\%)`] \\begin{enumerate*}\n",
       "\\item 1674\n",
       "\\item 6\n",
       "\\end{enumerate*}\n",
       "\n",
       "\\end{description}\n"
      ],
      "text/markdown": [
       "$`cluster1\\n(1499 41%)`\n",
       ":   1. 4257\n",
       "2. 6\n",
       "\n",
       "\n",
       "\n",
       "$`cluster2\\n(2835 85%)`\n",
       ":   1. 11659\n",
       "2. 6\n",
       "\n",
       "\n",
       "\n",
       "$`cluster3\\n(635 68%)`\n",
       ":   1. 1674\n",
       "2. 6\n",
       "\n",
       "\n",
       "\n",
       "\n",
       "\n"
      ],
      "text/plain": [
       "$`cluster1\\n(1499 41%)`\n",
       "[1] 4257    6\n",
       "\n",
       "$`cluster2\\n(2835 85%)`\n",
       "[1] 11659     6\n",
       "\n",
       "$`cluster3\\n(635 68%)`\n",
       "[1] 1674    6\n"
      ]
     },
     "metadata": {},
     "output_type": "display_data"
    }
   ],
   "source": [
    "lapply(subset_heatmap_peaks,dim)"
   ]
  },
  {
   "cell_type": "markdown",
   "id": "e6c1bf97",
   "metadata": {},
   "source": [
    "## Motif Enrich"
   ]
  },
  {
   "cell_type": "code",
   "execution_count": 1400,
   "id": "c9c7f087",
   "metadata": {
    "ExecuteTime": {
     "end_time": "2024-03-09T08:54:47.528762Z",
     "start_time": "2024-03-09T08:54:48.218Z"
    }
   },
   "outputs": [
    {
     "data": {
      "text/html": [
       "<table class=\"dataframe\">\n",
       "<caption>A data.frame: 2 × 6</caption>\n",
       "<thead>\n",
       "\t<tr><th></th><th scope=col>RNA_log2FoldChange</th><th scope=col>seqnames</th><th scope=col>start</th><th scope=col>end</th><th scope=col>cluster</th><th scope=col>RNA_tissue</th></tr>\n",
       "\t<tr><th></th><th scope=col>&lt;dbl&gt;</th><th scope=col>&lt;fct&gt;</th><th scope=col>&lt;int&gt;</th><th scope=col>&lt;int&gt;</th><th scope=col>&lt;fct&gt;</th><th scope=col>&lt;chr&gt;</th></tr>\n",
       "</thead>\n",
       "<tbody>\n",
       "\t<tr><th scope=row>9028</th><td>-0.3146412</td><td>LG15</td><td>2024548</td><td>2024948</td><td>cluster1\n",
       "(1499 41%)</td><td>HK</td></tr>\n",
       "\t<tr><th scope=row>9029</th><td>-0.3146412</td><td>LG15</td><td>2024548</td><td>2024948</td><td>cluster1\n",
       "(1499 41%)</td><td>HK</td></tr>\n",
       "</tbody>\n",
       "</table>\n"
      ],
      "text/latex": [
       "A data.frame: 2 × 6\n",
       "\\begin{tabular}{r|llllll}\n",
       "  & RNA\\_log2FoldChange & seqnames & start & end & cluster & RNA\\_tissue\\\\\n",
       "  & <dbl> & <fct> & <int> & <int> & <fct> & <chr>\\\\\n",
       "\\hline\n",
       "\t9028 & -0.3146412 & LG15 & 2024548 & 2024948 & cluster1\n",
       "(1499 41\\%) & HK\\\\\n",
       "\t9029 & -0.3146412 & LG15 & 2024548 & 2024948 & cluster1\n",
       "(1499 41\\%) & HK\\\\\n",
       "\\end{tabular}\n"
      ],
      "text/markdown": [
       "\n",
       "A data.frame: 2 × 6\n",
       "\n",
       "| <!--/--> | RNA_log2FoldChange &lt;dbl&gt; | seqnames &lt;fct&gt; | start &lt;int&gt; | end &lt;int&gt; | cluster &lt;fct&gt; | RNA_tissue &lt;chr&gt; |\n",
       "|---|---|---|---|---|---|---|\n",
       "| 9028 | -0.3146412 | LG15 | 2024548 | 2024948 | cluster1\n",
       "(1499 41%) | HK |\n",
       "| 9029 | -0.3146412 | LG15 | 2024548 | 2024948 | cluster1\n",
       "(1499 41%) | HK |\n",
       "\n"
      ],
      "text/plain": [
       "     RNA_log2FoldChange seqnames start   end     cluster             \n",
       "9028 -0.3146412         LG15     2024548 2024948 cluster1\\n(1499 41%)\n",
       "9029 -0.3146412         LG15     2024548 2024948 cluster1\\n(1499 41%)\n",
       "     RNA_tissue\n",
       "9028 HK        \n",
       "9029 HK        "
      ]
     },
     "metadata": {},
     "output_type": "display_data"
    }
   ],
   "source": [
    "subset_heatmap_peaks[[1]] %>% head(2)"
   ]
  },
  {
   "cell_type": "code",
   "execution_count": 1396,
   "id": "603b0056",
   "metadata": {
    "ExecuteTime": {
     "end_time": "2024-03-09T05:59:15.246901Z",
     "start_time": "2024-03-09T05:59:15.898Z"
    },
    "scrolled": false
   },
   "outputs": [
    {
     "data": {
      "text/html": [
       "<ol>\n",
       "\t<li>NULL</li>\n",
       "\t<li>NULL</li>\n",
       "\t<li>NULL</li>\n",
       "</ol>\n"
      ],
      "text/latex": [
       "\\begin{enumerate}\n",
       "\\item NULL\n",
       "\\item NULL\n",
       "\\item NULL\n",
       "\\end{enumerate}\n"
      ],
      "text/markdown": [
       "1. NULL\n",
       "2. NULL\n",
       "3. NULL\n",
       "\n",
       "\n"
      ],
      "text/plain": [
       "[[1]]\n",
       "NULL\n",
       "\n",
       "[[2]]\n",
       "NULL\n",
       "\n",
       "[[3]]\n",
       "NULL\n"
      ]
     },
     "metadata": {},
     "output_type": "display_data"
    }
   ],
   "source": [
    "lapply(1:length(subset_heatmap_peaks),function(x){\n",
    "    data <- subset_heatmap_peaks[[x]]\n",
    "    write.table(data[,2:4],paste0(\"/home/minghao/workbase/16_Tilapia_Cold_BulkRNA-ATAC_jiaohe/Motif_Enrich/input/DEPeaks_cluster\",x,\".bed\"),\n",
    "            sep = \"\\t\",quote = F,col.names = F,row.names = F)\n",
    "})"
   ]
  },
  {
   "cell_type": "code",
   "execution_count": 1514,
   "id": "bcfd3df5",
   "metadata": {
    "ExecuteTime": {
     "end_time": "2024-03-11T02:07:55.145503Z",
     "start_time": "2024-03-11T02:07:55.211Z"
    }
   },
   "outputs": [
    {
     "data": {
      "text/html": [
       "<ol>\n",
       "\t<li>NULL</li>\n",
       "\t<li>NULL</li>\n",
       "\t<li>NULL</li>\n",
       "</ol>\n"
      ],
      "text/latex": [
       "\\begin{enumerate}\n",
       "\\item NULL\n",
       "\\item NULL\n",
       "\\item NULL\n",
       "\\end{enumerate}\n"
      ],
      "text/markdown": [
       "1. NULL\n",
       "2. NULL\n",
       "3. NULL\n",
       "\n",
       "\n"
      ],
      "text/plain": [
       "[[1]]\n",
       "NULL\n",
       "\n",
       "[[2]]\n",
       "NULL\n",
       "\n",
       "[[3]]\n",
       "NULL\n"
      ]
     },
     "metadata": {},
     "output_type": "display_data"
    }
   ],
   "source": [
    "lapply(1:length(subset_heatmap_peaks),function(x){\n",
    "    data <- subset_heatmap_peaks[[x]]\n",
    "    data_HK <- data %>% filter(RNA_tissue == \"HK\")\n",
    "    data_SP <- data %>% filter(RNA_tissue == \"TH\")\n",
    "    write.table(data_HK[,2:4],paste0(\"/home/minghao/workbase/16_Tilapia_Cold_BulkRNA-ATAC_jiaohe/Motif_Enrich/input/DEPeaks_cluster\",x,\"_HK.bed\"),\n",
    "            sep = \"\\t\",quote = F,col.names = F,row.names = F)\n",
    "    write.table(data_SP[,2:4],paste0(\"/home/minghao/workbase/16_Tilapia_Cold_BulkRNA-ATAC_jiaohe/Motif_Enrich/input/DEPeaks_cluster\",x,\"_TH.bed\"),\n",
    "            sep = \"\\t\",quote = F,col.names = F,row.names = F)\n",
    "})"
   ]
  },
  {
   "cell_type": "markdown",
   "id": "a6e80986",
   "metadata": {},
   "source": [
    "```shell\n",
    "\n",
    "mkdir -p /home/minghao/workbase/16_Tilapia_Cold_BulkRNA-ATAC_jiaohe/Motif_Enrich/input\n",
    "genome=/home/minghao/workbase/16_Tilapia_Cold_BulkRNA-ATAC_jiaohe/Genome/Oreochromis_niloticus.O_niloticus_UMD_NMBU.dna.109.fa\n",
    "cd /home/minghao/workbase/16_Tilapia_Cold_BulkRNA-ATAC_jiaohe/Motif_Enrich/input\n",
    "\n",
    "find ./ -regex \".*[0-9]\\.bed\" | while read id;do\n",
    "name=$(basename ${id})\n",
    "name=${name/.bed/}\n",
    "echo ${id} ${name}\n",
    "findMotifsGenome.pl ${id} ${genome} ${name}_homer_motif_output -p 60\n",
    "done\n",
    "\n",
    "```\n",
    "\n",
    "```shell\n",
    "\n",
    "find ./ -regex \".*[A-Z][A-Z]\\.bed\" | while read id; do\n",
    "name=$(basename ${id})\n",
    "name=${name/.bed/}\n",
    "echo ${id} ${name}\n",
    "findMotifsGenome.pl ${id} ${genome} ${name}_homer_motif_output -p 60\n",
    "done\n",
    "\n",
    "\n",
    "findMotifsGenome.pl /home/minghao/workbase/16_Tilapia_Cold_BulkRNA-ATAC_jiaohe/Motif_Enrich/input/DEPeaks_cluster1_TH.bed \\\n",
    "/home/minghao/workbase/16_Tilapia_Cold_BulkRNA-ATAC_jiaohe/Genome/Oreochromis_niloticus.O_niloticus_UMD_NMBU.dna.109.fa \\\n",
    "/home/minghao/workbase/16_Tilapia_Cold_BulkRNA-ATAC_jiaohe/Motif_Enrich/input/DEPeaks_cluster1_TH_homer_motif_output -p 60\n",
    "\n",
    "findMotifsGenome.pl /home/minghao/workbase/16_Tilapia_Cold_BulkRNA-ATAC_jiaohe/Motif_Enrich/input/DEPeaks_cluster2_TH.bed \\\n",
    "/home/minghao/workbase/16_Tilapia_Cold_BulkRNA-ATAC_jiaohe/Genome/Oreochromis_niloticus.O_niloticus_UMD_NMBU.dna.109.fa \\\n",
    "/home/minghao/workbase/16_Tilapia_Cold_BulkRNA-ATAC_jiaohe/Motif_Enrich/input/DEPeaks_cluster2_TH_homer_motif_output -p 60\n",
    "\n",
    "findMotifsGenome.pl /home/minghao/workbase/16_Tilapia_Cold_BulkRNA-ATAC_jiaohe/Motif_Enrich/input/DEPeaks_cluster3_TH.bed \\\n",
    "/home/minghao/workbase/16_Tilapia_Cold_BulkRNA-ATAC_jiaohe/Genome/Oreochromis_niloticus.O_niloticus_UMD_NMBU.dna.109.fa \\\n",
    "/home/minghao/workbase/16_Tilapia_Cold_BulkRNA-ATAC_jiaohe/Motif_Enrich/input/DEPeaks_cluster3_TH_homer_motif_output -p 60\n",
    "\n",
    "```"
   ]
  },
  {
   "cell_type": "code",
   "execution_count": 1515,
   "id": "b00385f8",
   "metadata": {
    "ExecuteTime": {
     "end_time": "2024-03-11T02:08:27.802649Z",
     "start_time": "2024-03-11T02:08:27.933Z"
    }
   },
   "outputs": [],
   "source": [
    "setwd(\"/home/minghao/workbase/16_Tilapia_Cold_BulkRNA-ATAC_jiaohe/Motif_Enrich/input\")\n",
    "homer_res_path_dir <- list.files(path = \"./\",pattern = \"cluster[1-9]_HK_homer_motif_output\",include.dirs = TRUE)"
   ]
  },
  {
   "cell_type": "code",
   "execution_count": 1525,
   "id": "1b532fb8",
   "metadata": {
    "ExecuteTime": {
     "end_time": "2024-03-11T02:10:04.148043Z",
     "start_time": "2024-03-11T02:10:04.250Z"
    },
    "scrolled": false
   },
   "outputs": [
    {
     "name": "stdout",
     "output_type": "stream",
     "text": [
      "[1] \"./DEPeaks_cluster1_HK_homer_motif_output/knownResults.txt\"\n",
      "[1] \"./DEPeaks_cluster2_HK_homer_motif_output/knownResults.txt\"\n",
      "[1] \"./DEPeaks_cluster3_HK_homer_motif_output/knownResults.txt\"\n"
     ]
    }
   ],
   "source": [
    "lapply(homer_res_path_dir,function(x){\n",
    "    path <- list.files(path = paste0(\"./\",x),pattern = \"knownResults.txt\",full.names = T)\n",
    "    print(path)\n",
    "    temp <- read.delim(path,header = T,sep = \"\\t\") %>% filter(q.value..Benjamini. < 0.05)\n",
    "    return(temp)\n",
    "}) -> HK_homer_res"
   ]
  },
  {
   "cell_type": "code",
   "execution_count": 1528,
   "id": "54af6837",
   "metadata": {
    "ExecuteTime": {
     "end_time": "2024-03-11T02:12:31.067310Z",
     "start_time": "2024-03-11T02:12:29.550Z"
    }
   },
   "outputs": [],
   "source": [
    "openxlsx::write.xlsx(x = list(\"Cluster1\" = HK_homer_res[[1]],\"Cluster2\" = HK_homer_res[[2]],\"Cluster3\" = HK_homer_res[[3]]),\n",
    "                     file = \"/home/minghao/workbase/16_Tilapia_Cold_BulkRNA-ATAC_jiaohe/Motif_Enrich/output/HK_homer_res.xlsx\")"
   ]
  },
  {
   "cell_type": "code",
   "execution_count": 1529,
   "id": "c0332081",
   "metadata": {
    "ExecuteTime": {
     "end_time": "2024-03-11T02:24:03.156528Z",
     "start_time": "2024-03-11T02:24:03.082Z"
    }
   },
   "outputs": [],
   "source": [
    "setwd(\"/home/minghao/workbase/16_Tilapia_Cold_BulkRNA-ATAC_jiaohe/Motif_Enrich/input\")\n",
    "homer_res_path_dir <- list.files(path = \"./\",pattern = \"cluster[1-9]_TH_homer_motif_output\",include.dirs = TRUE)"
   ]
  },
  {
   "cell_type": "code",
   "execution_count": 1531,
   "id": "0f9335f2",
   "metadata": {
    "ExecuteTime": {
     "end_time": "2024-03-11T02:25:52.084710Z",
     "start_time": "2024-03-11T02:25:52.156Z"
    }
   },
   "outputs": [
    {
     "name": "stdout",
     "output_type": "stream",
     "text": [
      "[1] \"./DEPeaks_cluster1_TH_homer_motif_output/knownResults.txt\"\n",
      "[1] \"./DEPeaks_cluster2_TH_homer_motif_output/knownResults.txt\"\n",
      "[1] \"./DEPeaks_cluster3_TH_homer_motif_output/knownResults.txt\"\n"
     ]
    }
   ],
   "source": [
    "lapply(homer_res_path_dir,function(x){\n",
    "    path <- list.files(path = paste0(\"./\",x),pattern = \"knownResults.txt\",full.names = T)\n",
    "    print(path)\n",
    "    temp <- read.delim(path,header = T,sep = \"\\t\") %>% filter(q.value..Benjamini. < 0.05)\n",
    "    return(temp)\n",
    "}) -> TH_homer_res"
   ]
  },
  {
   "cell_type": "code",
   "execution_count": 1532,
   "id": "0e177a1b",
   "metadata": {
    "ExecuteTime": {
     "end_time": "2024-03-11T02:26:01.260649Z",
     "start_time": "2024-03-11T02:26:01.295Z"
    }
   },
   "outputs": [],
   "source": [
    "openxlsx::write.xlsx(x = list(\"Cluster1\" = TH_homer_res[[1]],\"Cluster2\" = TH_homer_res[[2]],\"Cluster3\" = TH_homer_res[[3]]),\n",
    "                     file = \"/home/minghao/workbase/16_Tilapia_Cold_BulkRNA-ATAC_jiaohe/Motif_Enrich/output/TH_homer_res.xlsx\")"
   ]
  },
  {
   "cell_type": "code",
   "execution_count": null,
   "id": "60d83e23",
   "metadata": {},
   "outputs": [],
   "source": []
  },
  {
   "cell_type": "markdown",
   "id": "6b279b17",
   "metadata": {},
   "source": [
    "```shell\n",
    "cd /home/minghao/workbase/16_Tilapia_Cold_BulkRNA-ATAC_jiaohe/Motif_Enrich/input/DEPeaks_cluster1_HK_homer_motif_output/knownResults/\n",
    "cat known3.motif known9.motif known20.motif known27.motif > merge_4.motif\n",
    "\n",
    "annotatePeaks.pl /home/minghao/workbase/16_Tilapia_Cold_BulkRNA-ATAC_jiaohe/Motif_Enrich/input/DEPeaks_cluster1_HK.bed \\\n",
    "/home/minghao/workbase/16_Tilapia_Cold_BulkRNA-ATAC_jiaohe/Genome/Oreochromis_niloticus.O_niloticus_UMD_NMBU.dna.109.fa \\\n",
    "-m merge_4.motif > DEPeaks_cluster1_HK_merge_4_motif.txt\n",
    "\n",
    "```"
   ]
  },
  {
   "cell_type": "markdown",
   "id": "ad2cbb37",
   "metadata": {},
   "source": [
    "```shell\n",
    "cd /home/minghao/workbase/16_Tilapia_Cold_BulkRNA-ATAC_jiaohe/Motif_Enrich/input/DEPeaks_cluster2_HK_homer_motif_output/knownResults\n",
    "cat known1.motif known67.motif known89.motif known147.motif known99.motif known100.motif known117.motif \\\n",
    "/home/minghao/workbase/16_Tilapia_Cold_BulkRNA-ATAC_jiaohe/Motif_Enrich/input/DEPeaks_cluster1_HK_homer_motif_output/knownResults/known9.motif \\\n",
    "/home/minghao/workbase/16_Tilapia_Cold_BulkRNA-ATAC_jiaohe/Motif_Enrich/input/DEPeaks_cluster1_HK_homer_motif_output/knownResults/known20.motif \\\n",
    "/home/minghao/workbase/16_Tilapia_Cold_BulkRNA-ATAC_jiaohe/Motif_Enrich/input/DEPeaks_cluster1_HK_homer_motif_output/knownResults/known27.motif > /home/minghao/workbase/16_Tilapia_Cold_BulkRNA-ATAC_jiaohe/Motif_Enrich/input/select_merge_10.motif\n",
    "\n",
    "annotatePeaks.pl /home/minghao/workbase/16_Tilapia_Cold_BulkRNA-ATAC_jiaohe/output/'RNA&ATAC_output'/20240308_cluster_merge.bed \\\n",
    "/home/minghao/workbase/16_Tilapia_Cold_BulkRNA-ATAC_jiaohe/Genome/Oreochromis_niloticus.O_niloticus_UMD_NMBU.dna.109.fa \\\n",
    "-m /home/minghao/workbase/16_Tilapia_Cold_BulkRNA-ATAC_jiaohe/Motif_Enrich/input/select_merge_10.motif > /home/minghao/workbase/16_Tilapia_Cold_BulkRNA-ATAC_jiaohe/Motif_Enrich/output/DEPeaks_select_merge_10_motif_result.txt\n",
    "\n",
    "\n",
    "```"
   ]
  },
  {
   "cell_type": "code",
   "execution_count": 1609,
   "id": "b3db55f9",
   "metadata": {
    "ExecuteTime": {
     "end_time": "2024-03-11T07:18:00.482830Z",
     "start_time": "2024-03-11T07:18:00.594Z"
    },
    "scrolled": true
   },
   "outputs": [],
   "source": [
    "merge_10_motif_result <- read.delim(\"/home/minghao/workbase/16_Tilapia_Cold_BulkRNA-ATAC_jiaohe/Motif_Enrich/output/DEPeaks_select_merge_10_motif_result.txt\",sep = \"\\t\",header = T)\n",
    "colnames(merge_10_motif_result)[1] <- \"PeakID\"\n",
    "merge_10_motif_result$Start <- merge_10_motif_result$Start - 1"
   ]
  },
  {
   "cell_type": "code",
   "execution_count": 1658,
   "id": "abc517dd",
   "metadata": {
    "ExecuteTime": {
     "end_time": "2024-03-11T07:53:04.008749Z",
     "start_time": "2024-03-11T07:53:03.819Z"
    },
    "scrolled": true
   },
   "outputs": [],
   "source": [
    "merge_10_motif_result %>% \n",
    "    group_by(Chr,Start,End) %>% \n",
    "    left_join(RNA_ATAC_cor_anno,by = c(\"Chr\" = \"seqnames\",\"Start\" = \"start\",\"End\" = \"end\"),relationship = \"many-to-many\") %>% \n",
    "    dplyr::select(1:6,22:31,32,34,35,36,39,40,42,43:46) %>% dplyr::distinct() %>% filter(cor > 0) -> merge_10_motif_result2"
   ]
  },
  {
   "cell_type": "code",
   "execution_count": 1659,
   "id": "27a7b9ac",
   "metadata": {
    "ExecuteTime": {
     "end_time": "2024-03-11T07:53:04.950668Z",
     "start_time": "2024-03-11T07:53:05.120Z"
    },
    "scrolled": true
   },
   "outputs": [],
   "source": [
    "merge_10_motif_result2 <- merge_10_motif_result2 %>% \n",
    "    left_join(heatmap_gene2_cluster,by = c(\"RNA_gene\" = \"gene\")) %>% dplyr::distinct()"
   ]
  },
  {
   "cell_type": "code",
   "execution_count": 1661,
   "id": "41cc2648",
   "metadata": {
    "ExecuteTime": {
     "end_time": "2024-03-11T07:53:28.550902Z",
     "start_time": "2024-03-11T07:53:26.258Z"
    }
   },
   "outputs": [],
   "source": [
    "openxlsx::write.xlsx(merge_10_motif_result2,\n",
    "                     \"/home/minghao/workbase/16_Tilapia_Cold_BulkRNA-ATAC_jiaohe/Motif_Enrich/output/DEPeaks_select_merge_10_motif_result_v2.xlsx\")\n",
    "saveRDS(merge_10_motif_result2,\"/home/minghao/workbase/16_Tilapia_Cold_BulkRNA-ATAC_jiaohe/Motif_Enrich/output/DEPeaks_select_merge_10_motif_result_v2.rds\")"
   ]
  },
  {
   "cell_type": "code",
   "execution_count": 1669,
   "id": "3218f6de",
   "metadata": {
    "ExecuteTime": {
     "end_time": "2024-03-11T08:10:23.620545Z",
     "start_time": "2024-03-11T08:10:23.817Z"
    }
   },
   "outputs": [],
   "source": [
    "merge_10_motif_result2$test <- do.call(paste0, c(merge_10_motif_result2[, 7:16], sep = \"\"))\n",
    "merge_10_motif_result3 <- merge_10_motif_result2[merge_10_motif_result2$test != \"\",]\n",
    "openxlsx::write.xlsx(merge_10_motif_result3,\n",
    "                     \"/home/minghao/workbase/16_Tilapia_Cold_BulkRNA-ATAC_jiaohe/Motif_Enrich/output/DEPeaks_select_merge_10_motif_result_v3.xlsx\")\n",
    "saveRDS(merge_10_motif_result3,\"/home/minghao/workbase/16_Tilapia_Cold_BulkRNA-ATAC_jiaohe/Motif_Enrich/output/DEPeaks_select_merge_10_motif_result_v3.rds\")"
   ]
  },
  {
   "cell_type": "code",
   "execution_count": null,
   "id": "8e95e939",
   "metadata": {},
   "outputs": [],
   "source": []
  },
  {
   "cell_type": "markdown",
   "id": "7fe29a6f",
   "metadata": {
    "heading_collapsed": true
   },
   "source": [
    "### motif logo"
   ]
  },
  {
   "cell_type": "code",
   "execution_count": 1852,
   "id": "235aaee1",
   "metadata": {
    "ExecuteTime": {
     "end_time": "2024-03-12T01:36:06.165591Z",
     "start_time": "2024-03-12T01:36:06.132Z"
    },
    "hidden": true
   },
   "outputs": [],
   "source": [
    "homer_res_path_dir <- list.files(path = \"/home/minghao/workbase/16_Tilapia_Cold_BulkRNA-ATAC_jiaohe/Motif_Enrich/input\",\n",
    "           include.dirs = F,recursive = T,\n",
    "          full.names = T,pattern = \"knownResults.txt\")\n",
    "homer_res_path_dir <- grep(homer_res_path_dir,pattern = \"DEPeaks_cluster[0-9]_[A-Z]{2}_homer_motif_output\",value = T)"
   ]
  },
  {
   "cell_type": "code",
   "execution_count": 1855,
   "id": "2985e98a",
   "metadata": {
    "ExecuteTime": {
     "end_time": "2024-03-12T01:37:20.640149Z",
     "start_time": "2024-03-12T01:37:20.583Z"
    },
    "hidden": true
   },
   "outputs": [],
   "source": [
    "lapply(homer_res_path_dir,function(x){\n",
    "    temp <- read.delim(x,header = T,sep = \"\\t\") %>% dplyr::select(1:4)\n",
    "    return(temp)\n",
    "}) -> homer_res\n",
    "names(homer_res) <- gsub(\"DEPeaks_|_homer_motif_output\",\"\",\n",
    "                         stringr::str_split(dirname(homer_res_path_dir),pattern = \"/\",simplify = T)[,8])"
   ]
  },
  {
   "cell_type": "code",
   "execution_count": 1876,
   "id": "ad79a9e0",
   "metadata": {
    "ExecuteTime": {
     "end_time": "2024-03-12T01:42:41.518967Z",
     "start_time": "2024-03-12T01:42:41.508Z"
    },
    "hidden": true,
    "scrolled": true
   },
   "outputs": [],
   "source": [
    "homer_res <- do.call(rbind,homer_res)"
   ]
  },
  {
   "cell_type": "code",
   "execution_count": 1887,
   "id": "6d9a6090",
   "metadata": {
    "ExecuteTime": {
     "end_time": "2024-03-12T01:49:25.390995Z",
     "start_time": "2024-03-12T01:49:25.152Z"
    },
    "hidden": true
   },
   "outputs": [],
   "source": [
    "Ten_motifs <- c(\"CTCF\\\\(Zf\\\\)\",\"Jun-AP1\\\\(bZIP\\\\)\",\"NFkB-p65\\\\(RHD\\\\)\",\"STAT1\\\\(Stat\\\\)\",\"Klf4\\\\(Zf\\\\)\",\n",
    "\"HIF-1a\\\\(bHLH\\\\)\",\"Foxo3\\\\(Forkhead\\\\)\",\"RUNX2\\\\(Runt\\\\)\",\"HSF3\\\\(HSF\\\\)\",\"HSFA1E\\\\(HSF\\\\)\")"
   ]
  },
  {
   "cell_type": "code",
   "execution_count": 1892,
   "id": "64444f6e",
   "metadata": {
    "ExecuteTime": {
     "end_time": "2024-03-12T01:50:29.362878Z",
     "start_time": "2024-03-12T01:50:29.332Z"
    },
    "hidden": true,
    "scrolled": true
   },
   "outputs": [],
   "source": [
    "homer_res2 <- homer_res[grep(homer_res$Motif.Name,pattern = paste(Ten_motifs,collapse = \"|\")),] %>% tibble::rownames_to_column(var = \"group\")"
   ]
  },
  {
   "cell_type": "code",
   "execution_count": 1904,
   "id": "bcba45bc",
   "metadata": {
    "ExecuteTime": {
     "end_time": "2024-03-12T01:56:32.382550Z",
     "start_time": "2024-03-12T01:56:32.370Z"
    },
    "hidden": true
   },
   "outputs": [],
   "source": [
    "homer_res2$group2 <- gsub(\"\\\\.[0-9]{1,4}\",\"\",homer_res2$group)\n",
    "homer_res2$motif <- stringr::str_split(homer_res2$Motif.Name,pattern = \"/\",simplify = T)[,1]"
   ]
  },
  {
   "cell_type": "code",
   "execution_count": 1952,
   "id": "340b2623",
   "metadata": {
    "ExecuteTime": {
     "end_time": "2024-03-12T02:27:52.263457Z",
     "start_time": "2024-03-12T02:27:51.684Z"
    },
    "hidden": true,
    "scrolled": true
   },
   "outputs": [
    {
     "data": {
      "image/png": "[encoded data removed]",
      "text/plain": [
       "plot without title"
      ]
     },
     "metadata": {
      "image/png": {
       "height": 210,
       "width": 420
      }
     },
     "output_type": "display_data"
    }
   ],
   "source": [
    "options(repr.plot.width = 7,repr.plot.height = 3.5)\n",
    "ggplot(homer_res2,aes(x = motif,y = group2,color = log10(P.value + 1),size = log10(P.value + 1))) + \n",
    "    geom_point() + \n",
    "    scale_size_continuous(range = c(6,2)) +\n",
    "    scale_y_discrete(position = \"right\") +\n",
    "    viridis::scale_color_viridis(option = \"D\",begin = 1,end = 0) +\n",
    "    theme_classic(base_size = 10) + \n",
    "    labs(y = NULL ,x = NULL) +\n",
    "    theme(axis.text.y = element_text(color = \"black\"),\n",
    "          #legend.key.size = unit(2, 'mm'),\n",
    "          axis.text.x = element_text(angle = 0,color = \"black\",hjust = 0.5),\n",
    "          panel.border = element_rect(color = \"black\",linewidth = 1,fill = NA),\n",
    "          axis.line = element_blank()) + \n",
    "    coord_flip()"
   ]
  },
  {
   "cell_type": "code",
   "execution_count": 2230,
   "id": "6d776deb",
   "metadata": {
    "ExecuteTime": {
     "end_time": "2024-03-12T08:20:50.998568Z",
     "start_time": "2024-03-12T08:20:51.053Z"
    },
    "hidden": true
   },
   "outputs": [],
   "source": [
    "a <- reshape2::dcast(data = homer_res2[,c(4,6,7)],motif ~ group2,value.var = \"P.value\")\n",
    "a <- a %>% tibble::column_to_rownames(var = \"motif\")\n",
    "a <- a[c(4,5,3,6,2,9,10,7,1,8),]\n",
    "a <- apply(a,2,function(x) format(x, scientific = TRUE))"
   ]
  },
  {
   "cell_type": "code",
   "execution_count": 2150,
   "id": "a8d47967",
   "metadata": {
    "ExecuteTime": {
     "end_time": "2024-03-12T06:33:44.877597Z",
     "start_time": "2024-03-12T06:33:44.914Z"
    },
    "hidden": true
   },
   "outputs": [],
   "source": [
    "library(gridExtra)\n",
    "# 使用gpar来设置字体大小\n",
    "table_theme <- ttheme_default(\n",
    "  core = list(fg_params=list(fontsize=7)),  # 设置表格主体字体大小\n",
    "  colhead = list(fg_params=list(fontsize=8)),  # 设置列标题字体大小\n",
    "  rowhead = list(fg_params=list(fontsize=8))  # 设置行标题字体大小，如果你有的话\n",
    ")"
   ]
  },
  {
   "cell_type": "code",
   "execution_count": null,
   "id": "73657bc9",
   "metadata": {
    "hidden": true
   },
   "outputs": [],
   "source": [
    "a1 <- gridExtra::tableGrob(a,theme = table_theme)\n",
    "ggsave(\"/home/minghao/workbase/16_Tilapia_Cold_BulkRNA-ATAC_jiaohe/output/plot/Ten_motif_DataFrame.pdf\",#scale = .5,\n",
    "       a1, width = 15, height = 18, units = \"cm\")"
   ]
  },
  {
   "cell_type": "code",
   "execution_count": null,
   "id": "d4933a2a",
   "metadata": {
    "hidden": true
   },
   "outputs": [],
   "source": [
    "homer_res2_shape <- reshape2::dcast(data = homer_res2[,c(5,6,7)],motif ~ group2,value.var = \"Log.P.value\")\n",
    "homer_res2_shape <- homer_res2_shape %>% tibble::column_to_rownames(var = \"motif\")"
   ]
  },
  {
   "cell_type": "code",
   "execution_count": null,
   "id": "8352a808",
   "metadata": {
    "hidden": true
   },
   "outputs": [],
   "source": [
    "pdf(\"/home/minghao/workbase/16_Tilapia_Cold_BulkRNA-ATAC_jiaohe/output/plot/ten_motif_dot_plot.pdf\",width = 7,height = 3.5)\n",
    "options(repr.plot.width = 7,repr.plot.height = 3.5)\n",
    "ggplot(homer_res2,aes(x = motif,y = group2,color = log10(P.value + 1),size = log10(P.value + 1))) + \n",
    "    geom_point() + \n",
    "    scale_size_continuous(range = c(6,2)) +\n",
    "    scale_y_discrete(position = \"right\") +\n",
    "    viridis::scale_color_viridis(option = \"D\",begin = 1,end = 0) +\n",
    "    theme_classic(base_size = 10) + \n",
    "    labs(y = NULL ,x = NULL) +\n",
    "    theme(axis.text.y = element_text(color = \"black\"),\n",
    "          axis.text.x = element_text(angle = 0,color = \"black\",hjust = 0.5),\n",
    "          panel.border = element_rect(color = \"black\",linewidth = 1,fill = NA),\n",
    "          axis.line = element_blank()) + \n",
    "    coord_flip()\n",
    "dev.off()"
   ]
  },
  {
   "cell_type": "code",
   "execution_count": null,
   "id": "d213c73b",
   "metadata": {
    "hidden": true
   },
   "outputs": [],
   "source": []
  },
  {
   "cell_type": "code",
   "execution_count": null,
   "id": "5e188544",
   "metadata": {
    "hidden": true
   },
   "outputs": [],
   "source": [
    "# 读取文件内容到字符向量\n",
    "contents <- readr::read_lines(\"/home/minghao/workbase/16_Tilapia_Cold_BulkRNA-ATAC_jiaohe/Motif_Enrich/input/select_merge_10.motif\")\n",
    "# 找到“>”开头的行的索引\n",
    "begin_indexes = grep(\"^>\", contents)\n",
    "# 再添加一个最后的索引，指代文件结束的位置\n",
    "last_index = length(contents) + 1\n",
    "begin_indexes = c(begin_indexes, last_index)\n",
    "# 创建一个列表来存储数据框\n",
    "dataframe_list = list()"
   ]
  },
  {
   "cell_type": "code",
   "execution_count": null,
   "id": "d98e6e55",
   "metadata": {
    "hidden": true
   },
   "outputs": [],
   "source": [
    "# 循环遍历所有的部分\n",
    "for (i in 1:(length(begin_indexes) - 1)) {\n",
    "  begin = begin_indexes[i]\n",
    "  end = begin_indexes[i + 1] - 1  # 最后一行是下一个部分的开头，所以我们要 - 1\n",
    "  segment = contents[(begin + 1) :end]\n",
    "  name = strsplit(contents[begin],split = \"\\t\")[[1]][2]\n",
    "    \n",
    "  # 把部分内容转成数据框并添加到列表\n",
    "  df = do.call(rbind,strsplit(segment,split = \"\\t\")) %>% as.data.frame \n",
    "  colnames(df) <- c(\"A\",\"C\",\"G\",\"T\")  \n",
    "  dataframe_list[[name]] = apply(df,2,as.numeric)\n",
    "}\n",
    "names(dataframe_list) <- stringr::str_split(names(dataframe_list),pattern = \"/\",simplify = T)[,1]"
   ]
  },
  {
   "cell_type": "code",
   "execution_count": null,
   "id": "8a7d69f5",
   "metadata": {
    "hidden": true
   },
   "outputs": [],
   "source": [
    "motif_logo_list <- list()\n",
    "for(i in seq_along(dataframe_list)){\n",
    "    motif_logo_list[[i]] <- ggseqlogo::ggseqlogo( t(dataframe_list[[i]]),method=\"prob\") + \n",
    "        ggtitle(names(dataframe_list)[i] ) + \n",
    "        theme(plot.title = element_text(hjust = .5))\n",
    "}"
   ]
  },
  {
   "cell_type": "code",
   "execution_count": null,
   "id": "9e34584f",
   "metadata": {
    "hidden": true
   },
   "outputs": [],
   "source": [
    "options(repr.plot.width = 10,repr.plot.height = 8)\n",
    "patchwork::wrap_plots(motif_logo_list,nrow = 4)"
   ]
  },
  {
   "cell_type": "code",
   "execution_count": null,
   "id": "cf0da72c",
   "metadata": {
    "hidden": true
   },
   "outputs": [],
   "source": [
    "pdf(\"/home/minghao/workbase/16_Tilapia_Cold_BulkRNA-ATAC_jiaohe/output/plot/Ten_motif_logo.pdf\",width = 10,height = 8)\n",
    "patchwork::wrap_plots(motif_logo_list,nrow = 4) \n",
    "dev.off()"
   ]
  },
  {
   "cell_type": "markdown",
   "id": "0673beee",
   "metadata": {
    "heading_collapsed": true
   },
   "source": [
    "### GO"
   ]
  },
  {
   "cell_type": "code",
   "execution_count": null,
   "id": "c0b7518e",
   "metadata": {
    "hidden": true
   },
   "outputs": [],
   "source": [
    "#GO_KEGG富集分析相关函数\n",
    "enrichment_stat_go = function(bl,il) {\n",
    "#  gos <- gene_go2\n",
    "#  go_des <- go_des\n",
    "  gos.bl <- gos[gos$gene %in% bl,]\n",
    "  gos.il <- gos[gos$gene %in% il,]\n",
    "  gos.bl.stat <- gos.bl %>% group_by(GO) %>% dplyr::summarise(GeneNumber=n()) %>% ungroup\n",
    "  gos.il.stat <- gos.il %>% group_by(GO) %>% dplyr::summarise(GeneNumber=n()) %>% ungroup\n",
    "  list.df <- gos.bl.stat %>% group_by(GO) %>% left_join(gos.il.stat,by=\"GO\") %>% ungroup\n",
    "  list.df[is.na(list.df)] <- 0\n",
    "  names(list.df) <- c(\"GO\",\"k\",\"x\")#k:bl x:il\n",
    "  list.df$m = as.numeric(length(unique(sort(gos.il$gene))))\n",
    "  list.df$n = as.numeric(length(unique(sort(gos.bl$gene))))-list.df$k\n",
    "  list.df$Pvalue <- apply(list.df[,-1],1,FUN=function(x) {phyper(x[2]-1,x[1],x[4],x[3],lower.tail=F)})\n",
    "  # if (id == \"go\"){\n",
    "  #   list <- list[list$class == \"biological_process\" & list$k >= 10,]\n",
    "  # }\n",
    "  \n",
    "  #list$p.adjust <- p.adjust(list$Pvalue,method=\"fdr\",n=length(list$Pvalue))\n",
    "  list.df <- list.df[order(list.df$Pvalue,decreasing=F),]\n",
    "  list.df$fold = list.df$x*(list.df$n+list.df$k)/list.df$m/list.df$k ## should add fold enrichment value\n",
    "  list.1 <- list.df %>% group_by(GO) %>% left_join(go_des,by=\"GO\") %>% ungroup\n",
    "  list.1 <- list.1[list.1$k>=10 & list.1$x>=3,]\n",
    "  list.1$p.adjust <- p.adjust(list.1$Pvalue,method=\"fdr\",n=length(list.1$Pvalue))\n",
    "  list.1 <- list.1[list.1$Pvalue < 0.05,]\n",
    "  list.1\n",
    "}\n",
    "\n",
    "enrichment_stat_kegg = function(bl,il) {\n",
    "#  keggs <- keggs\n",
    "#  kegg_des <- kegg_des\n",
    "  \n",
    "  keggs.bl <- keggs[keggs$gene %in% bl,]\n",
    "  keggs.il <- keggs[keggs$gene %in% il,]\n",
    "  keggs.bl.stat <- keggs.bl %>% group_by(kegg) %>% dplyr::summarise(GeneNumber=n()) %>% ungroup\n",
    "  keggs.il.stat <- keggs.il %>% group_by(kegg) %>% dplyr::summarise(GeneNumber=n()) %>% ungroup\n",
    "  list.df <- keggs.bl.stat %>% group_by(kegg) %>% left_join(keggs.il.stat,by=\"kegg\") %>% ungroup\n",
    "  list.df[is.na(list.df)]<-0\n",
    "  names(list.df) <- c(\"kegg\",\"k\",\"x\")\n",
    "  list.df$m = as.numeric(length(unique(sort(keggs.il$gene))))\n",
    "  list.df$n = as.numeric(length(unique(sort(keggs.bl$gene))))-list.df$k\n",
    "  list.df$Pvalue <- apply(list.df[,-1],1,FUN=function(x) {phyper(x[2]-1,x[1],x[4],x[3],lower.tail=F)})\n",
    "  # if (id == \"kegg\"){\n",
    "  #   list <- list[list$class == \"biological_process\" & list$k >= 10,]\n",
    "  # }\n",
    "  \n",
    "  #list.df$p.adjust <- p.adjust(list.df$Pvalue,method=\"fdr\",n=length(list.df$Pvalue))\n",
    "  list.df <- list.df[order(list.df$Pvalue,decreasing=F),]\n",
    "  list.df$fold = list.df$x*(list.df$n+list.df$k)/list.df$m/list.df$k ## should add fold enrichment value\n",
    "  list.1 <- list.df %>% group_by(kegg) %>% left_join(kegg_des,by=\"kegg\") %>% ungroup\n",
    "  list.1 <- list.1[list.1$k>=10 & list.1$x>=2,]\n",
    "  list.1$p.adjust <- p.adjust(list.1$Pvalue,method=\"fdr\",n=length(list.1$Pvalue))\n",
    "  list.1 <- list.1[list.1$Pvalue < 0.05,]\n",
    "  list.1\n",
    "}"
   ]
  },
  {
   "cell_type": "code",
   "execution_count": null,
   "id": "7b6ecf35",
   "metadata": {
    "hidden": true
   },
   "outputs": [],
   "source": [
    "load(\"/home/minghao/database/KEGG_KO_database/02_niletilapia/01_enrichment_gos_keggs/go_info.RData\")\n",
    "load(\"/home/minghao/database/KEGG_KO_database/02_niletilapia/01_enrichment_gos_keggs/kegg_info.RData\")"
   ]
  },
  {
   "cell_type": "code",
   "execution_count": null,
   "id": "dc648186",
   "metadata": {
    "hidden": true
   },
   "outputs": [],
   "source": [
    "lapply(split(heatmap_gene2_cluster,heatmap_gene2_cluster$cluster),function(x){\n",
    "    GO_res <- enrichment_stat_go(bl = rownames(BulkRNA_df),il = x$gene) %>% filter(p.adjust < 0.05)\n",
    "    \n",
    "    gos2 <- gos %>% group_by(gene) %>% left_join(unique(geneID_name),by = \"gene\",relationship = \"many-to-many\") %>% ungroup #gos的gene匹配基因名\n",
    "    \n",
    "    GO_gene <- gos2[gos2$gene %in% x$gene,] %>% group_by(GO) %>% summarise(gene = paste(gene,collapse = \"/\"),\n",
    "                                                                      Gene.name = paste(Gene.name,collapse = \"/\"),\n",
    "                                                                      eggnog_Preferred_name = paste(eggnog_Preferred_name,collapse = \"/\")\n",
    "                                                                     ) %>% ungroup\n",
    "    \n",
    "    GO_res2 <- GO_res %>% left_join(GO_gene,by = \"GO\")\n",
    "    \n",
    "    return(GO_res2)\n",
    "}) -> sub_heatmap_GO"
   ]
  },
  {
   "cell_type": "code",
   "execution_count": null,
   "id": "759576a4",
   "metadata": {
    "hidden": true
   },
   "outputs": [],
   "source": [
    "sub_heatmap_GO2 <- lapply(sub_heatmap_GO,function(x) x[,-11])"
   ]
  },
  {
   "cell_type": "code",
   "execution_count": null,
   "id": "20dc9d52",
   "metadata": {
    "hidden": true
   },
   "outputs": [],
   "source": [
    "openxlsx::write.xlsx(sub_heatmap_GO2,#sep = \"\\t\",row.names = F,quote = F,\n",
    "                     \"/home/minghao/workbase/16_Tilapia_Cold_BulkRNA-ATAC_jiaohe/output/RNA&ATAC_output/20240309_Fig2_subset_heatmap_gene_GO.xlsx\")"
   ]
  },
  {
   "cell_type": "code",
   "execution_count": null,
   "id": "df4d9292",
   "metadata": {
    "hidden": true
   },
   "outputs": [],
   "source": [
    "lapply(split(heatmap_gene2_cluster,heatmap_gene2_cluster$cluster),function(x){\n",
    "    KEGG_res <- enrichment_stat_kegg(bl = rownames(BulkRNA_df),il = x$gene) %>% filter(p.adjust < 0.05)\n",
    "    \n",
    "    keggs2 <- keggs %>% group_by(gene) %>% left_join(unique(geneID_name),by = \"gene\",relationship = \"many-to-many\") %>% ungroup #keggs的gene匹配基因名\n",
    "    \n",
    "    KEGG_gene <- keggs2[keggs2$gene %in% x$gene,] %>% group_by(kegg) %>% summarise(gene = paste(gene,collapse = \"/\"),\n",
    "                                                                      Gene.name = paste(Gene.name,collapse = \"/\"),\n",
    "                                                                      eggnog_Preferred_name = paste(eggnog_Preferred_name,collapse = \"/\")\n",
    "                                                                     ) %>% ungroup\n",
    "    \n",
    "    KEGG_res2 <- KEGG_res %>% left_join(KEGG_gene,by = \"kegg\")\n",
    "    \n",
    "    return(KEGG_res2)\n",
    "}) -> sub_heatmap_KEGG"
   ]
  },
  {
   "cell_type": "code",
   "execution_count": null,
   "id": "913637e8",
   "metadata": {
    "hidden": true
   },
   "outputs": [],
   "source": [
    "sub_heatmap_KEGG2 <- lapply(sub_heatmap_KEGG,function(x) x[,-10])"
   ]
  },
  {
   "cell_type": "code",
   "execution_count": null,
   "id": "3b9fee2d",
   "metadata": {
    "hidden": true
   },
   "outputs": [],
   "source": [
    "openxlsx::write.xlsx(sub_heatmap_KEGG2,\n",
    "                     \"/home/minghao/workbase/16_Tilapia_Cold_BulkRNA-ATAC_jiaohe/output/RNA&ATAC_output/20240309_Fig2_subset_heatmap_gene_KEGG.xlsx\")"
   ]
  },
  {
   "cell_type": "code",
   "execution_count": null,
   "id": "f15fa0fd",
   "metadata": {
    "hidden": true
   },
   "outputs": [],
   "source": [
    "select_keggs <- c('ko04068',\n",
    "'ko04140',\n",
    "'ko04668',\n",
    "'ko04931',\n",
    "'ko04216',\n",
    "'ko04657',\n",
    "'ko04066',\n",
    "'ko04010',\n",
    "'ko04210',\n",
    "'ko04919',\n",
    "'ko04115')\n",
    "temp <- sub_heatmap_KEGG[[2]][sub_heatmap_KEGG[[2]]$kegg %in% select_keggs,]"
   ]
  },
  {
   "cell_type": "code",
   "execution_count": null,
   "id": "be31778a",
   "metadata": {
    "hidden": true
   },
   "outputs": [],
   "source": [
    "temp %>% \n",
    "    mutate(gene.x = stringr::str_split(gene,pattern = \"/\")) %>% \n",
    "    tidyr::unnest(gene.x) %>% dplyr::select(1,13,8) -> temp"
   ]
  },
  {
   "cell_type": "code",
   "execution_count": null,
   "id": "265ed39c",
   "metadata": {
    "hidden": true
   },
   "outputs": [],
   "source": [
    "merge_10_motif_result4 <- merge_10_motif_result3 %>% \n",
    "    inner_join(temp,by = c(\"RNA_gene\" = \"gene.x\"),relationship = \"many-to-many\") %>% \n",
    "    distinct()"
   ]
  },
  {
   "cell_type": "code",
   "execution_count": null,
   "id": "0d657f7c",
   "metadata": {
    "hidden": true
   },
   "outputs": [],
   "source": [
    "merge_10_motif_result4$test <- NULL"
   ]
  },
  {
   "cell_type": "code",
   "execution_count": null,
   "id": "04a99dfb",
   "metadata": {
    "hidden": true
   },
   "outputs": [],
   "source": [
    "openxlsx::write.xlsx(merge_10_motif_result4,\n",
    "                     \"/home/minghao/workbase/16_Tilapia_Cold_BulkRNA-ATAC_jiaohe/Motif_Enrich/output/select_KEGG_gene_motif.xlsx\")"
   ]
  },
  {
   "cell_type": "markdown",
   "id": "c5191246",
   "metadata": {
    "hidden": true
   },
   "source": [
    "*select related pathway*"
   ]
  },
  {
   "cell_type": "code",
   "execution_count": null,
   "id": "fdd06931",
   "metadata": {
    "hidden": true
   },
   "outputs": [],
   "source": [
    "df <- read.delim(\"kegg.xls\",header = T) #从merge_10_motif_result4中选取要展示的通路进行画图"
   ]
  },
  {
   "cell_type": "code",
   "execution_count": null,
   "id": "ad4157a7",
   "metadata": {
    "hidden": true
   },
   "outputs": [],
   "source": [
    "ggplot(df, aes(Description,p.adjust)) + \n",
    "    geom_bar(stat = 'identity', aes(fill = fold), width = 0.8, position = \"stack\") +\n",
    "    coord_flip() +\n",
    "    scale_x_discrete(labels = rev(df$Description)) +\n",
    "    xlab(\"KEGG Term\") + ylab(\"-log10 FDR\") +\n",
    "    theme_classic() +\n",
    "    scale_fill_gradientn(colors = c(\"#440757\", \"#463478\", \"#3B5D8B\", \"#2B8E8B\", \"#60BE6A\", \"#E8E331\")) +\n",
    "    labs(fill = \"log2(FE)\") +\n",
    "    theme(panel.background = element_rect(fill = \"white\"),\n",
    "        axis.text.y = element_blank()) +\n",
    "    geom_text(aes(y=.1,label = Description), hjust = 0, size = 4,color = \"white\")"
   ]
  },
  {
   "cell_type": "code",
   "execution_count": null,
   "id": "0942b26e",
   "metadata": {
    "hidden": true
   },
   "outputs": [],
   "source": []
  }
 ],
 "metadata": {
  "kernelspec": {
   "display_name": "R_4.2.3",
   "language": "R",
   "name": "r_4.2.3"
  },
  "language_info": {
   "codemirror_mode": "r",
   "file_extension": ".r",
   "mimetype": "text/x-r-source",
   "name": "R",
   "pygments_lexer": "r",
   "version": "4.2.3"
  },
  "toc": {
   "base_numbering": 1,
   "nav_menu": {},
   "number_sections": true,
   "sideBar": true,
   "skip_h1_title": false,
   "title_cell": "Table of Contents",
   "title_sidebar": "Contents",
   "toc_cell": false,
   "toc_position": {
    "height": "calc(100% - 180px)",
    "left": "10px",
    "top": "150px",
    "width": "279.261px"
   },
   "toc_section_display": true,
   "toc_window_display": false
  }
 },
 "nbformat": 4,
 "nbformat_minor": 5
}
