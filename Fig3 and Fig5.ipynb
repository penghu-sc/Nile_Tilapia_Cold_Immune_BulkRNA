{
 "cells": [
  {
   "cell_type": "markdown",
   "id": "d387f74e",
   "metadata": {},
   "source": [
    "# Fig4"
   ]
  },
  {
   "cell_type": "markdown",
   "id": "e287c094",
   "metadata": {
    "heading_collapsed": true
   },
   "source": [
    "## tobais Footprint Analysis"
   ]
  },
  {
   "cell_type": "markdown",
   "id": "666c5463",
   "metadata": {
    "hidden": true
   },
   "source": [
    "```shell\n",
    "snakemake --configfile HK.yaml --use-conda --cores 20\n",
    "snakemake --configfile TH.yaml --use-conda --cores 20\n",
    "```"
   ]
  },
  {
   "cell_type": "code",
   "execution_count": 2695,
   "id": "45736b02",
   "metadata": {
    "ExecuteTime": {
     "end_time": "2024-03-16T07:51:11.062618Z",
     "start_time": "2024-03-16T07:51:11.155Z"
    },
    "hidden": true
   },
   "outputs": [],
   "source": [
    "temp <- readLines(\"/home/minghao/rgtdata/Homer_known.motifs.meme\")"
   ]
  },
  {
   "cell_type": "code",
   "execution_count": 2696,
   "id": "31411108",
   "metadata": {
    "ExecuteTime": {
     "end_time": "2024-03-16T07:51:11.497775Z",
     "start_time": "2024-03-16T07:51:11.627Z"
    },
    "hidden": true
   },
   "outputs": [],
   "source": [
    "index <- grep(temp,pattern = \"MOTIF motif_\")\n",
    "temp[index] <- stringr::str_split(temp[index],pattern = \"\\\\(\" ,simplify = T)[,1]"
   ]
  },
  {
   "cell_type": "code",
   "execution_count": 2647,
   "id": "e074a407",
   "metadata": {
    "ExecuteTime": {
     "end_time": "2024-03-16T03:01:20.466921Z",
     "start_time": "2024-03-16T03:01:20.454Z"
    },
    "hidden": true,
    "scrolled": true
   },
   "outputs": [],
   "source": [
    "file_conn <- file(\"/home/minghao/rgtdata/Homer_known.motifs_v2.meme\", \"w\")\n",
    "for (s in temp) {\n",
    "  cat(s, file = file_conn, \"\\n\")\n",
    "}\n",
    "close(file_conn)"
   ]
  },
  {
   "cell_type": "code",
   "execution_count": 2742,
   "id": "95787641",
   "metadata": {
    "ExecuteTime": {
     "end_time": "2024-03-16T08:21:21.595428Z",
     "start_time": "2024-03-16T08:21:21.693Z"
    },
    "hidden": true,
    "scrolled": true
   },
   "outputs": [],
   "source": [
    "motif_name <- stringr::str_split(list.files(\"/home/minghao/miniconda3/envs/tobais_snakemake/TOBIAS_snakemake/HK_output_v2/TFBS\"),\n",
    "                                 pattern = \"_\",simplify = T)[,1]\n",
    "motif_name <- as.data.frame(motif_name)\n",
    "motif_name$motif_lower_id <- tolower(motif_name$motif_name)\n",
    "motif_name$index_name <- list.files(\"/home/minghao/miniconda3/envs/tobais_snakemake/TOBIAS_snakemake/HK_output_v2/TFBS\")"
   ]
  },
  {
   "cell_type": "markdown",
   "id": "a89f86b4",
   "metadata": {
    "ExecuteTime": {
     "end_time": "2024-03-25T05:41:25.298236Z",
     "start_time": "2024-03-25T05:41:25.339Z"
    },
    "hidden": true
   },
   "source": [
    "```R\n",
    "test <- stringr::str_split(list.files(\"/home/minghao/miniconda3/envs/tobais_snakemake/TOBIAS_snakemake/HK_output_v2/TFBS\"),\n",
    "                                 pattern = \"_\",simplify = T)[,1] %>% as.data.frame\n",
    "\n",
    "write.table(x = test,file = \"/home/minghao/miniconda3/envs/tobais_snakemake/TOBIAS_snakemake/meme_motif.txt\",sep = \"\\t\",col.names = F,row.names = F,quote = F)\n",
    "```\n",
    "temp"
   ]
  },
  {
   "cell_type": "code",
   "execution_count": 2739,
   "id": "04f70df3",
   "metadata": {
    "ExecuteTime": {
     "end_time": "2024-03-16T08:19:50.314423Z",
     "start_time": "2024-03-16T08:19:50.412Z"
    },
    "hidden": true
   },
   "outputs": [],
   "source": [
    "temp_geneID_name <- geneID_name\n",
    "temp_geneID_name$eggnog_Preferred_name <- tolower(temp_geneID_name$eggnog_Preferred_name)"
   ]
  },
  {
   "cell_type": "code",
   "execution_count": 2743,
   "id": "366a5796",
   "metadata": {
    "ExecuteTime": {
     "end_time": "2024-03-16T08:21:22.928404Z",
     "start_time": "2024-03-16T08:21:22.991Z"
    },
    "hidden": true,
    "scrolled": true
   },
   "outputs": [
    {
     "name": "stderr",
     "output_type": "stream",
     "text": [
      "Warning message in inner_join(., temp_geneID_name, by = c(motif_lower_id = \"eggnog_Preferred_name\")):\n",
      "\"\u001b[1m\u001b[22mDetected an unexpected many-to-many relationship between `x` and `y`.\n",
      "\u001b[36mℹ\u001b[39m Row 177 of `x` matches multiple rows in `y`.\n",
      "\u001b[36mℹ\u001b[39m Row 22465 of `y` matches multiple rows in `x`.\n",
      "\u001b[36mℹ\u001b[39m If a many-to-many relationship is expected, set `relationship = \"many-to-many\"` to silence this warning.\"\n"
     ]
    }
   ],
   "source": [
    "motif_name <- motif_name %>% inner_join(temp_geneID_name,by = c(\"motif_lower_id\"=\"eggnog_Preferred_name\")) %>% dplyr::select(3,4)"
   ]
  },
  {
   "cell_type": "code",
   "execution_count": 2746,
   "id": "8e4cf318",
   "metadata": {
    "ExecuteTime": {
     "end_time": "2024-03-16T08:21:34.496173Z",
     "start_time": "2024-03-16T08:21:34.617Z"
    },
    "hidden": true
   },
   "outputs": [],
   "source": [
    "write.table(unique(motif_name),\"/home/minghao/miniconda3/envs/tobais_snakemake/TOBIAS_snakemake/motif2gene.txt\",\n",
    "            sep = \"\\t\",quote = F,col.names = F,row.names = F)"
   ]
  },
  {
   "cell_type": "code",
   "execution_count": null,
   "id": "f4b5b75c",
   "metadata": {
    "hidden": true
   },
   "outputs": [],
   "source": []
  },
  {
   "cell_type": "code",
   "execution_count": 2800,
   "id": "358e1845",
   "metadata": {
    "ExecuteTime": {
     "end_time": "2024-03-18T02:44:40.654601Z",
     "start_time": "2024-03-18T02:44:40.577Z"
    },
    "hidden": true,
    "scrolled": true
   },
   "outputs": [],
   "source": [
    "TH_tobias_res <- openxlsx::read.xlsx(\"/home/minghao/miniconda3/envs/tobais_snakemake/TOBIAS_snakemake/TH_output_v2/overview/bindetect_results.xlsx\")\n",
    "HK_tobias_res <- openxlsx::read.xlsx(\"/home/minghao/miniconda3/envs/tobais_snakemake/TOBIAS_snakemake/HK_output_v2/overview/bindetect_results.xlsx\")\n",
    "\n",
    "HK_tobias_res$Ctrl_Cold_pvalue <- as.numeric(HK_tobias_res$Ctrl_Cold_pvalue)\n",
    "TH_tobias_res$Ctrl_Cold_pvalue <- as.numeric(TH_tobias_res$Ctrl_Cold_pvalue)"
   ]
  },
  {
   "cell_type": "code",
   "execution_count": 2801,
   "id": "d7c363f7",
   "metadata": {
    "ExecuteTime": {
     "end_time": "2024-03-18T02:44:41.408369Z",
     "start_time": "2024-03-18T02:44:41.407Z"
    },
    "hidden": true,
    "scrolled": true
   },
   "outputs": [],
   "source": [
    "HK_tobias_res <- HK_tobias_res %>% \n",
    "    arrange(Ctrl_Cold_pvalue) %>% \n",
    "    filter(Ctrl_Cold_pvalue < 1e-50 )#& abs(Ctrl_Cold_change) > 0.01\n",
    "\n",
    "TH_tobias_res <- TH_tobias_res %>% \n",
    "    arrange(Ctrl_Cold_pvalue) %>% \n",
    "    filter(Ctrl_Cold_pvalue < 1e-50 )#& abs(Ctrl_Cold_change) > 0.01"
   ]
  },
  {
   "cell_type": "code",
   "execution_count": 2802,
   "id": "37b00ed3",
   "metadata": {
    "ExecuteTime": {
     "end_time": "2024-03-18T02:44:41.891048Z",
     "start_time": "2024-03-18T02:44:41.785Z"
    },
    "hidden": true
   },
   "outputs": [],
   "source": [
    "openxlsx::write.xlsx(list(HK = HK_tobias_res,TH = TH_tobias_res),\n",
    "                     \"/home/minghao/workbase/16_Tilapia_Cold_BulkRNA-ATAC_jiaohe/output/TRN/Tobias_res/filter_tobias_bindetect_res.xlsx\")"
   ]
  },
  {
   "cell_type": "code",
   "execution_count": 2889,
   "id": "5d246bd3",
   "metadata": {
    "ExecuteTime": {
     "end_time": "2024-03-18T12:44:02.427950Z",
     "start_time": "2024-03-18T12:44:02.407Z"
    },
    "hidden": true
   },
   "outputs": [
    {
     "name": "stderr",
     "output_type": "stream",
     "text": [
      "Warning message in inner_join(., temp_geneID_name, by = c(lower = \"eggnog_Preferred_name\")):\n",
      "\"\u001b[1m\u001b[22mDetected an unexpected many-to-many relationship between `x` and `y`.\n",
      "\u001b[36mℹ\u001b[39m Row 17 of `x` matches multiple rows in `y`.\n",
      "\u001b[36mℹ\u001b[39m Row 22465 of `y` matches multiple rows in `x`.\n",
      "\u001b[36mℹ\u001b[39m If a many-to-many relationship is expected, set `relationship = \"many-to-many\"` to silence this warning.\"\n"
     ]
    }
   ],
   "source": [
    "select_tobias_res <- openxlsx::read.xlsx(\"/home/minghao/workbase/16_Tilapia_Cold_BulkRNA-ATAC_jiaohe/output/TRN/Tobias_res/副本filter_tobias_bindetect_res-PH.xlsx\")\n",
    "\n",
    "select_tobias_res$lower <- tolower(select_tobias_res$name)\n",
    "match_tobias_res <- select_tobias_res %>% inner_join(temp_geneID_name,by = c(\"lower\" = \"eggnog_Preferred_name\"))\n",
    "\n",
    "unmatch_tobias_res <- select_tobias_res[!tolower(select_tobias_res$lower) %in% tolower(temp_geneID_name$eggnog_Preferred_name),]"
   ]
  },
  {
   "cell_type": "code",
   "execution_count": 2830,
   "id": "f8289e7e",
   "metadata": {
    "ExecuteTime": {
     "end_time": "2024-03-18T08:16:16.174593Z",
     "start_time": "2024-03-18T08:16:16.146Z"
    },
    "hidden": true
   },
   "outputs": [],
   "source": [
    "openxlsx::write.xlsx(unmatch_tobias_res,\"/home/minghao/workbase/16_Tilapia_Cold_BulkRNA-ATAC_jiaohe/output/TRN/Tobias_res/unmatch_tobias_res.xlsx\")\n",
    "openxlsx::write.xlsx(match_tobias_res,\"/home/minghao/workbase/16_Tilapia_Cold_BulkRNA-ATAC_jiaohe/output/TRN/Tobias_res/match_tobias_res.xlsx\")"
   ]
  },
  {
   "cell_type": "code",
   "execution_count": 2897,
   "id": "31638008",
   "metadata": {
    "ExecuteTime": {
     "end_time": "2024-03-18T12:47:27.478024Z",
     "start_time": "2024-03-18T12:47:27.408Z"
    },
    "hidden": true
   },
   "outputs": [
    {
     "name": "stderr",
     "output_type": "stream",
     "text": [
      "Warning message in inner_join(., zebrafish_geneID2name, by = c(lower = \"Gene.Synonym\")):\n",
      "\"\u001b[1m\u001b[22mDetected an unexpected many-to-many relationship between `x` and `y`.\n",
      "\u001b[36mℹ\u001b[39m Row 127 of `x` matches multiple rows in `y`.\n",
      "\u001b[36mℹ\u001b[39m Row 9352 of `y` matches multiple rows in `x`.\n",
      "\u001b[36mℹ\u001b[39m If a many-to-many relationship is expected, set `relationship = \"many-to-many\"` to silence this warning.\"\n"
     ]
    }
   ],
   "source": [
    "zebrafish_geneID2name <- read.delim(\"/home/minghao/workbase/16_Tilapia_Cold_BulkRNA-ATAC_jiaohe/gene2name_database/Zebrafish_gene2name_biomart_v111.txt\",sep = \"\\t\",header = T)\n",
    "zebrafish_geneID2name$Gene.Synonym <- tolower(zebrafish_geneID2name$Gene.Synonym)\n",
    "\n",
    "match_tobias_res2 <- unmatch_tobias_res %>% inner_join(zebrafish_geneID2name,by = c(\"lower\" = \"Gene.Synonym\"))\n",
    "unmatch_tobias_res2 <- unmatch_tobias_res[!tolower(unmatch_tobias_res$lower) %in% tolower(zebrafish_geneID2name$Gene.Synonym),]"
   ]
  },
  {
   "cell_type": "code",
   "execution_count": 2898,
   "id": "124921a0",
   "metadata": {
    "ExecuteTime": {
     "end_time": "2024-03-18T12:47:41.026074Z",
     "start_time": "2024-03-18T12:47:40.824Z"
    },
    "hidden": true
   },
   "outputs": [
    {
     "name": "stderr",
     "output_type": "stream",
     "text": [
      "Warning message in inner_join(., mouse_geneID2name, by = c(lower = \"Gene.Synonym\")):\n",
      "\"\u001b[1m\u001b[22mDetected an unexpected many-to-many relationship between `x` and `y`.\n",
      "\u001b[36mℹ\u001b[39m Row 85 of `x` matches multiple rows in `y`.\n",
      "\u001b[36mℹ\u001b[39m Row 59596 of `y` matches multiple rows in `x`.\n",
      "\u001b[36mℹ\u001b[39m If a many-to-many relationship is expected, set `relationship = \"many-to-many\"` to silence this warning.\"\n"
     ]
    }
   ],
   "source": [
    "mouse_geneID2name <- read.delim(\"/home/minghao/workbase/16_Tilapia_Cold_BulkRNA-ATAC_jiaohe/gene2name_database/mouse_gene2name_biomart_v111.txt\",sep = \"\\t\",header = T)\n",
    "mouse_geneID2name$Gene.Synonym <- tolower(mouse_geneID2name$Gene.Synonym)\n",
    "\n",
    "unmatch_tobias_res3 <- unmatch_tobias_res2[!tolower(unmatch_tobias_res2$lower) %in% tolower(mouse_geneID2name$Gene.Synonym),]\n",
    "match_tobias_res3 <- unmatch_tobias_res2 %>% inner_join(mouse_geneID2name,by = c(\"lower\" = \"Gene.Synonym\"))\n",
    "\n",
    "openxlsx::write.xlsx(unmatch_tobias_res3,\"/home/minghao/workbase/16_Tilapia_Cold_BulkRNA-ATAC_jiaohe/output/TRN/Tobias_res/unmatch_tobias_res3.xlsx\")"
   ]
  },
  {
   "cell_type": "code",
   "execution_count": 2901,
   "id": "6d92fef9",
   "metadata": {
    "ExecuteTime": {
     "end_time": "2024-03-18T12:48:10.072385Z",
     "start_time": "2024-03-18T12:48:10.173Z"
    },
    "hidden": true,
    "scrolled": true
   },
   "outputs": [],
   "source": [
    "library(stringr)\n",
    "unmatch_tobias_res3$new_lower <- tolower(gsub(\"^C_\",\"\",str_extract(unmatch_tobias_res3$cluster, \"C_[A-Za-z]+\")))"
   ]
  },
  {
   "cell_type": "code",
   "execution_count": 2903,
   "id": "d47fe1f2",
   "metadata": {
    "ExecuteTime": {
     "end_time": "2024-03-18T12:50:15.823468Z",
     "start_time": "2024-03-18T12:50:15.838Z"
    },
    "hidden": true,
    "scrolled": true
   },
   "outputs": [
    {
     "name": "stderr",
     "output_type": "stream",
     "text": [
      "Warning message in inner_join(., zebrafish_geneID2name, by = c(new_lower = \"Gene.Synonym\")):\n",
      "\"\u001b[1m\u001b[22mDetected an unexpected many-to-many relationship between `x` and `y`.\n",
      "\u001b[36mℹ\u001b[39m Row 83 of `x` matches multiple rows in `y`.\n",
      "\u001b[36mℹ\u001b[39m Row 8196 of `y` matches multiple rows in `x`.\n",
      "\u001b[36mℹ\u001b[39m If a many-to-many relationship is expected, set `relationship = \"many-to-many\"` to silence this warning.\"\n"
     ]
    }
   ],
   "source": [
    "unmatch_tobias_res4 <- unmatch_tobias_res3[!unmatch_tobias_res3$new_lower %in% tolower(zebrafish_geneID2name$Gene.Synonym),]\n",
    "match_tobias_res4 <- unmatch_tobias_res3 %>% inner_join(zebrafish_geneID2name,by = c(\"new_lower\" = \"Gene.Synonym\"))"
   ]
  },
  {
   "cell_type": "code",
   "execution_count": 2905,
   "id": "1bd00c09",
   "metadata": {
    "ExecuteTime": {
     "end_time": "2024-03-18T12:51:29.815505Z",
     "start_time": "2024-03-18T12:51:29.821Z"
    },
    "hidden": true
   },
   "outputs": [
    {
     "name": "stderr",
     "output_type": "stream",
     "text": [
      "Warning message in inner_join(., mouse_geneID2name, by = c(new_lower = \"Gene.Synonym\")):\n",
      "\"\u001b[1m\u001b[22mDetected an unexpected many-to-many relationship between `x` and `y`.\n",
      "\u001b[36mℹ\u001b[39m Row 4 of `x` matches multiple rows in `y`.\n",
      "\u001b[36mℹ\u001b[39m Row 78831 of `y` matches multiple rows in `x`.\n",
      "\u001b[36mℹ\u001b[39m If a many-to-many relationship is expected, set `relationship = \"many-to-many\"` to silence this warning.\"\n"
     ]
    }
   ],
   "source": [
    "unmatch_tobias_res5 <- unmatch_tobias_res4[!unmatch_tobias_res4$new_lower %in% tolower(mouse_geneID2name$Gene.Synonym),]\n",
    "match_tobias_res5 <- unmatch_tobias_res4 %>% inner_join(mouse_geneID2name,by = c(\"new_lower\" = \"Gene.Synonym\"))"
   ]
  },
  {
   "cell_type": "code",
   "execution_count": 2907,
   "id": "a9e8f163",
   "metadata": {
    "ExecuteTime": {
     "end_time": "2024-03-18T12:51:43.423883Z",
     "start_time": "2024-03-18T12:51:42.942Z"
    },
    "hidden": true,
    "scrolled": true
   },
   "outputs": [],
   "source": [
    "openxlsx::write.xlsx(unmatch_tobias_res5,\"/home/minghao/workbase/16_Tilapia_Cold_BulkRNA-ATAC_jiaohe/output/TRN/Tobias_res/unmatch_tobias_res5.xlsx\")"
   ]
  },
  {
   "cell_type": "code",
   "execution_count": 2909,
   "id": "b4c3a2a0",
   "metadata": {
    "ExecuteTime": {
     "end_time": "2024-03-18T12:52:42.650752Z",
     "start_time": "2024-03-18T12:52:42.753Z"
    },
    "hidden": true,
    "scrolled": true
   },
   "outputs": [],
   "source": [
    "unmatch_tobias_res5_rename <- read.delim(\"/home/minghao/workbase/16_Tilapia_Cold_BulkRNA-ATAC_jiaohe/output/TRN/Tobias_res/res5-PH\",sep = \"\\t\")\n",
    "unmatch_tobias_res5_rename$name <- tolower(unmatch_tobias_res5_rename$name)"
   ]
  },
  {
   "cell_type": "code",
   "execution_count": 2911,
   "id": "85934649",
   "metadata": {
    "ExecuteTime": {
     "end_time": "2024-03-18T12:52:56.181900Z",
     "start_time": "2024-03-18T12:52:56.246Z"
    },
    "hidden": true
   },
   "outputs": [
    {
     "name": "stderr",
     "output_type": "stream",
     "text": [
      "Warning message in inner_join(., temp_geneID_name, by = c(name = \"eggnog_Preferred_name\")):\n",
      "\"\u001b[1m\u001b[22mDetected an unexpected many-to-many relationship between `x` and `y`.\n",
      "\u001b[36mℹ\u001b[39m Row 10 of `x` matches multiple rows in `y`.\n",
      "\u001b[36mℹ\u001b[39m Row 4364 of `y` matches multiple rows in `x`.\n",
      "\u001b[36mℹ\u001b[39m If a many-to-many relationship is expected, set `relationship = \"many-to-many\"` to silence this warning.\"\n"
     ]
    }
   ],
   "source": [
    "match_tobias_res6 <- unmatch_tobias_res5_rename %>% inner_join(temp_geneID_name,by = c(\"name\" = \"eggnog_Preferred_name\"))"
   ]
  },
  {
   "cell_type": "code",
   "execution_count": 2949,
   "id": "3823bc40",
   "metadata": {
    "ExecuteTime": {
     "end_time": "2024-03-18T13:08:57.633249Z",
     "start_time": "2024-03-18T13:08:57.596Z"
    },
    "hidden": true
   },
   "outputs": [],
   "source": [
    "mouse2tilapia <- read.delim(\"/home/minghao/workbase/16_Tilapia_Cold_BulkRNA-ATAC_jiaohe/gene2name_database/mouse2tilapia.txt\",sep = \"\\t\") %>% \n",
    "    filter(.$Nile.tilapia.orthology.confidence..0.low..1.high. == 1)\n",
    "zebrafish2tilapia <- read.delim(\"/home/minghao/workbase/16_Tilapia_Cold_BulkRNA-ATAC_jiaohe/gene2name_database/zebrafish2tilapia.txt\",sep = \"\\t\") %>% \n",
    "    filter(.$Nile.tilapia.orthology.confidence..0.low..1.high. == 1)"
   ]
  },
  {
   "cell_type": "code",
   "execution_count": 2942,
   "id": "9a39cd8f",
   "metadata": {
    "ExecuteTime": {
     "end_time": "2024-03-18T13:06:46.282446Z",
     "start_time": "2024-03-18T13:06:46.368Z"
    },
    "hidden": true,
    "scrolled": true
   },
   "outputs": [],
   "source": [
    "match_tobias_res5$new_lower <- NULL\n",
    "match_tobias_res35 <- rbind(match_tobias_res3,match_tobias_res5) %>% unique\n",
    "match_tobias_res35 <- match_tobias_res35 %>% left_join(mouse2tilapia,by = \"Gene.stable.ID\")\n",
    "\n",
    "match_tobias_res4$new_lower <- NULL\n",
    "match_tobias_res24 <- rbind(match_tobias_res2,match_tobias_res4) %>% unique\n",
    "match_tobias_res24 <- match_tobias_res24 %>% left_join(zebrafish2tilapia,by = \"Gene.stable.ID\")"
   ]
  },
  {
   "cell_type": "code",
   "execution_count": 2954,
   "id": "5b3724c9",
   "metadata": {
    "ExecuteTime": {
     "end_time": "2024-03-18T13:10:31.763543Z",
     "start_time": "2024-03-18T13:10:31.622Z"
    },
    "hidden": true,
    "scrolled": true
   },
   "outputs": [],
   "source": [
    "match_tobias_res2345 <- rbind(match_tobias_res35,match_tobias_res24)\n",
    "match_tobias_res2345$Nile.tilapia.orthology.confidence..0.low..1.high. <- NULL"
   ]
  },
  {
   "cell_type": "code",
   "execution_count": 2969,
   "id": "65776003",
   "metadata": {
    "ExecuteTime": {
     "end_time": "2024-03-18T13:14:15.185759Z",
     "start_time": "2024-03-18T13:14:15.277Z"
    },
    "hidden": true
   },
   "outputs": [],
   "source": [
    "match_tobias_res2345 <- match_tobias_res2345 %>% \n",
    "    dplyr::select(1:12,15) %>% \n",
    "    dplyr::rename(gene = Nile.tilapia.gene.stable.ID)"
   ]
  },
  {
   "cell_type": "code",
   "execution_count": 2964,
   "id": "5c94ecb5",
   "metadata": {
    "ExecuteTime": {
     "end_time": "2024-03-18T13:12:51.364712Z",
     "start_time": "2024-03-18T13:12:51.458Z"
    },
    "hidden": true,
    "scrolled": true
   },
   "outputs": [],
   "source": [
    "match_tobias_res$lower <- NULL\n",
    "match_tobias_res16 <- rbind(match_tobias_res,match_tobias_res6) %>% dplyr::select(1:13)"
   ]
  },
  {
   "cell_type": "code",
   "execution_count": 2971,
   "id": "f6ef5ca7",
   "metadata": {
    "ExecuteTime": {
     "end_time": "2024-03-18T13:14:49.943124Z",
     "start_time": "2024-03-18T13:14:50.038Z"
    },
    "hidden": true
   },
   "outputs": [],
   "source": [
    "match_tobias_res_rbind <- rbind(match_tobias_res16,match_tobias_res2345)\n",
    "match_tobias_res_rbind <- match_tobias_res_rbind %>% na.omit %>% unique"
   ]
  },
  {
   "cell_type": "code",
   "execution_count": 2978,
   "id": "905f63ac",
   "metadata": {
    "ExecuteTime": {
     "end_time": "2024-03-18T13:16:25.520869Z",
     "start_time": "2024-03-18T13:16:25.609Z"
    },
    "hidden": true
   },
   "outputs": [],
   "source": [
    "moitf2gene <- match_tobias_res_rbind %>% dplyr::select(1,13)"
   ]
  },
  {
   "cell_type": "code",
   "execution_count": null,
   "id": "80b30d03",
   "metadata": {
    "ExecuteTime": {
     "end_time": "2024-03-18T13:22:33.284284Z",
     "start_time": "2024-03-18T13:22:33.341Z"
    },
    "hidden": true
   },
   "outputs": [],
   "source": [
    "openxlsx::write.xlsx(moitf2gene,\"/home/minghao/workbase/16_Tilapia_Cold_BulkRNA-ATAC_jiaohe/output/TRN/motif2gene/motif2gene.xlsx\")"
   ]
  },
  {
   "cell_type": "code",
   "execution_count": 2988,
   "id": "a8b15a18",
   "metadata": {
    "ExecuteTime": {
     "end_time": "2024-03-19T01:14:27.482596Z",
     "start_time": "2024-03-19T01:14:27.707Z"
    },
    "hidden": true,
    "scrolled": true
   },
   "outputs": [],
   "source": [
    "write.table(moitf2gene,file = \"/home/minghao/workbase/16_Tilapia_Cold_BulkRNA-ATAC_jiaohe/output/TRN/motif2gene/motif2gene.txt\",\n",
    "            sep = \"\\t\",row.names = F,col.names = F,quote = F)"
   ]
  },
  {
   "cell_type": "markdown",
   "id": "9b56e530",
   "metadata": {
    "ExecuteTime": {
     "end_time": "2024-03-18T13:23:09.800163Z",
     "start_time": "2024-03-18T13:23:09.884Z"
    },
    "hidden": true
   },
   "source": [
    "```shell\n",
    "\n",
    "TOBIAS CreateNetwork --TFBS $(find /home/minghao/miniconda3/envs/tobais_snakemake/TOBIAS_snakemake/HK_output_v2/TFBS -name \"*_Ctrl_bound.bed\") --origin /home/minghao/workbase/16_Tilapia_Cold_BulkRNA-ATAC_jiaohe/output/TRN/motif2gene/motif2gene.txt --max-len 4 --outdir Ctrl_HK_network\n",
    "\n",
    "TOBIAS CreateNetwork --TFBS $(find /home/minghao/miniconda3/envs/tobais_snakemake/TOBIAS_snakemake/HK_output_v2/TFBS -name \"*_Cold_bound.bed\") --origin /home/minghao/workbase/16_Tilapia_Cold_BulkRNA-ATAC_jiaohe/output/TRN/motif2gene/motif2gene.txt --max-len 4 --outdir Cold_HK_network\n",
    "\n",
    "TOBIAS CreateNetwork --TFBS $(find /home/minghao/miniconda3/envs/tobais_snakemake/TOBIAS_snakemake/TH_output_v2/TFBS -name \"*_Ctrl_bound.bed\") --origin /home/minghao/workbase/16_Tilapia_Cold_BulkRNA-ATAC_jiaohe/output/TRN/motif2gene/motif2gene.txt --max-len 4 --outdir Ctrl_TH_network\n",
    "\n",
    "TOBIAS CreateNetwork --TFBS $(find /home/minghao/miniconda3/envs/tobais_snakemake/TOBIAS_snakemake/TH_output_v2/TFBS -name \"*_Cold_bound.bed\") --origin /home/minghao/workbase/16_Tilapia_Cold_BulkRNA-ATAC_jiaohe/output/TRN/motif2gene/motif2gene.txt --max-len 4 --outdir Cold_TH_network\n",
    "\n",
    "```"
   ]
  },
  {
   "cell_type": "code",
   "execution_count": null,
   "id": "188ab07d",
   "metadata": {
    "hidden": true
   },
   "outputs": [],
   "source": []
  },
  {
   "cell_type": "markdown",
   "id": "ee48dd1a",
   "metadata": {
    "heading_collapsed": true
   },
   "source": [
    "## Volcano plot"
   ]
  },
  {
   "cell_type": "code",
   "execution_count": 3184,
   "id": "afc8538c",
   "metadata": {
    "ExecuteTime": {
     "end_time": "2024-03-19T08:45:54.378162Z",
     "start_time": "2024-03-19T08:45:52.189Z"
    },
    "hidden": true,
    "scrolled": true
   },
   "outputs": [],
   "source": [
    "HK_bindetect <- openxlsx::read.xlsx(\"/home/minghao/miniconda3/envs/tobais_snakemake/TOBIAS_snakemake/HK_output_v2/overview/bindetect_results.xlsx\")\n",
    "TH_bindetect <- openxlsx::read.xlsx(\"/home/minghao/miniconda3/envs/tobais_snakemake/TOBIAS_snakemake/TH_output_v2/overview/bindetect_results.xlsx\")\n",
    "motif2gene <- openxlsx::read.xlsx(\"/home/minghao/workbase/16_Tilapia_Cold_BulkRNA-ATAC_jiaohe/output/TRN/motif2gene/motif2gene.xlsx\")\n",
    "\n",
    "HK_bindetect <- HK_bindetect[HK_bindetect$output_prefix %in% motif2gene$output_prefix,]\n",
    "TH_bindetect <- TH_bindetect[TH_bindetect$output_prefix %in% motif2gene$output_prefix,]"
   ]
  },
  {
   "cell_type": "code",
   "execution_count": 3185,
   "id": "0717da6b",
   "metadata": {
    "ExecuteTime": {
     "end_time": "2024-03-19T08:45:54.861365Z",
     "start_time": "2024-03-19T08:45:52.936Z"
    },
    "hidden": true
   },
   "outputs": [],
   "source": [
    "HK_bindetect$Ctrl_Cold_pvalue <- as.numeric(HK_bindetect$Ctrl_Cold_pvalue)\n",
    "TH_bindetect$Ctrl_Cold_pvalue <- as.numeric(TH_bindetect$Ctrl_Cold_pvalue)"
   ]
  },
  {
   "cell_type": "code",
   "execution_count": 3186,
   "id": "d16bd8ad",
   "metadata": {
    "ExecuteTime": {
     "end_time": "2024-03-19T08:46:00.275995Z",
     "start_time": "2024-03-19T08:46:00.220Z"
    },
    "hidden": true
   },
   "outputs": [],
   "source": [
    "TH_bindetect <- TH_bindetect %>% arrange(Ctrl_Cold_pvalue,desc(Ctrl_Cold_change))\n",
    "HK_bindetect <- HK_bindetect %>% arrange(Ctrl_Cold_pvalue,desc(Ctrl_Cold_change))\n",
    "\n",
    "top50_TH_bindetect <- TH_bindetect %>% arrange(Ctrl_Cold_pvalue,desc(Ctrl_Cold_change)) %>% slice_head(n = 50)\n",
    "top50_HK_bindetect <- HK_bindetect %>% arrange(Ctrl_Cold_pvalue,desc(Ctrl_Cold_change)) %>% slice_head(n = 50)"
   ]
  },
  {
   "cell_type": "code",
   "execution_count": 3035,
   "id": "6eb9679e",
   "metadata": {
    "ExecuteTime": {
     "end_time": "2024-03-19T06:41:55.518607Z",
     "start_time": "2024-03-19T06:41:55.734Z"
    },
    "hidden": true
   },
   "outputs": [],
   "source": [
    "openxlsx::write.xlsx(HK_bindetect,\"/home/minghao/workbase/16_Tilapia_Cold_BulkRNA-ATAC_jiaohe/output/TRN/Tobias_res/HK_bindetect.xlsx\")\n",
    "openxlsx::write.xlsx(TH_bindetect,\"/home/minghao/workbase/16_Tilapia_Cold_BulkRNA-ATAC_jiaohe/output/TRN/Tobias_res/TH_bindetect.xlsx\")\n",
    "\n",
    "openxlsx::write.xlsx(top50_HK_bindetect,\"/home/minghao/workbase/16_Tilapia_Cold_BulkRNA-ATAC_jiaohe/output/TRN/Tobias_res/top50_HK_bindetect.xlsx\")\n",
    "openxlsx::write.xlsx(top50_TH_bindetect,\"/home/minghao/workbase/16_Tilapia_Cold_BulkRNA-ATAC_jiaohe/output/TRN/Tobias_res/top50_TH_bindetect.xlsx\")"
   ]
  },
  {
   "cell_type": "code",
   "execution_count": 3187,
   "id": "3d192b46",
   "metadata": {
    "ExecuteTime": {
     "end_time": "2024-03-19T08:46:03.998318Z",
     "start_time": "2024-03-19T08:46:04.001Z"
    },
    "hidden": true
   },
   "outputs": [],
   "source": [
    "TH_bindetect$sig <- \"nosig\"\n",
    "TH_bindetect$sig[TH_bindetect$Ctrl_Cold_pvalue < 1e-80 & TH_bindetect$Ctrl_Cold_change > 0.04] <- \"Ctrl\"\n",
    "TH_bindetect$sig[TH_bindetect$Ctrl_Cold_pvalue < 1e-80 & TH_bindetect$Ctrl_Cold_change < -0.04] <- \"Cold\"\n",
    "\n",
    "HK_bindetect$sig <- \"nosig\"\n",
    "HK_bindetect$sig[HK_bindetect$Ctrl_Cold_pvalue < 1e-80 & HK_bindetect$Ctrl_Cold_change > 0.04] <- \"Ctrl\"\n",
    "HK_bindetect$sig[HK_bindetect$Ctrl_Cold_pvalue < 1e-80 & HK_bindetect$Ctrl_Cold_change < -0.04] <- \"Cold\""
   ]
  },
  {
   "cell_type": "code",
   "execution_count": 3842,
   "id": "e85f521a",
   "metadata": {
    "ExecuteTime": {
     "end_time": "2024-03-21T06:29:59.315017Z",
     "start_time": "2024-03-21T06:30:00.266Z"
    },
    "hidden": true
   },
   "outputs": [
    {
     "data": {
      "text/html": [
       "14"
      ],
      "text/latex": [
       "14"
      ],
      "text/markdown": [
       "14"
      ],
      "text/plain": [
       "[1] 14"
      ]
     },
     "metadata": {},
     "output_type": "display_data"
    }
   ],
   "source": [
    "select_TF <- c(\"FOXO1\",\"Foxo3\",\"ETS\",\"ETS1\",\"TCP1\",\"IRF3\",\"JunD\",\"Fra1\",\"Fos\",\"Atf3\",\"Fra2\",\"Jun-AP1\",\"JunB\",\"AP-1\")\n",
    "select_TF <- toupper(select_TF)\n",
    "length(select_TF)"
   ]
  },
  {
   "cell_type": "code",
   "execution_count": 3844,
   "id": "54c766b8",
   "metadata": {
    "ExecuteTime": {
     "end_time": "2024-03-21T06:30:14.733993Z",
     "start_time": "2024-03-21T06:30:15.552Z"
    },
    "hidden": true,
    "scrolled": true
   },
   "outputs": [],
   "source": [
    "TH_bindetect_label <- TH_bindetect %>% group_by(sig) %>% \n",
    "    slice_min(order_by = Ctrl_Cold_pvalue , n = 10) %>% \n",
    "    ungroup %>% \n",
    "    filter(sig != \"nosig\") %>% \n",
    "    dplyr::select(name,Ctrl_Cold_change,Ctrl_Cold_pvalue,sig) \n",
    "\n",
    "HK_bindetect_label <- HK_bindetect %>% group_by(sig) %>% \n",
    "    slice_min(order_by = Ctrl_Cold_pvalue , n = 10) %>% \n",
    "    ungroup %>% \n",
    "    filter(sig != \"nosig\") %>% \n",
    "    dplyr::select(name,Ctrl_Cold_change,Ctrl_Cold_pvalue,sig) \n",
    "\n",
    "HK_label_select <- HK_bindetect[apply(as.matrix(toupper(HK_bindetect$name)),1,function(x) any(sapply(select_TF, grepl, x))) ,c(2,10,11,13)]\n",
    "TH_label_select <- TH_bindetect[apply(as.matrix(toupper(TH_bindetect$name)),1,function(x) any(sapply(select_TF, grepl, x))) ,c(2,10,11,13)]\n",
    "                                      \n",
    "HK_bindetect_label <- rbind(HK_bindetect_label,HK_label_select) %>% unique\n",
    "TH_bindetect_label <- rbind(TH_bindetect_label,TH_label_select) %>% unique\n",
    "rm(TH_label_select)\n",
    "rm(HK_label_select)"
   ]
  },
  {
   "cell_type": "code",
   "execution_count": 3937,
   "id": "6ce61ac3",
   "metadata": {
    "ExecuteTime": {
     "end_time": "2024-03-22T08:10:43.567637Z",
     "start_time": "2024-03-22T08:10:43.995Z"
    },
    "hidden": true,
    "scrolled": true
   },
   "outputs": [
    {
     "data": {
      "text/html": [
       "<style>\n",
       ".list-inline {list-style: none; margin:0; padding: 0}\n",
       ".list-inline>li {display: inline-block}\n",
       ".list-inline>li:not(:last-child)::after {content: \"\\00b7\"; padding: 0 .5ex}\n",
       "</style>\n",
       "<ol class=list-inline><li>'IRF3'</li><li>'FOXA1'</li><li>'IRF1'</li><li>'IDD5'</li><li>'Hoxd12'</li><li>'Mef2d'</li><li>'IDD4'</li><li>'FoxD3'</li><li>'Oct4'</li><li>'SOL1'</li><li>'KLF10'</li><li>'Maz'</li><li>'KLF3'</li><li>'Klf9'</li><li>'Egr2'</li><li>'KLF6'</li><li>'KLF5'</li><li>'Sp1'</li><li>'Sp5'</li><li>'Sp2'</li><li>'TCP1'</li><li>'ETS1'</li><li>'Foxo3'</li><li>'ETS'</li><li>'Foxo1'</li><li>'Fos'</li><li>'Fra1'</li><li>'ETS:RUNX'</li><li>'AP-1'</li><li>'Atf3'</li><li>'Fosl2'</li><li>'Fra2'</li><li>'JunB'</li><li>'JunD'</li><li>'ETS:E-box'</li><li>'Jun-AP1'</li></ol>\n"
      ],
      "text/latex": [
       "\\begin{enumerate*}\n",
       "\\item 'IRF3'\n",
       "\\item 'FOXA1'\n",
       "\\item 'IRF1'\n",
       "\\item 'IDD5'\n",
       "\\item 'Hoxd12'\n",
       "\\item 'Mef2d'\n",
       "\\item 'IDD4'\n",
       "\\item 'FoxD3'\n",
       "\\item 'Oct4'\n",
       "\\item 'SOL1'\n",
       "\\item 'KLF10'\n",
       "\\item 'Maz'\n",
       "\\item 'KLF3'\n",
       "\\item 'Klf9'\n",
       "\\item 'Egr2'\n",
       "\\item 'KLF6'\n",
       "\\item 'KLF5'\n",
       "\\item 'Sp1'\n",
       "\\item 'Sp5'\n",
       "\\item 'Sp2'\n",
       "\\item 'TCP1'\n",
       "\\item 'ETS1'\n",
       "\\item 'Foxo3'\n",
       "\\item 'ETS'\n",
       "\\item 'Foxo1'\n",
       "\\item 'Fos'\n",
       "\\item 'Fra1'\n",
       "\\item 'ETS:RUNX'\n",
       "\\item 'AP-1'\n",
       "\\item 'Atf3'\n",
       "\\item 'Fosl2'\n",
       "\\item 'Fra2'\n",
       "\\item 'JunB'\n",
       "\\item 'JunD'\n",
       "\\item 'ETS:E-box'\n",
       "\\item 'Jun-AP1'\n",
       "\\end{enumerate*}\n"
      ],
      "text/markdown": [
       "1. 'IRF3'\n",
       "2. 'FOXA1'\n",
       "3. 'IRF1'\n",
       "4. 'IDD5'\n",
       "5. 'Hoxd12'\n",
       "6. 'Mef2d'\n",
       "7. 'IDD4'\n",
       "8. 'FoxD3'\n",
       "9. 'Oct4'\n",
       "10. 'SOL1'\n",
       "11. 'KLF10'\n",
       "12. 'Maz'\n",
       "13. 'KLF3'\n",
       "14. 'Klf9'\n",
       "15. 'Egr2'\n",
       "16. 'KLF6'\n",
       "17. 'KLF5'\n",
       "18. 'Sp1'\n",
       "19. 'Sp5'\n",
       "20. 'Sp2'\n",
       "21. 'TCP1'\n",
       "22. 'ETS1'\n",
       "23. 'Foxo3'\n",
       "24. 'ETS'\n",
       "25. 'Foxo1'\n",
       "26. 'Fos'\n",
       "27. 'Fra1'\n",
       "28. 'ETS:RUNX'\n",
       "29. 'AP-1'\n",
       "30. 'Atf3'\n",
       "31. 'Fosl2'\n",
       "32. 'Fra2'\n",
       "33. 'JunB'\n",
       "34. 'JunD'\n",
       "35. 'ETS:E-box'\n",
       "36. 'Jun-AP1'\n",
       "\n",
       "\n"
      ],
      "text/plain": [
       " [1] \"IRF3\"      \"FOXA1\"     \"IRF1\"      \"IDD5\"      \"Hoxd12\"    \"Mef2d\"    \n",
       " [7] \"IDD4\"      \"FoxD3\"     \"Oct4\"      \"SOL1\"      \"KLF10\"     \"Maz\"      \n",
       "[13] \"KLF3\"      \"Klf9\"      \"Egr2\"      \"KLF6\"      \"KLF5\"      \"Sp1\"      \n",
       "[19] \"Sp5\"       \"Sp2\"       \"TCP1\"      \"ETS1\"      \"Foxo3\"     \"ETS\"      \n",
       "[25] \"Foxo1\"     \"Fos\"       \"Fra1\"      \"ETS:RUNX\"  \"AP-1\"      \"Atf3\"     \n",
       "[31] \"Fosl2\"     \"Fra2\"      \"JunB\"      \"JunD\"      \"ETS:E-box\" \"Jun-AP1\"  "
      ]
     },
     "metadata": {},
     "output_type": "display_data"
    }
   ],
   "source": [
    "HK_bindetect_label$name"
   ]
  },
  {
   "cell_type": "code",
   "execution_count": 3938,
   "id": "26c4b2b0",
   "metadata": {
    "ExecuteTime": {
     "end_time": "2024-03-22T08:11:07.316477Z",
     "start_time": "2024-03-22T08:11:06.536Z"
    },
    "hidden": true
   },
   "outputs": [
    {
     "data": {
      "image/png": "[encoded data removed]",
      "text/plain": [
       "plot without title"
      ]
     },
     "metadata": {
      "image/png": {
       "height": 240,
       "width": 300
      }
     },
     "output_type": "display_data"
    }
   ],
   "source": [
    "options(repr.plot.width = 5,repr.plot.height = 4)\n",
    "TH_volcano_plot <- ggplot(data = TH_bindetect,aes(x = -Ctrl_Cold_change ,y = -log10(Ctrl_Cold_pvalue),color = sig)) + \n",
    "    geom_point() +\n",
    "    scale_color_manual(values = c(\"#7E9BB7\",\"#D6AFB9\",\"grey\")) + \n",
    "    scale_x_continuous(limits = c(-0.3,0.3)) +\n",
    "    scale_y_continuous(limits = c(-1,185)) +\n",
    "    ggtitle(\"Tissue:TH\") +\n",
    "    labs(y = \"-log10(pvalue)\" , x = \"Fold_change\",color = NULL) + \n",
    "    theme_bw(base_size = 15) + \n",
    "    geom_text_repel(data = TH_bindetect_label ,aes(label = name , x = -Ctrl_Cold_change , y = -log10(Ctrl_Cold_pvalue)),\n",
    "                    color = \"black\",max.overlaps = 50,size = 3,\n",
    "                    nudge_x = 0.01, nudge_y = 0.01, point.padding = unit(0.8, \"lines\")) + \n",
    "    theme(plot.title = element_text(hjust = .5))\n",
    "TH_volcano_plot"
   ]
  },
  {
   "cell_type": "code",
   "execution_count": 3939,
   "id": "7b6cc92c",
   "metadata": {
    "ExecuteTime": {
     "end_time": "2024-03-22T08:14:25.523429Z",
     "start_time": "2024-03-22T08:14:24.750Z"
    },
    "hidden": true
   },
   "outputs": [
    {
     "data": {
      "image/png": "[encoded data removed]",
      "text/plain": [
       "plot without title"
      ]
     },
     "metadata": {
      "image/png": {
       "height": 240,
       "width": 300
      }
     },
     "output_type": "display_data"
    }
   ],
   "source": [
    "options(repr.plot.width = 5,repr.plot.height = 4)\n",
    "HK_volcano_plot <- ggplot(data = HK_bindetect,aes(x = -Ctrl_Cold_change ,y = -log10(Ctrl_Cold_pvalue),color = sig)) + \n",
    "    geom_point() +\n",
    "    scale_color_manual(values = c(\"#7E9BB7\",\"#D6AFB9\",\"grey\")) + \n",
    "    scale_x_continuous(limits = c(-0.3,0.3)) +\n",
    "    scale_y_continuous(limits = c(48,220)) +\n",
    "    ggtitle(\"Tissue:HK\") +\n",
    "    labs(y = \"-log10(pvalue)\" , x = \"Fold_change\",color = NULL) + \n",
    "    theme_bw(base_size = 15) + \n",
    "    geom_text_repel(data = HK_bindetect_label ,aes(label = name , x = -Ctrl_Cold_change , y = -log10(Ctrl_Cold_pvalue)),\n",
    "                    color = \"black\",max.overlaps = 50,size = 3,#arrow = arrow(length = unit(0.01, \"npc\"),type = \"open\", ends = \"last\"),\n",
    "                    nudge_x = 0.01, nudge_y = 0.01, point.padding = unit(0.8, \"lines\") ) + \n",
    "    theme(plot.title = element_text(hjust = .5) )\n",
    "HK_volcano_plot"
   ]
  },
  {
   "cell_type": "code",
   "execution_count": 3837,
   "id": "37020e72",
   "metadata": {
    "ExecuteTime": {
     "end_time": "2024-03-21T02:50:27.604943Z",
     "start_time": "2024-03-21T02:50:26.352Z"
    },
    "hidden": true,
    "scrolled": true
   },
   "outputs": [
    {
     "data": {
      "image/png": "[encoded data removed]",
      "text/plain": [
       "plot without title"
      ]
     },
     "metadata": {
      "image/png": {
       "height": 240,
       "width": 540
      }
     },
     "output_type": "display_data"
    }
   ],
   "source": [
    "options(repr.plot.width = 9,repr.plot.height = 4)\n",
    "wrap_plots(list(HK_volcano_plot,TH_volcano_plot),nrow = 1,widths = 10,heights = 4,guides = \"collect\")"
   ]
  },
  {
   "cell_type": "code",
   "execution_count": 3838,
   "id": "a643b560",
   "metadata": {
    "ExecuteTime": {
     "end_time": "2024-03-21T02:50:28.799873Z",
     "start_time": "2024-03-21T02:50:27.199Z"
    },
    "hidden": true
   },
   "outputs": [
    {
     "data": {
      "text/html": [
       "<strong>png:</strong> 2"
      ],
      "text/latex": [
       "\\textbf{png:} 2"
      ],
      "text/markdown": [
       "**png:** 2"
      ],
      "text/plain": [
       "png \n",
       "  2 "
      ]
     },
     "metadata": {},
     "output_type": "display_data"
    }
   ],
   "source": [
    "pdf(\"/home/minghao/workbase/16_Tilapia_Cold_BulkRNA-ATAC_jiaohe/output/plot/Fig4_motif_Volcano_plot.pdf\",width = 8.5,height = 4)\n",
    "wrap_plots(list(HK_volcano_plot,TH_volcano_plot),nrow = 1,widths = 10,heights = 4,guides = \"collect\")\n",
    "dev.off()"
   ]
  },
  {
   "cell_type": "markdown",
   "id": "44ef85ea",
   "metadata": {
    "heading_collapsed": true
   },
   "source": [
    "## Venn plot"
   ]
  },
  {
   "cell_type": "code",
   "execution_count": 3209,
   "id": "7ce6d10d",
   "metadata": {
    "ExecuteTime": {
     "end_time": "2024-03-19T11:14:36.119807Z",
     "start_time": "2024-03-19T11:14:36.491Z"
    },
    "hidden": true,
    "scrolled": true
   },
   "outputs": [
    {
     "data": {
      "text/html": [
       "<style>\n",
       ".list-inline {list-style: none; margin:0; padding: 0}\n",
       ".list-inline>li {display: inline-block}\n",
       ".list-inline>li:not(:last-child)::after {content: \"\\00b7\"; padding: 0 .5ex}\n",
       "</style>\n",
       "<ol class=list-inline><li>'IRF3'</li><li>'FOXA1'</li><li>'IRF1'</li><li>'IDD5'</li><li>'Hoxd12'</li><li>'Mef2d'</li><li>'IDD4'</li><li>'FoxD3'</li><li>'Oct4'</li><li>'SOL1'</li><li>'Mef2c'</li><li>'Oct6'</li><li>'ERG'</li><li>'IRF2'</li><li>'PU.1:IRF8'</li><li>'IRF8'</li><li>'PABPC1'</li><li>'T1ISRE'</li><li>'FOXK1'</li><li>'ETS1'</li><li>'GT2'</li><li>'FOXP1'</li><li>'GABPA'</li><li>'Foxf1'</li><li>'EHF'</li><li>'Mef2b'</li><li>'ELF3'</li><li>'COG1'</li><li>'PU.1'</li><li>'HNF1b'</li><li>'JKD'</li><li>'FOXM1'</li><li>'ETV1'</li><li>'Mef2a'</li><li>'Foxa3'</li><li>'Cdx2'</li><li>'Foxo3'</li><li>'Fli1'</li><li>'GTL1'</li><li>'Pitx1:Ebox'</li><li>'FOXA1:AR'</li><li>'Foxa2'</li><li>'ETS'</li><li>'Hoxa10'</li><li>'NUC'</li><li>'Chop'</li><li>'SGR5'</li><li>'MYNN'</li><li>'Hoxa13'</li><li>'Hoxc9'</li><li>'FOXK2'</li><li>'HLF'</li><li>'IRF4'</li><li>'Pax7'</li><li>'Prop1'</li><li>'MafF'</li><li>'Brn2'</li><li>'Phox2a'</li><li>'AtIDD11'</li><li>'Hoxd10'</li><li>'EMB1789'</li><li>'ELF1'</li><li>'MGP'</li><li>'IDD7'</li><li>'Hoxa11'</li><li>'Phox2b'</li><li>'Atf4'</li><li>'Foxo1'</li><li>'CDX4'</li><li>'Hoxd11'</li><li>'DMRT1'</li><li>'Tcf3'</li><li>'IDD2'</li><li>'NFIL3'</li><li>'caudal'</li><li>'ETV4'</li><li>'Lhx3'</li><li>'HAT1'</li><li>'PBX2'</li><li>'SPDEF'</li><li>'Barx1'</li><li>'Pit1'</li><li>'HOXB13'</li><li>'NFkB-p65-Rel'</li><li>'Tcf7'</li><li>'Hoxa9'</li><li>'NFE2L2'</li><li>'Dlx3'</li><li>'TRPS1'</li><li>'Eomes'</li><li>'Elk1'</li><li>'STAT6'</li><li>'LEF1'</li><li>'PGR'</li><li>'GATA3'</li><li>'GT3a'</li><li>'Six4'</li><li>'Lhx2'</li><li>'Six1'</li><li>'HOXA9'</li><li>'RUNX1'</li><li>'Lhx1'</li><li>'Cux2'</li><li>'Tbr1'</li><li>'Gfi1b'</li><li>'SPL15'</li><li>'NF1:FOXA1'</li><li>'STAT4'</li><li>'STAT1'</li><li>'DLX1'</li><li>'SPL9'</li><li>'Tcf4'</li><li>'Atf1'</li><li>'CREB5'</li><li>'SPL11'</li><li>'TFE3'</li><li>'GATA'</li><li>'Cbf1'</li><li>'NFkB-p65'</li></ol>\n"
      ],
      "text/latex": [
       "\\begin{enumerate*}\n",
       "\\item 'IRF3'\n",
       "\\item 'FOXA1'\n",
       "\\item 'IRF1'\n",
       "\\item 'IDD5'\n",
       "\\item 'Hoxd12'\n",
       "\\item 'Mef2d'\n",
       "\\item 'IDD4'\n",
       "\\item 'FoxD3'\n",
       "\\item 'Oct4'\n",
       "\\item 'SOL1'\n",
       "\\item 'Mef2c'\n",
       "\\item 'Oct6'\n",
       "\\item 'ERG'\n",
       "\\item 'IRF2'\n",
       "\\item 'PU.1:IRF8'\n",
       "\\item 'IRF8'\n",
       "\\item 'PABPC1'\n",
       "\\item 'T1ISRE'\n",
       "\\item 'FOXK1'\n",
       "\\item 'ETS1'\n",
       "\\item 'GT2'\n",
       "\\item 'FOXP1'\n",
       "\\item 'GABPA'\n",
       "\\item 'Foxf1'\n",
       "\\item 'EHF'\n",
       "\\item 'Mef2b'\n",
       "\\item 'ELF3'\n",
       "\\item 'COG1'\n",
       "\\item 'PU.1'\n",
       "\\item 'HNF1b'\n",
       "\\item 'JKD'\n",
       "\\item 'FOXM1'\n",
       "\\item 'ETV1'\n",
       "\\item 'Mef2a'\n",
       "\\item 'Foxa3'\n",
       "\\item 'Cdx2'\n",
       "\\item 'Foxo3'\n",
       "\\item 'Fli1'\n",
       "\\item 'GTL1'\n",
       "\\item 'Pitx1:Ebox'\n",
       "\\item 'FOXA1:AR'\n",
       "\\item 'Foxa2'\n",
       "\\item 'ETS'\n",
       "\\item 'Hoxa10'\n",
       "\\item 'NUC'\n",
       "\\item 'Chop'\n",
       "\\item 'SGR5'\n",
       "\\item 'MYNN'\n",
       "\\item 'Hoxa13'\n",
       "\\item 'Hoxc9'\n",
       "\\item 'FOXK2'\n",
       "\\item 'HLF'\n",
       "\\item 'IRF4'\n",
       "\\item 'Pax7'\n",
       "\\item 'Prop1'\n",
       "\\item 'MafF'\n",
       "\\item 'Brn2'\n",
       "\\item 'Phox2a'\n",
       "\\item 'AtIDD11'\n",
       "\\item 'Hoxd10'\n",
       "\\item 'EMB1789'\n",
       "\\item 'ELF1'\n",
       "\\item 'MGP'\n",
       "\\item 'IDD7'\n",
       "\\item 'Hoxa11'\n",
       "\\item 'Phox2b'\n",
       "\\item 'Atf4'\n",
       "\\item 'Foxo1'\n",
       "\\item 'CDX4'\n",
       "\\item 'Hoxd11'\n",
       "\\item 'DMRT1'\n",
       "\\item 'Tcf3'\n",
       "\\item 'IDD2'\n",
       "\\item 'NFIL3'\n",
       "\\item 'caudal'\n",
       "\\item 'ETV4'\n",
       "\\item 'Lhx3'\n",
       "\\item 'HAT1'\n",
       "\\item 'PBX2'\n",
       "\\item 'SPDEF'\n",
       "\\item 'Barx1'\n",
       "\\item 'Pit1'\n",
       "\\item 'HOXB13'\n",
       "\\item 'NFkB-p65-Rel'\n",
       "\\item 'Tcf7'\n",
       "\\item 'Hoxa9'\n",
       "\\item 'NFE2L2'\n",
       "\\item 'Dlx3'\n",
       "\\item 'TRPS1'\n",
       "\\item 'Eomes'\n",
       "\\item 'Elk1'\n",
       "\\item 'STAT6'\n",
       "\\item 'LEF1'\n",
       "\\item 'PGR'\n",
       "\\item 'GATA3'\n",
       "\\item 'GT3a'\n",
       "\\item 'Six4'\n",
       "\\item 'Lhx2'\n",
       "\\item 'Six1'\n",
       "\\item 'HOXA9'\n",
       "\\item 'RUNX1'\n",
       "\\item 'Lhx1'\n",
       "\\item 'Cux2'\n",
       "\\item 'Tbr1'\n",
       "\\item 'Gfi1b'\n",
       "\\item 'SPL15'\n",
       "\\item 'NF1:FOXA1'\n",
       "\\item 'STAT4'\n",
       "\\item 'STAT1'\n",
       "\\item 'DLX1'\n",
       "\\item 'SPL9'\n",
       "\\item 'Tcf4'\n",
       "\\item 'Atf1'\n",
       "\\item 'CREB5'\n",
       "\\item 'SPL11'\n",
       "\\item 'TFE3'\n",
       "\\item 'GATA'\n",
       "\\item 'Cbf1'\n",
       "\\item 'NFkB-p65'\n",
       "\\end{enumerate*}\n"
      ],
      "text/markdown": [
       "1. 'IRF3'\n",
       "2. 'FOXA1'\n",
       "3. 'IRF1'\n",
       "4. 'IDD5'\n",
       "5. 'Hoxd12'\n",
       "6. 'Mef2d'\n",
       "7. 'IDD4'\n",
       "8. 'FoxD3'\n",
       "9. 'Oct4'\n",
       "10. 'SOL1'\n",
       "11. 'Mef2c'\n",
       "12. 'Oct6'\n",
       "13. 'ERG'\n",
       "14. 'IRF2'\n",
       "15. 'PU.1:IRF8'\n",
       "16. 'IRF8'\n",
       "17. 'PABPC1'\n",
       "18. 'T1ISRE'\n",
       "19. 'FOXK1'\n",
       "20. 'ETS1'\n",
       "21. 'GT2'\n",
       "22. 'FOXP1'\n",
       "23. 'GABPA'\n",
       "24. 'Foxf1'\n",
       "25. 'EHF'\n",
       "26. 'Mef2b'\n",
       "27. 'ELF3'\n",
       "28. 'COG1'\n",
       "29. 'PU.1'\n",
       "30. 'HNF1b'\n",
       "31. 'JKD'\n",
       "32. 'FOXM1'\n",
       "33. 'ETV1'\n",
       "34. 'Mef2a'\n",
       "35. 'Foxa3'\n",
       "36. 'Cdx2'\n",
       "37. 'Foxo3'\n",
       "38. 'Fli1'\n",
       "39. 'GTL1'\n",
       "40. 'Pitx1:Ebox'\n",
       "41. 'FOXA1:AR'\n",
       "42. 'Foxa2'\n",
       "43. 'ETS'\n",
       "44. 'Hoxa10'\n",
       "45. 'NUC'\n",
       "46. 'Chop'\n",
       "47. 'SGR5'\n",
       "48. 'MYNN'\n",
       "49. 'Hoxa13'\n",
       "50. 'Hoxc9'\n",
       "51. 'FOXK2'\n",
       "52. 'HLF'\n",
       "53. 'IRF4'\n",
       "54. 'Pax7'\n",
       "55. 'Prop1'\n",
       "56. 'MafF'\n",
       "57. 'Brn2'\n",
       "58. 'Phox2a'\n",
       "59. 'AtIDD11'\n",
       "60. 'Hoxd10'\n",
       "61. 'EMB1789'\n",
       "62. 'ELF1'\n",
       "63. 'MGP'\n",
       "64. 'IDD7'\n",
       "65. 'Hoxa11'\n",
       "66. 'Phox2b'\n",
       "67. 'Atf4'\n",
       "68. 'Foxo1'\n",
       "69. 'CDX4'\n",
       "70. 'Hoxd11'\n",
       "71. 'DMRT1'\n",
       "72. 'Tcf3'\n",
       "73. 'IDD2'\n",
       "74. 'NFIL3'\n",
       "75. 'caudal'\n",
       "76. 'ETV4'\n",
       "77. 'Lhx3'\n",
       "78. 'HAT1'\n",
       "79. 'PBX2'\n",
       "80. 'SPDEF'\n",
       "81. 'Barx1'\n",
       "82. 'Pit1'\n",
       "83. 'HOXB13'\n",
       "84. 'NFkB-p65-Rel'\n",
       "85. 'Tcf7'\n",
       "86. 'Hoxa9'\n",
       "87. 'NFE2L2'\n",
       "88. 'Dlx3'\n",
       "89. 'TRPS1'\n",
       "90. 'Eomes'\n",
       "91. 'Elk1'\n",
       "92. 'STAT6'\n",
       "93. 'LEF1'\n",
       "94. 'PGR'\n",
       "95. 'GATA3'\n",
       "96. 'GT3a'\n",
       "97. 'Six4'\n",
       "98. 'Lhx2'\n",
       "99. 'Six1'\n",
       "100. 'HOXA9'\n",
       "101. 'RUNX1'\n",
       "102. 'Lhx1'\n",
       "103. 'Cux2'\n",
       "104. 'Tbr1'\n",
       "105. 'Gfi1b'\n",
       "106. 'SPL15'\n",
       "107. 'NF1:FOXA1'\n",
       "108. 'STAT4'\n",
       "109. 'STAT1'\n",
       "110. 'DLX1'\n",
       "111. 'SPL9'\n",
       "112. 'Tcf4'\n",
       "113. 'Atf1'\n",
       "114. 'CREB5'\n",
       "115. 'SPL11'\n",
       "116. 'TFE3'\n",
       "117. 'GATA'\n",
       "118. 'Cbf1'\n",
       "119. 'NFkB-p65'\n",
       "\n",
       "\n"
      ],
      "text/plain": [
       "  [1] \"IRF3\"         \"FOXA1\"        \"IRF1\"         \"IDD5\"         \"Hoxd12\"      \n",
       "  [6] \"Mef2d\"        \"IDD4\"         \"FoxD3\"        \"Oct4\"         \"SOL1\"        \n",
       " [11] \"Mef2c\"        \"Oct6\"         \"ERG\"          \"IRF2\"         \"PU.1:IRF8\"   \n",
       " [16] \"IRF8\"         \"PABPC1\"       \"T1ISRE\"       \"FOXK1\"        \"ETS1\"        \n",
       " [21] \"GT2\"          \"FOXP1\"        \"GABPA\"        \"Foxf1\"        \"EHF\"         \n",
       " [26] \"Mef2b\"        \"ELF3\"         \"COG1\"         \"PU.1\"         \"HNF1b\"       \n",
       " [31] \"JKD\"          \"FOXM1\"        \"ETV1\"         \"Mef2a\"        \"Foxa3\"       \n",
       " [36] \"Cdx2\"         \"Foxo3\"        \"Fli1\"         \"GTL1\"         \"Pitx1:Ebox\"  \n",
       " [41] \"FOXA1:AR\"     \"Foxa2\"        \"ETS\"          \"Hoxa10\"       \"NUC\"         \n",
       " [46] \"Chop\"         \"SGR5\"         \"MYNN\"         \"Hoxa13\"       \"Hoxc9\"       \n",
       " [51] \"FOXK2\"        \"HLF\"          \"IRF4\"         \"Pax7\"         \"Prop1\"       \n",
       " [56] \"MafF\"         \"Brn2\"         \"Phox2a\"       \"AtIDD11\"      \"Hoxd10\"      \n",
       " [61] \"EMB1789\"      \"ELF1\"         \"MGP\"          \"IDD7\"         \"Hoxa11\"      \n",
       " [66] \"Phox2b\"       \"Atf4\"         \"Foxo1\"        \"CDX4\"         \"Hoxd11\"      \n",
       " [71] \"DMRT1\"        \"Tcf3\"         \"IDD2\"         \"NFIL3\"        \"caudal\"      \n",
       " [76] \"ETV4\"         \"Lhx3\"         \"HAT1\"         \"PBX2\"         \"SPDEF\"       \n",
       " [81] \"Barx1\"        \"Pit1\"         \"HOXB13\"       \"NFkB-p65-Rel\" \"Tcf7\"        \n",
       " [86] \"Hoxa9\"        \"NFE2L2\"       \"Dlx3\"         \"TRPS1\"        \"Eomes\"       \n",
       " [91] \"Elk1\"         \"STAT6\"        \"LEF1\"         \"PGR\"          \"GATA3\"       \n",
       " [96] \"GT3a\"         \"Six4\"         \"Lhx2\"         \"Six1\"         \"HOXA9\"       \n",
       "[101] \"RUNX1\"        \"Lhx1\"         \"Cux2\"         \"Tbr1\"         \"Gfi1b\"       \n",
       "[106] \"SPL15\"        \"NF1:FOXA1\"    \"STAT4\"        \"STAT1\"        \"DLX1\"        \n",
       "[111] \"SPL9\"         \"Tcf4\"         \"Atf1\"         \"CREB5\"        \"SPL11\"       \n",
       "[116] \"TFE3\"         \"GATA\"         \"Cbf1\"         \"NFkB-p65\"    "
      ]
     },
     "metadata": {},
     "output_type": "display_data"
    }
   ],
   "source": [
    "intersect(HK_bindetect$name[HK_bindetect$sig == \"Cold\"],TH_bindetect$name[TH_bindetect$sig == \"Cold\"])"
   ]
  },
  {
   "cell_type": "code",
   "execution_count": 3210,
   "id": "a07af414",
   "metadata": {
    "ExecuteTime": {
     "end_time": "2024-03-19T11:14:51.554350Z",
     "start_time": "2024-03-19T11:14:51.928Z"
    },
    "hidden": true
   },
   "outputs": [
    {
     "data": {
      "text/html": [
       "<style>\n",
       ".list-inline {list-style: none; margin:0; padding: 0}\n",
       ".list-inline>li {display: inline-block}\n",
       ".list-inline>li:not(:last-child)::after {content: \"\\00b7\"; padding: 0 .5ex}\n",
       "</style>\n",
       "<ol class=list-inline><li>'KLF10'</li><li>'Maz'</li><li>'KLF3'</li><li>'Klf9'</li><li>'Egr2'</li><li>'KLF6'</li><li>'KLF5'</li><li>'Sp1'</li><li>'Sp5'</li><li>'Sp2'</li><li>'KLF1'</li><li>'Egr1'</li><li>'Klf4'</li><li>'Gli2'</li><li>'WT1'</li><li>'Trl'</li><li>'GLIS3'</li><li>'GLI3'</li><li>'THRb'</li><li>'ERF2'</li><li>'FRS9'</li><li>'ZEB2'</li><li>'TCP1'</li><li>'ZEB1'</li><li>'TR4'</li><li>'NF1'</li><li>'Zic3'</li><li>'RXR'</li><li>'EBF1'</li><li>'ZNF711'</li><li>'E2A'</li><li>'Slug'</li><li>'NRF1'</li><li>'Zic2'</li><li>'Snail1'</li><li>'VDR'</li><li>'NRF'</li><li>'COUP-TFII'</li><li>'EAR2'</li><li>'THRa'</li><li>'Srebp2'</li><li>'PPARa'</li><li>'Erra'</li><li>'FHY3'</li><li>'E2F6'</li><li>'Smad4'</li><li>'RAP211'</li><li>'PPARE'</li><li>'RARg'</li><li>'Tlx?'</li><li>'FAR1'</li><li>'LEP'</li><li>'SF1'</li><li>'E2F7'</li><li>'Smad2'</li><li>'AR-halfsite'</li><li>'E2F3'</li><li>'PAX5'</li><li>'Nr5a2'</li><li>'E2F1'</li><li>'NFkB-p50'</li><li>'HINFP'</li><li>'PRDM10'</li><li>'Bcl11a'</li><li>'Esrrb'</li><li>'ZFX'</li><li>'AS2'</li><li>'ZNF341'</li><li>'HIC1'</li><li>'EBF2'</li><li>'Pax8'</li><li>'M1BP'</li><li>'HNF4a'</li><li>'ZBTB12'</li><li>'Rbpj1'</li><li>'p63'</li><li>'MafK'</li></ol>\n"
      ],
      "text/latex": [
       "\\begin{enumerate*}\n",
       "\\item 'KLF10'\n",
       "\\item 'Maz'\n",
       "\\item 'KLF3'\n",
       "\\item 'Klf9'\n",
       "\\item 'Egr2'\n",
       "\\item 'KLF6'\n",
       "\\item 'KLF5'\n",
       "\\item 'Sp1'\n",
       "\\item 'Sp5'\n",
       "\\item 'Sp2'\n",
       "\\item 'KLF1'\n",
       "\\item 'Egr1'\n",
       "\\item 'Klf4'\n",
       "\\item 'Gli2'\n",
       "\\item 'WT1'\n",
       "\\item 'Trl'\n",
       "\\item 'GLIS3'\n",
       "\\item 'GLI3'\n",
       "\\item 'THRb'\n",
       "\\item 'ERF2'\n",
       "\\item 'FRS9'\n",
       "\\item 'ZEB2'\n",
       "\\item 'TCP1'\n",
       "\\item 'ZEB1'\n",
       "\\item 'TR4'\n",
       "\\item 'NF1'\n",
       "\\item 'Zic3'\n",
       "\\item 'RXR'\n",
       "\\item 'EBF1'\n",
       "\\item 'ZNF711'\n",
       "\\item 'E2A'\n",
       "\\item 'Slug'\n",
       "\\item 'NRF1'\n",
       "\\item 'Zic2'\n",
       "\\item 'Snail1'\n",
       "\\item 'VDR'\n",
       "\\item 'NRF'\n",
       "\\item 'COUP-TFII'\n",
       "\\item 'EAR2'\n",
       "\\item 'THRa'\n",
       "\\item 'Srebp2'\n",
       "\\item 'PPARa'\n",
       "\\item 'Erra'\n",
       "\\item 'FHY3'\n",
       "\\item 'E2F6'\n",
       "\\item 'Smad4'\n",
       "\\item 'RAP211'\n",
       "\\item 'PPARE'\n",
       "\\item 'RARg'\n",
       "\\item 'Tlx?'\n",
       "\\item 'FAR1'\n",
       "\\item 'LEP'\n",
       "\\item 'SF1'\n",
       "\\item 'E2F7'\n",
       "\\item 'Smad2'\n",
       "\\item 'AR-halfsite'\n",
       "\\item 'E2F3'\n",
       "\\item 'PAX5'\n",
       "\\item 'Nr5a2'\n",
       "\\item 'E2F1'\n",
       "\\item 'NFkB-p50'\n",
       "\\item 'HINFP'\n",
       "\\item 'PRDM10'\n",
       "\\item 'Bcl11a'\n",
       "\\item 'Esrrb'\n",
       "\\item 'ZFX'\n",
       "\\item 'AS2'\n",
       "\\item 'ZNF341'\n",
       "\\item 'HIC1'\n",
       "\\item 'EBF2'\n",
       "\\item 'Pax8'\n",
       "\\item 'M1BP'\n",
       "\\item 'HNF4a'\n",
       "\\item 'ZBTB12'\n",
       "\\item 'Rbpj1'\n",
       "\\item 'p63'\n",
       "\\item 'MafK'\n",
       "\\end{enumerate*}\n"
      ],
      "text/markdown": [
       "1. 'KLF10'\n",
       "2. 'Maz'\n",
       "3. 'KLF3'\n",
       "4. 'Klf9'\n",
       "5. 'Egr2'\n",
       "6. 'KLF6'\n",
       "7. 'KLF5'\n",
       "8. 'Sp1'\n",
       "9. 'Sp5'\n",
       "10. 'Sp2'\n",
       "11. 'KLF1'\n",
       "12. 'Egr1'\n",
       "13. 'Klf4'\n",
       "14. 'Gli2'\n",
       "15. 'WT1'\n",
       "16. 'Trl'\n",
       "17. 'GLIS3'\n",
       "18. 'GLI3'\n",
       "19. 'THRb'\n",
       "20. 'ERF2'\n",
       "21. 'FRS9'\n",
       "22. 'ZEB2'\n",
       "23. 'TCP1'\n",
       "24. 'ZEB1'\n",
       "25. 'TR4'\n",
       "26. 'NF1'\n",
       "27. 'Zic3'\n",
       "28. 'RXR'\n",
       "29. 'EBF1'\n",
       "30. 'ZNF711'\n",
       "31. 'E2A'\n",
       "32. 'Slug'\n",
       "33. 'NRF1'\n",
       "34. 'Zic2'\n",
       "35. 'Snail1'\n",
       "36. 'VDR'\n",
       "37. 'NRF'\n",
       "38. 'COUP-TFII'\n",
       "39. 'EAR2'\n",
       "40. 'THRa'\n",
       "41. 'Srebp2'\n",
       "42. 'PPARa'\n",
       "43. 'Erra'\n",
       "44. 'FHY3'\n",
       "45. 'E2F6'\n",
       "46. 'Smad4'\n",
       "47. 'RAP211'\n",
       "48. 'PPARE'\n",
       "49. 'RARg'\n",
       "50. 'Tlx?'\n",
       "51. 'FAR1'\n",
       "52. 'LEP'\n",
       "53. 'SF1'\n",
       "54. 'E2F7'\n",
       "55. 'Smad2'\n",
       "56. 'AR-halfsite'\n",
       "57. 'E2F3'\n",
       "58. 'PAX5'\n",
       "59. 'Nr5a2'\n",
       "60. 'E2F1'\n",
       "61. 'NFkB-p50'\n",
       "62. 'HINFP'\n",
       "63. 'PRDM10'\n",
       "64. 'Bcl11a'\n",
       "65. 'Esrrb'\n",
       "66. 'ZFX'\n",
       "67. 'AS2'\n",
       "68. 'ZNF341'\n",
       "69. 'HIC1'\n",
       "70. 'EBF2'\n",
       "71. 'Pax8'\n",
       "72. 'M1BP'\n",
       "73. 'HNF4a'\n",
       "74. 'ZBTB12'\n",
       "75. 'Rbpj1'\n",
       "76. 'p63'\n",
       "77. 'MafK'\n",
       "\n",
       "\n"
      ],
      "text/plain": [
       " [1] \"KLF10\"       \"Maz\"         \"KLF3\"        \"Klf9\"        \"Egr2\"       \n",
       " [6] \"KLF6\"        \"KLF5\"        \"Sp1\"         \"Sp5\"         \"Sp2\"        \n",
       "[11] \"KLF1\"        \"Egr1\"        \"Klf4\"        \"Gli2\"        \"WT1\"        \n",
       "[16] \"Trl\"         \"GLIS3\"       \"GLI3\"        \"THRb\"        \"ERF2\"       \n",
       "[21] \"FRS9\"        \"ZEB2\"        \"TCP1\"        \"ZEB1\"        \"TR4\"        \n",
       "[26] \"NF1\"         \"Zic3\"        \"RXR\"         \"EBF1\"        \"ZNF711\"     \n",
       "[31] \"E2A\"         \"Slug\"        \"NRF1\"        \"Zic2\"        \"Snail1\"     \n",
       "[36] \"VDR\"         \"NRF\"         \"COUP-TFII\"   \"EAR2\"        \"THRa\"       \n",
       "[41] \"Srebp2\"      \"PPARa\"       \"Erra\"        \"FHY3\"        \"E2F6\"       \n",
       "[46] \"Smad4\"       \"RAP211\"      \"PPARE\"       \"RARg\"        \"Tlx?\"       \n",
       "[51] \"FAR1\"        \"LEP\"         \"SF1\"         \"E2F7\"        \"Smad2\"      \n",
       "[56] \"AR-halfsite\" \"E2F3\"        \"PAX5\"        \"Nr5a2\"       \"E2F1\"       \n",
       "[61] \"NFkB-p50\"    \"HINFP\"       \"PRDM10\"      \"Bcl11a\"      \"Esrrb\"      \n",
       "[66] \"ZFX\"         \"AS2\"         \"ZNF341\"      \"HIC1\"        \"EBF2\"       \n",
       "[71] \"Pax8\"        \"M1BP\"        \"HNF4a\"       \"ZBTB12\"      \"Rbpj1\"      \n",
       "[76] \"p63\"         \"MafK\"       "
      ]
     },
     "metadata": {},
     "output_type": "display_data"
    }
   ],
   "source": [
    "intersect(HK_bindetect$name[HK_bindetect$sig == \"Ctrl\"],TH_bindetect$name[TH_bindetect$sig == \"Ctrl\"])"
   ]
  },
  {
   "cell_type": "code",
   "execution_count": 3825,
   "id": "061ef08c",
   "metadata": {
    "ExecuteTime": {
     "end_time": "2024-03-21T01:37:51.940916Z",
     "start_time": "2024-03-21T01:37:52.794Z"
    },
    "hidden": true,
    "scrolled": true
   },
   "outputs": [],
   "source": [
    "options(repr.plot.width = 6,repr.plot.height = 6)\n",
    "Fig4_Venn_Cold <- ggvenn(\n",
    "  data = list(HK_Cold = HK_bindetect$name[HK_bindetect$sig == \"Cold\"],TH_Cold = TH_bindetect$name[TH_bindetect$sig == \"Cold\"]),         # 数据列表\n",
    "  columns = NULL,           # 对选中的列名绘图，最多选择4个，NULL为默认全选\n",
    "  show_elements = F,        # 当为TRUE时，显示具体的交集情况，而不是交集个数\n",
    "  label_sep = \"\\n\",         # 当show_elements = T时生效，分隔符 \\n 表示的是回车的意思\n",
    "  show_percentage = T,      # 显示每一组的百分比\n",
    "  digits = 1,               # 百分比的小数点位数\n",
    "  fill_color = c(\"#A5C496\", \"#C7988C\", \"#8891DB\"), # 填充颜色\n",
    "  fill_alpha = .6,         # 填充透明度\n",
    "  stroke_color = \"black\",   # 边缘颜色\n",
    "  stroke_alpha = 0.9,       # 边缘透明度\n",
    "  stroke_size = 0.2,        # 边缘粗细\n",
    "  stroke_linetype = \"solid\", # 边缘线条 # 实线：solid  虚线：twodash longdash 点：dotdash dotted dashed  无：blank\n",
    "  set_name_color = \"black\", # 组名颜色\n",
    "  set_name_size = 6,        # 组名大小\n",
    "  text_color = \"black\",     # 交集个数颜色\n",
    "  text_size = 5             # 交集个数文字大小\n",
    ")"
   ]
  },
  {
   "cell_type": "code",
   "execution_count": 3827,
   "id": "ae590a4c",
   "metadata": {
    "ExecuteTime": {
     "end_time": "2024-03-21T01:38:42.535910Z",
     "start_time": "2024-03-21T01:38:43.324Z"
    },
    "hidden": true
   },
   "outputs": [
    {
     "data": {
      "text/html": [
       "<strong>png:</strong> 2"
      ],
      "text/latex": [
       "\\textbf{png:} 2"
      ],
      "text/markdown": [
       "**png:** 2"
      ],
      "text/plain": [
       "png \n",
       "  2 "
      ]
     },
     "metadata": {},
     "output_type": "display_data"
    }
   ],
   "source": [
    "pdf(\"/home/minghao/workbase/16_Tilapia_Cold_BulkRNA-ATAC_jiaohe/output/plot/Fig4_motif_Cold_Venn_plot.pdf\",width = 6,height = 6)\n",
    "Fig4_Venn_Cold\n",
    "dev.off()"
   ]
  },
  {
   "cell_type": "code",
   "execution_count": 3828,
   "id": "10911b18",
   "metadata": {
    "ExecuteTime": {
     "end_time": "2024-03-21T01:38:54.897268Z",
     "start_time": "2024-03-21T01:38:55.741Z"
    },
    "hidden": true
   },
   "outputs": [],
   "source": [
    "Fig4_Venn_Ctrl <- ggvenn(  \n",
    "  data = list(HK_Ctrl = HK_bindetect$name[HK_bindetect$sig == \"Ctrl\"],TH_Ctrl = TH_bindetect$name[TH_bindetect$sig == \"Ctrl\"]),         # 数据列表\n",
    "  columns = NULL,           # 对选中的列名绘图，最多选择4个，NULL为默认全选\n",
    "  show_elements = F,        # 当为TRUE时，显示具体的交集情况，而不是交集个数\n",
    "  label_sep = \"\\n\",         # 当show_elements = T时生效，分隔符 \\n 表示的是回车的意思\n",
    "  show_percentage = T,      # 显示每一组的百分比\n",
    "  digits = 1,               # 百分比的小数点位数\n",
    "  fill_color = c(\"#A5C496\", \"#C7988C\", \"#8891DB\"), # 填充颜色\n",
    "  fill_alpha = .6,         # 填充透明度\n",
    "  stroke_color = \"black\",   # 边缘颜色\n",
    "  stroke_alpha = 0.9,       # 边缘透明度\n",
    "  stroke_size = 0.2,        # 边缘粗细\n",
    "  stroke_linetype = \"solid\", # 边缘线条 # 实线：solid  虚线：twodash longdash 点：dotdash dotted dashed  无：blank\n",
    "  set_name_color = \"black\", # 组名颜色\n",
    "  set_name_size = 6,        # 组名大小\n",
    "  text_color = \"black\",     # 交集个数颜色\n",
    "  text_size = 5             # 交集个数文字大小\n",
    ")"
   ]
  },
  {
   "cell_type": "code",
   "execution_count": 3829,
   "id": "2f66f886",
   "metadata": {
    "ExecuteTime": {
     "end_time": "2024-03-21T01:39:15.874987Z",
     "start_time": "2024-03-21T01:39:16.708Z"
    },
    "hidden": true
   },
   "outputs": [
    {
     "data": {
      "text/html": [
       "<strong>png:</strong> 2"
      ],
      "text/latex": [
       "\\textbf{png:} 2"
      ],
      "text/markdown": [
       "**png:** 2"
      ],
      "text/plain": [
       "png \n",
       "  2 "
      ]
     },
     "metadata": {},
     "output_type": "display_data"
    }
   ],
   "source": [
    "pdf(\"/home/minghao/workbase/16_Tilapia_Cold_BulkRNA-ATAC_jiaohe/output/plot/Fig4_motif_Ctrl_Venn_plot.pdf\",width = 6,height = 6)\n",
    "Fig4_Venn_Ctrl\n",
    "dev.off()"
   ]
  },
  {
   "cell_type": "markdown",
   "id": "12cdc394",
   "metadata": {
    "heading_collapsed": true
   },
   "source": [
    "## heatmap"
   ]
  },
  {
   "cell_type": "code",
   "execution_count": 3214,
   "id": "4fe34277",
   "metadata": {
    "ExecuteTime": {
     "end_time": "2024-03-19T11:26:24.664758Z",
     "start_time": "2024-03-19T11:26:25.038Z"
    },
    "hidden": true,
    "scrolled": true
   },
   "outputs": [],
   "source": [
    "HK_bindetect2 <- HK_bindetect %>% left_join(motif2gene,by = \"output_prefix\")\n",
    "TH_bindetect2 <- TH_bindetect %>% left_join(motif2gene,by = \"output_prefix\")"
   ]
  },
  {
   "cell_type": "code",
   "execution_count": 3248,
   "id": "53bfe79a",
   "metadata": {
    "ExecuteTime": {
     "end_time": "2024-03-19T11:47:39.411770Z",
     "start_time": "2024-03-19T11:47:39.770Z"
    },
    "hidden": true,
    "scrolled": true
   },
   "outputs": [],
   "source": [
    "#HK\n",
    "DEG_RNA[,c(\"log2FoldChange\",\"padj\",\"tissue\",\"gene\")]  %>% \n",
    "    filter(tissue == \"HK\") %>% \n",
    "    unique %>% right_join(HK_bindetect2,by = c(\"gene\" = \"gene\")) %>% na.omit %>% \n",
    "    dplyr::select(log2FoldChange,name,Ctrl_Cold_change,sig) %>% filter(sig != \"nosig\") -> HK_bindetect3\n",
    "HK_bindetect3$unique_name <- make.unique(HK_bindetect3$name)\n",
    "#TH\n",
    "DEG_RNA[,c(\"log2FoldChange\",\"padj\",\"tissue\",\"gene\")]  %>% \n",
    "    filter(tissue == \"TH\") %>% \n",
    "    unique %>% right_join(TH_bindetect2,by = c(\"gene\" = \"gene\")) %>% na.omit %>% \n",
    "    dplyr::select(log2FoldChange,name,Ctrl_Cold_change,sig) %>% filter(sig != \"nosig\") -> TH_bindetect3\n",
    "TH_bindetect3$unique_name <- make.unique(TH_bindetect3$name)"
   ]
  },
  {
   "cell_type": "code",
   "execution_count": 3264,
   "id": "a728aa43",
   "metadata": {
    "ExecuteTime": {
     "end_time": "2024-03-19T12:00:46.702059Z",
     "start_time": "2024-03-19T12:00:47.074Z"
    },
    "hidden": true
   },
   "outputs": [],
   "source": [
    "#HK\n",
    "Footprint_heatmap_HK <- HK_bindetect3[,c(3,1,5)] %>% tibble::column_to_rownames(var = \"unique_name\") %>% \n",
    "    arrange(Ctrl_Cold_change)\n",
    "Footprint_heatmap_HK$Ctrl_Cold_change <- -Footprint_heatmap_HK$Ctrl_Cold_change\n",
    "#TH\n",
    "Footprint_heatmap_TH <- TH_bindetect3[,c(3,1,5)] %>% tibble::column_to_rownames(var = \"unique_name\") %>% \n",
    "    arrange(Ctrl_Cold_change)\n",
    "Footprint_heatmap_TH$Ctrl_Cold_change <- -Footprint_heatmap_TH$Ctrl_Cold_change"
   ]
  },
  {
   "cell_type": "code",
   "execution_count": 3307,
   "id": "b6b2d7f2",
   "metadata": {
    "ExecuteTime": {
     "end_time": "2024-03-19T12:28:11.836153Z",
     "start_time": "2024-03-19T12:28:12.183Z"
    },
    "hidden": true
   },
   "outputs": [],
   "source": [
    "Heatmap(matrix = Footprint_heatmap_HK[,1],border = \"black\",\n",
    "        show_row_names = F,show_column_names = F,\n",
    "        cluster_columns = F,cluster_rows = F,\n",
    "        width = unit(1, \"cm\"),\n",
    "        heatmap_legend_param = list(\n",
    "             title='TF binding score Fold change',\n",
    "             title_gp = gpar(fontsize = 14),\n",
    "             labels_gp = gpar(fontsize = 14),\n",
    "             border='black')) -> Footprint_heatmap_HK_p1\n",
    "\n",
    "Heatmap(matrix = Footprint_heatmap_HK[,2],border = \"black\",\n",
    "        show_row_names = F,show_column_names = F,\n",
    "        cluster_columns = F,cluster_rows = F,\n",
    "        width = unit(1, \"cm\"),\n",
    "        heatmap_legend_param = list(\n",
    "             title='Fold change',\n",
    "             title_gp = gpar(fontsize = 14),\n",
    "             labels_gp = gpar(fontsize = 14),\n",
    "             border='black')) -> Footprint_heatmap_HK_p2"
   ]
  },
  {
   "cell_type": "code",
   "execution_count": 3308,
   "id": "3f935b17",
   "metadata": {
    "ExecuteTime": {
     "end_time": "2024-03-19T12:28:12.431589Z",
     "start_time": "2024-03-19T12:28:12.779Z"
    },
    "hidden": true
   },
   "outputs": [],
   "source": [
    "Heatmap(matrix = Footprint_heatmap_TH[,1],border = \"black\",\n",
    "        show_row_names = F,show_column_names = F,\n",
    "        cluster_columns = F,cluster_rows = F,\n",
    "        width = unit(1, \"cm\"),\n",
    "        heatmap_legend_param = list(\n",
    "             title='TF binding score Fold change',\n",
    "             title_gp = gpar(fontsize = 14),\n",
    "             labels_gp = gpar(fontsize = 14),\n",
    "             border='black')) -> Footprint_heatmap_TH_p1\n",
    "\n",
    "Heatmap(matrix = Footprint_heatmap_TH[,2],border = \"black\",\n",
    "        show_row_names = F,show_column_names = F,\n",
    "        cluster_columns = F,cluster_rows = F,\n",
    "        width = unit(1, \"cm\"),\n",
    "        heatmap_legend_param = list(\n",
    "             title='Fold change',\n",
    "             title_gp = gpar(fontsize = 14),\n",
    "             labels_gp = gpar(fontsize = 14),\n",
    "             border='black')) -> Footprint_heatmap_TH_p2"
   ]
  },
  {
   "cell_type": "code",
   "execution_count": 3327,
   "id": "95ea86bc",
   "metadata": {
    "ExecuteTime": {
     "end_time": "2024-03-19T12:32:50.459779Z",
     "start_time": "2024-03-19T12:32:50.615Z"
    },
    "hidden": true
   },
   "outputs": [
    {
     "data": {
      "image/png": "[encoded data removed]",
      "text/plain": [
       "plot without title"
      ]
     },
     "metadata": {
      "image/png": {
       "height": 240,
       "width": 300
      }
     },
     "output_type": "display_data"
    }
   ],
   "source": [
    "draw(Footprint_heatmap_HK_p1 + Footprint_heatmap_HK_p2)\n",
    "grid.text(\"HK\", x = unit(0.1, \"npc\"), y = unit(0.95, \"npc\"), \n",
    "          just = \"center\", gp = gpar(fontsize = 20))"
   ]
  },
  {
   "cell_type": "code",
   "execution_count": 3328,
   "id": "2e436a16",
   "metadata": {
    "ExecuteTime": {
     "end_time": "2024-03-19T12:33:15.583103Z",
     "start_time": "2024-03-19T12:33:15.737Z"
    },
    "hidden": true
   },
   "outputs": [
    {
     "data": {
      "image/png": "[encoded data removed]",
      "text/plain": [
       "plot without title"
      ]
     },
     "metadata": {
      "image/png": {
       "height": 240,
       "width": 300
      }
     },
     "output_type": "display_data"
    }
   ],
   "source": [
    "draw(Footprint_heatmap_TH_p1 + Footprint_heatmap_TH_p2)\n",
    "grid.text(\"TH\", x = unit(0.1, \"npc\"), y = unit(0.95, \"npc\"), \n",
    "          just = \"center\", gp = gpar(fontsize = 20))"
   ]
  },
  {
   "cell_type": "code",
   "execution_count": 3331,
   "id": "58fae555",
   "metadata": {
    "ExecuteTime": {
     "end_time": "2024-03-19T12:36:34.274230Z",
     "start_time": "2024-03-19T12:36:34.399Z"
    },
    "hidden": true
   },
   "outputs": [],
   "source": [
    "Footprint_heatmap_HK$cor <- Footprint_heatmap_HK$Ctrl_Cold_change * Footprint_heatmap_HK$log2FoldChange\n",
    "Footprint_heatmap_TH$cor <- Footprint_heatmap_TH$Ctrl_Cold_change * Footprint_heatmap_TH$log2FoldChange"
   ]
  },
  {
   "cell_type": "code",
   "execution_count": 3334,
   "id": "ab4fe139",
   "metadata": {
    "ExecuteTime": {
     "end_time": "2024-03-19T12:39:18.766297Z",
     "start_time": "2024-03-19T12:39:19.090Z"
    },
    "hidden": true
   },
   "outputs": [],
   "source": [
    "openxlsx::write.xlsx(Footprint_heatmap_HK %>% tibble::rownames_to_column(var = \"TF\"),\n",
    "                     \"/home/minghao/workbase/16_Tilapia_Cold_BulkRNA-ATAC_jiaohe/output/TRN/Tobias_res/Footprint_heatmap_HK.xlsx\")\n",
    "openxlsx::write.xlsx(Footprint_heatmap_TH %>% tibble::rownames_to_column(var = \"TF\"),\n",
    "                     \"/home/minghao/workbase/16_Tilapia_Cold_BulkRNA-ATAC_jiaohe/output/TRN/Tobias_res/Footprint_heatmap_TH.xlsx\")"
   ]
  },
  {
   "cell_type": "code",
   "execution_count": null,
   "id": "454dccae",
   "metadata": {
    "hidden": true
   },
   "outputs": [],
   "source": []
  },
  {
   "cell_type": "code",
   "execution_count": 3341,
   "id": "3cd059ef",
   "metadata": {
    "ExecuteTime": {
     "end_time": "2024-03-19T12:43:11.992002Z",
     "start_time": "2024-03-19T12:43:12.350Z"
    },
    "hidden": true
   },
   "outputs": [],
   "source": [
    "Footprint_heatmap_HK2 <- Footprint_heatmap_HK %>% filter(cor > 0)\n",
    "Footprint_heatmap_TH2 <- Footprint_heatmap_TH %>% filter(cor > 0)"
   ]
  },
  {
   "cell_type": "code",
   "execution_count": 3364,
   "id": "29ab4703",
   "metadata": {
    "ExecuteTime": {
     "end_time": "2024-03-19T12:47:27.477404Z",
     "start_time": "2024-03-19T12:47:27.807Z"
    },
    "hidden": true
   },
   "outputs": [
    {
     "name": "stderr",
     "output_type": "stream",
     "text": [
      "Warning message:\n",
      "\"The input is a data frame-like object, convert it to a matrix.\"\n"
     ]
    }
   ],
   "source": [
    "Heatmap(matrix = Footprint_heatmap_HK2 %>% select(1),border = \"black\",\n",
    "        row_names_side = \"left\",\n",
    "        show_row_names = T,show_column_names = F,\n",
    "        cluster_columns = F,cluster_rows = F,\n",
    "        width = unit(1, \"cm\"),\n",
    "        heatmap_legend_param = list(\n",
    "             title='TF binding score Fold change',\n",
    "             title_gp = gpar(fontsize = 14),\n",
    "             labels_gp = gpar(fontsize = 14),\n",
    "             border='black')) -> Footprint_heatmap_HK_p3\n",
    "\n",
    "Heatmap(matrix = Footprint_heatmap_HK2 %>% select(2),border = \"black\",\n",
    "        show_row_names = F,show_column_names = F,\n",
    "        cluster_columns = F,cluster_rows = F,\n",
    "        width = unit(1, \"cm\"),\n",
    "        heatmap_legend_param = list(\n",
    "             title='Fold change',\n",
    "             title_gp = gpar(fontsize = 14),\n",
    "             labels_gp = gpar(fontsize = 14),\n",
    "             border='black')) -> Footprint_heatmap_HK_p4"
   ]
  },
  {
   "cell_type": "code",
   "execution_count": 3833,
   "id": "816e672c",
   "metadata": {
    "ExecuteTime": {
     "end_time": "2024-03-21T02:25:18.124520Z",
     "start_time": "2024-03-21T02:25:18.819Z"
    },
    "hidden": true,
    "scrolled": true
   },
   "outputs": [
    {
     "data": {
      "image/png": "[encoded data removed]",
      "text/plain": [
       "plot without title"
      ]
     },
     "metadata": {
      "image/png": {
       "height": 360,
       "width": 300
      }
     },
     "output_type": "display_data"
    }
   ],
   "source": [
    "options(repr.plot.width = 5,repr.plot.height = 6)\n",
    "draw(Footprint_heatmap_HK_p3 + Footprint_heatmap_HK_p4)\n",
    "grid.text(\"HK\", x = unit(0.05, \"npc\"), y = unit(0.95, \"npc\"), \n",
    "          just = \"center\", gp = gpar(fontsize = 20))"
   ]
  },
  {
   "cell_type": "code",
   "execution_count": 3831,
   "id": "4ace3c14",
   "metadata": {
    "ExecuteTime": {
     "end_time": "2024-03-21T02:24:26.591634Z",
     "start_time": "2024-03-21T02:24:27.285Z"
    },
    "hidden": true
   },
   "outputs": [
    {
     "data": {
      "text/html": [
       "<strong>png:</strong> 2"
      ],
      "text/latex": [
       "\\textbf{png:} 2"
      ],
      "text/markdown": [
       "**png:** 2"
      ],
      "text/plain": [
       "png \n",
       "  2 "
      ]
     },
     "metadata": {},
     "output_type": "display_data"
    }
   ],
   "source": [
    "pdf(\"/home/minghao/workbase/16_Tilapia_Cold_BulkRNA-ATAC_jiaohe/output/plot/Fig4_HK_heatmap.pdf\",width = 5,height = 8)\n",
    "options(repr.plot.width = 5,repr.plot.height = 8)\n",
    "draw(Footprint_heatmap_HK_p3 + Footprint_heatmap_HK_p4)\n",
    "grid.text(\"HK\", x = unit(0.05, \"npc\"), y = unit(0.95, \"npc\"), \n",
    "          just = \"center\", gp = gpar(fontsize = 20))\n",
    "dev.off()"
   ]
  },
  {
   "cell_type": "code",
   "execution_count": 3894,
   "id": "467dd3cb",
   "metadata": {
    "ExecuteTime": {
     "end_time": "2024-03-21T07:16:52.585054Z",
     "start_time": "2024-03-21T07:16:53.540Z"
    },
    "hidden": true
   },
   "outputs": [],
   "source": [
    "heatmap_label <- data.frame(gene = select_TF,\n",
    "                    name = select_TF)\n",
    "row_ha <- rowAnnotation(link = anno_mark(at = which(toupper(rownames(Footprint_heatmap_TH2)) %in% heatmap_label$gene), \n",
    "                                         labels = rownames(Footprint_heatmap_TH2)[toupper(rownames(Footprint_heatmap_TH2)) %in% heatmap_label$gene],\n",
    "                                         labels_gp = gpar(fontsize = 10),which = \"row\"))"
   ]
  },
  {
   "cell_type": "code",
   "execution_count": 3900,
   "id": "8a94df2f",
   "metadata": {
    "ExecuteTime": {
     "end_time": "2024-03-21T07:20:29.327920Z",
     "start_time": "2024-03-21T07:20:30.293Z"
    },
    "hidden": true
   },
   "outputs": [
    {
     "data": {
      "text/html": [
       "<style>\n",
       ".list-inline {list-style: none; margin:0; padding: 0}\n",
       ".list-inline>li {display: inline-block}\n",
       ".list-inline>li:not(:last-child)::after {content: \"\\00b7\"; padding: 0 .5ex}\n",
       "</style>\n",
       "<ol class=list-inline><li>'IRF3'</li><li>'IDD5'</li><li>'GABPA'</li><li>'HLF'</li><li>'HLF.1'</li><li>'IDD4'</li><li>'EMB1789'</li><li>'COG1'</li><li>'JKD'</li><li>'AtIDD11'</li><li>'FOXK1'</li><li>'Tcf4'</li><li>'TFE3'</li><li>'TFE3.1'</li><li>'FOXP1'</li><li>'Foxo3'</li><li>'TRPS1'</li><li>'Atf4'</li><li>'SPL15'</li><li>'SPL9'</li><li>'STAT6'</li><li>'STAT6.1'</li><li>'IDD7'</li><li>'Atf7'</li><li>'Atf7.1'</li><li>'IDD2'</li><li>'JunD'</li><li>'SPL11'</li><li>'MafF'</li><li>'Six4'</li><li>'c-Jun-CRE'</li><li>'c-Jun-CRE.1'</li><li>'Fos'</li><li>'Fra1'</li><li>'NFE2L2'</li><li>'Atf3'</li><li>'Fra2'</li><li>'SGR5'</li><li>'PBX2'</li><li>'Jun-AP1'</li><li>'JunB'</li><li>'JunB.1'</li><li>'AP-1'</li><li>'Bcl11a'</li><li>'M1BP'</li><li>'E2F7'</li><li>'E2F1'</li><li>'E2A'</li><li>'LEP'</li><li>'E2F3.1'</li><li>'Smad2'</li><li>'NFkB-p50'</li><li>'AS2'</li><li>'Srebp2'</li><li>'Smad4.2'</li><li>'ZEB1'</li><li>'KLF5'</li><li>'KLF5.1'</li><li>'TR4'</li><li>'RARg.1'</li><li>'E2F6'</li><li>'E2F6.1'</li><li>'ZNF711'</li><li>'TCP1'</li></ol>\n"
      ],
      "text/latex": [
       "\\begin{enumerate*}\n",
       "\\item 'IRF3'\n",
       "\\item 'IDD5'\n",
       "\\item 'GABPA'\n",
       "\\item 'HLF'\n",
       "\\item 'HLF.1'\n",
       "\\item 'IDD4'\n",
       "\\item 'EMB1789'\n",
       "\\item 'COG1'\n",
       "\\item 'JKD'\n",
       "\\item 'AtIDD11'\n",
       "\\item 'FOXK1'\n",
       "\\item 'Tcf4'\n",
       "\\item 'TFE3'\n",
       "\\item 'TFE3.1'\n",
       "\\item 'FOXP1'\n",
       "\\item 'Foxo3'\n",
       "\\item 'TRPS1'\n",
       "\\item 'Atf4'\n",
       "\\item 'SPL15'\n",
       "\\item 'SPL9'\n",
       "\\item 'STAT6'\n",
       "\\item 'STAT6.1'\n",
       "\\item 'IDD7'\n",
       "\\item 'Atf7'\n",
       "\\item 'Atf7.1'\n",
       "\\item 'IDD2'\n",
       "\\item 'JunD'\n",
       "\\item 'SPL11'\n",
       "\\item 'MafF'\n",
       "\\item 'Six4'\n",
       "\\item 'c-Jun-CRE'\n",
       "\\item 'c-Jun-CRE.1'\n",
       "\\item 'Fos'\n",
       "\\item 'Fra1'\n",
       "\\item 'NFE2L2'\n",
       "\\item 'Atf3'\n",
       "\\item 'Fra2'\n",
       "\\item 'SGR5'\n",
       "\\item 'PBX2'\n",
       "\\item 'Jun-AP1'\n",
       "\\item 'JunB'\n",
       "\\item 'JunB.1'\n",
       "\\item 'AP-1'\n",
       "\\item 'Bcl11a'\n",
       "\\item 'M1BP'\n",
       "\\item 'E2F7'\n",
       "\\item 'E2F1'\n",
       "\\item 'E2A'\n",
       "\\item 'LEP'\n",
       "\\item 'E2F3.1'\n",
       "\\item 'Smad2'\n",
       "\\item 'NFkB-p50'\n",
       "\\item 'AS2'\n",
       "\\item 'Srebp2'\n",
       "\\item 'Smad4.2'\n",
       "\\item 'ZEB1'\n",
       "\\item 'KLF5'\n",
       "\\item 'KLF5.1'\n",
       "\\item 'TR4'\n",
       "\\item 'RARg.1'\n",
       "\\item 'E2F6'\n",
       "\\item 'E2F6.1'\n",
       "\\item 'ZNF711'\n",
       "\\item 'TCP1'\n",
       "\\end{enumerate*}\n"
      ],
      "text/markdown": [
       "1. 'IRF3'\n",
       "2. 'IDD5'\n",
       "3. 'GABPA'\n",
       "4. 'HLF'\n",
       "5. 'HLF.1'\n",
       "6. 'IDD4'\n",
       "7. 'EMB1789'\n",
       "8. 'COG1'\n",
       "9. 'JKD'\n",
       "10. 'AtIDD11'\n",
       "11. 'FOXK1'\n",
       "12. 'Tcf4'\n",
       "13. 'TFE3'\n",
       "14. 'TFE3.1'\n",
       "15. 'FOXP1'\n",
       "16. 'Foxo3'\n",
       "17. 'TRPS1'\n",
       "18. 'Atf4'\n",
       "19. 'SPL15'\n",
       "20. 'SPL9'\n",
       "21. 'STAT6'\n",
       "22. 'STAT6.1'\n",
       "23. 'IDD7'\n",
       "24. 'Atf7'\n",
       "25. 'Atf7.1'\n",
       "26. 'IDD2'\n",
       "27. 'JunD'\n",
       "28. 'SPL11'\n",
       "29. 'MafF'\n",
       "30. 'Six4'\n",
       "31. 'c-Jun-CRE'\n",
       "32. 'c-Jun-CRE.1'\n",
       "33. 'Fos'\n",
       "34. 'Fra1'\n",
       "35. 'NFE2L2'\n",
       "36. 'Atf3'\n",
       "37. 'Fra2'\n",
       "38. 'SGR5'\n",
       "39. 'PBX2'\n",
       "40. 'Jun-AP1'\n",
       "41. 'JunB'\n",
       "42. 'JunB.1'\n",
       "43. 'AP-1'\n",
       "44. 'Bcl11a'\n",
       "45. 'M1BP'\n",
       "46. 'E2F7'\n",
       "47. 'E2F1'\n",
       "48. 'E2A'\n",
       "49. 'LEP'\n",
       "50. 'E2F3.1'\n",
       "51. 'Smad2'\n",
       "52. 'NFkB-p50'\n",
       "53. 'AS2'\n",
       "54. 'Srebp2'\n",
       "55. 'Smad4.2'\n",
       "56. 'ZEB1'\n",
       "57. 'KLF5'\n",
       "58. 'KLF5.1'\n",
       "59. 'TR4'\n",
       "60. 'RARg.1'\n",
       "61. 'E2F6'\n",
       "62. 'E2F6.1'\n",
       "63. 'ZNF711'\n",
       "64. 'TCP1'\n",
       "\n",
       "\n"
      ],
      "text/plain": [
       " [1] \"IRF3\"        \"IDD5\"        \"GABPA\"       \"HLF\"         \"HLF.1\"      \n",
       " [6] \"IDD4\"        \"EMB1789\"     \"COG1\"        \"JKD\"         \"AtIDD11\"    \n",
       "[11] \"FOXK1\"       \"Tcf4\"        \"TFE3\"        \"TFE3.1\"      \"FOXP1\"      \n",
       "[16] \"Foxo3\"       \"TRPS1\"       \"Atf4\"        \"SPL15\"       \"SPL9\"       \n",
       "[21] \"STAT6\"       \"STAT6.1\"     \"IDD7\"        \"Atf7\"        \"Atf7.1\"     \n",
       "[26] \"IDD2\"        \"JunD\"        \"SPL11\"       \"MafF\"        \"Six4\"       \n",
       "[31] \"c-Jun-CRE\"   \"c-Jun-CRE.1\" \"Fos\"         \"Fra1\"        \"NFE2L2\"     \n",
       "[36] \"Atf3\"        \"Fra2\"        \"SGR5\"        \"PBX2\"        \"Jun-AP1\"    \n",
       "[41] \"JunB\"        \"JunB.1\"      \"AP-1\"        \"Bcl11a\"      \"M1BP\"       \n",
       "[46] \"E2F7\"        \"E2F1\"        \"E2A\"         \"LEP\"         \"E2F3.1\"     \n",
       "[51] \"Smad2\"       \"NFkB-p50\"    \"AS2\"         \"Srebp2\"      \"Smad4.2\"    \n",
       "[56] \"ZEB1\"        \"KLF5\"        \"KLF5.1\"      \"TR4\"         \"RARg.1\"     \n",
       "[61] \"E2F6\"        \"E2F6.1\"      \"ZNF711\"      \"TCP1\"       "
      ]
     },
     "metadata": {},
     "output_type": "display_data"
    }
   ],
   "source": [
    "rownames(Footprint_heatmap_TH2)"
   ]
  },
  {
   "cell_type": "code",
   "execution_count": 3896,
   "id": "c0c095fc",
   "metadata": {
    "ExecuteTime": {
     "end_time": "2024-03-21T07:18:03.190550Z",
     "start_time": "2024-03-21T07:18:03.886Z"
    },
    "hidden": true
   },
   "outputs": [
    {
     "name": "stderr",
     "output_type": "stream",
     "text": [
      "Warning message:\n",
      "\"The input is a data frame-like object, convert it to a matrix.\"\n",
      "Warning message:\n",
      "\"The input is a data frame-like object, convert it to a matrix.\"\n"
     ]
    }
   ],
   "source": [
    "Heatmap(matrix = Footprint_heatmap_TH2 %>% select(1),border = \"black\",\n",
    "        right_annotation = row_ha,\n",
    "        row_names_side = \"left\",\n",
    "        show_row_names = F,show_column_names = F,\n",
    "        cluster_columns = F,cluster_rows = F,\n",
    "        width = unit(1, \"cm\"),\n",
    "        heatmap_legend_param = list(\n",
    "             title='TF binding score Fold change',\n",
    "             title_gp = gpar(fontsize = 14),\n",
    "             labels_gp = gpar(fontsize = 14),\n",
    "             border='black')) -> Footprint_heatmap_TH_p3\n",
    "\n",
    "Heatmap(matrix = Footprint_heatmap_TH2 %>% select(2),border = \"black\",\n",
    "        show_row_names = F,show_column_names = F,\n",
    "        cluster_columns = F,cluster_rows = F,\n",
    "        width = unit(1, \"cm\"),\n",
    "        heatmap_legend_param = list(\n",
    "             title='Fold change',\n",
    "             title_gp = gpar(fontsize = 14),\n",
    "             labels_gp = gpar(fontsize = 14),\n",
    "             border='black')) -> Footprint_heatmap_TH_p4"
   ]
  },
  {
   "cell_type": "code",
   "execution_count": 3897,
   "id": "5b11c88b",
   "metadata": {
    "ExecuteTime": {
     "end_time": "2024-03-21T07:18:03.665069Z",
     "start_time": "2024-03-21T07:18:04.459Z"
    },
    "hidden": true
   },
   "outputs": [
    {
     "data": {
      "text/html": [
       "<strong>png:</strong> 2"
      ],
      "text/latex": [
       "\\textbf{png:} 2"
      ],
      "text/markdown": [
       "**png:** 2"
      ],
      "text/plain": [
       "png \n",
       "  2 "
      ]
     },
     "metadata": {},
     "output_type": "display_data"
    }
   ],
   "source": [
    "pdf(\"/home/minghao/workbase/16_Tilapia_Cold_BulkRNA-ATAC_jiaohe/output/plot/Fig4_TH_heatmap.pdf\",width = 5,height = 4.5)\n",
    "options(repr.plot.width = 5,repr.plot.height = 4.5)\n",
    "draw(Footprint_heatmap_TH_p3 + Footprint_heatmap_TH_p4)\n",
    "grid.text(\"TH\", x = unit(0.05, \"npc\"), y = unit(0.95, \"npc\"), \n",
    "          just = \"center\", gp = gpar(fontsize = 20))\n",
    "dev.off()"
   ]
  },
  {
   "cell_type": "code",
   "execution_count": null,
   "id": "513085bd",
   "metadata": {
    "hidden": true
   },
   "outputs": [],
   "source": []
  },
  {
   "cell_type": "markdown",
   "id": "97fc6f11",
   "metadata": {
    "heading_collapsed": true
   },
   "source": [
    "## motif logo"
   ]
  },
  {
   "cell_type": "code",
   "execution_count": 10,
   "id": "9837c487",
   "metadata": {
    "ExecuteTime": {
     "end_time": "2024-04-09T07:06:03.811634Z",
     "start_time": "2024-04-09T07:06:03.796Z"
    },
    "hidden": true
   },
   "outputs": [],
   "source": [
    "library(dplyr)\n",
    "library(ggplot2)"
   ]
  },
  {
   "cell_type": "code",
   "execution_count": 2,
   "id": "6c130316",
   "metadata": {
    "ExecuteTime": {
     "end_time": "2024-04-09T07:05:37.858843Z",
     "start_time": "2024-04-09T07:05:37.808Z"
    },
    "hidden": true
   },
   "outputs": [],
   "source": [
    "contents <- readLines(\"/home/minghao/rgtdata/Homer_known.motifs\")"
   ]
  },
  {
   "cell_type": "code",
   "execution_count": 3,
   "id": "6211099d",
   "metadata": {
    "ExecuteTime": {
     "end_time": "2024-04-09T07:05:38.200249Z",
     "start_time": "2024-04-09T07:05:38.256Z"
    },
    "hidden": true
   },
   "outputs": [],
   "source": [
    "begin_indexes = grep(\"^>\", contents)\n",
    "last_index = length(contents) + 1\n",
    "begin_indexes = c(begin_indexes, last_index)\n",
    "dataframe_list = list()"
   ]
  },
  {
   "cell_type": "code",
   "execution_count": 7,
   "id": "5cc79d99",
   "metadata": {
    "ExecuteTime": {
     "end_time": "2024-04-09T07:05:52.007544Z",
     "start_time": "2024-04-09T07:05:51.792Z"
    },
    "hidden": true
   },
   "outputs": [],
   "source": [
    "# 循环遍历所有的部分\n",
    "for (i in 1:(length(begin_indexes) - 1)) {\n",
    "  begin = begin_indexes[i]\n",
    "  end = begin_indexes[i + 1] - 1  # 最后一行是下一个部分的开头，所以我们要 - 1\n",
    "  segment = contents[(begin + 1) :end]\n",
    "  name = strsplit(contents[begin],split = \"\\t\")[[1]][2]\n",
    "    \n",
    "  # 把部分内容转成数据框并添加到列表\n",
    "  df = do.call(rbind,strsplit(segment,split = \"\\t\")) %>% as.data.frame \n",
    "  colnames(df) <- c(\"A\",\"C\",\"G\",\"T\")  \n",
    "  dataframe_list[[name]] = apply(df,2,as.numeric)\n",
    "}"
   ]
  },
  {
   "cell_type": "code",
   "execution_count": 8,
   "id": "8f12bbb9",
   "metadata": {
    "ExecuteTime": {
     "end_time": "2024-04-09T07:05:52.940649Z",
     "start_time": "2024-04-09T07:05:52.717Z"
    },
    "hidden": true
   },
   "outputs": [],
   "source": [
    "names(dataframe_list) <- stringr::str_split(names(dataframe_list),pattern = \"/\",simplify = T)[,1]"
   ]
  },
  {
   "cell_type": "code",
   "execution_count": 12,
   "id": "feb22283",
   "metadata": {
    "ExecuteTime": {
     "end_time": "2024-04-09T07:06:25.654232Z",
     "start_time": "2024-04-09T07:06:25.429Z"
    },
    "hidden": true
   },
   "outputs": [
    {
     "data": {
      "image/png": "[encoded data removed]",
      "text/plain": [
       "plot without title"
      ]
     },
     "metadata": {
      "image/png": {
       "height": 240,
       "width": 240
      }
     },
     "output_type": "display_data"
    }
   ],
   "source": [
    "options(repr.plot.width = 4,repr.plot.height = 4)\n",
    "ggseqlogo::ggseqlogo( t(dataframe_list[[grep(names(dataframe_list),pattern = \"klf5\",ignore.case = T)]])) + \n",
    "        ggtitle(\"KLF5\") + \n",
    "        theme(plot.title = element_text(hjust = .5))"
   ]
  },
  {
   "cell_type": "code",
   "execution_count": 3931,
   "id": "b3687be6",
   "metadata": {
    "ExecuteTime": {
     "end_time": "2024-03-22T07:26:55.109791Z",
     "start_time": "2024-03-22T07:26:55.371Z"
    },
    "hidden": true
   },
   "outputs": [
    {
     "data": {
      "text/html": [
       "<strong>png:</strong> 2"
      ],
      "text/latex": [
       "\\textbf{png:} 2"
      ],
      "text/markdown": [
       "**png:** 2"
      ],
      "text/plain": [
       "png \n",
       "  2 "
      ]
     },
     "metadata": {},
     "output_type": "display_data"
    }
   ],
   "source": [
    "pdf(\"/home/minghao/workbase/16_Tilapia_Cold_BulkRNA-ATAC_jiaohe/output/plot/Fig4_KLF5_motif.pdf\",width = 4,height = 4)\n",
    "ggseqlogo::ggseqlogo( t(dataframe_list[[grep(names(dataframe_list),pattern = \"klf5\",ignore.case = T)]])) + \n",
    "        ggtitle(\"KLF5\") + \n",
    "        theme(plot.title = element_text(hjust = .5))\n",
    "dev.off()"
   ]
  },
  {
   "cell_type": "code",
   "execution_count": 3932,
   "id": "ec1be8ed",
   "metadata": {
    "ExecuteTime": {
     "end_time": "2024-03-22T07:26:55.477024Z",
     "start_time": "2024-03-22T07:26:55.756Z"
    },
    "hidden": true
   },
   "outputs": [
    {
     "data": {
      "text/html": [
       "<strong>png:</strong> 2"
      ],
      "text/latex": [
       "\\textbf{png:} 2"
      ],
      "text/markdown": [
       "**png:** 2"
      ],
      "text/plain": [
       "png \n",
       "  2 "
      ]
     },
     "metadata": {},
     "output_type": "display_data"
    }
   ],
   "source": [
    "pdf(\"/home/minghao/workbase/16_Tilapia_Cold_BulkRNA-ATAC_jiaohe/output/plot/Fig4_Foxo1_motif.pdf\",width = 4,height = 4)\n",
    "ggseqlogo::ggseqlogo( t(dataframe_list[[grep(names(dataframe_list),pattern = \"foxo1\",ignore.case = T)]])) + \n",
    "        ggtitle(\"Foxo1\" ) + \n",
    "        theme(plot.title = element_text(hjust = .5))\n",
    "dev.off()"
   ]
  },
  {
   "cell_type": "code",
   "execution_count": 3933,
   "id": "deba4101",
   "metadata": {
    "ExecuteTime": {
     "end_time": "2024-03-22T07:26:56.090604Z",
     "start_time": "2024-03-22T07:26:56.362Z"
    },
    "hidden": true
   },
   "outputs": [
    {
     "data": {
      "text/html": [
       "<strong>png:</strong> 2"
      ],
      "text/latex": [
       "\\textbf{png:} 2"
      ],
      "text/markdown": [
       "**png:** 2"
      ],
      "text/plain": [
       "png \n",
       "  2 "
      ]
     },
     "metadata": {},
     "output_type": "display_data"
    }
   ],
   "source": [
    "pdf(\"/home/minghao/workbase/16_Tilapia_Cold_BulkRNA-ATAC_jiaohe/output/plot/Fig4_ZNF711_motif.pdf\",width = 4,height = 4)\n",
    "ggseqlogo::ggseqlogo( t(dataframe_list[[grep(names(dataframe_list),pattern = \"znf711\",ignore.case = T)]])) + \n",
    "        ggtitle(\"znf711\") + \n",
    "        theme(plot.title = element_text(hjust = .5))\n",
    "dev.off()"
   ]
  },
  {
   "cell_type": "code",
   "execution_count": 3930,
   "id": "d3ebbb69",
   "metadata": {
    "ExecuteTime": {
     "end_time": "2024-03-22T07:26:51.729722Z",
     "start_time": "2024-03-22T07:26:51.971Z"
    },
    "hidden": true
   },
   "outputs": [
    {
     "data": {
      "text/html": [
       "<strong>png:</strong> 2"
      ],
      "text/latex": [
       "\\textbf{png:} 2"
      ],
      "text/markdown": [
       "**png:** 2"
      ],
      "text/plain": [
       "png \n",
       "  2 "
      ]
     },
     "metadata": {},
     "output_type": "display_data"
    }
   ],
   "source": [
    "pdf(\"/home/minghao/workbase/16_Tilapia_Cold_BulkRNA-ATAC_jiaohe/output/plot/Fig4_AP-1_motif.pdf\",width = 4,height = 4)\n",
    "ggseqlogo::ggseqlogo( t(dataframe_list[[grep(names(dataframe_list),pattern = \"ap-1\",ignore.case = T)]])) + \n",
    "        ggtitle(\"AP-1\") + \n",
    "        theme(plot.title = element_text(hjust = .5))\n",
    "dev.off()"
   ]
  },
  {
   "cell_type": "code",
   "execution_count": 3520,
   "id": "1f26429d",
   "metadata": {
    "ExecuteTime": {
     "end_time": "2024-03-19T13:56:55.361337Z",
     "start_time": "2024-03-19T13:56:55.029Z"
    },
    "hidden": true
   },
   "outputs": [],
   "source": [
    "DEG_RNA_nofilter <- openxlsx::read.xlsx(\"/home/minghao/workbase/16_Tilapia_Cold_BulkRNA-ATAC_jiaohe/output/Bulk_RNA_output/Tilapia_ColdvsCtrl_DEG_RNA_nofilter.xlsx\")"
   ]
  },
  {
   "cell_type": "code",
   "execution_count": null,
   "id": "1810f856",
   "metadata": {
    "hidden": true
   },
   "outputs": [],
   "source": []
  },
  {
   "cell_type": "markdown",
   "id": "d7cd8159",
   "metadata": {
    "heading_collapsed": true
   },
   "source": [
    "## cytoscape_version3\n",
    "> Process the Network results obtained by Tobias by removing: 1. Downstream reverse regulation of upstream. 2. Mutual regulation between peers. 3. Multiple upstream TFs regulating the same downstream gene. 4. Keep only the 3 level network. Obtain a simplified TF transcription factor regulatory network. Import into Cytoscape for visualization."
   ]
  },
  {
   "cell_type": "code",
   "execution_count": 1,
   "id": "369ae7d4",
   "metadata": {
    "ExecuteTime": {
     "end_time": "2024-04-09T07:03:31.084331Z",
     "start_time": "2024-04-09T07:03:30.358Z"
    },
    "hidden": true
   },
   "outputs": [],
   "source": [
    " TF_level2_function <- function(input,TF.level1){\n",
    "    fnode6 <- input %>% dplyr::filter(log2FoldChange > 1)\n",
    "    TF.level2 <- fnode6 %>% dplyr::filter(Level == 2) %>% .$Motif\n",
    "    return(TF.level2)\n",
    "}\n",
    "\n",
    " TF_level3_function <- function(fnode_input,TF.level1,TF.level2,motif2gene,DEG_RNA2.HK){\n",
    "    fnode.level3 <- fnode_input %>% filter(Source %in% TF.level2, Level == 2) %>% \n",
    "                          group_by(Target) %>% slice(1) %>% ungroup %>%   # only take 1 level3\n",
    "                          filter(! Target %in% TF.level2) %>% filter(! Target %in% TF.level1) \n",
    "     \n",
    "    motif2gene_uniq <- motif2gene %>% select(Motif,gene) %>% distinct()  \n",
    "    fnode.level3.anno <- fnode.level3 %>% mutate(Motif = Target) %>% group_by(Motif) %>% \n",
    "                     dplyr::select(Source,Level,Motif) %>% distinct()  %>% \n",
    "                     left_join(motif2gene_uniq,by=\"Motif\") %>% ungroup %>% \n",
    "                     group_by(gene) %>% left_join(DEG_RNA2.HK,by=\"gene\") %>% ungroup %>% na.omit\n",
    "    temp <<- fnode.level3.anno\n",
    "    TF.level3 <- unique(as.character(fnode.level3.anno$Motif))\n",
    "    return(TF.level3) \n",
    "}\n",
    "\n",
    "Contruct_network <- function(TF.level1,TF.level2.u,TF.level3.u,motif2gene,fnode.level3.anno3,DEG_RNA2.HK){\n",
    "    motif2gene_uniq <- motif2gene %>% select(Motif,gene) %>% distinct()\n",
    "    \n",
    "    cyto.edge <- data.frame(Source = rep(TF.level1,n=length(TF.level2.u)),Target = TF.level2.u) # level1\n",
    "    cyto.edge2 <- fnode.level3.anno3[,c(\"Source\",\"Motif\")]\n",
    "    names(cyto.edge2)[2] <- \"Target\"\n",
    "    cyto.edge.total <- rbind(cyto.edge,cyto.edge2)\n",
    "    cyto.edge.total <- distinct(cyto.edge.total)\n",
    "    \n",
    "    cyto.node <- data.frame(Target = unique(c(cyto.edge.total$Source,cyto.edge.total$Target)))\n",
    "    cyto.node2 <- motif2gene_uniq %>% filter(Motif %in% cyto.node$Target) %>% group_by(gene) %>% \n",
    "             left_join(DEG_RNA2.HK,by=\"gene\") %>% ungroup %>% na.omit %>% group_by(Motif) %>% slice(1)\n",
    "    \n",
    "    cyto.node2$level <- \"none\"\n",
    "    cyto.node2[cyto.node2$Motif %in% TF.level1,]$level <- \"level1\"\n",
    "    cyto.node2[cyto.node2$Motif %in% TF.level2.u,]$level <- \"level2\"\n",
    "    cyto.node2[cyto.node2$Motif %in% TF.level3.u,]$level <- \"level3\"\n",
    "\n",
    "    print(table(cyto.node2$level))\n",
    "    cyto.edge.total$Source <- gsub(\"_MOTIF_M_[0-9]{1,4}\",\"\",cyto.edge.total$Source)\n",
    "    cyto.edge.total$Target <- gsub(\"_MOTIF_M_[0-9]{1,4}\",\"\",cyto.edge.total$Target)\n",
    "    cyto.node2$Motif <- gsub(\"_MOTIF_M_[0-9]{1,4}\",\"\",cyto.node2$Motif)\n",
    "    \n",
    "    return(list(edge = cyto.edge.total,node = cyto.node2))\n",
    "}\n",
    "\n",
    "simplify_network <- function(path,motif,tissues,TF_level1){    \n",
    "    setwd(path)\n",
    "    Ffile <- grep(paste0(\"^\",motif),list.files(),value=T,ignore.case = T)\n",
    "\n",
    "    # read the paths\n",
    "    fnet <- read.delim(Ffile[2],sep=\"\\t\",h=T)\n",
    "    fnode <- read.delim(Ffile[1],sep=\"\\t\",h=T)\n",
    "    \n",
    "    # load motif2gene table\n",
    "    motif2gene <- read.delim(\"/home/minghao/workbase/16_Tilapia_Cold_BulkRNA-ATAC_jiaohe/output/TRN/motif2gene/motif2gene.txt\",\n",
    "                             h=F,sep=\"\\t\") %>% unique\n",
    "    motif2gene$Motif <- toupper(motif2gene$V1)\n",
    "    names(motif2gene)[2] <- \"gene\"\n",
    "    \n",
    "    #read RNA_DESeq2 DEGs result\n",
    "    DEG_RNA <- openxlsx::read.xlsx(\"/home/minghao/workbase/16_Tilapia_Cold_BulkRNA-ATAC_jiaohe/output/Bulk_RNA_output/Tilapia_ColdvsCtrl_DEG_RNA.xlsx\")\n",
    "    DEG_RNA$sig <- \"none\"\n",
    "    DEG_RNA[DEG_RNA$padj < .05 & DEG_RNA$log2FoldChange > 1,]$sig <- \"up\"\n",
    "    DEG_RNA[DEG_RNA$padj < .05 & DEG_RNA$log2FoldChange < -1,]$sig <- \"down\"\n",
    "    \n",
    "    fnode2 <- fnode %>% arrange(Level)%>% select(Source,Level) %>% group_by(Source)%>% slice(1)\n",
    "    names(fnode2)[1] <- \"Motif\"\n",
    "    fnode3 <- fnode2 %>% group_by(Motif) %>% left_join(motif2gene,by=\"Motif\") %>% ungroup \n",
    "    fnode4 <- na.omit(fnode3)\n",
    "    \n",
    "    DEG_RNA2.HK <- DEG_RNA[c(1:7,8,9,12)] %>% filter(tissue == tissues)%>%  distinct()\n",
    "    fnode5 <- fnode4 %>% group_by(gene) %>% left_join(DEG_RNA2.HK,by=\"gene\") %>% ungroup %>% na.omit\n",
    "    \n",
    "    TF.level1 <- TF_level1\n",
    "    TF.level2 <- TF_level2_function(input = fnode5,TF.level1 = TF.level1)\n",
    "    #print(class(TF.level2))\n",
    "    #return(TF.level2)\n",
    "    TF.level3 <- TF_level3_function(fnode_input = fnode,TF.level1 = TF.level1,TF.level2 = TF.level2,\n",
    "                                    motif2gene = motif2gene,DEG_RNA2.HK = DEG_RNA2.HK)\n",
    "    \n",
    "    # keep the unique of each level\n",
    "    TF.level2.u <- setdiff(unique(TF.level2),TF.level1)\n",
    "    TF.level3.u <- setdiff(unique(TF.level3),c(TF.level2,TF.level1))\n",
    "    \n",
    "    print(c(length(TF.level1),length(TF.level2.u),length(TF.level3.u)))\n",
    "    \n",
    "    res_list <- Contruct_network(TF.level1 = TF.level1,TF.level2.u = TF.level2.u,\n",
    "                     TF.level3.u = TF.level3.u,motif2gene = motif2gene,\n",
    "                     fnode.level3.anno3 = temp,DEG_RNA2.HK = DEG_RNA2.HK)\n",
    "     \n",
    "    return(res_list) \n",
    "    #return(list(level1 = TF.level1,level2 = TF.level2.u,level3 = TF.level3.u))\n",
    "}"
   ]
  },
  {
   "cell_type": "code",
   "execution_count": null,
   "id": "769a3e74",
   "metadata": {
    "hidden": true
   },
   "outputs": [],
   "source": [
    "DEG_RNA[grep(\"stat1\",DEG_RNA$Gene.name,ignore.case = T),]\n",
    "DEG_RNA[grep(\"klf5\",DEG_RNA$Gene.name,ignore.case = T),]\n",
    "DEG_RNA[grep(\"foxo3\",DEG_RNA$Gene.name,ignore.case = T),]"
   ]
  },
  {
   "cell_type": "code",
   "execution_count": null,
   "id": "0b7ad2cb",
   "metadata": {
    "hidden": true
   },
   "outputs": [],
   "source": [
    "FOXO1_HK_network <- simplify_network(path = \"/home/minghao/miniconda3/envs/tobais_snakemake/TOBIAS_snakemake/Cold_HK_network\",\n",
    "                         motif = \"FOXO1\",tissues = \"HK\",TF_level1 = \"FOXO1_MOTIF_M_122\")\n",
    "\n",
    "setwd(\"/home/minghao/workbase/16_Tilapia_Cold_BulkRNA-ATAC_jiaohe/output/TRN/plot_TRN_data/ner_version\")\n",
    "write.table(FOXO1_HK_network[[\"node\"]],file=\"20240328_HK_foxo1_node.txt\",quote=F,sep=\"\\t\",row.names = F)\n",
    "write.table(FOXO1_HK_network[[\"edge\"]],file=\"20240328_HK_foxo1_edge.txt\",quote=F,sep=\"\\t\",row.names = F)"
   ]
  },
  {
   "cell_type": "code",
   "execution_count": null,
   "id": "3a5edf33",
   "metadata": {
    "hidden": true
   },
   "outputs": [],
   "source": [
    "STAT1_HK_network <- simplify_network(path = \"/home/minghao/miniconda3/envs/tobais_snakemake/TOBIAS_snakemake/Cold_HK_network\",\n",
    "                         motif = \"STAT1\",tissues = \"HK\",TF_level1 = \"STAT1_MOTIF_M_357\")\n",
    "\n",
    "setwd(\"/home/minghao/workbase/16_Tilapia_Cold_BulkRNA-ATAC_jiaohe/output/TRN/plot_TRN_data/ner_version\")\n",
    "write.table(STAT1_HK_network[[\"node\"]],file=\"20240328_HK_stat1_node.txt\",quote=F,sep=\"\\t\",row.names = F)\n",
    "write.table(STAT1_HK_network[[\"edge\"]],file=\"20240328_HK_stat1_edge.txt\",quote=F,sep=\"\\t\",row.names = F)"
   ]
  },
  {
   "cell_type": "code",
   "execution_count": null,
   "id": "4ff5bc60",
   "metadata": {
    "hidden": true
   },
   "outputs": [],
   "source": [
    "STAT1_TH_network <- simplify_network(path = \"/home/minghao/miniconda3/envs/tobais_snakemake/TOBIAS_snakemake/Cold_TH_network\",\n",
    "                         motif = \"STAT1\",tissues = \"TH\",TF_level1 = \"STAT1_MOTIF_M_357\")\n",
    "\n",
    "setwd(\"/home/minghao/workbase/16_Tilapia_Cold_BulkRNA-ATAC_jiaohe/output/TRN/plot_TRN_data/ner_version\")\n",
    "write.table(STAT1_TH_network[[\"node\"]],file=\"20240328_TH_stat1_node.txt\",quote=F,sep=\"\\t\",row.names = F)\n",
    "write.table(STAT1_TH_network[[\"edge\"]],file=\"20240328_TH_stat1_edge.txt\",quote=F,sep=\"\\t\",row.names = F)"
   ]
  },
  {
   "cell_type": "code",
   "execution_count": null,
   "id": "127ea287",
   "metadata": {
    "hidden": true
   },
   "outputs": [],
   "source": [
    "KLF5_HK_network <- simplify_network(path = \"/home/minghao/miniconda3/envs/tobais_snakemake/TOBIAS_snakemake/Cold_HK_network\",\n",
    "                         motif = \"KLF5\",tissues = \"HK\",TF_level1 = \"KLF5_MOTIF_M_194\")\n",
    "\n",
    "setwd(\"/home/minghao/workbase/16_Tilapia_Cold_BulkRNA-ATAC_jiaohe/output/TRN/plot_TRN_data/ner_version\")\n",
    "write.table(KLF5_HK_network[[\"node\"]],file=\"20240328_HK_klf5_node.txt\",quote=F,sep=\"\\t\",row.names = F)\n",
    "write.table(KLF5_HK_network[[\"edge\"]],file=\"20240328_HK_klf5_edge.txt\",quote=F,sep=\"\\t\",row.names = F)"
   ]
  },
  {
   "cell_type": "code",
   "execution_count": null,
   "id": "5f99fc5a",
   "metadata": {
    "hidden": true
   },
   "outputs": [],
   "source": [
    "KLF5_TH_network <- simplify_network(path = \"/home/minghao/miniconda3/envs/tobais_snakemake/TOBIAS_snakemake/Cold_TH_network\",\n",
    "                         motif = \"KLF5\",tissues = \"TH\",TF_level1 = \"KLF5_MOTIF_M_194\")\n",
    "\n",
    "setwd(\"/home/minghao/workbase/16_Tilapia_Cold_BulkRNA-ATAC_jiaohe/output/TRN/plot_TRN_data/ner_version\")\n",
    "write.table(KLF5_TH_network[[\"node\"]],file=\"20240328_TH_klf5_node.txt\",quote=F,sep=\"\\t\",row.names = F)\n",
    "write.table(KLF5_TH_network[[\"edge\"]],file=\"20240328_TH_klf5_edge.txt\",quote=F,sep=\"\\t\",row.names = F)"
   ]
  },
  {
   "cell_type": "code",
   "execution_count": null,
   "id": "4d9b1aa1",
   "metadata": {
    "hidden": true
   },
   "outputs": [],
   "source": [
    "FOXO3_HK_network <- simplify_network(path = \"/home/minghao/miniconda3/envs/tobais_snakemake/TOBIAS_snakemake/Cold_HK_network\",\n",
    "                         motif = \"FOXO3\",tissues = \"HK\",TF_level1 = \"FOXO3_MOTIF_M_123\")\n",
    "\n",
    "setwd(\"/home/minghao/workbase/16_Tilapia_Cold_BulkRNA-ATAC_jiaohe/output/TRN/plot_TRN_data/ner_version\")\n",
    "write.table(FOXO3_HK_network[[\"node\"]],file=\"20240328_HK_foxo3_node.txt\",quote=F,sep=\"\\t\",row.names = F)\n",
    "write.table(FOXO3_HK_network[[\"edge\"]],file=\"20240328_HK_foxo3_edge.txt\",quote=F,sep=\"\\t\",row.names = F)"
   ]
  },
  {
   "cell_type": "code",
   "execution_count": null,
   "id": "7648c80a",
   "metadata": {
    "hidden": true
   },
   "outputs": [],
   "source": [
    "FOXO3_TH_network <- simplify_network(path = \"/home/minghao/miniconda3/envs/tobais_snakemake/TOBIAS_snakemake/Cold_TH_network\",\n",
    "                         motif = \"FOXO3\",tissues = \"TH\",TF_level1 = \"FOXO3_MOTIF_M_123\")\n",
    "\n",
    "setwd(\"/home/minghao/workbase/16_Tilapia_Cold_BulkRNA-ATAC_jiaohe/output/TRN/plot_TRN_data/ner_version\")\n",
    "write.table(FOXO3_TH_network[[\"node\"]],file=\"20240328_TH_foxo3_node.txt\",quote=F,sep=\"\\t\",row.names = F)\n",
    "write.table(FOXO3_TH_network[[\"edge\"]],file=\"20240328_TH_foxo3_edge.txt\",quote=F,sep=\"\\t\",row.names = F)"
   ]
  },
  {
   "cell_type": "code",
   "execution_count": null,
   "id": "3ee80481",
   "metadata": {
    "hidden": true
   },
   "outputs": [],
   "source": []
  },
  {
   "cell_type": "code",
   "execution_count": null,
   "id": "ad515cc8",
   "metadata": {
    "hidden": true
   },
   "outputs": [],
   "source": []
  }
 ],
 "metadata": {
  "kernelspec": {
   "display_name": "R_4.2.3",
   "language": "R",
   "name": "r_4.2.3"
  },
  "language_info": {
   "codemirror_mode": "r",
   "file_extension": ".r",
   "mimetype": "text/x-r-source",
   "name": "R",
   "pygments_lexer": "r",
   "version": "4.2.3"
  },
  "toc": {
   "base_numbering": 1,
   "nav_menu": {},
   "number_sections": true,
   "sideBar": true,
   "skip_h1_title": false,
   "title_cell": "Table of Contents",
   "title_sidebar": "Contents",
   "toc_cell": false,
   "toc_position": {
    "height": "calc(100% - 180px)",
    "left": "10px",
    "top": "150px",
    "width": "279.263px"
   },
   "toc_section_display": true,
   "toc_window_display": false
  }
 },
 "nbformat": 4,
 "nbformat_minor": 5
}
